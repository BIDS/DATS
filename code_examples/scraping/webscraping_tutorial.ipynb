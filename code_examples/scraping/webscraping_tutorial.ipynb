{
 "cells": [
  {
   "cell_type": "markdown",
   "metadata": {},
   "source": [
    "Scraping the web is fun:\n",
    "\n",
    "[Do-goodery](http://www.theguardian.com/news/datablog/2012/may/23/italian-prisoners-deaths)  \n",
    "[Making much money](http://www.seleritycorp.com/)  \n",
    "[Amusing much people](http://dognotincluded.tumblr.com/)\n"
   ]
  },
  {
   "cell_type": "code",
   "execution_count": 107,
   "metadata": {
    "collapsed": true
   },
   "outputs": [],
   "source": [
    "import requests"
   ]
  },
  {
   "cell_type": "code",
   "execution_count": 125,
   "metadata": {
    "collapsed": true
   },
   "outputs": [
    {
     "data": {
      "text/plain": [
       "<Response [200]>"
      ]
     },
     "execution_count": 125,
     "metadata": {},
     "output_type": "execute_result"
    }
   ],
   "source": [
    "r = requests.get(\"http://berkeley.edu\")\n",
    "r"
   ]
  },
  {
   "cell_type": "code",
   "execution_count": 110,
   "metadata": {
    "collapsed": true
   },
   "outputs": [
    {
     "data": {
      "text/plain": [
       "['__attrs__',\n",
       " '__bool__',\n",
       " '__class__',\n",
       " '__delattr__',\n",
       " '__dict__',\n",
       " '__dir__',\n",
       " '__doc__',\n",
       " '__eq__',\n",
       " '__format__',\n",
       " '__ge__',\n",
       " '__getattribute__',\n",
       " '__getstate__',\n",
       " '__gt__',\n",
       " '__hash__',\n",
       " '__init__',\n",
       " '__iter__',\n",
       " '__le__',\n",
       " '__lt__',\n",
       " '__module__',\n",
       " '__ne__',\n",
       " '__new__',\n",
       " '__nonzero__',\n",
       " '__reduce__',\n",
       " '__reduce_ex__',\n",
       " '__repr__',\n",
       " '__setattr__',\n",
       " '__setstate__',\n",
       " '__sizeof__',\n",
       " '__str__',\n",
       " '__subclasshook__',\n",
       " '__weakref__',\n",
       " '_content',\n",
       " '_content_consumed',\n",
       " 'apparent_encoding',\n",
       " 'close',\n",
       " 'connection',\n",
       " 'content',\n",
       " 'cookies',\n",
       " 'elapsed',\n",
       " 'encoding',\n",
       " 'headers',\n",
       " 'history',\n",
       " 'is_permanent_redirect',\n",
       " 'is_redirect',\n",
       " 'iter_content',\n",
       " 'iter_lines',\n",
       " 'json',\n",
       " 'links',\n",
       " 'ok',\n",
       " 'raise_for_status',\n",
       " 'raw',\n",
       " 'reason',\n",
       " 'request',\n",
       " 'status_code',\n",
       " 'text',\n",
       " 'url']"
      ]
     },
     "execution_count": 110,
     "metadata": {},
     "output_type": "execute_result"
    }
   ],
   "source": [
    "dir(r)"
   ]
  },
  {
   "cell_type": "code",
   "execution_count": 124,
   "metadata": {
    "collapsed": true
   },
   "outputs": [
    {
     "data": {
      "text/plain": [
       "'utf-8'"
      ]
     },
     "execution_count": 124,
     "metadata": {},
     "output_type": "execute_result"
    }
   ],
   "source": [
    "r.encoding"
   ]
  },
  {
   "cell_type": "markdown",
   "metadata": {},
   "source": [
    "Let's scrape the [daily crime log](http://www.cambridgema.gov/cpd/newsandalerts/Archives/detail.aspx?path=%2fsitecore%2fcontent%2fhome%2fcpd%2fnewsandalerts%2fArchives%2f2015%2f10%2f10092015) from Cambridge, Massachusetts!"
   ]
  },
  {
   "cell_type": "markdown",
   "metadata": {},
   "source": [
    "The most powerful web-scraping Python library is lxml..."
   ]
  },
  {
   "cell_type": "code",
   "execution_count": 8,
   "metadata": {
    "collapsed": false
   },
   "outputs": [],
   "source": [
    "import lxml.html as LH\n",
    "\n",
    "url = \"http://www.cambridgema.gov/cpd/newsandalerts/Archives/detail.aspx?path=%2fsitecore%2fcontent%2fhome%2fcpd%2fnewsandalerts%2fArchives%2f2015%2f10%2f10092015\"\n",
    "tree = LH.parse(url)\n",
    "table = [td.text_content() for td in tree.xpath('//td')]"
   ]
  },
  {
   "cell_type": "code",
   "execution_count": 9,
   "metadata": {
    "collapsed": true
   },
   "outputs": [
    {
     "data": {
      "text/plain": [
       "['\\r\\n            Cambridge Police Daily Log: October 9th, 2015\\r\\n            ',\n",
       " '\\r\\n            Type #\\r\\n            Date & Time\\r\\n            ',\n",
       " '\\r\\n            Info\\r\\n            ',\n",
       " '\\r\\n            10/08/2015\\xa007:02\\r\\n            TRAFFIC \\xa015007586\\r\\n            LEAVE SCENE OF PROPERTY DAMAGE c90 S24 \\r\\n            ',\n",
       " \"\\r\\n            WINDSOR ST\\r\\n            A Tewksbury resident called police to report that at approximately 9 a.m. on 10/7/15, a rental truck struck and damaged the driver's side mirror/housing, and then left the scene without making himself known and/or leaving any of his information. \\r\\n            \",\n",
       " '\\r\\n            10/08/2015\\xa008:39\\r\\n            INCIDENT \\xa015007587\\r\\n            ',\n",
       " '\\r\\n            MASSACHUSETTS AVE\\r\\n            Robert Mulcahy, 56, 2 Harrington Terrace in Cambridge, was placed under arrest for Vandalize Property and Threats to Commit a Crime. Mulcahy engaged in a verbal argument with a taxi driver, kicked the rear back side of the taxi causing minor damage and threatened to kill the taxi driver and passenger.\\r\\n            ',\n",
       " '\\r\\n            10/08/2015\\xa009:57\\r\\n            INCIDENT \\xa015007590\\r\\n            LARCENY OVER $250 c266 S30 \\r\\n            ',\n",
       " '\\r\\n            JFK ST\\r\\n            A Watertown resident reports that on 10/5/15, he caught one of his employees stealing at his place of business. The manager reports that this theft of money from the register has been going on since April. The manager states he came up short on Monday after counting the money exactly the night before and the morning of and the suspect and he were the only two people at the store.\\r\\n            ',\n",
       " '\\r\\n            10/08/2015\\xa010:43\\r\\n            INCIDENT \\xa015007592\\r\\n            TRAFFIC INVESTIGATIONS \\r\\n            ']"
      ]
     },
     "execution_count": 9,
     "metadata": {},
     "output_type": "execute_result"
    }
   ],
   "source": [
    "table[:10]"
   ]
  },
  {
   "cell_type": "markdown",
   "metadata": {},
   "source": [
    "Wow that's ugly. Wait, can't pandas do this? Yes!"
   ]
  },
  {
   "cell_type": "code",
   "execution_count": 91,
   "metadata": {
    "collapsed": false
   },
   "outputs": [],
   "source": [
    "import pandas\n",
    "\n",
    "tables = pandas.read_html(url)"
   ]
  },
  {
   "cell_type": "code",
   "execution_count": 106,
   "metadata": {
    "collapsed": true
   },
   "outputs": [
    {
     "name": "stdout",
     "output_type": "stream",
     "text": [
      "<class 'list'>\n",
      "1\n",
      "<class 'pandas.core.frame.DataFrame'>\n"
     ]
    },
    {
     "data": {
      "text/html": [
       "<div>\n",
       "<table border=\"1\" class=\"dataframe\">\n",
       "  <thead>\n",
       "    <tr style=\"text-align: right;\">\n",
       "      <th></th>\n",
       "      <th>0</th>\n",
       "      <th>1</th>\n",
       "    </tr>\n",
       "  </thead>\n",
       "  <tbody>\n",
       "    <tr>\n",
       "      <th>0</th>\n",
       "      <td>Cambridge Police Daily Log: October 9th, 2015</td>\n",
       "      <td>NaN</td>\n",
       "    </tr>\n",
       "    <tr>\n",
       "      <th>1</th>\n",
       "      <td>Type #  Date &amp; Time</td>\n",
       "      <td>Info</td>\n",
       "    </tr>\n",
       "    <tr>\n",
       "      <th>2</th>\n",
       "      <td>10/08/2015 07:02  TRAFFIC 15007586  LEAVE SCEN...</td>\n",
       "      <td>WINDSOR ST  A Tewksbury resident called police...</td>\n",
       "    </tr>\n",
       "    <tr>\n",
       "      <th>3</th>\n",
       "      <td>10/08/2015 08:39  INCIDENT 15007587</td>\n",
       "      <td>MASSACHUSETTS AVE  Robert Mulcahy, 56, 2 Harri...</td>\n",
       "    </tr>\n",
       "    <tr>\n",
       "      <th>4</th>\n",
       "      <td>10/08/2015 09:57  INCIDENT 15007590  LARCENY O...</td>\n",
       "      <td>JFK ST  A Watertown resident reports that on 1...</td>\n",
       "    </tr>\n",
       "    <tr>\n",
       "      <th>5</th>\n",
       "      <td>10/08/2015 10:43  INCIDENT 15007592  TRAFFIC I...</td>\n",
       "      <td>THIRD ST  A motor vehicle turning westbound on...</td>\n",
       "    </tr>\n",
       "    <tr>\n",
       "      <th>6</th>\n",
       "      <td>10/08/2015 10:52  INCIDENT 15007591  CRIMINAL ...</td>\n",
       "      <td>PUTNAM GDNS A Cambridge resident reports that ...</td>\n",
       "    </tr>\n",
       "    <tr>\n",
       "      <th>7</th>\n",
       "      <td>10/08/2015 11:34  INCIDENT 15007593  CROSSWALK...</td>\n",
       "      <td>RICHDALE AVE  A Somerville woman operating a 2...</td>\n",
       "    </tr>\n",
       "    <tr>\n",
       "      <th>8</th>\n",
       "      <td>10/08/2015 13:31  INCIDENT 15007595  ASSAULT W...</td>\n",
       "      <td>MASSACHUSETTS AVE  Cambridge Police units were...</td>\n",
       "    </tr>\n",
       "    <tr>\n",
       "      <th>9</th>\n",
       "      <td>10/08/2015 13:38  INCIDENT 15007596  SHOPLIFTI...</td>\n",
       "      <td>CAMBRIDGESIDE PL  Adel Ouansa, 23, 25 Madison ...</td>\n",
       "    </tr>\n",
       "    <tr>\n",
       "      <th>10</th>\n",
       "      <td>10/08/2015 14:16  INCIDENT 15007597  MISC. REP...</td>\n",
       "      <td>BROADWAY  Cambridge Police responded to the pe...</td>\n",
       "    </tr>\n",
       "    <tr>\n",
       "      <th>11</th>\n",
       "      <td>10/08/2015 18:09  INCIDENT 15007604  CRIMINAL ...</td>\n",
       "      <td>GORE ST  A resident of Cambridge called the Ca...</td>\n",
       "    </tr>\n",
       "    <tr>\n",
       "      <th>12</th>\n",
       "      <td>10/08/2015 18:46  INCIDENT 15007601  LARCENY O...</td>\n",
       "      <td>OTIS ST  A resident of Weymouth walked into th...</td>\n",
       "    </tr>\n",
       "    <tr>\n",
       "      <th>13</th>\n",
       "      <td>10/08/2015 19:14  INCIDENT 15007603  ROBBERY, ...</td>\n",
       "      <td>ALEWIFE BROOK PKWY  A loss prevention officer ...</td>\n",
       "    </tr>\n",
       "    <tr>\n",
       "      <th>14</th>\n",
       "      <td>10/08/2015 20:05  INCIDENT 15007605  SHOPLIFTI...</td>\n",
       "      <td>CAMBRIDGESIDE PL  Three juvenile females were ...</td>\n",
       "    </tr>\n",
       "    <tr>\n",
       "      <th>15</th>\n",
       "      <td>10/08/2015 23:15  INCIDENT 15007607  A&amp;B WITH ...</td>\n",
       "      <td>CAMBRIDGE ST  Cambridge Police responded to a ...</td>\n",
       "    </tr>\n",
       "  </tbody>\n",
       "</table>\n",
       "</div>"
      ],
      "text/plain": [
       "                                                    0  \\\n",
       "0       Cambridge Police Daily Log: October 9th, 2015   \n",
       "1                                 Type #  Date & Time   \n",
       "2   10/08/2015 07:02  TRAFFIC 15007586  LEAVE SCEN...   \n",
       "3                 10/08/2015 08:39  INCIDENT 15007587   \n",
       "4   10/08/2015 09:57  INCIDENT 15007590  LARCENY O...   \n",
       "5   10/08/2015 10:43  INCIDENT 15007592  TRAFFIC I...   \n",
       "6   10/08/2015 10:52  INCIDENT 15007591  CRIMINAL ...   \n",
       "7   10/08/2015 11:34  INCIDENT 15007593  CROSSWALK...   \n",
       "8   10/08/2015 13:31  INCIDENT 15007595  ASSAULT W...   \n",
       "9   10/08/2015 13:38  INCIDENT 15007596  SHOPLIFTI...   \n",
       "10  10/08/2015 14:16  INCIDENT 15007597  MISC. REP...   \n",
       "11  10/08/2015 18:09  INCIDENT 15007604  CRIMINAL ...   \n",
       "12  10/08/2015 18:46  INCIDENT 15007601  LARCENY O...   \n",
       "13  10/08/2015 19:14  INCIDENT 15007603  ROBBERY, ...   \n",
       "14  10/08/2015 20:05  INCIDENT 15007605  SHOPLIFTI...   \n",
       "15  10/08/2015 23:15  INCIDENT 15007607  A&B WITH ...   \n",
       "\n",
       "                                                    1  \n",
       "0                                                 NaN  \n",
       "1                                                Info  \n",
       "2   WINDSOR ST  A Tewksbury resident called police...  \n",
       "3   MASSACHUSETTS AVE  Robert Mulcahy, 56, 2 Harri...  \n",
       "4   JFK ST  A Watertown resident reports that on 1...  \n",
       "5   THIRD ST  A motor vehicle turning westbound on...  \n",
       "6   PUTNAM GDNS A Cambridge resident reports that ...  \n",
       "7   RICHDALE AVE  A Somerville woman operating a 2...  \n",
       "8   MASSACHUSETTS AVE  Cambridge Police units were...  \n",
       "9   CAMBRIDGESIDE PL  Adel Ouansa, 23, 25 Madison ...  \n",
       "10  BROADWAY  Cambridge Police responded to the pe...  \n",
       "11  GORE ST  A resident of Cambridge called the Ca...  \n",
       "12  OTIS ST  A resident of Weymouth walked into th...  \n",
       "13  ALEWIFE BROOK PKWY  A loss prevention officer ...  \n",
       "14  CAMBRIDGESIDE PL  Three juvenile females were ...  \n",
       "15  CAMBRIDGE ST  Cambridge Police responded to a ...  "
      ]
     },
     "execution_count": 106,
     "metadata": {},
     "output_type": "execute_result"
    }
   ],
   "source": [
    "print(type(tables))\n",
    "print(len(tables))\n",
    "print(type(tables[0]))\n",
    "tables[0]"
   ]
  },
  {
   "cell_type": "code",
   "execution_count": 104,
   "metadata": {
    "collapsed": false,
    "scrolled": true
   },
   "outputs": [],
   "source": [
    "df = tables[0]"
   ]
  },
  {
   "cell_type": "markdown",
   "metadata": {},
   "source": [
    "Let's get rid of the first 2 rows."
   ]
  },
  {
   "cell_type": "code",
   "execution_count": 98,
   "metadata": {
    "collapsed": true
   },
   "outputs": [
    {
     "data": {
      "text/html": [
       "<div>\n",
       "<table border=\"1\" class=\"dataframe\">\n",
       "  <thead>\n",
       "    <tr style=\"text-align: right;\">\n",
       "      <th></th>\n",
       "      <th>0</th>\n",
       "      <th>1</th>\n",
       "    </tr>\n",
       "  </thead>\n",
       "  <tbody>\n",
       "    <tr>\n",
       "      <th>2</th>\n",
       "      <td>10/08/2015 07:02  TRAFFIC 15007586  LEAVE SCEN...</td>\n",
       "      <td>WINDSOR ST  A Tewksbury resident called police...</td>\n",
       "    </tr>\n",
       "    <tr>\n",
       "      <th>3</th>\n",
       "      <td>10/08/2015 08:39  INCIDENT 15007587</td>\n",
       "      <td>MASSACHUSETTS AVE  Robert Mulcahy, 56, 2 Harri...</td>\n",
       "    </tr>\n",
       "    <tr>\n",
       "      <th>4</th>\n",
       "      <td>10/08/2015 09:57  INCIDENT 15007590  LARCENY O...</td>\n",
       "      <td>JFK ST  A Watertown resident reports that on 1...</td>\n",
       "    </tr>\n",
       "    <tr>\n",
       "      <th>5</th>\n",
       "      <td>10/08/2015 10:43  INCIDENT 15007592  TRAFFIC I...</td>\n",
       "      <td>THIRD ST  A motor vehicle turning westbound on...</td>\n",
       "    </tr>\n",
       "    <tr>\n",
       "      <th>6</th>\n",
       "      <td>10/08/2015 10:52  INCIDENT 15007591  CRIMINAL ...</td>\n",
       "      <td>PUTNAM GDNS A Cambridge resident reports that ...</td>\n",
       "    </tr>\n",
       "    <tr>\n",
       "      <th>7</th>\n",
       "      <td>10/08/2015 11:34  INCIDENT 15007593  CROSSWALK...</td>\n",
       "      <td>RICHDALE AVE  A Somerville woman operating a 2...</td>\n",
       "    </tr>\n",
       "    <tr>\n",
       "      <th>8</th>\n",
       "      <td>10/08/2015 13:31  INCIDENT 15007595  ASSAULT W...</td>\n",
       "      <td>MASSACHUSETTS AVE  Cambridge Police units were...</td>\n",
       "    </tr>\n",
       "    <tr>\n",
       "      <th>9</th>\n",
       "      <td>10/08/2015 13:38  INCIDENT 15007596  SHOPLIFTI...</td>\n",
       "      <td>CAMBRIDGESIDE PL  Adel Ouansa, 23, 25 Madison ...</td>\n",
       "    </tr>\n",
       "    <tr>\n",
       "      <th>10</th>\n",
       "      <td>10/08/2015 14:16  INCIDENT 15007597  MISC. REP...</td>\n",
       "      <td>BROADWAY  Cambridge Police responded to the pe...</td>\n",
       "    </tr>\n",
       "    <tr>\n",
       "      <th>11</th>\n",
       "      <td>10/08/2015 18:09  INCIDENT 15007604  CRIMINAL ...</td>\n",
       "      <td>GORE ST  A resident of Cambridge called the Ca...</td>\n",
       "    </tr>\n",
       "    <tr>\n",
       "      <th>12</th>\n",
       "      <td>10/08/2015 18:46  INCIDENT 15007601  LARCENY O...</td>\n",
       "      <td>OTIS ST  A resident of Weymouth walked into th...</td>\n",
       "    </tr>\n",
       "    <tr>\n",
       "      <th>13</th>\n",
       "      <td>10/08/2015 19:14  INCIDENT 15007603  ROBBERY, ...</td>\n",
       "      <td>ALEWIFE BROOK PKWY  A loss prevention officer ...</td>\n",
       "    </tr>\n",
       "    <tr>\n",
       "      <th>14</th>\n",
       "      <td>10/08/2015 20:05  INCIDENT 15007605  SHOPLIFTI...</td>\n",
       "      <td>CAMBRIDGESIDE PL  Three juvenile females were ...</td>\n",
       "    </tr>\n",
       "    <tr>\n",
       "      <th>15</th>\n",
       "      <td>10/08/2015 23:15  INCIDENT 15007607  A&amp;B WITH ...</td>\n",
       "      <td>CAMBRIDGE ST  Cambridge Police responded to a ...</td>\n",
       "    </tr>\n",
       "  </tbody>\n",
       "</table>\n",
       "</div>"
      ],
      "text/plain": [
       "                                                    0  \\\n",
       "2   10/08/2015 07:02  TRAFFIC 15007586  LEAVE SCEN...   \n",
       "3                 10/08/2015 08:39  INCIDENT 15007587   \n",
       "4   10/08/2015 09:57  INCIDENT 15007590  LARCENY O...   \n",
       "5   10/08/2015 10:43  INCIDENT 15007592  TRAFFIC I...   \n",
       "6   10/08/2015 10:52  INCIDENT 15007591  CRIMINAL ...   \n",
       "7   10/08/2015 11:34  INCIDENT 15007593  CROSSWALK...   \n",
       "8   10/08/2015 13:31  INCIDENT 15007595  ASSAULT W...   \n",
       "9   10/08/2015 13:38  INCIDENT 15007596  SHOPLIFTI...   \n",
       "10  10/08/2015 14:16  INCIDENT 15007597  MISC. REP...   \n",
       "11  10/08/2015 18:09  INCIDENT 15007604  CRIMINAL ...   \n",
       "12  10/08/2015 18:46  INCIDENT 15007601  LARCENY O...   \n",
       "13  10/08/2015 19:14  INCIDENT 15007603  ROBBERY, ...   \n",
       "14  10/08/2015 20:05  INCIDENT 15007605  SHOPLIFTI...   \n",
       "15  10/08/2015 23:15  INCIDENT 15007607  A&B WITH ...   \n",
       "\n",
       "                                                    1  \n",
       "2   WINDSOR ST  A Tewksbury resident called police...  \n",
       "3   MASSACHUSETTS AVE  Robert Mulcahy, 56, 2 Harri...  \n",
       "4   JFK ST  A Watertown resident reports that on 1...  \n",
       "5   THIRD ST  A motor vehicle turning westbound on...  \n",
       "6   PUTNAM GDNS A Cambridge resident reports that ...  \n",
       "7   RICHDALE AVE  A Somerville woman operating a 2...  \n",
       "8   MASSACHUSETTS AVE  Cambridge Police units were...  \n",
       "9   CAMBRIDGESIDE PL  Adel Ouansa, 23, 25 Madison ...  \n",
       "10  BROADWAY  Cambridge Police responded to the pe...  \n",
       "11  GORE ST  A resident of Cambridge called the Ca...  \n",
       "12  OTIS ST  A resident of Weymouth walked into th...  \n",
       "13  ALEWIFE BROOK PKWY  A loss prevention officer ...  \n",
       "14  CAMBRIDGESIDE PL  Three juvenile females were ...  \n",
       "15  CAMBRIDGE ST  Cambridge Police responded to a ...  "
      ]
     },
     "execution_count": 98,
     "metadata": {},
     "output_type": "execute_result"
    }
   ],
   "source": [
    "df = df.ix[2:]\n",
    "df"
   ]
  },
  {
   "cell_type": "markdown",
   "metadata": {},
   "source": [
    "And now let's parse the text of the 1st column, and pull it all together."
   ]
  },
  {
   "cell_type": "code",
   "execution_count": 100,
   "metadata": {
    "collapsed": true
   },
   "outputs": [],
   "source": [
    "def parse_crime(text):\n",
    "    words = text.split()\n",
    "    date, time, crime_type, id_code = words[:4]\n",
    "    description = \" \".join(words[4:])\n",
    "    return pandas.Series([date, time, crime_type, id_code, description])"
   ]
  },
  {
   "cell_type": "code",
   "execution_count": 102,
   "metadata": {
    "collapsed": true
   },
   "outputs": [
    {
     "data": {
      "text/html": [
       "<div>\n",
       "<table border=\"1\" class=\"dataframe\">\n",
       "  <thead>\n",
       "    <tr style=\"text-align: right;\">\n",
       "      <th></th>\n",
       "      <th>date</th>\n",
       "      <th>time</th>\n",
       "      <th>crime_type</th>\n",
       "      <th>id_code</th>\n",
       "      <th>summary</th>\n",
       "      <th>description</th>\n",
       "    </tr>\n",
       "  </thead>\n",
       "  <tbody>\n",
       "    <tr>\n",
       "      <th>2</th>\n",
       "      <td>10/08/2015</td>\n",
       "      <td>07:02</td>\n",
       "      <td>TRAFFIC</td>\n",
       "      <td>15007586</td>\n",
       "      <td>LEAVE SCENE OF PROPERTY DAMAGE c90 S24</td>\n",
       "      <td>WINDSOR ST  A Tewksbury resident called police...</td>\n",
       "    </tr>\n",
       "    <tr>\n",
       "      <th>3</th>\n",
       "      <td>10/08/2015</td>\n",
       "      <td>08:39</td>\n",
       "      <td>INCIDENT</td>\n",
       "      <td>15007587</td>\n",
       "      <td></td>\n",
       "      <td>MASSACHUSETTS AVE  Robert Mulcahy, 56, 2 Harri...</td>\n",
       "    </tr>\n",
       "    <tr>\n",
       "      <th>4</th>\n",
       "      <td>10/08/2015</td>\n",
       "      <td>09:57</td>\n",
       "      <td>INCIDENT</td>\n",
       "      <td>15007590</td>\n",
       "      <td>LARCENY OVER $250 c266 S30</td>\n",
       "      <td>JFK ST  A Watertown resident reports that on 1...</td>\n",
       "    </tr>\n",
       "    <tr>\n",
       "      <th>5</th>\n",
       "      <td>10/08/2015</td>\n",
       "      <td>10:43</td>\n",
       "      <td>INCIDENT</td>\n",
       "      <td>15007592</td>\n",
       "      <td>TRAFFIC INVESTIGATIONS</td>\n",
       "      <td>THIRD ST  A motor vehicle turning westbound on...</td>\n",
       "    </tr>\n",
       "    <tr>\n",
       "      <th>6</th>\n",
       "      <td>10/08/2015</td>\n",
       "      <td>10:52</td>\n",
       "      <td>INCIDENT</td>\n",
       "      <td>15007591</td>\n",
       "      <td>CRIMINAL HARASSMENT</td>\n",
       "      <td>PUTNAM GDNS A Cambridge resident reports that ...</td>\n",
       "    </tr>\n",
       "    <tr>\n",
       "      <th>7</th>\n",
       "      <td>10/08/2015</td>\n",
       "      <td>11:34</td>\n",
       "      <td>INCIDENT</td>\n",
       "      <td>15007593</td>\n",
       "      <td>CROSSWALK VIOLATION * C89 S11</td>\n",
       "      <td>RICHDALE AVE  A Somerville woman operating a 2...</td>\n",
       "    </tr>\n",
       "    <tr>\n",
       "      <th>8</th>\n",
       "      <td>10/08/2015</td>\n",
       "      <td>13:31</td>\n",
       "      <td>INCIDENT</td>\n",
       "      <td>15007595</td>\n",
       "      <td>ASSAULT W/DANGEROUS WEAPON c265 S15B</td>\n",
       "      <td>MASSACHUSETTS AVE  Cambridge Police units were...</td>\n",
       "    </tr>\n",
       "    <tr>\n",
       "      <th>9</th>\n",
       "      <td>10/08/2015</td>\n",
       "      <td>13:38</td>\n",
       "      <td>INCIDENT</td>\n",
       "      <td>15007596</td>\n",
       "      <td>SHOPLIFTING $100+ BY CONCEALING MDSE C266 S30A</td>\n",
       "      <td>CAMBRIDGESIDE PL  Adel Ouansa, 23, 25 Madison ...</td>\n",
       "    </tr>\n",
       "    <tr>\n",
       "      <th>10</th>\n",
       "      <td>10/08/2015</td>\n",
       "      <td>14:16</td>\n",
       "      <td>INCIDENT</td>\n",
       "      <td>15007597</td>\n",
       "      <td>MISC. REPORT TYPE</td>\n",
       "      <td>BROADWAY  Cambridge Police responded to the pe...</td>\n",
       "    </tr>\n",
       "    <tr>\n",
       "      <th>11</th>\n",
       "      <td>10/08/2015</td>\n",
       "      <td>18:09</td>\n",
       "      <td>INCIDENT</td>\n",
       "      <td>15007604</td>\n",
       "      <td>CRIMINAL HARASSMENT</td>\n",
       "      <td>GORE ST  A resident of Cambridge called the Ca...</td>\n",
       "    </tr>\n",
       "    <tr>\n",
       "      <th>12</th>\n",
       "      <td>10/08/2015</td>\n",
       "      <td>18:46</td>\n",
       "      <td>INCIDENT</td>\n",
       "      <td>15007601</td>\n",
       "      <td>LARCENY OVER $250 c266 S30</td>\n",
       "      <td>OTIS ST  A resident of Weymouth walked into th...</td>\n",
       "    </tr>\n",
       "    <tr>\n",
       "      <th>13</th>\n",
       "      <td>10/08/2015</td>\n",
       "      <td>19:14</td>\n",
       "      <td>INCIDENT</td>\n",
       "      <td>15007603</td>\n",
       "      <td>ROBBERY, UNARMED c265 S19</td>\n",
       "      <td>ALEWIFE BROOK PKWY  A loss prevention officer ...</td>\n",
       "    </tr>\n",
       "    <tr>\n",
       "      <th>14</th>\n",
       "      <td>10/08/2015</td>\n",
       "      <td>20:05</td>\n",
       "      <td>INCIDENT</td>\n",
       "      <td>15007605</td>\n",
       "      <td>SHOPLIFTING $100+ BY CONCEALING MDSE C266 S30A</td>\n",
       "      <td>CAMBRIDGESIDE PL  Three juvenile females were ...</td>\n",
       "    </tr>\n",
       "    <tr>\n",
       "      <th>15</th>\n",
       "      <td>10/08/2015</td>\n",
       "      <td>23:15</td>\n",
       "      <td>INCIDENT</td>\n",
       "      <td>15007607</td>\n",
       "      <td>A&amp;B WITH DANGEROUS WEAPON c265 S15A</td>\n",
       "      <td>CAMBRIDGE ST  Cambridge Police responded to a ...</td>\n",
       "    </tr>\n",
       "  </tbody>\n",
       "</table>\n",
       "</div>"
      ],
      "text/plain": [
       "          date   time crime_type   id_code  \\\n",
       "2   10/08/2015  07:02    TRAFFIC  15007586   \n",
       "3   10/08/2015  08:39   INCIDENT  15007587   \n",
       "4   10/08/2015  09:57   INCIDENT  15007590   \n",
       "5   10/08/2015  10:43   INCIDENT  15007592   \n",
       "6   10/08/2015  10:52   INCIDENT  15007591   \n",
       "7   10/08/2015  11:34   INCIDENT  15007593   \n",
       "8   10/08/2015  13:31   INCIDENT  15007595   \n",
       "9   10/08/2015  13:38   INCIDENT  15007596   \n",
       "10  10/08/2015  14:16   INCIDENT  15007597   \n",
       "11  10/08/2015  18:09   INCIDENT  15007604   \n",
       "12  10/08/2015  18:46   INCIDENT  15007601   \n",
       "13  10/08/2015  19:14   INCIDENT  15007603   \n",
       "14  10/08/2015  20:05   INCIDENT  15007605   \n",
       "15  10/08/2015  23:15   INCIDENT  15007607   \n",
       "\n",
       "                                           summary  \\\n",
       "2           LEAVE SCENE OF PROPERTY DAMAGE c90 S24   \n",
       "3                                                    \n",
       "4                       LARCENY OVER $250 c266 S30   \n",
       "5                           TRAFFIC INVESTIGATIONS   \n",
       "6                              CRIMINAL HARASSMENT   \n",
       "7                    CROSSWALK VIOLATION * C89 S11   \n",
       "8             ASSAULT W/DANGEROUS WEAPON c265 S15B   \n",
       "9   SHOPLIFTING $100+ BY CONCEALING MDSE C266 S30A   \n",
       "10                               MISC. REPORT TYPE   \n",
       "11                             CRIMINAL HARASSMENT   \n",
       "12                      LARCENY OVER $250 c266 S30   \n",
       "13                       ROBBERY, UNARMED c265 S19   \n",
       "14  SHOPLIFTING $100+ BY CONCEALING MDSE C266 S30A   \n",
       "15             A&B WITH DANGEROUS WEAPON c265 S15A   \n",
       "\n",
       "                                          description  \n",
       "2   WINDSOR ST  A Tewksbury resident called police...  \n",
       "3   MASSACHUSETTS AVE  Robert Mulcahy, 56, 2 Harri...  \n",
       "4   JFK ST  A Watertown resident reports that on 1...  \n",
       "5   THIRD ST  A motor vehicle turning westbound on...  \n",
       "6   PUTNAM GDNS A Cambridge resident reports that ...  \n",
       "7   RICHDALE AVE  A Somerville woman operating a 2...  \n",
       "8   MASSACHUSETTS AVE  Cambridge Police units were...  \n",
       "9   CAMBRIDGESIDE PL  Adel Ouansa, 23, 25 Madison ...  \n",
       "10  BROADWAY  Cambridge Police responded to the pe...  \n",
       "11  GORE ST  A resident of Cambridge called the Ca...  \n",
       "12  OTIS ST  A resident of Weymouth walked into th...  \n",
       "13  ALEWIFE BROOK PKWY  A loss prevention officer ...  \n",
       "14  CAMBRIDGESIDE PL  Three juvenile females were ...  \n",
       "15  CAMBRIDGE ST  Cambridge Police responded to a ...  "
      ]
     },
     "execution_count": 102,
     "metadata": {},
     "output_type": "execute_result"
    }
   ],
   "source": [
    "parsed = df[0].apply(parse_crime)\n",
    "parsed[\"description\"] = df[1]\n",
    "parsed.columns = [\"date\", \"time\", \"crime_type\", \"id_code\", \"summary\", \"description\"]\n",
    "parsed"
   ]
  },
  {
   "cell_type": "markdown",
   "metadata": {},
   "source": [
    "So now we just need to encapsulate all of the above as function and feed it a list of the URLs from the [crime log archive](http://www.cambridgema.gov/cpd/newsandalerts/Archives.aspx?type=CPD%20Daily%20Log). I leave that as an exercise for the reader..."
   ]
  },
  {
   "cell_type": "markdown",
   "metadata": {},
   "source": [
    "**PROBLEM SET**"
   ]
  },
  {
   "cell_type": "markdown",
   "metadata": {},
   "source": [
    "**1.** How many academic departments and programs does [UC Berkeley](http://www.berkeley.edu/atoz/dept/A) have?"
   ]
  },
  {
   "cell_type": "markdown",
   "metadata": {},
   "source": [
    "**2.** Which department or program offers the most diverse set of [graduate degrees](http://grad.berkeley.edu/programs/list/)?"
   ]
  },
  {
   "cell_type": "markdown",
   "metadata": {},
   "source": [
    "**3.** Which [Berkeley student organization](https://callink.berkeley.edu/organizations) has the longest name?"
   ]
  },
  {
   "cell_type": "markdown",
   "metadata": {},
   "source": [
    "**4.** Scrape the entire [Berkeley campus directory](http://www.berkeley.edu/directory) by UID. (Hint: [This is a person](https://calnet.berkeley.edu/directory/details.pl?uid=9999), and [this is a person](https://calnet.berkeley.edu/directory/details.pl?uid=9984), but not [this](https://calnet.berkeley.edu/directory/details.pl?uid=9998) or [this](https://calnet.berkeley.edu/directory/details.pl?uid=9985) or [this](https://calnet.berkeley.edu/directory/details.pl?uid=9986). Look at the URLs.)"
   ]
  }
 ],
 "metadata": {
  "kernelspec": {
   "display_name": "Python 3 (env)",
   "language": "python",
   "name": "python3-env"
  },
  "language_info": {
   "codemirror_mode": {
    "name": "ipython",
    "version": 3
   },
   "file_extension": ".py",
   "mimetype": "text/x-python",
   "name": "python",
   "nbconvert_exporter": "python",
   "pygments_lexer": "ipython3",
   "version": "3.4.3"
  }
 },
 "nbformat": 4,
 "nbformat_minor": 0
}
