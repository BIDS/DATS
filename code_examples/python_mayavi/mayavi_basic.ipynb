{
 "cells": [
  {
   "cell_type": "code",
   "execution_count": 5,
   "metadata": {
    "collapsed": false
   },
   "outputs": [],
   "source": [
    "%matplotlib qt\n",
    "import numpy as np\n",
    "from mayavi import mlab"
   ]
  },
  {
   "cell_type": "markdown",
   "metadata": {},
   "source": [
    "### Overview\n",
    "[Mayavi](http://docs.enthought.com/mayavi/mayavi/index.html) is a high level plotting library built on tvtk.\n",
    "\n",
    "Mayavi has a uses mlab for it's higher level plotting functions. The list of plotting functions can be found [here](http://docs.enthought.com/mayavi/mayavi/mlab.html#d-plotting-functions-for-numpy-arrays). Functions exist for ploting lines, surfaces, 3d contours, points, ect. \n",
    "\n",
    "Most of the plot types have a built in example found at mlab.test_*"
   ]
  },
  {
   "cell_type": "code",
   "execution_count": 6,
   "metadata": {
    "collapsed": false
   },
   "outputs": [
    {
     "data": {
      "text/plain": [
       "(<mayavi.modules.glyph.Glyph at 0x126fc0d70>,\n",
       " <mayavi.modules.glyph.Glyph at 0x126fca650>,\n",
       " <mayavi.modules.glyph.Glyph at 0x127ab8890>,\n",
       " <mayavi.modules.glyph.Glyph at 0x127a74ad0>)"
      ]
     },
     "execution_count": 6,
     "metadata": {},
     "output_type": "execute_result"
    }
   ],
   "source": [
    "# try one example, figure is created by default\n",
    "mlab.test_molecule()"
   ]
  },
  {
   "cell_type": "markdown",
   "metadata": {},
   "source": [
    "Mayavi has some very useful interactive controls that can be accessed from the GUI. This includes the ability to record changing of parameters."
   ]
  },
  {
   "cell_type": "code",
   "execution_count": 7,
   "metadata": {
    "collapsed": false
   },
   "outputs": [
    {
     "data": {
      "text/plain": [
       "<mayavi.tools.animator.Animator at 0x126fd2ad0>"
      ]
     },
     "execution_count": 7,
     "metadata": {},
     "output_type": "execute_result"
    }
   ],
   "source": [
    "# clear the figure then load another example\n",
    "mlab.clf()\n",
    "mlab.test_flow_anim()"
   ]
  },
  {
   "cell_type": "code",
   "execution_count": 9,
   "metadata": {
    "collapsed": false
   },
   "outputs": [
    {
     "data": {
      "text/plain": [
       "<mayavi.modules.surface.Surface at 0x127e7ecb0>"
      ]
     },
     "execution_count": 9,
     "metadata": {},
     "output_type": "execute_result"
    }
   ],
   "source": [
    "# create a new figure\n",
    "mlab.figure('mesh_example', bgcolor=(0,0,0,))\n",
    "mlab.test_surf()"
   ]
  }
 ],
 "metadata": {
  "kernelspec": {
   "display_name": "Python 2",
   "language": "python",
   "name": "python2"
  },
  "language_info": {
   "codemirror_mode": {
    "name": "ipython",
    "version": 2
   },
   "file_extension": ".py",
   "mimetype": "text/x-python",
   "name": "python",
   "nbconvert_exporter": "python",
   "pygments_lexer": "ipython2",
   "version": "2.7.10"
  }
 },
 "nbformat": 4,
 "nbformat_minor": 0
}
