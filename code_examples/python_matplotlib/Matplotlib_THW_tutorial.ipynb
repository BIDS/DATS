{
 "cells": [
  {
   "cell_type": "markdown",
   "metadata": {},
   "source": [
    "# An Introduction to Matplotlib\n",
    "\n",
    "* Tenzing HY Joshi: thjoshi@lbl.gov\n",
    "* Nick Swanson-Hysell: swanson-hysell@berkeley.edu"
   ]
  },
  {
   "cell_type": "markdown",
   "metadata": {},
   "source": [
    "## What is Matplotlib?\n",
    "\n",
    "> matplotlib is a library for making 2D plots of arrays in Python. ... matplotlib is designed with the philosophy that you should be able to create simple plots with just a few commands, or just one! ... \n",
    "\n",
    "> The matplotlib code is conceptually divided into **three** parts: **the pylab interface** is the set of functions provided by matplotlib.pylab which allow the user to create plots with code quite similar to MATLAB figure generating code (Pyplot tutorial). **The matplotlib frontend or matplotlib API** is the set of classes that do the heavy lifting, creating and managing figures, text, lines, plots and so on (Artist tutorial). This is an abstract interface that knows nothing about output. **The backends** are device-dependent drawing devices, aka renderers, that transform the frontend representation to hardcopy or a display device (What is a backend?). "
   ]
  },
  {
   "cell_type": "markdown",
   "metadata": {},
   "source": [
    "## Resources\n",
    "* [Matplotlib website](www.matplotlib.org)\n",
    "* [Python Programming tutorial](https://pythonprogramming.net/matplotlib-python-3-basics-tutorial/)\n",
    "* [Sci-Py Lectures](http://www.scipy-lectures.org/intro/matplotlib/matplotlib.html)"
   ]
  },
  {
   "cell_type": "markdown",
   "metadata": {},
   "source": [
    "## What I'll touch on\n",
    "* Importing  \n",
    "* Simple plots\n",
    "* Figures and Axes\n",
    "* Useful plot types\n",
    "* Formatting"
   ]
  },
  {
   "cell_type": "code",
   "execution_count": null,
   "metadata": {
    "collapsed": true
   },
   "outputs": [],
   "source": [
    "import matplotlib as mpl"
   ]
  },
  {
   "cell_type": "code",
   "execution_count": null,
   "metadata": {
    "collapsed": false
   },
   "outputs": [],
   "source": [
    "mpl"
   ]
  },
  {
   "cell_type": "code",
   "execution_count": null,
   "metadata": {
    "collapsed": false
   },
   "outputs": [],
   "source": [
    "# I normally prototype my code in an editor + ipy terminal.\n",
    "# In those cases I import pyplot and numpy via\n",
    "import matplotlib.pyplot as plt\n",
    "import numpy as np\n",
    "\n",
    "# In Jupy notebooks we've got magic functions and pylab gives you pyplot as plt and numpy as np\n",
    "# %pylab \n",
    "\n",
    "# Additionally, inline will let you plot inline of the notebook\n",
    "# %pylab inline\n",
    "\n",
    "# And notebook, as I've just found out gives you some resizing etc... tools inline.\n",
    "# %pylab notebook"
   ]
  },
  {
   "cell_type": "code",
   "execution_count": null,
   "metadata": {
    "collapsed": false
   },
   "outputs": [],
   "source": [
    "y = np.ones(10)\n",
    "\n",
    "for x in range(2,10):\n",
    "    y[x] = y[x-2] + y[x-1]\n",
    "\n",
    "plt.plot(y)\n",
    "plt.title('This story')"
   ]
  },
  {
   "cell_type": "markdown",
   "metadata": {},
   "source": [
    "### Where's the plot to this story?\n",
    "\n",
    "By default, with pyplot the *interactive* Mode is turned *off*.  That means that the state of our Figure is updated on every plt command, but only drawn when we ask for it to be drawn `plt.draw()` and shown when we ask for it to be shown `plt.show()`.  So lets have a look at what happened."
   ]
  },
  {
   "cell_type": "code",
   "execution_count": null,
   "metadata": {
    "collapsed": true
   },
   "outputs": [],
   "source": [
    "plt.show()"
   ]
  },
  {
   "cell_type": "code",
   "execution_count": null,
   "metadata": {
    "collapsed": false
   },
   "outputs": [],
   "source": [
    "print('I can not run this command until I close the window because interactive mode is turned off')"
   ]
  },
  {
   "cell_type": "markdown",
   "metadata": {},
   "source": [
    "### Interactive mode on or off is a preference. See how it works for your workflow.\n",
    "* `plt.ion()` can be used to turn interactive mode on\n",
    "* `plt.ioff()` then turns it off\n",
    "\n",
    "\n",
    "For now lets switch over to the `%pylab notebook` configuration to make it easier on ourselves."
   ]
  },
  {
   "cell_type": "code",
   "execution_count": null,
   "metadata": {
    "collapsed": false
   },
   "outputs": [],
   "source": [
    "%pylab inline\n",
    "\n",
    "# Set default figure size for your viewing pleasure...\n",
    "pylab.rcParams['figure.figsize'] = (10.0, 7.0)"
   ]
  },
  {
   "cell_type": "markdown",
   "metadata": {},
   "source": [
    "# Some Simple Plots"
   ]
  },
  {
   "cell_type": "code",
   "execution_count": null,
   "metadata": {
    "collapsed": false,
    "scrolled": false
   },
   "outputs": [],
   "source": [
    "x = np.linspace(0,5,100)\n",
    "y = np.random.exponential(1./3., 100)\n",
    "\n",
    "# Make a simply plot of x vs y, Set the points to have an 'x' marker.\n",
    "plt.plot(x,y, c='r',marker='x')\n",
    "\n",
    "# Label our x and y axes and give the plot a title.\n",
    "plt.xlabel('Sample time (au)')\n",
    "plt.ylabel('Exponential Sample (au)')\n",
    "plt.title('See the trend?')"
   ]
  },
  {
   "cell_type": "markdown",
   "metadata": {},
   "source": [
    "### Lots of kwargs to modify your plot\n",
    "A few that I find most useful are:\n",
    "* alpha\n",
    "* color or c\n",
    "* linestyle or ls\n",
    "* linewidth or lw\n",
    "* marker\n",
    "* markersize or ms\n",
    "* label\n"
   ]
  },
  {
   "cell_type": "code",
   "execution_count": null,
   "metadata": {
    "collapsed": true
   },
   "outputs": [],
   "source": [
    "x = np.linspace(0,6.,1000.)"
   ]
  },
  {
   "cell_type": "code",
   "execution_count": null,
   "metadata": {
    "collapsed": false
   },
   "outputs": [],
   "source": [
    "# Alpha = 0.5, color = red, linstyle = dotted, linewidth = 3, label = x\n",
    "plt.plot(x, x, alpha = 0.5, c = 'r', ls = ':', lw=3., label='x')\n",
    "\n",
    "# Alpha = 0.5, color = blue, linstyle = solid, linewidth = 3, label = x**(3/2)\n",
    "# Check out the LaTeX!  \n",
    "plt.plot(x, x**(3./2), alpha = 0.5, c = 'b', ls = '-', lw=3., label=r'x$^{3/2}$')\n",
    "\n",
    "# And so on...\n",
    "plt.plot(x, x**2, alpha = 0.5, c = 'g', ls = '--', lw=3., label=r'x$^2$')\n",
    "\n",
    "\n",
    "plt.plot(x, np.log(1+x)*20., alpha = 0.5, c = 'c', ls = '-.', lw=3., label='log(1+x)')\n",
    "\n",
    "# Add a legend (loc gives some options about where the legend is placed)\n",
    "plt.legend(loc=2)"
   ]
  },
  {
   "cell_type": "markdown",
   "metadata": {},
   "source": [
    "Nice scatter Example from the MPL website.  Note that the kwargs are different here.  Quick inspection of the docs is handy (`shift + tab` in jupy notebooks)."
   ]
  },
  {
   "cell_type": "code",
   "execution_count": null,
   "metadata": {
    "collapsed": false
   },
   "outputs": [],
   "source": [
    "N = 50\n",
    "x = np.random.rand(N)\n",
    "y = np.random.rand(N)\n",
    "colors = np.random.rand(N)\n",
    "area = np.pi * (15 * np.random.rand(N))**2  # 0 to 15 point radiuses\n",
    "\n",
    "# size = area variable, c = colors variable\n",
    "x = plt.scatter(x, y, s=area, c=colors, alpha=0.4)\n",
    "plt.show()\n"
   ]
  },
  {
   "cell_type": "code",
   "execution_count": null,
   "metadata": {
    "collapsed": false
   },
   "outputs": [],
   "source": [
    "N=10000\n",
    "values1 = np.random.normal(25., 3., N)\n",
    "values2 = np.random.normal(33., 8., N/7)\n",
    "valuestot = np.concatenate([values1,values2])\n",
    "\n",
    "binedges = np.arange(0,101,1)\n",
    "bincenters = (binedges[1:] + binedges[:-1])/2.\n",
    "\n",
    "# plt.hist gives you the ability to histogram and plot all in one command.\n",
    "x1 = plt.hist(valuestot, bins=binedges, color='g', alpha=0.5, label='total')\n",
    "x2 = plt.hist(values2, bins=binedges, color='r', alpha=0.5, histtype='step', linewidth=3, label='values 1')\n",
    "x3 = plt.hist(values1, bins=binedges, color='b', alpha=0.5, histtype='step', linewidth=3, label='values 2')\n",
    "\n",
    "plt.legend(loc=7)"
   ]
  },
  {
   "cell_type": "markdown",
   "metadata": {},
   "source": [
    "# Loads of examples and plot types in the Matplotlib.org [Gallery](http://matplotlib.org/gallery.html)\n",
    "* Its worth looking through some examples just to get a feel for what types of plots are available and how they are used."
   ]
  },
  {
   "cell_type": "markdown",
   "metadata": {},
   "source": [
    "# Figures and Axes\n",
    "\n",
    "Working with MPL Figure and Axes objects gives you more control.  You can quickly make multiple plots, shared axes, etc... on the same Figure."
   ]
  },
  {
   "cell_type": "markdown",
   "metadata": {},
   "source": [
    "* Figure command\n",
    "* Subplot command\n",
    "* Different sized subplots\n",
    "* Axes controls\n",
    "  * ticks, labels, else?"
   ]
  },
  {
   "cell_type": "code",
   "execution_count": null,
   "metadata": {
    "collapsed": false
   },
   "outputs": [],
   "source": [
    "fig = plt.figure(figsize=(10,6))\n",
    "\n",
    "# Make an axes as if the figure had 1 row, 2 columns and it would be the first of the two sub-divisions.\n",
    "ax1 = fig.add_subplot(121)\n",
    "plot1 = ax1.plot([1,2,3,4,1,0])\n",
    "ax1.set_xlabel('time since start of talk')\n",
    "ax1.set_ylabel('interest level')\n",
    "ax1.set_xbound([-1.,6.])\n",
    "\n",
    "\n",
    "\n",
    "# Make an axes as if the figure had 1 row, 2 columns and it would be the second of the two sub-divisions.\n",
    "ax2 = fig.add_subplot(122)\n",
    "plot2 = ax2.scatter([1,1,1,2,2,2,3,3,3,4,4,4], [1,2,3]*4)\n",
    "ax2.set_title('A commentary on chairs with wheels')"
   ]
  },
  {
   "cell_type": "code",
   "execution_count": null,
   "metadata": {
    "collapsed": false
   },
   "outputs": [],
   "source": [
    "print(plot1)\n",
    "print(plot2)"
   ]
  },
  {
   "cell_type": "markdown",
   "metadata": {},
   "source": [
    "`fig.add_axes` is another option for adding axes as you wish.\n",
    "* Relative lower left corner x and y coordinates\n",
    "* Relative x and y spans of the axes"
   ]
  },
  {
   "cell_type": "code",
   "execution_count": null,
   "metadata": {
    "collapsed": false
   },
   "outputs": [],
   "source": [
    "fig2 = plt.figure(figsize=(10,10))\n",
    "ax1 = fig2.add_axes([0.1,0.1,0.8,0.4])\n",
    "\n",
    "histvals = ax1.hist(np.random.exponential(0.5,5000), bins=np.arange(0,5, 0.1))\n",
    "\n",
    "ax1.set_xlabel('Sampled Value')\n",
    "ax1.set_ylabel('Counts per bin')\n",
    "\n",
    "ax2 = fig2.add_axes([0.3,0.55, 0.7, 0.45])\n",
    "ax2.plot([13,8,5,3,2,1,1],'r:',lw=3)"
   ]
  },
  {
   "cell_type": "markdown",
   "metadata": {},
   "source": [
    "`plt.subplots` gives an alternative route, creating all of the axes at once.  Less flexability since you'll end up with a grid of subplots, but thats exactly what you want a lot of the time.  \n",
    "\n",
    "`sharex` and `sharey` kwargs do exactly that for all of the axes."
   ]
  },
  {
   "cell_type": "code",
   "execution_count": null,
   "metadata": {
    "collapsed": false
   },
   "outputs": [],
   "source": [
    "import scipy.stats as stats\n",
    "\n",
    "# With subplots we can make all of the axes at ones.  \n",
    "# The axes are return in a list of lists. \n",
    "f, [[ax0, ax1], [ax2, ax3]] = plt.subplots(nrows=2, ncols=2, sharex=True, sharey=False)\n",
    "\n",
    "# Remove the space between the top and bottom rows of plots\n",
    "# wspace would do the same for left and right columns...\n",
    "f.subplots_adjust(hspace=0)\n",
    "\n",
    "ax0.plot(range(50,250), np.exp(np.arange(50,250) / 23.) )\n",
    "ax2.scatter(np.random.normal(125,27,100), np.random.binomial(200,0.4,100))\n",
    "\n",
    "ax1.plot(range(0,300), np.random.exponential(0.5,300), 'g')\n",
    "ax3.plot(range(0,300), stats.norm.pdf(np.arange(0,300),150, 30) , 'g')\n"
   ]
  },
  {
   "cell_type": "markdown",
   "metadata": {},
   "source": [
    "# Colors and colormaps\n",
    "\n",
    "MPL has a variety of [Colormaps](http://matplotlib.org/users/colormaps.html) to choose from.\n",
    "\n",
    "I also use the python library [Palettable](https://jiffyclub.github.io/palettable/) to gain access to a few other colors and colormaps in convienent ways.  I won't use this library today, but if you're interested in some other options from what MPL has it is worth a look."
   ]
  },
  {
   "cell_type": "code",
   "execution_count": null,
   "metadata": {
    "collapsed": false
   },
   "outputs": [],
   "source": [
    "plt.colormaps()"
   ]
  },
  {
   "cell_type": "code",
   "execution_count": null,
   "metadata": {
    "collapsed": false
   },
   "outputs": [],
   "source": [
    "cmap0 = plt.cm.cubehelix\n",
    "cmap1 = plt.cm.Accent\n",
    "cmap2 = plt.cm.Set1\n",
    "cmap3 = plt.cm.Spectral\n",
    "\n",
    "colmaps = [cmap0,cmap1,cmap2,cmap3]\n",
    "\n",
    "Ncolors = 12\n",
    "col0 = cmap0(np.linspace(0,1,Ncolors))"
   ]
  },
  {
   "cell_type": "code",
   "execution_count": null,
   "metadata": {
    "collapsed": false
   },
   "outputs": [],
   "source": [
    "f, [[ax0, ax1], [ax2, ax3]] = plt.subplots(nrows=2, ncols=2, figsize=(13,13))\n",
    "x = np.linspace(0.01,100,1000)\n",
    "\n",
    "for idx, axis in enumerate([ax0,ax1,ax2,ax3]):\n",
    "    colormap = colmaps[idx]\n",
    "    colors = colormap(np.linspace(0,1,Ncolors))\n",
    "\n",
    "    axis.set_title(colormap.name)\n",
    "    \n",
    "    for val in range(Ncolors):\n",
    "        axis.plot(x,x**(1.0 + 0.1 * val), c=colors[val], lw=3, label=val)\n",
    "    axis.loglog()\n"
   ]
  },
  {
   "cell_type": "markdown",
   "metadata": {
    "collapsed": true
   },
   "source": [
    "## Colormap normalization can also be pretty handy!\n",
    "\n",
    "They are found in matplotlib.colors.  \n",
    "\n",
    "Lets look at Lograthmic (LogNorm), but also symmetric log, power law, discrete bounds, and custom ranges available.\n",
    "* [Colormap Normalization](http://matplotlib.org/users/colormapnorms.html)"
   ]
  },
  {
   "cell_type": "code",
   "execution_count": null,
   "metadata": {
    "collapsed": false
   },
   "outputs": [],
   "source": [
    "# Lets look at a two distributions on an exponential noise background...\n",
    "Nnoise = 475000\n",
    "Nnorm1 = 10000\n",
    "Nnorm2 = 15000\n",
    "\n",
    "# Uniform noise in x, exponential in y\n",
    "xnoise = np.random.rand(Nnoise) * 100\n",
    "ynoise = np.random.exponential(250,475000)\n",
    "\n",
    "# Uniform in X, normal in Y\n",
    "xnorm1 = np.random.rand(Nnorm1) * 100\n",
    "ynorm1 = np.random.normal(800, 50, Nnorm1)\n",
    "\n",
    "# Normal in X and Y\n",
    "xnorm2 = np.random.normal(50, 30, 15000)\n",
    "ynorm2 = np.random.normal(200, 25, 15000)\n",
    "\n",
    "xtot = np.concatenate([xnoise, xnorm1, xnorm2])\n",
    "ytot = np.concatenate([ynoise, ynorm1, ynorm2])\n",
    "\n",
    "xbins = np.arange(0,100,10)\n",
    "ybins = np.arange(0,1000,10)\n",
    "H, xe, ye = np.histogram2d(xtot, ytot, bins=[xbins, ybins])"
   ]
  },
  {
   "cell_type": "code",
   "execution_count": null,
   "metadata": {
    "collapsed": false
   },
   "outputs": [],
   "source": [
    "X,Y = np.meshgrid(ybins,xbins)\n",
    "\n",
    "fig4 = plt.figure(figsize=(13,8))\n",
    "ax1 = fig4.add_axes([0.1,0.1,0.35,0.4])\n",
    "ax2 = fig4.add_axes([0.5,0.1,0.35,0.4])\n",
    "\n",
    "pcolplot = ax1.pcolor(X, Y, H, cmap=cm.GnBu)\n",
    "ax1.set_title('Linear Color Scale')\n",
    "plt.colorbar(pcolplot, ax=ax1)\n",
    "\n",
    "from matplotlib.colors import LogNorm\n",
    "pcolplot2 = ax2.pcolor(X, Y, H, norm=LogNorm(vmin=H.min(), vmax=H.max()), cmap=cm.GnBu)\n",
    "ax2.set_title('Log Color Scale')\n",
    "plt.colorbar(pcolplot2, ax=ax2)"
   ]
  },
  {
   "cell_type": "markdown",
   "metadata": {},
   "source": [
    "# Lines and text"
   ]
  },
  {
   "cell_type": "markdown",
   "metadata": {},
   "source": [
    "* Adding horizontal and vertical lines\n",
    "  * `hlines` and `vlines`\n",
    "* Adding text to your figures is also often needed."
   ]
  },
  {
   "cell_type": "code",
   "execution_count": null,
   "metadata": {
    "collapsed": false
   },
   "outputs": [],
   "source": [
    "xvals = np.arange(0,120,0.1)\n",
    "\n",
    "# Define a few functions to use\n",
    "f1 = lambda x: 50. * np.exp(-x/20.)\n",
    "f2 = lambda x: 30. * stats.norm.pdf(x, loc=25,scale=5) \n",
    "f3 = lambda x: 200. * stats.norm.pdf(x,loc=40,scale=10) \n",
    "f4 = lambda x: 25. * stats.gamma.pdf(x, 8., loc=45, scale=4.)\n"
   ]
  },
  {
   "cell_type": "code",
   "execution_count": null,
   "metadata": {
    "collapsed": false
   },
   "outputs": [],
   "source": [
    "# Normalize to define PDFs\n",
    "pdf1 = f1(xvals) / (f1(xvals)).sum()\n",
    "pdf2 = f2(xvals) / (f2(xvals)).sum()\n",
    "pdf3 = f3(xvals) / (f3(xvals)).sum()\n",
    "pdf4 = f4(xvals) / (f4(xvals)).sum()\n",
    "\n",
    "# Combine them and normalize again\n",
    "pdftot = pdf1 + pdf2 + pdf3 + pdf4\n",
    "pdftot = pdftot / pdftot.sum()"
   ]
  },
  {
   "cell_type": "code",
   "execution_count": null,
   "metadata": {
    "collapsed": false
   },
   "outputs": [],
   "source": [
    "fig5 = plt.figure(figsize=(11,8))\n",
    "ax3 = fig5.add_axes([0.1,0.1,0.9,0.9])\n",
    "\n",
    "# Plot the pdfs, and the total pdf\n",
    "lines = ax3.plot(xvals, pdf1,'r', xvals,pdf2,'b', xvals,pdf3,'g', xvals,pdf4,'m')\n",
    "lines = ax3.plot(xvals, pdftot, 'k', lw=5.)"
   ]
  },
  {
   "cell_type": "markdown",
   "metadata": {
    "collapsed": true
   },
   "source": [
    "**Lets use vertical lines to represent the means of our distributions instead of plotting all of them.  **\n",
    "\n",
    "**We'll also add some text to describe these vertical lines.**"
   ]
  },
  {
   "cell_type": "code",
   "execution_count": null,
   "metadata": {
    "collapsed": false
   },
   "outputs": [],
   "source": [
    "# Calculate the mean\n",
    "mean1 = (xvals * pdf1).sum()\n",
    "mean2 = (xvals * pdf2).sum()\n",
    "mean3 = (xvals * pdf3).sum()\n",
    "mean4 = (xvals * pdf4).sum()\n",
    "\n",
    "fig6 = plt.figure(figsize=(11,8))\n",
    "ax4 = fig6.add_axes([0.1,0.1,0.9,0.9])\n",
    "\n",
    "# Plot the total PDF\n",
    "ax4.plot(xvals, pdftot, 'k', lw=5.)\n",
    "\n",
    "# Grabe the limits of the y-axis for defining the extent of our vertical lines\n",
    "axmin, axmax = ax4.get_ylim()\n",
    "\n",
    "# Draw vertical lines. (x location, ymin, ymax, color, linestyle)\n",
    "ax4.vlines(mean1, axmin, axmax, 'r',':')\n",
    "ax4.vlines(mean2, axmin, axmax, 'b',':')\n",
    "ax4.vlines(mean3, axmin, axmax, 'g',':')\n",
    "ax4.vlines(mean4, axmin, axmax, 'm',':')\n",
    "\n",
    "# Add some text to figure to describe the curves\n",
    "# (xloc, yloc, text, color, fontsize, rotation, ...)\n",
    "ax4.text(mean1-18, 0.0028, r'mean of $f_1(X)$', color='r', fontsize=18)\n",
    "ax4.text(mean2+1, 0.0005, r'mean of $f_2(X)$', color='b', fontsize=18)\n",
    "ax4.text(mean3+1, 0.0002, r'mean of $f_3(X)$', color='g', fontsize=18)\n",
    "ax4.text(mean4+1, 0.0028, r'mean of $f_4(X)$', color='m', fontsize=18, rotation=-25)\n",
    "temp = ax4.text(50, 0.0009, r'$f_{tot}(X)$', color='k', fontsize=22)"
   ]
  },
  {
   "cell_type": "markdown",
   "metadata": {},
   "source": [
    "** We can do the same with horizontal lines**"
   ]
  },
  {
   "cell_type": "code",
   "execution_count": null,
   "metadata": {
    "collapsed": false
   },
   "outputs": [],
   "source": [
    "# Compute CDFs\n",
    "cdf1 = pdf1.cumsum()\n",
    "cdf2 = pdf2.cumsum()\n",
    "cdf3 = pdf3.cumsum()\n",
    "cdf4 = pdf4.cumsum()\n",
    "cdftot = pdftot.cumsum()\n",
    "\n",
    "fig7 = plt.figure(figsize=(11,8))\n",
    "ax7 = fig7.add_axes([0.1,0.1,0.9,0.9])\n",
    "\n",
    "# Plot them\n",
    "ax7.plot(xvals, cdftot, 'k', lw=3)\n",
    "ax7.plot(xvals, cdf1, 'r', ls=':', lw=2)\n",
    "ax7.plot(xvals, cdf2, 'b', ls=':', lw=2)\n",
    "ax7.plot(xvals, cdf3, 'g', ls=':', lw=2)\n",
    "ax7.plot(xvals, cdf4, 'm', ls=':', lw=2)\n",
    "\n",
    "# Force the y limits to be (0,1)\n",
    "ax7.set_ylim(0,1.)\n",
    "\n",
    "# Add 50% and 90% lines.\n",
    "ax7.hlines(0.5, 0, 120., 'k', '--', lw=2)\n",
    "ax7.hlines(0.95, 0, 120., 'k', '--', lw=3)\n",
    "\n",
    "# Add some text\n",
    "ax7.set_title('CDFs of dists 1-4 and total with 50% and 95% bounds')\n",
    "ax7.text(110, 0.46, r'$50\\%$ ', color='k', fontsize=20)\n",
    "temp = ax7.text(110, 0.91, r'$95\\%$ ', color='k', fontsize=20)"
   ]
  },
  {
   "cell_type": "markdown",
   "metadata": {
    "collapsed": true
   },
   "source": [
    "# Displaying images\n",
    "* Loading image data is supported by the Pillow library. Natively, matplotlib only supports PNG images. The commands shown below fall back on Pillow if the native read fails.\n",
    "* Matplotlib plotting can handle float32 and uint8, but image reading/writing for any format other than PNG is limited to uint8 data."
   ]
  },
  {
   "cell_type": "code",
   "execution_count": null,
   "metadata": {
    "collapsed": true
   },
   "outputs": [],
   "source": [
    "import matplotlib.image as mpimg\n",
    "\n",
    "img=mpimg.imread('Tahoe.png')"
   ]
  },
  {
   "cell_type": "code",
   "execution_count": null,
   "metadata": {
    "collapsed": false
   },
   "outputs": [],
   "source": [
    "imgplot = plt.imshow(img)"
   ]
  },
  {
   "cell_type": "markdown",
   "metadata": {},
   "source": [
    "Lets plot the R, G, and B components of this image."
   ]
  },
  {
   "cell_type": "code",
   "execution_count": null,
   "metadata": {
    "collapsed": false
   },
   "outputs": [],
   "source": [
    "f, [ax0,ax1,ax2] = plt.subplots(nrows=3, ncols=1, figsize=(10,15))\n",
    "f.subplots_adjust(hspace=0.05)\n",
    "\n",
    "for ax in [ax0,ax1,ax2]:\n",
    "#     ax.set_xticklabels([])\n",
    "    ax.set_xticks([])\n",
    "    ax.set_yticklabels([])\n",
    "    \n",
    "ax0.imshow(img[:,:,0], cmap=cm.Spectral)\n",
    "ax1.imshow(img[:,:,1], cmap=cm.Spectral)\n",
    "ax2.imshow(img[:,:,2], cmap=cm.Spectral)"
   ]
  }
 ],
 "metadata": {
  "kernelspec": {
   "display_name": "Python 2",
   "language": "python",
   "name": "python2"
  },
  "language_info": {
   "codemirror_mode": {
    "name": "ipython",
    "version": 2
   },
   "file_extension": ".py",
   "mimetype": "text/x-python",
   "name": "python",
   "nbconvert_exporter": "python",
   "pygments_lexer": "ipython2",
   "version": "2.7.11"
  }
 },
 "nbformat": 4,
 "nbformat_minor": 0
}
