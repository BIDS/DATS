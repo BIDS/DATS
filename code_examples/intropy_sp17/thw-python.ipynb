{
 "cells": [
  {
   "cell_type": "markdown",
   "metadata": {
    "nbpresent": {
     "id": "6a858bf9-4694-40c1-97f9-c38d593ec2a6"
    },
    "slideshow": {
     "slide_type": "slide"
    }
   },
   "source": [
    "# Introduction to Python\n",
    "\n",
    "## 1. Installing Python\n",
    "\n",
    "\n",
    "## 2. The Language\n",
    "\n",
    "- Expressions\n",
    "\n",
    "- List, Tuple and Dictionary\n",
    "\n",
    "- Strings\n",
    "\n",
    "- Functions\n",
    "\n",
    "## 3. Example: Word Frequency Analysis with Python\n",
    "\n",
    "- Reading text files\n",
    "\n",
    "- Geting and using python packages : wordcloud\n",
    "\n",
    "- Histograms\n",
    "\n",
    "- Exporting data as text files\n",
    "\n"
   ]
  },
  {
   "cell_type": "markdown",
   "metadata": {
    "nbpresent": {
     "id": "4dc11fed-7531-49b4-a170-b418f70ca57f"
    },
    "slideshow": {
     "slide_type": "slide"
    }
   },
   "source": [
    "## 1. Installing Python:\n",
    "    \n",
    "  - Easy way : with a Python distribution, anaconda\n",
    "    \n",
    "    https://www.continuum.io/downloads\n",
    "    \n",
    "  - Hard way : compile it yourself from source. It is open-source after all.\n",
    "   \n",
    "    [Not covered here; was the main way in early days, before 2011 or even 2014]\n",
    "    "
   ]
  },
  {
   "cell_type": "markdown",
   "metadata": {
    "nbpresent": {
     "id": "c2003199-20d2-46aa-8a12-bfd631c2c63e"
    },
    "slideshow": {
     "slide_type": "slide"
    }
   },
   "source": [
    "Three Python user interfaces\n",
    "\n",
    "  - Python Shell `python`\n",
    "  \n",
    "    ```\n",
    "        [yfeng1@waterfall ~]$ python\n",
    "        Python 2.7.12 (default, Sep 29 2016, 13:30:34) \n",
    "        [GCC 6.2.1 20160916 (Red Hat 6.2.1-2)] on linux2\n",
    "        Type \"help\", \"copyright\", \"credits\" or \"license\" for more information.\n",
    "        >>> \n",
    "    ```\n",
    "  \n",
    "  - Jupyter Notebook (in a browser, like this)\n",
    "  \n",
    "  - IDEs: PyCharm, Spyder, etc.\n",
    "  \n",
    "  We use Jupyter Notebook here.\n",
    "  \n",
    "  Jupyter Notebook is included in the Anaconda distribution.\n",
    "  \n",
    "  "
   ]
  },
  {
   "cell_type": "markdown",
   "metadata": {
    "nbpresent": {
     "id": "1d10d6df-85b4-4a17-8b78-7bb720b4b8af"
    },
    "slideshow": {
     "slide_type": "slide"
    }
   },
   "source": [
    "# 2. Python the Language"
   ]
  },
  {
   "cell_type": "markdown",
   "metadata": {
    "nbpresent": {
     "id": "886f64ec-367a-4105-a3cd-4817407ba3d6"
    },
    "slideshow": {
     "slide_type": "subslide"
    }
   },
   "source": [
    "## 2.1 Expressions\n",
    "\n",
    "An expression looks like a math formula"
   ]
  },
  {
   "cell_type": "code",
   "execution_count": 1,
   "metadata": {
    "collapsed": false,
    "nbpresent": {
     "id": "cc53f6f5-d152-4ef9-a673-525772288c9a"
    },
    "slideshow": {
     "slide_type": "fragment"
    }
   },
   "outputs": [
    {
     "data": {
      "text/plain": [
       "5"
      ]
     },
     "execution_count": 1,
     "metadata": {},
     "output_type": "execute_result"
    }
   ],
   "source": [
    "2 + 3 # Press <Ctrl-Enter to evaluate a cell>"
   ]
  },
  {
   "cell_type": "code",
   "execution_count": 2,
   "metadata": {
    "collapsed": false
   },
   "outputs": [
    {
     "data": {
      "text/plain": [
       "114.0"
      ]
     },
     "execution_count": 2,
     "metadata": {},
     "output_type": "execute_result"
    }
   ],
   "source": [
    "2 + int(3.5 * 4) * float(\"8\")"
   ]
  },
  {
   "cell_type": "code",
   "execution_count": 3,
   "metadata": {
    "collapsed": false
   },
   "outputs": [
    {
     "data": {
      "text/plain": [
       "4"
      ]
     },
     "execution_count": 3,
     "metadata": {},
     "output_type": "execute_result"
    }
   ],
   "source": [
    "9 // 2 # Press <Ctrl-Enter to evaluate>"
   ]
  },
  {
   "cell_type": "markdown",
   "metadata": {
    "nbpresent": {
     "id": "36bc894e-3c12-4009-99ca-f3b3cbea39ad"
    },
    "slideshow": {
     "slide_type": "subslide"
    }
   },
   "source": [
    "To use the result of an expression in the future,\n",
    "we assign an expression to a variable.\n",
    "\n",
    "- Type of a variable in python is usually implied.\n",
    "  (duck-typing -- read more on https://en.wikipedia.org/wiki/Duck_typing)"
   ]
  },
  {
   "cell_type": "code",
   "execution_count": 4,
   "metadata": {
    "collapsed": true,
    "nbpresent": {
     "id": "7721196a-9d9a-4213-92c2-ff581e230f0c"
    },
    "slideshow": {
     "slide_type": "fragment"
    }
   },
   "outputs": [],
   "source": [
    "x = 2 + 3"
   ]
  },
  {
   "cell_type": "code",
   "execution_count": 5,
   "metadata": {
    "collapsed": false,
    "nbpresent": {
     "id": "3585fb20-54f7-495c-916a-134f8da42696"
    },
    "slideshow": {
     "slide_type": "fragment"
    }
   },
   "outputs": [
    {
     "data": {
      "text/plain": [
       "5"
      ]
     },
     "execution_count": 5,
     "metadata": {},
     "output_type": "execute_result"
    }
   ],
   "source": [
    "x"
   ]
  },
  {
   "cell_type": "markdown",
   "metadata": {},
   "source": [
    "The weirdest expression in Python:"
   ]
  },
  {
   "cell_type": "code",
   "execution_count": 6,
   "metadata": {
    "collapsed": false
   },
   "outputs": [
    {
     "name": "stdout",
     "output_type": "stream",
     "text": [
      "5\n"
     ]
    }
   ],
   "source": [
    "print(x)"
   ]
  },
  {
   "cell_type": "markdown",
   "metadata": {},
   "source": [
    "Q: What happens under the hood?"
   ]
  },
  {
   "cell_type": "markdown",
   "metadata": {
    "collapsed": true,
    "slideshow": {
     "slide_type": "slide"
    }
   },
   "source": [
    "## 2.2 List, Tuple, Set and Dictionary"
   ]
  },
  {
   "cell_type": "markdown",
   "metadata": {},
   "source": [
    "A list is a list of expressions."
   ]
  },
  {
   "cell_type": "code",
   "execution_count": 7,
   "metadata": {
    "collapsed": true,
    "nbpresent": {
     "id": "0d673367-6325-48e3-9947-e9a903785943"
    }
   },
   "outputs": [],
   "source": [
    "MyListOfNumbers = [1,2,3,4,5,6,7]"
   ]
  },
  {
   "cell_type": "markdown",
   "metadata": {},
   "source": [
    "A list has a length"
   ]
  },
  {
   "cell_type": "code",
   "execution_count": 8,
   "metadata": {
    "collapsed": false,
    "nbpresent": {
     "id": "93ba27f7-db03-4c8c-9063-96daaf646fca"
    }
   },
   "outputs": [
    {
     "data": {
      "text/plain": [
       "7"
      ]
     },
     "execution_count": 8,
     "metadata": {},
     "output_type": "execute_result"
    }
   ],
   "source": [
    "len(MyListOfNumbers)"
   ]
  },
  {
   "cell_type": "markdown",
   "metadata": {},
   "source": [
    "We can loop over items in a list."
   ]
  },
  {
   "cell_type": "code",
   "execution_count": 9,
   "metadata": {
    "collapsed": false,
    "nbpresent": {
     "id": "ad0ad56d-4644-4112-97a0-0da019762ee8"
    }
   },
   "outputs": [
    {
     "name": "stdout",
     "output_type": "stream",
     "text": [
      "1, 2, 3, 4, 5, 6, 7, "
     ]
    }
   ],
   "source": [
    "for num in MyListOfNumbers:\n",
    "    print(num, end=', ')"
   ]
  },
  {
   "cell_type": "markdown",
   "metadata": {},
   "source": [
    "A tuple is almost a list, defined with `()` instead of `[]`.\n",
    "`()` can sometimes be omitted."
   ]
  },
  {
   "cell_type": "code",
   "execution_count": 10,
   "metadata": {
    "collapsed": false
   },
   "outputs": [
    {
     "name": "stdout",
     "output_type": "stream",
     "text": [
      "1, 2, 3, 4, 5, 6, "
     ]
    }
   ],
   "source": [
    "MyTupleOfNumbers = (1, 2, 3, 4, 5, 6)\n",
    "MyTupleOfNumbers = 1, 2, 3, 4, 5, 6\n",
    "for num in MyTupleOfNumbers:\n",
    "    print(num, end=', ')"
   ]
  },
  {
   "cell_type": "markdown",
   "metadata": {},
   "source": [
    "But Tuples have a twist.\n",
    "\n",
    "- Items in a tuple is immutable;\n",
    "- Items in a list can change\n",
    "\n",
    "Let's try it out"
   ]
  },
  {
   "cell_type": "code",
   "execution_count": 11,
   "metadata": {
    "collapsed": false
   },
   "outputs": [
    {
     "name": "stdout",
     "output_type": "stream",
     "text": [
      "[1, 2, 3, 4, 99, 6, 7]\n"
     ]
    }
   ],
   "source": [
    "MyListOfNumbers[4] = 99\n",
    "print(MyListOfNumbers)"
   ]
  },
  {
   "cell_type": "code",
   "execution_count": 12,
   "metadata": {
    "collapsed": false
   },
   "outputs": [
    {
     "ename": "NameError",
     "evalue": "name 'Tuple' is not defined",
     "output_type": "error",
     "traceback": [
      "\u001b[0;31m---------------------------------------------------------------------------\u001b[0m",
      "\u001b[0;31mNameError\u001b[0m                                 Traceback (most recent call last)",
      "\u001b[0;32m<ipython-input-12-059965e7e9cf>\u001b[0m in \u001b[0;36m<module>\u001b[0;34m()\u001b[0m\n\u001b[0;32m----> 1\u001b[0;31m \u001b[0mTuple\u001b[0m\u001b[0;34m[\u001b[0m\u001b[0;36m4\u001b[0m\u001b[0;34m]\u001b[0m \u001b[0;34m=\u001b[0m \u001b[0;36m99\u001b[0m\u001b[0;34m\u001b[0m\u001b[0m\n\u001b[0m",
      "\u001b[0;31mNameError\u001b[0m: name 'Tuple' is not defined"
     ]
    }
   ],
   "source": [
    "Tuple[4] = 99"
   ]
  },
  {
   "cell_type": "markdown",
   "metadata": {},
   "source": [
    "Oops. \n",
    "\n",
    "`Tuple object does not support item assignment.`\n",
    "\n",
    "Tuples are immutable."
   ]
  },
  {
   "cell_type": "markdown",
   "metadata": {},
   "source": [
    "## Dictionary \n",
    "\n",
    "A dicionary records a mapping from Keys to Values.\n",
    "\n",
    "Mathematically a dictionary defines a function on a finite, discrete domain."
   ]
  },
  {
   "cell_type": "code",
   "execution_count": 13,
   "metadata": {
    "collapsed": true
   },
   "outputs": [],
   "source": [
    "MyDictionary = {}\n",
    "\n",
    "MyDictionary[9] = 81\n",
    "MyDictionary[3] = 9\n"
   ]
  },
  {
   "cell_type": "code",
   "execution_count": 14,
   "metadata": {
    "collapsed": false
   },
   "outputs": [
    {
     "name": "stdout",
     "output_type": "stream",
     "text": [
      "{9: 81, 3: 9}\n"
     ]
    }
   ],
   "source": [
    "print(MyDictionary)"
   ]
  },
  {
   "cell_type": "markdown",
   "metadata": {},
   "source": [
    "We may write\n",
    "\n",
    "```\n",
    "MyDictionary : {9, 3} => R.\n",
    "```"
   ]
  },
  {
   "cell_type": "markdown",
   "metadata": {},
   "source": [
    "We can loop over items in a dictionary, as well"
   ]
  },
  {
   "cell_type": "code",
   "execution_count": 15,
   "metadata": {
    "collapsed": false
   },
   "outputs": [
    {
     "name": "stdout",
     "output_type": "stream",
     "text": [
      "Key 9 : Value 81 | Key 3 : Value 9 | "
     ]
    }
   ],
   "source": [
    "for k, v in MyDictionary.items():\n",
    "    print('Key', k, \":\", 'Value', v, end=' | ')"
   ]
  },
  {
   "cell_type": "markdown",
   "metadata": {
    "collapsed": true
   },
   "source": [
    "## 2.? String"
   ]
  },
  {
   "cell_type": "markdown",
   "metadata": {},
   "source": [
    "We have seen strings a few times.\n",
    "\n",
    "String literals can be defined with quotation marks, single or double."
   ]
  },
  {
   "cell_type": "code",
   "execution_count": 16,
   "metadata": {
    "collapsed": false,
    "nbpresent": {
     "id": "badf87a4-8b5f-44d0-b6dd-16c2bf0e94a4"
    }
   },
   "outputs": [
    {
     "data": {
      "text/plain": [
       "('the hacker within',\n",
       " 'the hacker within',\n",
       " 'the hacker within',\n",
       " 'the hacker within',\n",
       " b'the hacker within')"
      ]
     },
     "execution_count": 16,
     "metadata": {},
     "output_type": "execute_result"
    }
   ],
   "source": [
    "\"the hacker within\", 'the hacker within', r'the hacker within', u'the hacker within', b'the hacker within'"
   ]
  },
  {
   "cell_type": "markdown",
   "metadata": {},
   "source": [
    "Q: Mind the tuple"
   ]
  },
  {
   "cell_type": "markdown",
   "metadata": {},
   "source": [
    "If we assign a string literal to a variable, \n",
    "we get a string variable"
   ]
  },
  {
   "cell_type": "code",
   "execution_count": 17,
   "metadata": {
    "collapsed": true
   },
   "outputs": [],
   "source": [
    "name = \"the hacker within\""
   ]
  },
  {
   "cell_type": "markdown",
   "metadata": {},
   "source": [
    "Python give us a lot of means to manipulate a string."
   ]
  },
  {
   "cell_type": "code",
   "execution_count": 18,
   "metadata": {
    "collapsed": false,
    "nbpresent": {
     "id": "3c12f9f1-905e-4626-bd2d-dd44d81ee75b"
    }
   },
   "outputs": [
    {
     "name": "stdout",
     "output_type": "stream",
     "text": [
      "THE HACKER WITHIN\n",
      "['the', 'hacker', 'within']\n",
      "['THE', 'HACKER', 'WITHIN']\n"
     ]
    }
   ],
   "source": [
    "print(name.upper())\n",
    "print(name.split())\n",
    "print(name.upper().split())"
   ]
  },
  {
   "cell_type": "markdown",
   "metadata": {},
   "source": [
    "We can look for substring from a string"
   ]
  },
  {
   "cell_type": "code",
   "execution_count": 19,
   "metadata": {
    "collapsed": false,
    "nbpresent": {
     "id": "356bf503-f691-4d08-a050-b5187694c99c"
    }
   },
   "outputs": [
    {
     "data": {
      "text/plain": [
       "4"
      ]
     },
     "execution_count": 19,
     "metadata": {},
     "output_type": "execute_result"
    }
   ],
   "source": [
    "name.find(\"hack\")"
   ]
  },
  {
   "cell_type": "code",
   "execution_count": 20,
   "metadata": {
    "collapsed": false,
    "nbpresent": {
     "id": "61650bfb-c29d-4bd2-8388-0065eb686175"
    }
   },
   "outputs": [
    {
     "data": {
      "text/plain": [
       "'hacker within'"
      ]
     },
     "execution_count": 20,
     "metadata": {},
     "output_type": "execute_result"
    }
   ],
   "source": [
    "name[name.find(\"hack\"):]"
   ]
  },
  {
   "cell_type": "markdown",
   "metadata": {},
   "source": [
    "Formatting strings with the traditional `printf` formats"
   ]
  },
  {
   "cell_type": "code",
   "execution_count": 21,
   "metadata": {
    "collapsed": false,
    "nbpresent": {
     "id": "57b9adf1-c28f-4921-ac02-18f354d0fd12"
    }
   },
   "outputs": [
    {
     "name": "stdout",
     "output_type": "stream",
     "text": [
      "there are 003 numbers\n"
     ]
    }
   ],
   "source": [
    "foo = \"there are %03d numbers\" % 3\n",
    "print(foo)"
   ]
  },
  {
   "cell_type": "markdown",
   "metadata": {},
   "source": [
    "Conversion between bytes and strings\n",
    "\n",
    "- encode : from bytes to string\n",
    "- decode : from string to bytes\n",
    "\n",
    "The conversion is called 'encoding'. The default encoding on Unix is `UTF-8`.\n",
    "\n",
    "Q: What is the default encoding on Windows and OS X?"
   ]
  },
  {
   "cell_type": "code",
   "execution_count": 22,
   "metadata": {
    "collapsed": false,
    "nbpresent": {
     "id": "8526afb4-d201-4eaa-813c-cc2c66a4e14d"
    }
   },
   "outputs": [
    {
     "name": "stdout",
     "output_type": "stream",
     "text": [
      "b'the hacker within'\n"
     ]
    }
   ],
   "source": [
    "bname = name.encode()\n",
    "print(bname)"
   ]
  },
  {
   "cell_type": "code",
   "execution_count": 23,
   "metadata": {
    "collapsed": false,
    "nbpresent": {
     "id": "9e49e927-881e-4b2c-ade2-9fbe7e3dff2f"
    }
   },
   "outputs": [
    {
     "name": "stdout",
     "output_type": "stream",
     "text": [
      "the hacker within\n"
     ]
    }
   ],
   "source": [
    "print(bname.decode())"
   ]
  },
  {
   "cell_type": "markdown",
   "metadata": {},
   "source": [
    "Encodings are important if you work with text beyond English."
   ]
  },
  {
   "cell_type": "markdown",
   "metadata": {},
   "source": [
    "## 2.? Functions "
   ]
  },
  {
   "cell_type": "markdown",
   "metadata": {},
   "source": [
    "A function is a more compact representation of mathematical functions.\n",
    "\n",
    "(still remember dictionaries)"
   ]
  },
  {
   "cell_type": "code",
   "execution_count": 24,
   "metadata": {
    "collapsed": true,
    "nbpresent": {
     "id": "fff55662-9df8-498a-98d8-17f08bc819f7"
    }
   },
   "outputs": [],
   "source": [
    "def square_num(num):\n",
    "    \n",
    "    return num*num"
   ]
  },
  {
   "cell_type": "code",
   "execution_count": 25,
   "metadata": {
    "collapsed": false,
    "nbpresent": {
     "id": "9281aa94-0810-4477-bc0e-46a314ccadc6"
    }
   },
   "outputs": [
    {
     "name": "stdout",
     "output_type": "stream",
     "text": [
      "81\n",
      "9\n"
     ]
    }
   ],
   "source": [
    "print(square_num(9))\n",
    "print(square_num(3))"
   ]
  },
  {
   "cell_type": "markdown",
   "metadata": {},
   "source": [
    "Compare this with our dictionary"
   ]
  },
  {
   "cell_type": "code",
   "execution_count": 26,
   "metadata": {
    "collapsed": false
   },
   "outputs": [
    {
     "name": "stdout",
     "output_type": "stream",
     "text": [
      "81\n",
      "9\n"
     ]
    }
   ],
   "source": [
    "print(MyDictionary[9])\n",
    "print(MyDictionary[3])"
   ]
  },
  {
   "cell_type": "markdown",
   "metadata": {},
   "source": [
    "The domain of a function is much bigger than a dictionary.\n",
    "\n",
    "- A diciontary only remembers what we told it;\n",
    "\n",
    "- a function reevalutes its body every time it is `called`."
   ]
  },
  {
   "cell_type": "code",
   "execution_count": 27,
   "metadata": {
    "collapsed": false
   },
   "outputs": [
    {
     "name": "stdout",
     "output_type": "stream",
     "text": [
      "100\n"
     ]
    },
    {
     "ename": "KeyError",
     "evalue": "10",
     "output_type": "error",
     "traceback": [
      "\u001b[0;31m---------------------------------------------------------------------------\u001b[0m",
      "\u001b[0;31mKeyError\u001b[0m                                  Traceback (most recent call last)",
      "\u001b[0;32m<ipython-input-27-dfeb607970e6>\u001b[0m in \u001b[0;36m<module>\u001b[0;34m()\u001b[0m\n\u001b[1;32m      1\u001b[0m \u001b[0mprint\u001b[0m\u001b[0;34m(\u001b[0m\u001b[0msquare_num\u001b[0m\u001b[0;34m(\u001b[0m\u001b[0;36m10\u001b[0m\u001b[0;34m)\u001b[0m\u001b[0;34m)\u001b[0m\u001b[0;34m\u001b[0m\u001b[0m\n\u001b[0;32m----> 2\u001b[0;31m \u001b[0mprint\u001b[0m\u001b[0;34m(\u001b[0m\u001b[0mMyDictionary\u001b[0m\u001b[0;34m[\u001b[0m\u001b[0;36m10\u001b[0m\u001b[0;34m]\u001b[0m\u001b[0;34m)\u001b[0m\u001b[0;34m\u001b[0m\u001b[0m\n\u001b[0m",
      "\u001b[0;31mKeyError\u001b[0m: 10"
     ]
    }
   ],
   "source": [
    "print(square_num(10))\n",
    "print(MyDictionary[10])"
   ]
  },
  {
   "cell_type": "markdown",
   "metadata": {},
   "source": [
    "Oops. We never told MyDictionary about 10."
   ]
  },
  {
   "cell_type": "markdown",
   "metadata": {},
   "source": [
    "# 3. A Word Count Example"
   ]
  },
  {
   "cell_type": "markdown",
   "metadata": {},
   "source": [
    "In this section we will analyze some textual data with Python.\n",
    "\n",
    "We first obtain the data, with a `bash` cell."
   ]
  },
  {
   "cell_type": "code",
   "execution_count": 28,
   "metadata": {
    "collapsed": false,
    "nbpresent": {
     "id": "f94428fc-833f-4985-9349-b896c115a9ff"
    }
   },
   "outputs": [
    {
     "name": "stdout",
     "output_type": "stream",
     "text": [
      "Navigating bash and UNIX\n",
      "Machine learning with Neural Networks using Keras.io\n",
      "Git and GitHub\n",
      "Data Tidying in RR & Python\n",
      "Ensemble (Machine) Learning with Super Learner and H2O in RR \n"
     ]
    }
   ],
   "source": [
    "%%bash\n",
    "\n",
    "curl -so titles.tsv https://raw.githubusercontent.com/thehackerwithin/berkeley/master/code_examples/spring17_survey/session_titles.tsv\n",
    "head -5 titles.tsv"
   ]
  },
  {
   "cell_type": "markdown",
   "metadata": {},
   "source": [
    "Reading in a text file is very easy in Python."
   ]
  },
  {
   "cell_type": "code",
   "execution_count": 29,
   "metadata": {
    "collapsed": false,
    "nbpresent": {
     "id": "a3870625-8488-4fbf-bf9c-2d80877d7576"
    }
   },
   "outputs": [],
   "source": [
    "text = open('titles.tsv').read()"
   ]
  },
  {
   "cell_type": "markdown",
   "metadata": {},
   "source": [
    "Q : There is a subtle problem.\n",
    "\n",
    "We usually use a different syntax for reading files."
   ]
  },
  {
   "cell_type": "code",
   "execution_count": 30,
   "metadata": {
    "collapsed": true
   },
   "outputs": [],
   "source": [
    "with open('titles.tsv') as ff:\n",
    "    text = ff.read()"
   ]
  },
  {
   "cell_type": "markdown",
   "metadata": {},
   "source": [
    "Let's chop the text off into semantic elements. "
   ]
  },
  {
   "cell_type": "code",
   "execution_count": 31,
   "metadata": {
    "collapsed": false,
    "nbpresent": {
     "id": "948fd9d7-fae1-44b1-8ccf-56bd16eb6f1a"
    }
   },
   "outputs": [],
   "source": [
    "words = text.split()\n",
    "lines = text.split(\"\\n\")"
   ]
  },
  {
   "cell_type": "code",
   "execution_count": 32,
   "metadata": {
    "collapsed": false
   },
   "outputs": [
    {
     "name": "stdout",
     "output_type": "stream",
     "text": [
      "['Navigating', 'Keras.io', 'Ensemble', 'RRStudio', 'Python', 'with', 'Learning', 'To', 'For', 'Geospatial', 'Scraping', 'Advanced', 'and', 'GitHub', 'Computer', 'Editors', 'What', 'Teach', 'Cython', 'MocDown', 'Module', 'physics)', 'imagemagick', 'Have', 'Pi', 'Code', 'and']\n"
     ]
    }
   ],
   "source": [
    "print(words[::10]) # 1 word every 10"
   ]
  },
  {
   "cell_type": "code",
   "execution_count": 33,
   "metadata": {
    "collapsed": false,
    "nbpresent": {
     "id": "e8953e70-3248-499f-b50f-e27ed5ee742e"
    },
    "scrolled": true
   },
   "outputs": [
    {
     "name": "stdout",
     "output_type": "stream",
     "text": [
      "['Navigating bash and UNIX', 'The Python Olympics ', 'Build Systems ', 'High Performance Python ', 'Advanced Git and GitHub ', 'Matplotlib and Seaborn ', 'Jekyll ', 'LaTeX ', 'Intro to Git Part II ']\n"
     ]
    }
   ],
   "source": [
    "print(lines[::10]) # 1 line every 10"
   ]
  },
  {
   "cell_type": "markdown",
   "metadata": {},
   "source": [
    "Looks like we read in the file correctly."
   ]
  },
  {
   "cell_type": "markdown",
   "metadata": {},
   "source": [
    "Let's visualize this data.\n",
    "\n",
    "We use some exteral help from a package, `wordcloud`.\n",
    "\n",
    "So we will first install the package with `pip`, the Python Package Manager."
   ]
  },
  {
   "cell_type": "code",
   "execution_count": 34,
   "metadata": {
    "collapsed": false
   },
   "outputs": [
    {
     "name": "stdout",
     "output_type": "stream",
     "text": [
      "Requirement already satisfied: wordcloud in /home/yfeng1/anaconda3/install/lib/python3.5/site-packages\n"
     ]
    },
    {
     "data": {
      "text/plain": [
       "0"
      ]
     },
     "execution_count": 34,
     "metadata": {},
     "output_type": "execute_result"
    }
   ],
   "source": [
    "import pip\n",
    "pip.main(['install', \"wordcloud\"])"
   ]
  },
  {
   "cell_type": "markdown",
   "metadata": {},
   "source": [
    "Oops I have already installed wordcloud. You may see a different message."
   ]
  },
  {
   "cell_type": "code",
   "execution_count": 35,
   "metadata": {
    "collapsed": false
   },
   "outputs": [
    {
     "data": {
      "image/png": "[encoded data removed]",
      "text/plain": [
       "<PIL.Image.Image image mode=RGB size=800x300 at 0x7FDDE026EB00>"
      ]
     },
     "execution_count": 35,
     "metadata": {},
     "output_type": "execute_result"
    }
   ],
   "source": [
    "from wordcloud import WordCloud\n",
    "\n",
    "wordcloud = WordCloud(width=800, height=300, prefer_horizontal=1, stopwords=None).generate(text)\n",
    "wordcloud.to_image()"
   ]
  },
  {
   "cell_type": "markdown",
   "metadata": {},
   "source": [
    "The biggest keyword is Python. Let's get quantatitive:\n",
    "\n",
    "- Frequency statistics: How many times does each word occur in the file?\n",
    "\n",
    "\n",
    "1. For each word, we need to remember a number (number of occurances)\n",
    "   \n",
    "   Use dictionary. \n",
    "\n",
    "2. We will examine all words in the file (splitted into words).\n",
    "   \n",
    "   Use loop. \n"
   ]
  },
  {
   "cell_type": "code",
   "execution_count": 36,
   "metadata": {
    "collapsed": false,
    "nbpresent": {
     "id": "a6ead0e8-4caa-4128-8db6-0188adc821e7"
    }
   },
   "outputs": [
    {
     "name": "stdout",
     "output_type": "stream",
     "text": [
      "{'Pages': 1, 'imagemagick': 1, 'Metaprogramming': 1, 'Do': 1, 'with': 6, 'the': 2, 'Open': 1, 'Hadoop': 1, 'Pi': 1, 'Part': 2, 'Standard': 1, 'Hierarchy': 1, 'C++': 1, 'UNIX': 1, 'Installation': 1, 'GPUs': 2, 'Seaborn': 1, 'Computing': 1, 'Learning': 2, 'Makefiles': 1, 'Engineering': 1, 'So': 1, 'bash': 1, 'RR': 4, 'Tableau': 1, 'Parallel': 1, 'Module': 1, 'NLTK': 1, 'Nuclear': 2, 'Performance': 1, 'Where': 1, 'Packaging': 1, 'Ensemble': 1, '(Machine)': 1, 'RRStudio': 1, 'Bash': 3, 'in': 3, 'The': 4, 'Hacking': 1, 'Teach': 2, 'Documenting': 1, 'Build': 1, 'Survey': 1, 'Git': 7, 'Jekyll': 2, '3': 1, 'Physical': 1, 'Computer': 1, 'for': 2, 'Distribution': 1, 'You': 3, 'Introductory': 1, 'Learn': 2, 'HPC': 1, 'RadWatch': 1, 'Can': 1, 'Threading': 1, 'Navigating': 1, 'Networks': 1, 'Object': 1, 'Pyne': 1, 'Text': 1, 'Kaggle': 1, 'Architectures': 1, 'Matplotlib': 2, 'Programming': 1, 'Wikipedia': 1, 'Webscraping': 1, 'H2O': 1, 'CRAM': 1, 'Cython': 3, 'Visualization': 1, 'Visualizing': 1, 'Parallelization': 2, 'Geospatial': 1, 'IPython': 2, 'Vectorization': 1, 'Super': 1, 'Code': 1, 'Spark': 1, 'Plotting': 2, 'Serpent': 1, 'Free-form': 1, 'To': 2, 'Advanced': 4, 'C/API': 1, 'MocDown': 2, 'Thanksgiving': 1, 'Computational': 1, 'What': 3, 'Microcontrollers': 1, 'GitHub': 3, 'Natural': 1, 'ORIGEN': 1, 'learning': 2, 'Tidying': 1, 'Pandas': 2, 'Intro': 2, 'Tools': 1, 'High': 1, 'Logging': 1, 'Install': 1, 'Github': 2, 'Data': 5, 'Emailing': 1, 'matplotlib': 1, 'Handling': 1, 'using': 1, 'PARCS': 1, '&': 4, 'to': 3, 'Conversion': 1, 'CUDA': 1, 'Competitions': 1, 'scikit-learn': 3, 'A': 1, 'Processing': 1, 'Editors': 1, 'Make': 1, 'Olympics': 2, 'Source': 1, 'Self': 1, 'Systems': 1, 'II': 2, 'Learner': 1, 'Neural': 1, 'physics)': 1, 'Numpy': 1, 'and': 28, 'D3.js': 1, 'hacking': 1, 'Shiny': 1, 'Software': 1, '(without': 1, 'Julia': 2, 'LaTeX': 3, 'Python': 13, 'Overview': 1, 'When': 1, 'Filesystem': 1, 'Language': 1, '3D': 1, 'Keras.io': 1, 'Raspberry': 1, 'Machine': 3, 'Scraping': 1, 'Testing': 3, 'Orientation': 1, 'Shell': 1, 'Have': 1, 'Want': 1, 'Timeseries': 1, 'For': 1}\n"
     ]
    }
   ],
   "source": [
    "freq_dict = {}\n",
    "\n",
    "for word in words:\n",
    "    freq_dict[word] = freq_dict.get(word, 0) + 1\n",
    "    \n",
    "print(freq_dict)"
   ]
  },
  {
   "cell_type": "code",
   "execution_count": 37,
   "metadata": {
    "collapsed": false,
    "nbpresent": {
     "id": "0bc17912-92c4-4f3b-9098-112800fd7dbc"
    }
   },
   "outputs": [
    {
     "name": "stdout",
     "output_type": "stream",
     "text": [
      "13\n",
      "1\n"
     ]
    }
   ],
   "source": [
    "print(freq_dict['Python'])\n",
    "print(freq_dict['CUDA'])"
   ]
  },
  {
   "cell_type": "markdown",
   "metadata": {
    "collapsed": true,
    "nbpresent": {
     "id": "ed4a0c2f-ee56-4785-a926-a01ba12845ed"
    }
   },
   "source": [
    "Seems to be working. Let's make a function."
   ]
  },
  {
   "cell_type": "code",
   "execution_count": 38,
   "metadata": {
    "collapsed": false,
    "nbpresent": {
     "id": "aa7b6265-1822-42dc-a148-f80a53286c80"
    }
   },
   "outputs": [],
   "source": [
    "def freq(items):\n",
    "    freq_dict = {}\n",
    "    for word in items:\n",
    "        freq_dict[word] = freq_dict.get(word, 0) + 1\n",
    "    return freq_dict"
   ]
  },
  {
   "cell_type": "markdown",
   "metadata": {},
   "source": [
    "The function `freq` is a mapping between a list and a dictionary,\n",
    "\n",
    "where each key of the dictionary (output) is associated with the number of occurances\n",
    "of the key in the list (input)."
   ]
  },
  {
   "cell_type": "code",
   "execution_count": 39,
   "metadata": {
    "collapsed": true
   },
   "outputs": [],
   "source": [
    "freq_dict = freq(words)\n",
    "freq_freq = freq(freq_dict.values()) "
   ]
  },
  {
   "cell_type": "markdown",
   "metadata": {},
   "source": [
    "Q : what is in freq_freq?"
   ]
  },
  {
   "cell_type": "code",
   "execution_count": 40,
   "metadata": {
    "collapsed": false
   },
   "outputs": [
    {
     "name": "stdout",
     "output_type": "stream",
     "text": [
      "{1: 111, 2: 22, 3: 11, 4: 4, 5: 1, 6: 1, 7: 1, 28: 1, 13: 1}\n"
     ]
    }
   ],
   "source": [
    "print(freq_freq)"
   ]
  },
  {
   "cell_type": "markdown",
   "metadata": {},
   "source": [
    "Q: Which is the most frequent word?"
   ]
  },
  {
   "cell_type": "markdown",
   "metadata": {},
   "source": [
    "Answer"
   ]
  },
  {
   "cell_type": "code",
   "execution_count": 41,
   "metadata": {
    "collapsed": false,
    "nbpresent": {
     "id": "0879e39f-c18d-455d-a9f8-46e15c3cdfe1"
    }
   },
   "outputs": [
    {
     "name": "stdout",
     "output_type": "stream",
     "text": [
      "word and freq 28\n"
     ]
    }
   ],
   "source": [
    "top_word = \"\"\n",
    "top_word_freq = 0\n",
    "for word, freq in freq_dict.items():\n",
    "    if freq > top_word_freq:\n",
    "        top_word = word\n",
    "        top_word_freq = freq\n",
    "print('word', top_word, 'freq', top_word_freq)\n"
   ]
  },
  {
   "cell_type": "markdown",
   "metadata": {},
   "source": [
    "Using the `max` function avoids writing an `if`"
   ]
  },
  {
   "cell_type": "code",
   "execution_count": 43,
   "metadata": {
    "collapsed": false,
    "nbpresent": {
     "id": "bd92e4f2-d465-4aad-9c83-6b0fe751b25e"
    }
   },
   "outputs": [
    {
     "name": "stdout",
     "output_type": "stream",
     "text": [
      "(28, 'and')\n"
     ]
    }
   ],
   "source": [
    "most  = (0, None)\n",
    "for word, freq in freq_dict.items():\n",
    "    most = max([most, (freq, word)])\n",
    "    \n",
    "print(most)"
   ]
  },
  {
   "cell_type": "markdown",
   "metadata": {},
   "source": [
    "final challenge: the 1 liner."
   ]
  },
  {
   "cell_type": "code",
   "execution_count": 44,
   "metadata": {
    "collapsed": false
   },
   "outputs": [
    {
     "data": {
      "text/plain": [
       "(28, 'and')"
      ]
     },
     "execution_count": 44,
     "metadata": {},
     "output_type": "execute_result"
    }
   ],
   "source": [
    "next(reversed(sorted((freq, word) for word, freq in freq_dict.items())))"
   ]
  },
  {
   "cell_type": "markdown",
   "metadata": {
    "collapsed": true
   },
   "source": [
    "## Exporting data\n",
    "\n",
    "The world of Python has 4 corners.\n",
    "\n",
    "We need to reach out to other applications.\n",
    "\n",
    "Export the data from Python."
   ]
  },
  {
   "cell_type": "code",
   "execution_count": 45,
   "metadata": {
    "collapsed": true,
    "nbpresent": {
     "id": "f69c10df-e7c8-4b7c-976e-dd2a21341802"
    }
   },
   "outputs": [],
   "source": [
    "def save(filename, freq_dict):\n",
    "    ff = open(filename, 'w')\n",
    "    for word, freq in sorted(freq_dict.items()):\n",
    "        ff.write(\"%s %s\\n\" % (word, freq))\n",
    "    ff.close()"
   ]
  },
  {
   "cell_type": "code",
   "execution_count": 46,
   "metadata": {
    "collapsed": false
   },
   "outputs": [],
   "source": [
    "def save(filename, freq_dict):\n",
    "    with open(filename, 'w') as ff:\n",
    "        for word, freq in sorted(freq_dict.items()):\n",
    "            ff.write(\"%s %s\\n\" % (word, freq))\n"
   ]
  },
  {
   "cell_type": "code",
   "execution_count": 47,
   "metadata": {
    "collapsed": true,
    "nbpresent": {
     "id": "6cc1e1d9-a809-478f-99cd-162a5fc52a86"
    }
   },
   "outputs": [],
   "source": [
    "save(\"freq_dict_thw.txt\", freq_dict)"
   ]
  },
  {
   "cell_type": "code",
   "execution_count": 48,
   "metadata": {
    "collapsed": false,
    "nbpresent": {
     "id": "ce04b477-e389-4fce-98da-1b3e974ed51b"
    }
   },
   "outputs": [
    {
     "name": "stdout",
     "output_type": "stream",
     "text": [
      "& 4\r\n",
      "(Machine) 1\r\n",
      "(without 1\r\n",
      "3 1\r\n",
      "3D 1\r\n",
      "A 1\r\n",
      "Advanced 4\r\n",
      "Architectures 1\r\n",
      "Bash 3\r\n",
      "Build 1\r\n",
      "C++ 1\r\n",
      "C/API 1\r\n",
      "CRAM 1\r\n",
      "CUDA 1\r\n",
      "Can 1\r\n",
      "Code 1\r\n",
      "Competitions 1\r\n",
      "Computational 1\r\n",
      "Computer 1\r\n",
      "Computing 1\r\n",
      "Conversion 1\r\n",
      "Cython 3\r\n",
      "D3.js 1\r\n",
      "Data 5\r\n",
      "Distribution 1\r\n",
      "Do 1\r\n",
      "Documenting 1\r\n",
      "Editors 1\r\n",
      "Emailing 1\r\n",
      "Engineering 1\r\n",
      "Ensemble 1\r\n",
      "Filesystem 1\r\n",
      "For 1\r\n",
      "Free-form 1\r\n",
      "GPUs 2\r\n",
      "Geospatial 1\r\n",
      "Git 7\r\n",
      "GitHub 3\r\n",
      "Github 2\r\n",
      "H2O 1\r\n",
      "HPC 1\r\n",
      "Hacking 1\r\n",
      "Hadoop 1\r\n",
      "Handling 1\r\n",
      "Have 1\r\n",
      "Hierarchy 1\r\n",
      "High 1\r\n",
      "II 2\r\n",
      "IPython 2\r\n",
      "Install 1\r\n",
      "Installation 1\r\n",
      "Intro 2\r\n",
      "Introductory 1\r\n",
      "Jekyll 2\r\n",
      "Julia 2\r\n",
      "Kaggle 1\r\n",
      "Keras.io 1\r\n",
      "LaTeX 3\r\n",
      "Language 1\r\n",
      "Learn 2\r\n",
      "Learner 1\r\n",
      "Learning 2\r\n",
      "Logging 1\r\n",
      "Machine 3\r\n",
      "Make 1\r\n",
      "Makefiles 1\r\n",
      "Matplotlib 2\r\n",
      "Metaprogramming 1\r\n",
      "Microcontrollers 1\r\n",
      "MocDown 2\r\n",
      "Module 1\r\n",
      "NLTK 1\r\n",
      "Natural 1\r\n",
      "Navigating 1\r\n",
      "Networks 1\r\n",
      "Neural 1\r\n",
      "Nuclear 2\r\n",
      "Numpy 1\r\n",
      "ORIGEN 1\r\n",
      "Object 1\r\n",
      "Olympics 2\r\n",
      "Open 1\r\n",
      "Orientation 1\r\n",
      "Overview 1\r\n",
      "PARCS 1\r\n",
      "Packaging 1\r\n",
      "Pages 1\r\n",
      "Pandas 2\r\n",
      "Parallel 1\r\n",
      "Parallelization 2\r\n",
      "Part 2\r\n",
      "Performance 1\r\n",
      "Physical 1\r\n",
      "Pi 1\r\n",
      "Plotting 2\r\n",
      "Processing 1\r\n",
      "Programming 1\r\n",
      "Pyne 1\r\n",
      "Python 13\r\n",
      "RR 4\r\n",
      "RRStudio 1\r\n",
      "RadWatch 1\r\n",
      "Raspberry 1\r\n",
      "Scraping 1\r\n",
      "Seaborn 1\r\n",
      "Self 1\r\n",
      "Serpent 1\r\n",
      "Shell 1\r\n",
      "Shiny 1\r\n",
      "So 1\r\n",
      "Software 1\r\n",
      "Source 1\r\n",
      "Spark 1\r\n",
      "Standard 1\r\n",
      "Super 1\r\n",
      "Survey 1\r\n",
      "Systems 1\r\n",
      "Tableau 1\r\n",
      "Teach 2\r\n",
      "Testing 3\r\n",
      "Text 1\r\n",
      "Thanksgiving 1\r\n",
      "The 4\r\n",
      "Threading 1\r\n",
      "Tidying 1\r\n",
      "Timeseries 1\r\n",
      "To 2\r\n",
      "Tools 1\r\n",
      "UNIX 1\r\n",
      "Vectorization 1\r\n",
      "Visualization 1\r\n",
      "Visualizing 1\r\n",
      "Want 1\r\n",
      "Webscraping 1\r\n",
      "What 3\r\n",
      "When 1\r\n",
      "Where 1\r\n",
      "Wikipedia 1\r\n",
      "You 3\r\n",
      "and 28\r\n",
      "bash 1\r\n",
      "for 2\r\n",
      "hacking 1\r\n",
      "imagemagick 1\r\n",
      "in 3\r\n",
      "learning 2\r\n",
      "matplotlib 1\r\n",
      "physics) 1\r\n",
      "scikit-learn 3\r\n",
      "the 2\r\n",
      "to 3\r\n",
      "using 1\r\n",
      "with 6\r\n"
     ]
    }
   ],
   "source": [
    "!cat freq_dict_thw.txt"
   ]
  },
  {
   "cell_type": "code",
   "execution_count": 49,
   "metadata": {
    "collapsed": false,
    "nbpresent": {
     "id": "8bc721bc-b649-49b7-9639-7d99a6af9a13"
    }
   },
   "outputs": [],
   "source": [
    "save(\"freq_freq_thw.txt\", freq_freq)"
   ]
  },
  {
   "cell_type": "code",
   "execution_count": 50,
   "metadata": {
    "collapsed": false,
    "nbpresent": {
     "id": "19c95f5d-335d-4eba-bb6c-d783c1edd9ac"
    }
   },
   "outputs": [
    {
     "name": "stdout",
     "output_type": "stream",
     "text": [
      "1 111\r\n",
      "2 22\r\n",
      "3 11\r\n",
      "4 4\r\n",
      "5 1\r\n",
      "6 1\r\n",
      "7 1\r\n",
      "13 1\r\n",
      "28 1\r\n"
     ]
    }
   ],
   "source": [
    "!cat freq_freq_thw.txt"
   ]
  },
  {
   "cell_type": "markdown",
   "metadata": {
    "collapsed": true
   },
   "source": [
    "## Reading file in with Pandas"
   ]
  },
  {
   "cell_type": "code",
   "execution_count": 51,
   "metadata": {
    "collapsed": false,
    "nbpresent": {
     "id": "e0a40de1-f07a-4df0-aae0-70c4c0674eb5"
    }
   },
   "outputs": [
    {
     "data": {
      "text/html": [
       "<div>\n",
       "<table border=\"1\" class=\"dataframe\">\n",
       "  <thead>\n",
       "    <tr style=\"text-align: right;\">\n",
       "      <th></th>\n",
       "      <th>1</th>\n",
       "    </tr>\n",
       "    <tr>\n",
       "      <th>0</th>\n",
       "      <th></th>\n",
       "    </tr>\n",
       "  </thead>\n",
       "  <tbody>\n",
       "    <tr>\n",
       "      <th>1</th>\n",
       "      <td>111</td>\n",
       "    </tr>\n",
       "    <tr>\n",
       "      <th>2</th>\n",
       "      <td>22</td>\n",
       "    </tr>\n",
       "    <tr>\n",
       "      <th>3</th>\n",
       "      <td>11</td>\n",
       "    </tr>\n",
       "    <tr>\n",
       "      <th>4</th>\n",
       "      <td>4</td>\n",
       "    </tr>\n",
       "    <tr>\n",
       "      <th>5</th>\n",
       "      <td>1</td>\n",
       "    </tr>\n",
       "    <tr>\n",
       "      <th>6</th>\n",
       "      <td>1</td>\n",
       "    </tr>\n",
       "    <tr>\n",
       "      <th>7</th>\n",
       "      <td>1</td>\n",
       "    </tr>\n",
       "    <tr>\n",
       "      <th>13</th>\n",
       "      <td>1</td>\n",
       "    </tr>\n",
       "    <tr>\n",
       "      <th>28</th>\n",
       "      <td>1</td>\n",
       "    </tr>\n",
       "  </tbody>\n",
       "</table>\n",
       "</div>"
      ],
      "text/plain": [
       "      1\n",
       "0      \n",
       "1   111\n",
       "2    22\n",
       "3    11\n",
       "4     4\n",
       "5     1\n",
       "6     1\n",
       "7     1\n",
       "13    1\n",
       "28    1"
      ]
     },
     "execution_count": 51,
     "metadata": {},
     "output_type": "execute_result"
    }
   ],
   "source": [
    "import pandas as pd\n",
    "dataframe = pd.read_table(\"freq_freq_thw.txt\", sep=' ', header=None, index_col=0)\n",
    "dataframe"
   ]
  },
  {
   "cell_type": "code",
   "execution_count": 52,
   "metadata": {
    "collapsed": false
   },
   "outputs": [],
   "source": [
    "%matplotlib inline"
   ]
  },
  {
   "cell_type": "code",
   "execution_count": 53,
   "metadata": {
    "collapsed": false,
    "nbpresent": {
     "id": "c16d5d10-2c7d-43ac-a391-9739107feb7b"
    }
   },
   "outputs": [
    {
     "data": {
      "text/plain": [
       "<matplotlib.axes._subplots.AxesSubplot at 0x7fddc9cfebe0>"
      ]
     },
     "execution_count": 53,
     "metadata": {},
     "output_type": "execute_result"
    },
    {
     "data": {
      "image/png": "[encoded data removed]",
      "text/plain": [
       "<matplotlib.figure.Figure at 0x7fdde023a358>"
      ]
     },
     "metadata": {},
     "output_type": "display_data"
    }
   ],
   "source": [
    "dataframe.plot(kind='bar')"
   ]
  },
  {
   "cell_type": "code",
   "execution_count": 57,
   "metadata": {
    "collapsed": false
   },
   "outputs": [],
   "source": [
    "import pandas as pd\n",
    "dataframe = pd.read_table(\"freq_dict_thw.txt\", sep=' ', header=None, index_col=0)"
   ]
  },
  {
   "cell_type": "code",
   "execution_count": 56,
   "metadata": {
    "collapsed": false
   },
   "outputs": [
    {
     "data": {
      "text/plain": [
       "<matplotlib.axes._subplots.AxesSubplot at 0x7fddc67522b0>"
      ]
     },
     "execution_count": 56,
     "metadata": {},
     "output_type": "execute_result"
    },
    {
     "data": {
      "image/png": "[encoded data removed]",
      "text/plain": [
       "<matplotlib.figure.Figure at 0x7fddc6741080>"
      ]
     },
     "metadata": {},
     "output_type": "display_data"
    }
   ],
   "source": [
    "dataframe.plot(kind='bar')"
   ]
  },
  {
   "cell_type": "markdown",
   "metadata": {},
   "source": [
    "Well, a busy plot is a busy plot..."
   ]
  },
  {
   "cell_type": "code",
   "execution_count": null,
   "metadata": {
    "collapsed": true
   },
   "outputs": [],
   "source": []
  }
 ],
 "metadata": {
  "anaconda-cloud": {},
  "kernelspec": {
   "display_name": "Python [default]",
   "language": "python",
   "name": "python3"
  },
  "language_info": {
   "codemirror_mode": {
    "name": "ipython",
    "version": 3
   },
   "file_extension": ".py",
   "mimetype": "text/x-python",
   "name": "python",
   "nbconvert_exporter": "python",
   "pygments_lexer": "ipython3",
   "version": "3.5.2"
  },
  "nbpresent": {
   "slides": {
    "2543b137-7344-4067-99d3-e18db820b8e2": {
     "id": "2543b137-7344-4067-99d3-e18db820b8e2",
     "prev": "c3e6b2b8-94a3-4666-b28e-3e7b81e90d30",
     "regions": {
      "30d2edfa-8ede-40a6-ad6a-b4eee16cecbd": {
       "attrs": {
        "height": 0.8,
        "width": 0.8,
        "x": 0.1,
        "y": 0.1
       },
       "content": {
        "cell": "886f64ec-367a-4105-a3cd-4817407ba3d6",
        "part": "whole"
       },
       "id": "30d2edfa-8ede-40a6-ad6a-b4eee16cecbd"
      },
      "8a2520f5-b12b-4540-aeae-13a49a41d3fc": {
       "attrs": {
        "height": 0.4,
        "width": 0.8,
        "x": 0.1,
        "y": 0.5
       },
       "content": {
        "cell": "cc53f6f5-d152-4ef9-a673-525772288c9a",
        "part": "whole"
       },
       "id": "8a2520f5-b12b-4540-aeae-13a49a41d3fc"
      }
     }
    },
    "4a6edd82-6ad6-47fd-8431-a2c181bcad5e": {
     "id": "4a6edd82-6ad6-47fd-8431-a2c181bcad5e",
     "prev": "77f3c642-d11c-4ac9-acee-046f18bed240",
     "regions": {
      "febf51c1-6be0-45f0-9ccf-823d63aafdbb": {
       "attrs": {
        "height": 0.8,
        "width": 0.8,
        "x": 0.1,
        "y": 0.1
       },
       "content": {
        "cell": "c2003199-20d2-46aa-8a12-bfd631c2c63e",
        "part": "whole"
       },
       "id": "febf51c1-6be0-45f0-9ccf-823d63aafdbb"
      }
     }
    },
    "5f30a307-8d67-4009-bc86-e4a8c251f91e": {
     "id": "5f30a307-8d67-4009-bc86-e4a8c251f91e",
     "prev": "72bf696e-af8b-41eb-b9c1-99d961033fba",
     "regions": {
      "0571a6f0-933c-4be8-a400-a37aa3e6aeba": {
       "attrs": {
        "height": 0.4,
        "width": 0.8,
        "x": 0.1,
        "y": 0.5
       },
       "content": {
        "cell": "9281aa94-0810-4477-bc0e-46a314ccadc6",
        "part": "whole"
       },
       "id": "0571a6f0-933c-4be8-a400-a37aa3e6aeba"
      },
      "1135235b-e23c-49ed-9266-b621ef58985e": {
       "attrs": {
        "height": 0.4,
        "width": 0.8,
        "x": 0.1,
        "y": 0.5
       },
       "content": {
        "cell": "badf87a4-8b5f-44d0-b6dd-16c2bf0e94a4",
        "part": "whole"
       },
       "id": "1135235b-e23c-49ed-9266-b621ef58985e"
      },
      "23b898ee-0057-4141-8fb3-6306e9b15105": {
       "attrs": {
        "height": 0.4,
        "width": 0.8,
        "x": 0.1,
        "y": 0.5
       },
       "content": {
        "cell": "9cace105-3647-4e53-bc11-6df15745fe06",
        "part": "whole"
       },
       "id": "23b898ee-0057-4141-8fb3-6306e9b15105"
      },
      "29db0ce3-4e8a-4910-82b3-81b3c6d1b147": {
       "attrs": {
        "height": 0.4,
        "width": 0.8,
        "x": 0.1,
        "y": 0.5
       },
       "content": {
        "cell": "ed4a0c2f-ee56-4785-a926-a01ba12845ed",
        "part": "whole"
       },
       "id": "29db0ce3-4e8a-4910-82b3-81b3c6d1b147"
      },
      "2a24cd13-9dbf-4f1c-8b0e-84311a3b482e": {
       "attrs": {
        "height": 0.4,
        "width": 0.8,
        "x": 0.1,
        "y": 0.5
       },
       "content": {
        "cell": "a3870625-8488-4fbf-bf9c-2d80877d7576",
        "part": "whole"
       },
       "id": "2a24cd13-9dbf-4f1c-8b0e-84311a3b482e"
      },
      "2c1a1285-e425-4fa8-9289-3e47ca32518c": {
       "attrs": {
        "height": 0.4,
        "width": 0.8,
        "x": 0.1,
        "y": 0.5
       },
       "content": {
        "cell": "0d673367-6325-48e3-9947-e9a903785943",
        "part": "whole"
       },
       "id": "2c1a1285-e425-4fa8-9289-3e47ca32518c"
      },
      "2e638f1f-9040-4fa5-8340-a55133013baf": {
       "attrs": {
        "height": 0.4,
        "width": 0.8,
        "x": 0.1,
        "y": 0.5
       },
       "content": {
        "cell": "6cc1e1d9-a809-478f-99cd-162a5fc52a86",
        "part": "whole"
       },
       "id": "2e638f1f-9040-4fa5-8340-a55133013baf"
      },
      "304bdfe7-5c2a-4c3d-b0c1-3a710044b4ae": {
       "attrs": {
        "height": 0.4,
        "width": 0.8,
        "x": 0.1,
        "y": 0.5
       },
       "content": {
        "cell": "a6ead0e8-4caa-4128-8db6-0188adc821e7",
        "part": "whole"
       },
       "id": "304bdfe7-5c2a-4c3d-b0c1-3a710044b4ae"
      },
      "34576cc1-5edc-4b56-8abf-a48d9a02c37a": {
       "attrs": {
        "height": 0.4,
        "width": 0.8,
        "x": 0.1,
        "y": 0.5
       },
       "content": {
        "cell": "ce04b477-e389-4fce-98da-1b3e974ed51b",
        "part": "whole"
       },
       "id": "34576cc1-5edc-4b56-8abf-a48d9a02c37a"
      },
      "3ab5f272-cbdd-4071-9c7c-596bd0e9dc8b": {
       "attrs": {
        "height": 0.4,
        "width": 0.8,
        "x": 0.1,
        "y": 0.5
       },
       "content": {
        "cell": "19c95f5d-335d-4eba-bb6c-d783c1edd9ac",
        "part": "whole"
       },
       "id": "3ab5f272-cbdd-4071-9c7c-596bd0e9dc8b"
      },
      "3c6b2406-303b-4fbb-a6ca-a16b89317fea": {
       "attrs": {
        "height": 0.4,
        "width": 0.8,
        "x": 0.1,
        "y": 0.5
       },
       "content": {
        "cell": "c16d5d10-2c7d-43ac-a391-9739107feb7b",
        "part": "whole"
       },
       "id": "3c6b2406-303b-4fbb-a6ca-a16b89317fea"
      },
      "3e588326-d226-4971-9911-2327cbcdd04e": {
       "attrs": {
        "height": 0.4,
        "width": 0.8,
        "x": 0.1,
        "y": 0.5
       },
       "content": {
        "cell": "ff703fe9-c7d8-4baa-ac86-3d66b56f2f96",
        "part": "whole"
       },
       "id": "3e588326-d226-4971-9911-2327cbcdd04e"
      },
      "3ed0f9e3-7fd6-4881-97cf-8a56f4548e72": {
       "attrs": {
        "height": 0.4,
        "width": 0.8,
        "x": 0.1,
        "y": 0.5
       },
       "content": {
        "cell": "99898f88-aee3-4cf4-b768-2b3751484451",
        "part": "whole"
       },
       "id": "3ed0f9e3-7fd6-4881-97cf-8a56f4548e72"
      },
      "4cfa9305-ba1e-492e-a3d1-d60ff2d20c06": {
       "attrs": {
        "height": 0.4,
        "width": 0.8,
        "x": 0.1,
        "y": 0.5
       },
       "content": {
        "cell": "948fd9d7-fae1-44b1-8ccf-56bd16eb6f1a",
        "part": "whole"
       },
       "id": "4cfa9305-ba1e-492e-a3d1-d60ff2d20c06"
      },
      "5db840a6-6221-4881-9c26-8b4430e4735a": {
       "attrs": {
        "height": 0.4,
        "width": 0.8,
        "x": 0.1,
        "y": 0.5
       },
       "content": {
        "cell": "61650bfb-c29d-4bd2-8388-0065eb686175",
        "part": "whole"
       },
       "id": "5db840a6-6221-4881-9c26-8b4430e4735a"
      },
      "69e1346d-de24-4e21-a72f-6e087018475a": {
       "attrs": {
        "height": 0.4,
        "width": 0.8,
        "x": 0.1,
        "y": 0.5
       },
       "content": {
        "cell": "20831c3a-8448-487a-8238-b07286ea8a72",
        "part": "whole"
       },
       "id": "69e1346d-de24-4e21-a72f-6e087018475a"
      },
      "6a86d687-8fb3-4fb8-8abe-510829aef8f3": {
       "attrs": {
        "height": 0.4,
        "width": 0.8,
        "x": 0.1,
        "y": 0.5
       },
       "content": {
        "cell": "e0a40de1-f07a-4df0-aae0-70c4c0674eb5",
        "part": "whole"
       },
       "id": "6a86d687-8fb3-4fb8-8abe-510829aef8f3"
      },
      "7838060a-ec2b-4235-a412-a2f21569beed": {
       "attrs": {
        "height": 0.4,
        "width": 0.8,
        "x": 0.1,
        "y": 0.5
       },
       "content": {
        "cell": "8bc721bc-b649-49b7-9639-7d99a6af9a13",
        "part": "whole"
       },
       "id": "7838060a-ec2b-4235-a412-a2f21569beed"
      },
      "7caa4649-65b1-453c-8d31-3a79c7c9735e": {
       "attrs": {
        "height": 0.4,
        "width": 0.8,
        "x": 0.1,
        "y": 0.5
       },
       "content": {
        "cell": "01c644f6-ffe7-4689-8e2f-e1266e99a90e",
        "part": "whole"
       },
       "id": "7caa4649-65b1-453c-8d31-3a79c7c9735e"
      },
      "82b28731-248e-41ab-8d9c-36c0e9403284": {
       "attrs": {
        "height": 0.4,
        "width": 0.8,
        "x": 0.1,
        "y": 0.5
       },
       "content": {
        "cell": "6c2107b7-49d0-4a39-9ee2-fdb5775266b2",
        "part": "whole"
       },
       "id": "82b28731-248e-41ab-8d9c-36c0e9403284"
      },
      "8638ddbe-9171-448e-a8de-d724e9d0e35c": {
       "attrs": {
        "height": 0.4,
        "width": 0.8,
        "x": 0.1,
        "y": 0.5
       },
       "content": {
        "cell": "aa7b6265-1822-42dc-a148-f80a53286c80",
        "part": "whole"
       },
       "id": "8638ddbe-9171-448e-a8de-d724e9d0e35c"
      },
      "8d9fe028-5613-4589-8410-1fdb09b778fa": {
       "attrs": {
        "height": 0.4,
        "width": 0.8,
        "x": 0.1,
        "y": 0.5
       },
       "content": {
        "cell": "9e49e927-881e-4b2c-ade2-9fbe7e3dff2f",
        "part": "whole"
       },
       "id": "8d9fe028-5613-4589-8410-1fdb09b778fa"
      },
      "9307bc1a-aeb5-4804-8afa-8b64ed7ad422": {
       "attrs": {
        "height": 0.4,
        "width": 0.8,
        "x": 0.1,
        "y": 0.5
       },
       "content": {
        "cell": "fff55662-9df8-498a-98d8-17f08bc819f7",
        "part": "whole"
       },
       "id": "9307bc1a-aeb5-4804-8afa-8b64ed7ad422"
      },
      "94965f50-14d4-4bbf-acf0-36ea6ae60563": {
       "attrs": {
        "height": 0.4,
        "width": 0.8,
        "x": 0.1,
        "y": 0.5
       },
       "content": {
        "cell": "85687cc8-396a-442f-8b19-053fe4a67149",
        "part": "whole"
       },
       "id": "94965f50-14d4-4bbf-acf0-36ea6ae60563"
      },
      "94aeaa93-28f0-49df-b5c1-227fb14b4b24": {
       "attrs": {
        "height": 0.4,
        "width": 0.8,
        "x": 0.1,
        "y": 0.5
       },
       "content": {
        "cell": "38601141-990c-4fa0-9dfb-39cd9b1d2966",
        "part": "whole"
       },
       "id": "94aeaa93-28f0-49df-b5c1-227fb14b4b24"
      },
      "94b44d91-a8c4-4e78-af4c-cbf4d282b352": {
       "attrs": {
        "height": 0.4,
        "width": 0.8,
        "x": 0.1,
        "y": 0.5
       },
       "content": {
        "cell": "15cebb03-eaed-4a2a-a8ca-691b67f8ab59",
        "part": "whole"
       },
       "id": "94b44d91-a8c4-4e78-af4c-cbf4d282b352"
      },
      "96eceaa1-7548-4e94-b73f-ec8d1fff8411": {
       "attrs": {
        "height": 0.4,
        "width": 0.8,
        "x": 0.1,
        "y": 0.5
       },
       "content": {
        "cell": "94821ee2-fc0f-4462-b7ed-df4ff7d4c79e",
        "part": "whole"
       },
       "id": "96eceaa1-7548-4e94-b73f-ec8d1fff8411"
      },
      "98b97481-669e-45e7-81c5-ed8a8c8c3e9f": {
       "attrs": {
        "height": 0.4,
        "width": 0.8,
        "x": 0.1,
        "y": 0.5
       },
       "content": {
        "cell": "00473c9c-7787-4360-ae15-fdbf6af19a40",
        "part": "whole"
       },
       "id": "98b97481-669e-45e7-81c5-ed8a8c8c3e9f"
      },
      "99384f19-5139-4132-87e5-9c13aeb750b7": {
       "attrs": {
        "height": 0.4,
        "width": 0.8,
        "x": 0.1,
        "y": 0.5
       },
       "content": {
        "cell": "4a394fc1-6fdc-4031-b525-837f4c2a0ab5",
        "part": "whole"
       },
       "id": "99384f19-5139-4132-87e5-9c13aeb750b7"
      },
      "9efab9cf-605e-4db4-ba1a-04b3afb8042c": {
       "attrs": {
        "height": 0.4,
        "width": 0.8,
        "x": 0.1,
        "y": 0.5
       },
       "content": {
        "cell": "93ba27f7-db03-4c8c-9063-96daaf646fca",
        "part": "whole"
       },
       "id": "9efab9cf-605e-4db4-ba1a-04b3afb8042c"
      },
      "9f8b6e1b-17b8-45b0-9c90-09a3e78c338b": {
       "attrs": {
        "height": 0.4,
        "width": 0.8,
        "x": 0.1,
        "y": 0.5
       },
       "content": {
        "cell": "863fc654-ec0f-4be2-9257-f3778ed88ebc",
        "part": "whole"
       },
       "id": "9f8b6e1b-17b8-45b0-9c90-09a3e78c338b"
      },
      "a04751e8-b1eb-4a8b-8055-77815a05367c": {
       "attrs": {
        "height": 0.4,
        "width": 0.8,
        "x": 0.1,
        "y": 0.5
       },
       "content": {
        "cell": "0bc17912-92c4-4f3b-9098-112800fd7dbc",
        "part": "whole"
       },
       "id": "a04751e8-b1eb-4a8b-8055-77815a05367c"
      },
      "a287d159-c839-43c3-88e7-151e4c90b6a7": {
       "attrs": {
        "height": 0.4,
        "width": 0.8,
        "x": 0.1,
        "y": 0.5
       },
       "content": {
        "cell": "e8953e70-3248-499f-b50f-e27ed5ee742e",
        "part": "whole"
       },
       "id": "a287d159-c839-43c3-88e7-151e4c90b6a7"
      },
      "b4c190ed-9abb-41ba-8bb1-18107def4587": {
       "attrs": {
        "height": 0.4,
        "width": 0.8,
        "x": 0.1,
        "y": 0.5
       },
       "content": {
        "cell": "0711d2f0-5d22-4074-bfc8-09926cfc562d",
        "part": "whole"
       },
       "id": "b4c190ed-9abb-41ba-8bb1-18107def4587"
      },
      "b71b0ddd-17d1-4b48-9b0f-f19610d488ff": {
       "attrs": {
        "height": 0.4,
        "width": 0.8,
        "x": 0.1,
        "y": 0.5
       },
       "content": {
        "cell": "f7c847f8-bcd0-44cc-953a-271aa098b1b6",
        "part": "whole"
       },
       "id": "b71b0ddd-17d1-4b48-9b0f-f19610d488ff"
      },
      "b912d7fc-21b5-4dc4-9bb2-bf052aa6a8aa": {
       "attrs": {
        "height": 0.4,
        "width": 0.8,
        "x": 0.1,
        "y": 0.5
       },
       "content": {
        "cell": "f69c10df-e7c8-4b7c-976e-dd2a21341802",
        "part": "whole"
       },
       "id": "b912d7fc-21b5-4dc4-9bb2-bf052aa6a8aa"
      },
      "bb52827f-1bb3-4929-8bf4-551292ffd193": {
       "attrs": {
        "height": 0.4,
        "width": 0.8,
        "x": 0.1,
        "y": 0.5
       },
       "content": {
        "cell": "8526afb4-d201-4eaa-813c-cc2c66a4e14d",
        "part": "whole"
       },
       "id": "bb52827f-1bb3-4929-8bf4-551292ffd193"
      },
      "bc8215ef-496b-46d3-a463-5ea38aca8b61": {
       "attrs": {
        "height": 0.4,
        "width": 0.8,
        "x": 0.1,
        "y": 0.5
       },
       "content": {
        "cell": "ad0ad56d-4644-4112-97a0-0da019762ee8",
        "part": "whole"
       },
       "id": "bc8215ef-496b-46d3-a463-5ea38aca8b61"
      },
      "bdfdd868-00bd-4f5d-8f7e-71879e23ed48": {
       "attrs": {
        "height": 0.4,
        "width": 0.8,
        "x": 0.1,
        "y": 0.5
       },
       "content": {
        "cell": "bd92e4f2-d465-4aad-9c83-6b0fe751b25e",
        "part": "whole"
       },
       "id": "bdfdd868-00bd-4f5d-8f7e-71879e23ed48"
      },
      "c040ca79-362f-4c14-92af-e33b675f6c78": {
       "attrs": {
        "height": 0.4,
        "width": 0.8,
        "x": 0.1,
        "y": 0.5
       },
       "content": {
        "cell": "0879e39f-c18d-455d-a9f8-46e15c3cdfe1",
        "part": "whole"
       },
       "id": "c040ca79-362f-4c14-92af-e33b675f6c78"
      },
      "c12fc501-f6b3-4540-b746-298c7ee9d0f3": {
       "attrs": {
        "height": 0.4,
        "width": 0.8,
        "x": 0.1,
        "y": 0.5
       },
       "content": {
        "cell": "57b9adf1-c28f-4921-ac02-18f354d0fd12",
        "part": "whole"
       },
       "id": "c12fc501-f6b3-4540-b746-298c7ee9d0f3"
      },
      "c3827d5e-2300-44b1-b3cc-57137e38efdf": {
       "attrs": {
        "height": 0.4,
        "width": 0.8,
        "x": 0.1,
        "y": 0.5
       },
       "content": {
        "cell": "356bf503-f691-4d08-a050-b5187694c99c",
        "part": "whole"
       },
       "id": "c3827d5e-2300-44b1-b3cc-57137e38efdf"
      },
      "c59fbf75-7dab-4287-90c2-7e15aae6f051": {
       "attrs": {
        "height": 0.4,
        "width": 0.8,
        "x": 0.1,
        "y": 0.5
       },
       "content": {
        "cell": "f94428fc-833f-4985-9349-b896c115a9ff",
        "part": "whole"
       },
       "id": "c59fbf75-7dab-4287-90c2-7e15aae6f051"
      },
      "ce38ca92-2fc0-4b3f-b6e2-bab6acb9aaee": {
       "attrs": {
        "height": 0.8,
        "width": 0.8,
        "x": 0.1,
        "y": 0.1
       },
       "content": {
        "cell": "73b3a21e-ed31-46c2-bd21-27caeed7454d",
        "part": "whole"
       },
       "id": "ce38ca92-2fc0-4b3f-b6e2-bab6acb9aaee"
      },
      "d4045c4a-6f5a-420c-b6d1-ff220da29bff": {
       "attrs": {
        "height": 0.4,
        "width": 0.8,
        "x": 0.1,
        "y": 0.5
       },
       "content": {
        "cell": "6cc95589-d826-47fe-97b9-d7df107943f2",
        "part": "whole"
       },
       "id": "d4045c4a-6f5a-420c-b6d1-ff220da29bff"
      },
      "dc7cd2a7-0d5f-46dc-9222-dc118395424a": {
       "attrs": {
        "height": 0.4,
        "width": 0.8,
        "x": 0.1,
        "y": 0.5
       },
       "content": {
        "cell": "ff728e94-9d39-4970-8662-42ecfd73cf9a",
        "part": "whole"
       },
       "id": "dc7cd2a7-0d5f-46dc-9222-dc118395424a"
      },
      "dea549f2-e6e0-4a2f-ae1c-7ad068ba9aa1": {
       "attrs": {
        "height": 0.4,
        "width": 0.8,
        "x": 0.1,
        "y": 0.5
       },
       "content": {
        "cell": "532b7b22-037e-47ca-9b71-621eb840201d",
        "part": "whole"
       },
       "id": "dea549f2-e6e0-4a2f-ae1c-7ad068ba9aa1"
      },
      "ea019633-0ae1-4435-9333-c3812dfe1c43": {
       "attrs": {
        "height": 0.4,
        "width": 0.8,
        "x": 0.1,
        "y": 0.5
       },
       "content": {
        "cell": "6221feb9-f120-4349-a5d1-e7f64ed06e5c",
        "part": "whole"
       },
       "id": "ea019633-0ae1-4435-9333-c3812dfe1c43"
      },
      "ecd4e8b0-28ec-4776-9667-91997ab27fc6": {
       "attrs": {
        "height": 0.4,
        "width": 0.8,
        "x": 0.1,
        "y": 0.5
       },
       "content": {
        "cell": "82c51008-91bf-4095-95d1-f2dc70eabd06",
        "part": "whole"
       },
       "id": "ecd4e8b0-28ec-4776-9667-91997ab27fc6"
      },
      "f2aeb1b2-5575-495d-b8f1-c6987588d6d7": {
       "attrs": {
        "height": 0.4,
        "width": 0.8,
        "x": 0.1,
        "y": 0.5
       },
       "content": {
        "cell": "2cbb698a-e989-4e0a-8965-01f1cc3d467e",
        "part": "whole"
       },
       "id": "f2aeb1b2-5575-495d-b8f1-c6987588d6d7"
      },
      "f64f6a54-1e5e-433a-8ce3-1e3bb94caf66": {
       "attrs": {
        "height": 0.4,
        "width": 0.8,
        "x": 0.1,
        "y": 0.5
       },
       "content": {
        "cell": "3c12f9f1-905e-4626-bd2d-dd44d81ee75b",
        "part": "whole"
       },
       "id": "f64f6a54-1e5e-433a-8ce3-1e3bb94caf66"
      }
     }
    },
    "72bf696e-af8b-41eb-b9c1-99d961033fba": {
     "id": "72bf696e-af8b-41eb-b9c1-99d961033fba",
     "prev": "2543b137-7344-4067-99d3-e18db820b8e2",
     "regions": {
      "bb54f22c-4cf4-4bc1-829b-c2428815f55d": {
       "attrs": {
        "height": 0.4,
        "width": 0.8,
        "x": 0.1,
        "y": 0.5
       },
       "content": {
        "cell": "3585fb20-54f7-495c-916a-134f8da42696",
        "part": "whole"
       },
       "id": "bb54f22c-4cf4-4bc1-829b-c2428815f55d"
      },
      "db786b36-e1ae-4fe4-8b8c-65c11b71651f": {
       "attrs": {
        "height": 0.4,
        "width": 0.8,
        "x": 0.1,
        "y": 0.5
       },
       "content": {
        "cell": "7721196a-9d9a-4213-92c2-ff581e230f0c",
        "part": "whole"
       },
       "id": "db786b36-e1ae-4fe4-8b8c-65c11b71651f"
      },
      "e03c8277-d0b7-4d0c-8678-c43dbf25eadb": {
       "attrs": {
        "height": 0.8,
        "width": 0.8,
        "x": 0.1,
        "y": 0.1
       },
       "content": {
        "cell": "36bc894e-3c12-4009-99ca-f3b3cbea39ad",
        "part": "whole"
       },
       "id": "e03c8277-d0b7-4d0c-8678-c43dbf25eadb"
      }
     }
    },
    "77f3c642-d11c-4ac9-acee-046f18bed240": {
     "id": "77f3c642-d11c-4ac9-acee-046f18bed240",
     "prev": "d93c8fe8-ee80-4b23-a996-cd67a2c1128b",
     "regions": {
      "e577d16a-d965-48d9-a552-4fc3068c4196": {
       "attrs": {
        "height": 0.8,
        "width": 0.8,
        "x": 0.1,
        "y": 0.1
       },
       "content": {
        "cell": "4dc11fed-7531-49b4-a170-b418f70ca57f",
        "part": "whole"
       },
       "id": "e577d16a-d965-48d9-a552-4fc3068c4196"
      }
     }
    },
    "c3e6b2b8-94a3-4666-b28e-3e7b81e90d30": {
     "id": "c3e6b2b8-94a3-4666-b28e-3e7b81e90d30",
     "prev": "4a6edd82-6ad6-47fd-8431-a2c181bcad5e",
     "regions": {
      "910d7597-cc58-4c7a-a92c-11eaf63ea4c3": {
       "attrs": {
        "height": 0.8,
        "width": 0.8,
        "x": 0.1,
        "y": 0.1
       },
       "content": {
        "cell": "1d10d6df-85b4-4a17-8b78-7bb720b4b8af",
        "part": "whole"
       },
       "id": "910d7597-cc58-4c7a-a92c-11eaf63ea4c3"
      }
     }
    },
    "d93c8fe8-ee80-4b23-a996-cd67a2c1128b": {
     "id": "d93c8fe8-ee80-4b23-a996-cd67a2c1128b",
     "prev": null,
     "regions": {
      "607203e8-03a9-4747-b3f4-b822f3ee9db6": {
       "attrs": {
        "height": 0.8,
        "width": 0.8,
        "x": 0.1,
        "y": 0.1
       },
       "content": {
        "cell": "6a858bf9-4694-40c1-97f9-c38d593ec2a6",
        "part": "whole"
       },
       "id": "607203e8-03a9-4747-b3f4-b822f3ee9db6"
      }
     }
    }
   },
   "themes": {}
  }
 },
 "nbformat": 4,
 "nbformat_minor": 2
}
