{
 "cells": [
  {
   "cell_type": "markdown",
   "metadata": {},
   "source": [
    "# Intro to Python!\n",
    "\n",
    "Stuart Geiger and Yu Feng for The Hacker Within"
   ]
  },
  {
   "cell_type": "markdown",
   "metadata": {},
   "source": [
    "# Contents \n",
    "\n",
    "## 1. Installing Python\n",
    "\n",
    "\n",
    "## 2. The Language\n",
    "\n",
    "- Expressions\n",
    "\n",
    "- List, Tuple and Dictionary\n",
    "\n",
    "- Strings\n",
    "\n",
    "- Functions\n",
    "\n",
    "## 3. Example: Word Frequency Analysis with Python\n",
    "\n",
    "- Reading text files\n",
    "\n",
    "- Geting and using python packages : wordcloud\n",
    "\n",
    "- Histograms\n",
    "\n",
    "- Exporting data as text files\n"
   ]
  },
  {
   "cell_type": "markdown",
   "metadata": {},
   "source": [
    "## 1. Installing Python:\n",
    "    \n",
    "  - Easy way : with a Python distribution, anaconda: https://www.continuum.io/downloads\n",
    "    \n",
    "  - Hard way : install python and all dependencies yourself\n",
    "  \n",
    "  - Super hard way : compile everything from scratch\n",
    "  \n",
    "    \n",
    "\n",
    "### Three Python user interfaces\n",
    "\n",
    "#### Python Shell `python`\n",
    "  \n",
    "    ```\n",
    "        [yfeng1@waterfall ~]$ python\n",
    "        Python 2.7.12 (default, Sep 29 2016, 13:30:34) \n",
    "        [GCC 6.2.1 20160916 (Red Hat 6.2.1-2)] on linux2\n",
    "        Type \"help\", \"copyright\", \"credits\" or \"license\" for more information.\n",
    "        >>> \n",
    "    ```\n",
    "  \n",
    "#### Jupyter Notebook (in a browser, like this)\n",
    "  \n",
    "#### IDEs: PyCharm, Spyder, etc.\n",
    "  \n",
    "  We use Jupyter Notebook here.\n",
    "  \n",
    "  Jupyter Notebook is included in the Anaconda distribution.\n",
    "  \n",
    "  "
   ]
  },
  {
   "cell_type": "markdown",
   "metadata": {},
   "source": [
    "# Expressions"
   ]
  },
  {
   "cell_type": "code",
   "execution_count": 1,
   "metadata": {
    "collapsed": false
   },
   "outputs": [
    {
     "data": {
      "text/plain": [
       "5"
      ]
     },
     "execution_count": 1,
     "metadata": {},
     "output_type": "execute_result"
    }
   ],
   "source": [
    "2 + 3"
   ]
  },
  {
   "cell_type": "code",
   "execution_count": 2,
   "metadata": {
    "collapsed": false
   },
   "outputs": [
    {
     "data": {
      "text/plain": [
       "0.6666666666666666"
      ]
     },
     "execution_count": 2,
     "metadata": {},
     "output_type": "execute_result"
    }
   ],
   "source": [
    "2 / 3"
   ]
  },
  {
   "cell_type": "code",
   "execution_count": 3,
   "metadata": {
    "collapsed": false
   },
   "outputs": [
    {
     "data": {
      "text/plain": [
       "6"
      ]
     },
     "execution_count": 3,
     "metadata": {},
     "output_type": "execute_result"
    }
   ],
   "source": [
    "2 * 3"
   ]
  },
  {
   "cell_type": "code",
   "execution_count": 4,
   "metadata": {
    "collapsed": false
   },
   "outputs": [
    {
     "data": {
      "text/plain": [
       "8"
      ]
     },
     "execution_count": 4,
     "metadata": {},
     "output_type": "execute_result"
    }
   ],
   "source": [
    "2 ** 3"
   ]
  },
  {
   "cell_type": "markdown",
   "metadata": {},
   "source": [
    "# Variables"
   ]
  },
  {
   "cell_type": "code",
   "execution_count": 5,
   "metadata": {
    "collapsed": false
   },
   "outputs": [],
   "source": [
    "num = 2 ** 3"
   ]
  },
  {
   "cell_type": "code",
   "execution_count": 6,
   "metadata": {
    "collapsed": false
   },
   "outputs": [
    {
     "name": "stdout",
     "output_type": "stream",
     "text": [
      "8\n"
     ]
    }
   ],
   "source": [
    "print(num)"
   ]
  },
  {
   "cell_type": "code",
   "execution_count": 7,
   "metadata": {
    "collapsed": false
   },
   "outputs": [
    {
     "data": {
      "text/plain": [
       "8"
      ]
     },
     "execution_count": 7,
     "metadata": {},
     "output_type": "execute_result"
    }
   ],
   "source": [
    "num"
   ]
  },
  {
   "cell_type": "code",
   "execution_count": 8,
   "metadata": {
    "collapsed": false
   },
   "outputs": [
    {
     "data": {
      "text/plain": [
       "int"
      ]
     },
     "execution_count": 8,
     "metadata": {},
     "output_type": "execute_result"
    }
   ],
   "source": [
    "type(num)"
   ]
  },
  {
   "cell_type": "code",
   "execution_count": 9,
   "metadata": {
    "collapsed": true
   },
   "outputs": [],
   "source": [
    "name = \"The Hacker Within\""
   ]
  },
  {
   "cell_type": "code",
   "execution_count": 10,
   "metadata": {
    "collapsed": false
   },
   "outputs": [
    {
     "data": {
      "text/plain": [
       "str"
      ]
     },
     "execution_count": 10,
     "metadata": {},
     "output_type": "execute_result"
    }
   ],
   "source": [
    "type(name)"
   ]
  },
  {
   "cell_type": "code",
   "execution_count": 11,
   "metadata": {
    "collapsed": false
   },
   "outputs": [
    {
     "ename": "TypeError",
     "evalue": "Can't convert 'int' object to str implicitly",
     "output_type": "error",
     "traceback": [
      "\u001b[1;31m---------------------------------------------------------------------------\u001b[0m",
      "\u001b[1;31mTypeError\u001b[0m                                 Traceback (most recent call last)",
      "\u001b[1;32m<ipython-input-11-63a7ef3a1717>\u001b[0m in \u001b[0;36m<module>\u001b[1;34m()\u001b[0m\n\u001b[1;32m----> 1\u001b[1;33m \u001b[0mname\u001b[0m \u001b[1;33m+\u001b[0m \u001b[1;36m8\u001b[0m\u001b[1;33m\u001b[0m\u001b[0m\n\u001b[0m",
      "\u001b[1;31mTypeError\u001b[0m: Can't convert 'int' object to str implicitly"
     ]
    }
   ],
   "source": [
    "name + 8"
   ]
  },
  {
   "cell_type": "code",
   "execution_count": 12,
   "metadata": {
    "collapsed": false
   },
   "outputs": [
    {
     "data": {
      "text/plain": [
       "'The Hacker Within8'"
      ]
     },
     "execution_count": 12,
     "metadata": {},
     "output_type": "execute_result"
    }
   ],
   "source": [
    "name + str(8)"
   ]
  },
  {
   "cell_type": "markdown",
   "metadata": {},
   "source": [
    "# Lists"
   ]
  },
  {
   "cell_type": "code",
   "execution_count": 13,
   "metadata": {
    "collapsed": true
   },
   "outputs": [],
   "source": [
    "num_list = [0,1,2,3,4,5,6,7,8]"
   ]
  },
  {
   "cell_type": "code",
   "execution_count": 14,
   "metadata": {
    "collapsed": false
   },
   "outputs": [
    {
     "name": "stdout",
     "output_type": "stream",
     "text": [
      "[0, 1, 2, 3, 4, 5, 6, 7, 8]\n"
     ]
    }
   ],
   "source": [
    "print(num_list)"
   ]
  },
  {
   "cell_type": "code",
   "execution_count": 15,
   "metadata": {
    "collapsed": false
   },
   "outputs": [
    {
     "data": {
      "text/plain": [
       "list"
      ]
     },
     "execution_count": 15,
     "metadata": {},
     "output_type": "execute_result"
    }
   ],
   "source": [
    "type(num_list)"
   ]
  },
  {
   "cell_type": "code",
   "execution_count": 16,
   "metadata": {
    "collapsed": false
   },
   "outputs": [
    {
     "data": {
      "text/plain": [
       "3"
      ]
     },
     "execution_count": 16,
     "metadata": {},
     "output_type": "execute_result"
    }
   ],
   "source": [
    "num_list[3]"
   ]
  },
  {
   "cell_type": "code",
   "execution_count": 17,
   "metadata": {
    "collapsed": true
   },
   "outputs": [],
   "source": [
    "num_list[3] = 10"
   ]
  },
  {
   "cell_type": "code",
   "execution_count": 18,
   "metadata": {
    "collapsed": false
   },
   "outputs": [
    {
     "name": "stdout",
     "output_type": "stream",
     "text": [
      "[0, 1, 2, 10, 4, 5, 6, 7, 8]\n"
     ]
    }
   ],
   "source": [
    "print(num_list)"
   ]
  },
  {
   "cell_type": "markdown",
   "metadata": {},
   "source": [
    "Appending new items to a list"
   ]
  },
  {
   "cell_type": "code",
   "execution_count": 19,
   "metadata": {
    "collapsed": false
   },
   "outputs": [],
   "source": [
    "num_list.append(3)"
   ]
  },
  {
   "cell_type": "code",
   "execution_count": 20,
   "metadata": {
    "collapsed": false
   },
   "outputs": [
    {
     "name": "stdout",
     "output_type": "stream",
     "text": [
      "[0, 1, 2, 10, 4, 5, 6, 7, 8, 3]\n"
     ]
    }
   ],
   "source": [
    "print(num_list)"
   ]
  },
  {
   "cell_type": "markdown",
   "metadata": {},
   "source": [
    "# Loops and iteration"
   ]
  },
  {
   "cell_type": "code",
   "execution_count": 21,
   "metadata": {
    "collapsed": false
   },
   "outputs": [
    {
     "name": "stdout",
     "output_type": "stream",
     "text": [
      "0\n",
      "1\n",
      "2\n",
      "10\n",
      "4\n",
      "5\n",
      "6\n",
      "7\n",
      "8\n",
      "3\n"
     ]
    }
   ],
   "source": [
    "for num in num_list:\n",
    "    print(num)"
   ]
  },
  {
   "cell_type": "code",
   "execution_count": 22,
   "metadata": {
    "collapsed": false
   },
   "outputs": [
    {
     "name": "stdout",
     "output_type": "stream",
     "text": [
      "0 0\n",
      "1 1\n",
      "2 4\n",
      "10 100\n",
      "4 16\n",
      "5 25\n",
      "6 36\n",
      "7 49\n",
      "8 64\n",
      "3 9\n"
     ]
    }
   ],
   "source": [
    "for num in num_list:\n",
    "    print(num, num * num)"
   ]
  },
  {
   "cell_type": "code",
   "execution_count": 23,
   "metadata": {
    "collapsed": true
   },
   "outputs": [],
   "source": [
    "num_list.append(\"LOL\")"
   ]
  },
  {
   "cell_type": "code",
   "execution_count": 24,
   "metadata": {
    "collapsed": false
   },
   "outputs": [
    {
     "name": "stdout",
     "output_type": "stream",
     "text": [
      "[0, 1, 2, 10, 4, 5, 6, 7, 8, 3, 'LOL']\n"
     ]
    }
   ],
   "source": [
    "print(num_list)"
   ]
  },
  {
   "cell_type": "markdown",
   "metadata": {},
   "source": [
    "## If / else conditionals"
   ]
  },
  {
   "cell_type": "code",
   "execution_count": 25,
   "metadata": {
    "collapsed": false
   },
   "outputs": [
    {
     "name": "stdout",
     "output_type": "stream",
     "text": [
      "0 0\n",
      "1 1\n",
      "2 4\n",
      "10 100\n",
      "4 16\n",
      "5 25\n",
      "6 36\n",
      "7 49\n",
      "8 64\n",
      "3 9\n",
      "ERROR! LOL is not an int\n"
     ]
    }
   ],
   "source": [
    "for num in num_list:\n",
    "    if type(num) is int or type(num) is float:\n",
    "        print(num, num * num)\n",
    "    else:\n",
    "        print(\"ERROR!\", num, \"is not an int\")"
   ]
  },
  {
   "cell_type": "markdown",
   "metadata": {},
   "source": [
    "## Functions"
   ]
  },
  {
   "cell_type": "code",
   "execution_count": 26,
   "metadata": {
    "collapsed": true
   },
   "outputs": [],
   "source": [
    "def process_list(input_list):\n",
    "    for num in input_list:\n",
    "        if type(num) is int or type(num) is float:\n",
    "            print(num, num * num)\n",
    "        else:\n",
    "            print(\"ERROR!\", num, \"is not an int\")"
   ]
  },
  {
   "cell_type": "code",
   "execution_count": 27,
   "metadata": {
    "collapsed": false
   },
   "outputs": [
    {
     "name": "stdout",
     "output_type": "stream",
     "text": [
      "0 0\n",
      "1 1\n",
      "2 4\n",
      "10 100\n",
      "4 16\n",
      "5 25\n",
      "6 36\n",
      "7 49\n",
      "8 64\n",
      "3 9\n",
      "ERROR! LOL is not an int\n"
     ]
    }
   ],
   "source": [
    "process_list(num_list)"
   ]
  },
  {
   "cell_type": "code",
   "execution_count": 28,
   "metadata": {
    "collapsed": false
   },
   "outputs": [
    {
     "name": "stdout",
     "output_type": "stream",
     "text": [
      "1 1\n",
      "3 9\n",
      "4 16\n",
      "14 196\n",
      "1 1\n",
      "9 81\n"
     ]
    }
   ],
   "source": [
    "process_list([1,3,4,14,1,9])"
   ]
  },
  {
   "cell_type": "markdown",
   "metadata": {},
   "source": [
    "## Dictionaries\n",
    "\n",
    "Store a key : value relationship"
   ]
  },
  {
   "cell_type": "code",
   "execution_count": 29,
   "metadata": {
    "collapsed": false
   },
   "outputs": [
    {
     "name": "stdout",
     "output_type": "stream",
     "text": [
      "{2001: 10, 2002: 14, 2003: 18, 2004: 20}\n"
     ]
    }
   ],
   "source": [
    "yearly_value = {2001: 10, 2002: 14, 2003: 18, 2004: 20}\n",
    "print(yearly_value)"
   ]
  },
  {
   "cell_type": "code",
   "execution_count": 30,
   "metadata": {
    "collapsed": true
   },
   "outputs": [],
   "source": [
    "yearly_value = {}\n",
    "\n",
    "yearly_value[2001] = 10\n",
    "yearly_value[2002] = 14\n",
    "yearly_value[2003] = 18\n",
    "yearly_value[2004] = 20"
   ]
  },
  {
   "cell_type": "code",
   "execution_count": 31,
   "metadata": {
    "collapsed": false
   },
   "outputs": [
    {
     "name": "stdout",
     "output_type": "stream",
     "text": [
      "{2001: 10, 2002: 14, 2003: 18, 2004: 20}\n"
     ]
    }
   ],
   "source": [
    "print(yearly_value)"
   ]
  },
  {
   "cell_type": "code",
   "execution_count": 32,
   "metadata": {
    "collapsed": false
   },
   "outputs": [
    {
     "data": {
      "text/plain": [
       "10"
      ]
     },
     "execution_count": 32,
     "metadata": {},
     "output_type": "execute_result"
    }
   ],
   "source": [
    "yearly_value.pop(2001)"
   ]
  },
  {
   "cell_type": "code",
   "execution_count": 33,
   "metadata": {
    "collapsed": false
   },
   "outputs": [
    {
     "data": {
      "text/plain": [
       "{2002: 14, 2003: 18, 2004: 20}"
      ]
     },
     "execution_count": 33,
     "metadata": {},
     "output_type": "execute_result"
    }
   ],
   "source": [
    "yearly_value"
   ]
  },
  {
   "cell_type": "code",
   "execution_count": 34,
   "metadata": {
    "collapsed": true
   },
   "outputs": [],
   "source": [
    "yearly_value[2001] = 10213"
   ]
  },
  {
   "cell_type": "markdown",
   "metadata": {},
   "source": [
    "You can iterate through dictionaries too:"
   ]
  },
  {
   "cell_type": "code",
   "execution_count": 35,
   "metadata": {
    "collapsed": false
   },
   "outputs": [
    {
     "name": "stdout",
     "output_type": "stream",
     "text": [
      "2001 10213\n",
      "2002 14\n",
      "2003 18\n",
      "2004 20\n"
     ]
    }
   ],
   "source": [
    "for key, value in yearly_value.items():\n",
    "    print(key, value)"
   ]
  },
  {
   "cell_type": "code",
   "execution_count": 36,
   "metadata": {
    "collapsed": false
   },
   "outputs": [
    {
     "name": "stdout",
     "output_type": "stream",
     "text": [
      "2001 10723.65\n",
      "2002 14.700000000000001\n",
      "2003 18.900000000000002\n",
      "2004 21.0\n"
     ]
    }
   ],
   "source": [
    "for key, value in yearly_value.items():\n",
    "    print(key, value * 1.05)"
   ]
  },
  {
   "cell_type": "markdown",
   "metadata": {},
   "source": [
    "# Strings\n",
    "\n",
    "We have seen strings a few times.\n",
    "\n",
    "String literals can be defined with single or double quotation marks. Triple quotes allow multi-line strings."
   ]
  },
  {
   "cell_type": "code",
   "execution_count": 37,
   "metadata": {
    "collapsed": true
   },
   "outputs": [],
   "source": [
    "name = \"the hacker within\""
   ]
  },
  {
   "cell_type": "code",
   "execution_count": 38,
   "metadata": {
    "collapsed": true
   },
   "outputs": [],
   "source": [
    "name_long = \"\"\"\n",
    "~*~*~*~*~*~*~*~*~*~*~\n",
    "THE HACKER WITHIN\n",
    "~*~*~*~*~*~*~*~*~*~*~\n",
    "\"\"\""
   ]
  },
  {
   "cell_type": "code",
   "execution_count": 39,
   "metadata": {
    "collapsed": false
   },
   "outputs": [
    {
     "name": "stdout",
     "output_type": "stream",
     "text": [
      "the hacker within\n"
     ]
    }
   ],
   "source": [
    "print(name)"
   ]
  },
  {
   "cell_type": "code",
   "execution_count": 40,
   "metadata": {
    "collapsed": false
   },
   "outputs": [
    {
     "name": "stdout",
     "output_type": "stream",
     "text": [
      "\n",
      "~*~*~*~*~*~*~*~*~*~*~\n",
      "THE HACKER WITHIN\n",
      "~*~*~*~*~*~*~*~*~*~*~\n",
      "\n"
     ]
    }
   ],
   "source": [
    "print(name_long)"
   ]
  },
  {
   "cell_type": "markdown",
   "metadata": {},
   "source": [
    "Strings have many built in methods:"
   ]
  },
  {
   "cell_type": "code",
   "execution_count": 41,
   "metadata": {
    "collapsed": false
   },
   "outputs": [
    {
     "name": "stdout",
     "output_type": "stream",
     "text": [
      "THE HACKER WITHIN\n",
      "['the', 'hacker', 'within']\n",
      "['THE', 'HACKER', 'WITHIN']\n"
     ]
    }
   ],
   "source": [
    "print(name.upper())\n",
    "print(name.split())\n",
    "print(name.upper().split())"
   ]
  },
  {
   "cell_type": "markdown",
   "metadata": {},
   "source": [
    "Strings are also a kind of list, and substrings can be accessed with string[start,end]"
   ]
  },
  {
   "cell_type": "code",
   "execution_count": 42,
   "metadata": {
    "collapsed": false
   },
   "outputs": [
    {
     "name": "stdout",
     "output_type": "stream",
     "text": [
      "hacker\n",
      "hacker within\n",
      "the \n"
     ]
    }
   ],
   "source": [
    "print(name[4:10])\n",
    "print(name[4:])\n",
    "print(name[:4])"
   ]
  },
  {
   "cell_type": "code",
   "execution_count": 43,
   "metadata": {
    "collapsed": false
   },
   "outputs": [
    {
     "name": "stdout",
     "output_type": "stream",
     "text": [
      "0 t\n",
      "1 h\n",
      "2 e\n",
      "3  \n",
      "4 h\n",
      "5 a\n",
      "6 c\n",
      "7 k\n",
      "8 e\n",
      "9 r\n",
      "10  \n",
      "11 w\n",
      "12 i\n",
      "13 t\n",
      "14 h\n",
      "15 i\n",
      "16 n\n"
     ]
    }
   ],
   "source": [
    "count = 0\n",
    "for character in name:\n",
    "    print(count, character)\n",
    "    count = count + 1"
   ]
  },
  {
   "cell_type": "code",
   "execution_count": 44,
   "metadata": {
    "collapsed": false
   },
   "outputs": [
    {
     "name": "stdout",
     "output_type": "stream",
     "text": [
      "4\n",
      "hacker within\n"
     ]
    }
   ],
   "source": [
    "print(name.find('hacker'))\n",
    "print(name[name.find('hacker'):])"
   ]
  },
  {
   "cell_type": "markdown",
   "metadata": {},
   "source": [
    "# Functions"
   ]
  },
  {
   "cell_type": "code",
   "execution_count": 45,
   "metadata": {
    "collapsed": true
   },
   "outputs": [],
   "source": [
    "def square_num(num):\n",
    "    return num * num"
   ]
  },
  {
   "cell_type": "code",
   "execution_count": 46,
   "metadata": {
    "collapsed": false
   },
   "outputs": [
    {
     "name": "stdout",
     "output_type": "stream",
     "text": [
      "100\n",
      "82.80999999999999\n",
      "10000\n"
     ]
    }
   ],
   "source": [
    "print(square_num(10))\n",
    "print(square_num(9.1))\n",
    "print(square_num(square_num(10)))"
   ]
  },
  {
   "cell_type": "code",
   "execution_count": 47,
   "metadata": {
    "collapsed": true
   },
   "outputs": [],
   "source": [
    "def yearly_adjustment(yearly_dict, adjustment):\n",
    "    for key, value in yearly_dict.items():\n",
    "        print(key, value * adjustment)"
   ]
  },
  {
   "cell_type": "code",
   "execution_count": 48,
   "metadata": {
    "collapsed": false
   },
   "outputs": [
    {
     "name": "stdout",
     "output_type": "stream",
     "text": [
      "2001 10723.65\n",
      "2002 14.700000000000001\n",
      "2003 18.900000000000002\n",
      "2004 21.0\n"
     ]
    }
   ],
   "source": [
    "yearly_adjustment(yearly_value, 1.05)"
   ]
  },
  {
   "cell_type": "markdown",
   "metadata": {},
   "source": [
    "We can expand on this a bit, adding some features:"
   ]
  },
  {
   "cell_type": "code",
   "execution_count": 49,
   "metadata": {
    "collapsed": true
   },
   "outputs": [],
   "source": [
    "def yearly_adjustment(yearly_dict, adjustment, print_values = False):\n",
    "    adjusted_dict = {}\n",
    "    for key, value in yearly_value.items():\n",
    "        if print_values is True:\n",
    "            print(key, value * adjustment)\n",
    "        adjusted_dict[key] = value * adjustment\n",
    "        \n",
    "    return adjusted_dict"
   ]
  },
  {
   "cell_type": "code",
   "execution_count": 50,
   "metadata": {
    "collapsed": false
   },
   "outputs": [],
   "source": [
    "adjusted_yearly = yearly_adjustment(yearly_value, 1.05)"
   ]
  },
  {
   "cell_type": "code",
   "execution_count": 51,
   "metadata": {
    "collapsed": false
   },
   "outputs": [
    {
     "name": "stdout",
     "output_type": "stream",
     "text": [
      "2001 10723.65\n",
      "2002 14.700000000000001\n",
      "2003 18.900000000000002\n",
      "2004 21.0\n"
     ]
    }
   ],
   "source": [
    "adjusted_yearly = yearly_adjustment(yearly_value, 1.05, print_values = True)"
   ]
  },
  {
   "cell_type": "code",
   "execution_count": 52,
   "metadata": {
    "collapsed": false
   },
   "outputs": [
    {
     "data": {
      "text/plain": [
       "{2001: 10723.65,\n",
       " 2002: 14.700000000000001,\n",
       " 2003: 18.900000000000002,\n",
       " 2004: 21.0}"
      ]
     },
     "execution_count": 52,
     "metadata": {},
     "output_type": "execute_result"
    }
   ],
   "source": [
    "adjusted_yearly"
   ]
  },
  {
   "cell_type": "markdown",
   "metadata": {},
   "source": [
    "# Example: word counts\n",
    "\n",
    "If you begin a line in a notebook cell with ```!```, it will execute a bash command as if you typed it in the terminal. We will use this to download a list of previous THW topics with the curl program."
   ]
  },
  {
   "cell_type": "code",
   "execution_count": 53,
   "metadata": {
    "collapsed": false
   },
   "outputs": [
    {
     "name": "stdout",
     "output_type": "stream",
     "text": [
      "  % Total    % Received % Xferd  Average Speed   Time    Time     Time  Current\n",
      "                                 Dload  Upload   Total   Spent    Left  Speed\n",
      "100  1862  100  1862    0     0  10822      0 --:--:-- --:--:-- --:--:-- 11284\n"
     ]
    }
   ],
   "source": [
    "!curl -o thw.txt http://stuartgeiger.com/thw.txt\n",
    "\n",
    "# and that's how it works, that's how you get to curl\n"
   ]
  },
  {
   "cell_type": "code",
   "execution_count": 54,
   "metadata": {
    "collapsed": false
   },
   "outputs": [],
   "source": [
    "with open('thw.txt') as f:\n",
    "    text = f.read()"
   ]
  },
  {
   "cell_type": "code",
   "execution_count": 55,
   "metadata": {
    "collapsed": false
   },
   "outputs": [
    {
     "data": {
      "text/plain": [
       "'Navigating bash and UNIX\\nMachine learning with Neural Networks using Keras.io\\nGit and GitHub\\nData Tidying in RR & Python\\nEnsemble (Machine) Learning with Super Learner and H2O in RR \\nRRStudio \\nThanksgiving \\nMachine learning with scikit-learn\\nMatplotlib \\nPhysical Computing \\nThe Python Olympics \\nParallelization in Python \\nNatural Language Processing for Python with NLTK \\nGit and Github \\nGithub Pages and Jekyll \\nMachine Learning for Kaggle Competitions with RR \\nThe Bash Olympics \\nWhat To Learn and Teach \\nD3.js \\nTableau \\nBuild Systems \\nCython \\nPython For Plotting Timeseries & 3D Data \\nmatplotlib \\nHandling and Visualizing Geospatial Data \\nPython Metaprogramming & Conversion to Python 3 \\nJulia \\nScraping Wikipedia Data \\nPandas \\nLaTeX \\nHigh Performance Python \\nscikit-learn\\nscikit-learn\\nAdvanced Python \\nGPUs and Parallelization \\nWebscraping \\nFree-form hacking\\nPandas \\nSpark and Hadoop \\nVisualization \\nAdvanced Git and GitHub \\nIntroductory Git and GitHub \\nShiny \\nMake \\nC++ and Object Orientation \\nMicrocontrollers \\nJulia \\nRR \\nComputer Architectures \\nTesting \\nMatplotlib and Seaborn \\nIPython \\nAdvanced Git \\nText Editors \\nParallel Programming \\nThe Shell and The Filesystem Hierarchy Standard \\nWhat Do You Want To Learn and What Can You Teach \\nNuclear Data and Advanced Cython \\nORIGEN and Open Source\\nCython and the Python C/API \\nJekyll \\nMocDown and Pyne Install \\nMocDown and Python Threading \\nNumpy Vectorization and Python Logging \\nHPC Module Installation and Plotting Tools \\nPARCS and RadWatch (without the physics) \\nWhen and Where Survey\\nSerpent and LaTeX \\nCRAM and imagemagick \\nComputational Nuclear Engineering Overview & Bash \\nLaTeX \\nSo You Have A Software\\nPackaging and Distribution \\nEmailing with Python \\nRaspberry Pi Hacking \\nTesting Part II \\nTesting \\nIPython \\nMakefiles \\nSelf Documenting Code \\nIntro to Git Part II \\nIntro to Git \\nGPUs and CUDA \\nBash  \\n'"
      ]
     },
     "execution_count": 55,
     "metadata": {},
     "output_type": "execute_result"
    }
   ],
   "source": [
    "text"
   ]
  },
  {
   "cell_type": "code",
   "execution_count": 56,
   "metadata": {
    "collapsed": true
   },
   "outputs": [],
   "source": [
    "words = text.split()\n",
    "lines = text.split(\"\\n\")"
   ]
  },
  {
   "cell_type": "code",
   "execution_count": 57,
   "metadata": {
    "collapsed": false
   },
   "outputs": [
    {
     "data": {
      "text/plain": [
       "['Navigating bash and UNIX',\n",
       " 'Machine learning with Neural Networks using Keras.io',\n",
       " 'Git and GitHub',\n",
       " 'Data Tidying in RR & Python',\n",
       " 'Ensemble (Machine) Learning with Super Learner and H2O in RR ']"
      ]
     },
     "execution_count": 57,
     "metadata": {},
     "output_type": "execute_result"
    }
   ],
   "source": [
    "lines[0:5]"
   ]
  },
  {
   "cell_type": "markdown",
   "metadata": {},
   "source": [
    "But there is an error! R always appears as \"RR\" -- so we will replace \"RR\" with \"R\""
   ]
  },
  {
   "cell_type": "code",
   "execution_count": 58,
   "metadata": {
    "collapsed": false
   },
   "outputs": [
    {
     "data": {
      "text/plain": [
       "'Navigating bash and UNIX\\nMachine learning with Neural Networks using Keras.io\\nGit and GitHub\\nData Tidying in R & Python\\nEnsemble (Machine) Learning with Super Learner and H2O in R \\nRStudio \\nThanksgiving \\nMachine learning with scikit-learn\\nMatplotlib \\nPhysical Computing \\nThe Python Olympics \\nParallelization in Python \\nNatural Language Processing for Python with NLTK \\nGit and Github \\nGithub Pages and Jekyll \\nMachine Learning for Kaggle Competitions with R \\nThe Bash Olympics \\nWhat To Learn and Teach \\nD3.js \\nTableau \\nBuild Systems \\nCython \\nPython For Plotting Timeseries & 3D Data \\nmatplotlib \\nHandling and Visualizing Geospatial Data \\nPython Metaprogramming & Conversion to Python 3 \\nJulia \\nScraping Wikipedia Data \\nPandas \\nLaTeX \\nHigh Performance Python \\nscikit-learn\\nscikit-learn\\nAdvanced Python \\nGPUs and Parallelization \\nWebscraping \\nFree-form hacking\\nPandas \\nSpark and Hadoop \\nVisualization \\nAdvanced Git and GitHub \\nIntroductory Git and GitHub \\nShiny \\nMake \\nC++ and Object Orientation \\nMicrocontrollers \\nJulia \\nR \\nComputer Architectures \\nTesting \\nMatplotlib and Seaborn \\nIPython \\nAdvanced Git \\nText Editors \\nParallel Programming \\nThe Shell and The Filesystem Hierarchy Standard \\nWhat Do You Want To Learn and What Can You Teach \\nNuclear Data and Advanced Cython \\nORIGEN and Open Source\\nCython and the Python C/API \\nJekyll \\nMocDown and Pyne Install \\nMocDown and Python Threading \\nNumpy Vectorization and Python Logging \\nHPC Module Installation and Plotting Tools \\nPARCS and RadWatch (without the physics) \\nWhen and Where Survey\\nSerpent and LaTeX \\nCRAM and imagemagick \\nComputational Nuclear Engineering Overview & Bash \\nLaTeX \\nSo You Have A Software\\nPackaging and Distribution \\nEmailing with Python \\nRaspberry Pi Hacking \\nTesting Part II \\nTesting \\nIPython \\nMakefiles \\nSelf Documenting Code \\nIntro to Git Part II \\nIntro to Git \\nGPUs and CUDA \\nBash  \\n'"
      ]
     },
     "execution_count": 58,
     "metadata": {},
     "output_type": "execute_result"
    }
   ],
   "source": [
    "text.replace(\"RR\", \"R\")"
   ]
  },
  {
   "cell_type": "code",
   "execution_count": 59,
   "metadata": {
    "collapsed": false
   },
   "outputs": [],
   "source": [
    "text = text.replace(\"RR\", \"R\")"
   ]
  },
  {
   "cell_type": "code",
   "execution_count": 60,
   "metadata": {
    "collapsed": true
   },
   "outputs": [],
   "source": [
    "words = text.split()\n",
    "lines = text.split(\"\\n\")"
   ]
  },
  {
   "cell_type": "code",
   "execution_count": 61,
   "metadata": {
    "collapsed": false
   },
   "outputs": [
    {
     "data": {
      "text/plain": [
       "['Navigating bash and UNIX',\n",
       " 'Machine learning with Neural Networks using Keras.io',\n",
       " 'Git and GitHub',\n",
       " 'Data Tidying in R & Python',\n",
       " 'Ensemble (Machine) Learning with Super Learner and H2O in R ']"
      ]
     },
     "execution_count": 61,
     "metadata": {},
     "output_type": "execute_result"
    }
   ],
   "source": [
    "lines[0:5]"
   ]
  },
  {
   "cell_type": "markdown",
   "metadata": {},
   "source": [
    "### Wordcloud library"
   ]
  },
  {
   "cell_type": "code",
   "execution_count": 62,
   "metadata": {
    "collapsed": false
   },
   "outputs": [
    {
     "name": "stdout",
     "output_type": "stream",
     "text": [
      "Collecting wordcloud\n",
      "Installing collected packages: wordcloud\n",
      "Successfully installed wordcloud-1.2.1\n",
      "\u001b[33mYou are using pip version 8.1.2, however version 9.0.1 is available.\n",
      "You should consider upgrading via the 'pip install --upgrade pip' command.\u001b[0m\n"
     ]
    }
   ],
   "source": [
    "!pip install wordcloud"
   ]
  },
  {
   "cell_type": "code",
   "execution_count": 63,
   "metadata": {
    "collapsed": false
   },
   "outputs": [],
   "source": [
    "from wordcloud import WordCloud"
   ]
  },
  {
   "cell_type": "code",
   "execution_count": 64,
   "metadata": {
    "collapsed": false
   },
   "outputs": [
    {
     "data": {
      "image/png": "[encoded data removed]",
      "text/plain": [
       "<PIL.Image.Image image mode=RGB size=400x200 at 0x7F8D611A13C8>"
      ]
     },
     "execution_count": 64,
     "metadata": {},
     "output_type": "execute_result"
    }
   ],
   "source": [
    "wordcloud = WordCloud()\n",
    "wordcloud.generate(text)\n",
    "wordcloud.to_image()"
   ]
  },
  {
   "cell_type": "code",
   "execution_count": 65,
   "metadata": {
    "collapsed": false
   },
   "outputs": [
    {
     "data": {
      "image/png": "[encoded data removed]",
      "text/plain": [
       "<PIL.Image.Image image mode=RGB size=800x300 at 0x7F8D611A15C0>"
      ]
     },
     "execution_count": 65,
     "metadata": {},
     "output_type": "execute_result"
    }
   ],
   "source": [
    "wordcloud = WordCloud(width=800, height=300, prefer_horizontal=1, stopwords=None)\n",
    "wordcloud.generate(text)\n",
    "wordcloud.to_image()"
   ]
  },
  {
   "cell_type": "markdown",
   "metadata": {},
   "source": [
    "## Freqency counts"
   ]
  },
  {
   "cell_type": "code",
   "execution_count": 66,
   "metadata": {
    "collapsed": false
   },
   "outputs": [
    {
     "name": "stdout",
     "output_type": "stream",
     "text": [
      "{'Cython': 3, 'Visualizing': 1, 'Navigating': 1, 'Bash': 3, 'Tableau': 1, 'RadWatch': 1, 'Neural': 1, 'Github': 2, 'C/API': 1, 'learning': 2, 'D3.js': 1, 'Editors': 1, 'Teach': 2, 'Competitions': 1, 'CUDA': 1, 'Language': 1, 'Webscraping': 1, 'When': 1, 'Orientation': 1, '3D': 1, 'Physical': 1, 'Vectorization': 1, 'Spark': 1, 'Machine': 3, 'Install': 1, 'Distribution': 1, 'UNIX': 1, 'Timeseries': 1, 'Geospatial': 1, 'So': 1, 'LaTeX': 3, 'Super': 1, 'Tidying': 1, 'A': 1, 'Overview': 1, 'R': 4, 'Documenting': 1, 'Computer': 1, 'Do': 1, 'Free-form': 1, 'Shiny': 1, 'Julia': 2, 'Hadoop': 1, 'NLTK': 1, 'Object': 1, 'C++': 1, 'matplotlib': 1, 'ORIGEN': 1, 'Emailing': 1, 'hacking': 1, 'Processing': 1, 'Want': 1, 'Handling': 1, 'Programming': 1, '3': 1, 'Data': 5, 'MocDown': 2, 'Natural': 1, 'GPUs': 2, 'Have': 1, 'Raspberry': 1, 'Learning': 2, 'Where': 1, 'Plotting': 2, '(without': 1, 'II': 2, 'Advanced': 4, 'The': 4, 'Build': 1, 'Tools': 1, 'Networks': 1, 'IPython': 2, 'Part': 2, 'in': 3, 'Metaprogramming': 1, 'Learner': 1, 'Code': 1, 'Filesystem': 1, 'Computational': 1, 'CRAM': 1, 'physics)': 1, 'and': 28, 'Threading': 1, 'Text': 1, 'Makefiles': 1, 'Pyne': 1, 'for': 2, 'Scraping': 1, 'Microcontrollers': 1, 'Engineering': 1, 'Hacking': 1, 'Make': 1, 'Standard': 1, 'For': 1, 'What': 3, 'Intro': 2, 'Self': 1, 'Pi': 1, 'Computing': 1, 'Git': 7, 'Shell': 1, 'Parallelization': 2, 'Architectures': 1, 'Performance': 1, '(Machine)': 1, 'imagemagick': 1, 'Numpy': 1, 'RStudio': 1, 'Olympics': 2, 'Kaggle': 1, 'scikit-learn': 3, 'Matplotlib': 2, 'Pandas': 2, 'Keras.io': 1, 'Python': 13, 'Jekyll': 2, 'Testing': 3, 'PARCS': 1, 'Hierarchy': 1, 'You': 3, 'Software': 1, 'with': 6, 'bash': 1, 'Learn': 2, 'High': 1, 'Survey': 1, 'Thanksgiving': 1, 'Ensemble': 1, '&': 4, 'Open': 1, 'GitHub': 3, 'Conversion': 1, 'Visualization': 1, 'Installation': 1, 'Source': 1, 'Serpent': 1, 'Can': 1, 'To': 2, 'Pages': 1, 'Wikipedia': 1, 'Introductory': 1, 'Parallel': 1, 'Systems': 1, 'Module': 1, 'Nuclear': 2, 'H2O': 1, 'Seaborn': 1, 'the': 2, 'to': 3, 'HPC': 1, 'using': 1, 'Packaging': 1, 'Logging': 1}\n"
     ]
    }
   ],
   "source": [
    "freq_dict = {}\n",
    "\n",
    "for word in words:\n",
    "    if word in freq_dict:\n",
    "        freq_dict[word] = freq_dict[word] + 1\n",
    "    else:\n",
    "        freq_dict[word] = 1\n",
    "    \n",
    "print(freq_dict)"
   ]
  },
  {
   "cell_type": "markdown",
   "metadata": {},
   "source": [
    "A better way to do this is:"
   ]
  },
  {
   "cell_type": "code",
   "execution_count": 67,
   "metadata": {
    "collapsed": false
   },
   "outputs": [
    {
     "name": "stdout",
     "output_type": "stream",
     "text": [
      "{'Cython': 3, 'Visualizing': 1, 'Navigating': 1, 'Bash': 3, 'Tableau': 1, 'RadWatch': 1, 'Neural': 1, 'Github': 2, 'C/API': 1, 'learning': 2, 'D3.js': 1, 'Editors': 1, 'Teach': 2, 'Competitions': 1, 'CUDA': 1, 'Language': 1, 'Webscraping': 1, 'When': 1, 'Orientation': 1, '3D': 1, 'Physical': 1, 'Vectorization': 1, 'Spark': 1, 'Machine': 3, 'Install': 1, 'Distribution': 1, 'UNIX': 1, 'Timeseries': 1, 'Geospatial': 1, 'So': 1, 'LaTeX': 3, 'Super': 1, 'Tidying': 1, 'A': 1, 'Overview': 1, 'R': 4, 'Documenting': 1, 'Computer': 1, 'Do': 1, 'Free-form': 1, 'Shiny': 1, 'Julia': 2, 'Hadoop': 1, 'NLTK': 1, 'Object': 1, 'C++': 1, 'matplotlib': 1, 'ORIGEN': 1, 'Emailing': 1, 'hacking': 1, 'Processing': 1, 'Want': 1, 'Handling': 1, 'Programming': 1, '3': 1, 'Data': 5, 'MocDown': 2, 'Natural': 1, 'GPUs': 2, 'Have': 1, 'Raspberry': 1, 'Learning': 2, 'Where': 1, 'Plotting': 2, '(without': 1, 'II': 2, 'Advanced': 4, 'The': 4, 'Build': 1, 'Tools': 1, 'Networks': 1, 'IPython': 2, 'Part': 2, 'in': 3, 'Metaprogramming': 1, 'Learner': 1, 'Code': 1, 'Filesystem': 1, 'Computational': 1, 'CRAM': 1, 'physics)': 1, 'and': 28, 'Threading': 1, 'Text': 1, 'Makefiles': 1, 'Pyne': 1, 'for': 2, 'Scraping': 1, 'Microcontrollers': 1, 'Engineering': 1, 'Hacking': 1, 'Make': 1, 'Standard': 1, 'For': 1, 'What': 3, 'Intro': 2, 'Self': 1, 'Pi': 1, 'Computing': 1, 'Git': 7, 'Shell': 1, 'Parallelization': 2, 'Architectures': 1, 'Performance': 1, '(Machine)': 1, 'imagemagick': 1, 'Numpy': 1, 'RStudio': 1, 'Olympics': 2, 'Kaggle': 1, 'scikit-learn': 3, 'Matplotlib': 2, 'Pandas': 2, 'Keras.io': 1, 'Python': 13, 'Jekyll': 2, 'Testing': 3, 'PARCS': 1, 'Hierarchy': 1, 'You': 3, 'Software': 1, 'with': 6, 'bash': 1, 'Learn': 2, 'High': 1, 'Survey': 1, 'Thanksgiving': 1, 'Ensemble': 1, '&': 4, 'Open': 1, 'GitHub': 3, 'Conversion': 1, 'Visualization': 1, 'Installation': 1, 'Source': 1, 'Serpent': 1, 'Can': 1, 'To': 2, 'Pages': 1, 'Wikipedia': 1, 'Introductory': 1, 'Parallel': 1, 'Systems': 1, 'Module': 1, 'Nuclear': 2, 'H2O': 1, 'Seaborn': 1, 'the': 2, 'to': 3, 'HPC': 1, 'using': 1, 'Packaging': 1, 'Logging': 1}\n"
     ]
    }
   ],
   "source": [
    "freq_dict = {}\n",
    "\n",
    "for word in words:\n",
    "    freq_dict[word] = freq_dict.get(word, 0) + 1\n",
    "    \n",
    "print(freq_dict)"
   ]
  },
  {
   "cell_type": "markdown",
   "metadata": {},
   "source": [
    "# Outputting to files"
   ]
  },
  {
   "cell_type": "markdown",
   "metadata": {},
   "source": [
    "Let's start from a loop that prints the values to the screen"
   ]
  },
  {
   "cell_type": "code",
   "execution_count": 68,
   "metadata": {
    "collapsed": false
   },
   "outputs": [
    {
     "name": "stdout",
     "output_type": "stream",
     "text": [
      "&\t4\n",
      "(Machine)\t1\n",
      "(without\t1\n",
      "3\t1\n",
      "3D\t1\n",
      "A\t1\n",
      "Advanced\t4\n",
      "Architectures\t1\n",
      "Bash\t3\n",
      "Build\t1\n",
      "C++\t1\n",
      "C/API\t1\n",
      "CRAM\t1\n",
      "CUDA\t1\n",
      "Can\t1\n",
      "Code\t1\n",
      "Competitions\t1\n",
      "Computational\t1\n",
      "Computer\t1\n",
      "Computing\t1\n",
      "Conversion\t1\n",
      "Cython\t3\n",
      "D3.js\t1\n",
      "Data\t5\n",
      "Distribution\t1\n",
      "Do\t1\n",
      "Documenting\t1\n",
      "Editors\t1\n",
      "Emailing\t1\n",
      "Engineering\t1\n",
      "Ensemble\t1\n",
      "Filesystem\t1\n",
      "For\t1\n",
      "Free-form\t1\n",
      "GPUs\t2\n",
      "Geospatial\t1\n",
      "Git\t7\n",
      "GitHub\t3\n",
      "Github\t2\n",
      "H2O\t1\n",
      "HPC\t1\n",
      "Hacking\t1\n",
      "Hadoop\t1\n",
      "Handling\t1\n",
      "Have\t1\n",
      "Hierarchy\t1\n",
      "High\t1\n",
      "II\t2\n",
      "IPython\t2\n",
      "Install\t1\n",
      "Installation\t1\n",
      "Intro\t2\n",
      "Introductory\t1\n",
      "Jekyll\t2\n",
      "Julia\t2\n",
      "Kaggle\t1\n",
      "Keras.io\t1\n",
      "LaTeX\t3\n",
      "Language\t1\n",
      "Learn\t2\n",
      "Learner\t1\n",
      "Learning\t2\n",
      "Logging\t1\n",
      "Machine\t3\n",
      "Make\t1\n",
      "Makefiles\t1\n",
      "Matplotlib\t2\n",
      "Metaprogramming\t1\n",
      "Microcontrollers\t1\n",
      "MocDown\t2\n",
      "Module\t1\n",
      "NLTK\t1\n",
      "Natural\t1\n",
      "Navigating\t1\n",
      "Networks\t1\n",
      "Neural\t1\n",
      "Nuclear\t2\n",
      "Numpy\t1\n",
      "ORIGEN\t1\n",
      "Object\t1\n",
      "Olympics\t2\n",
      "Open\t1\n",
      "Orientation\t1\n",
      "Overview\t1\n",
      "PARCS\t1\n",
      "Packaging\t1\n",
      "Pages\t1\n",
      "Pandas\t2\n",
      "Parallel\t1\n",
      "Parallelization\t2\n",
      "Part\t2\n",
      "Performance\t1\n",
      "Physical\t1\n",
      "Pi\t1\n",
      "Plotting\t2\n",
      "Processing\t1\n",
      "Programming\t1\n",
      "Pyne\t1\n",
      "Python\t13\n",
      "R\t4\n",
      "RStudio\t1\n",
      "RadWatch\t1\n",
      "Raspberry\t1\n",
      "Scraping\t1\n",
      "Seaborn\t1\n",
      "Self\t1\n",
      "Serpent\t1\n",
      "Shell\t1\n",
      "Shiny\t1\n",
      "So\t1\n",
      "Software\t1\n",
      "Source\t1\n",
      "Spark\t1\n",
      "Standard\t1\n",
      "Super\t1\n",
      "Survey\t1\n",
      "Systems\t1\n",
      "Tableau\t1\n",
      "Teach\t2\n",
      "Testing\t3\n",
      "Text\t1\n",
      "Thanksgiving\t1\n",
      "The\t4\n",
      "Threading\t1\n",
      "Tidying\t1\n",
      "Timeseries\t1\n",
      "To\t2\n",
      "Tools\t1\n",
      "UNIX\t1\n",
      "Vectorization\t1\n",
      "Visualization\t1\n",
      "Visualizing\t1\n",
      "Want\t1\n",
      "Webscraping\t1\n",
      "What\t3\n",
      "When\t1\n",
      "Where\t1\n",
      "Wikipedia\t1\n",
      "You\t3\n",
      "and\t28\n",
      "bash\t1\n",
      "for\t2\n",
      "hacking\t1\n",
      "imagemagick\t1\n",
      "in\t3\n",
      "learning\t2\n",
      "matplotlib\t1\n",
      "physics)\t1\n",
      "scikit-learn\t3\n",
      "the\t2\n",
      "to\t3\n",
      "using\t1\n",
      "with\t6\n"
     ]
    }
   ],
   "source": [
    "for word, freq in sorted(freq_dict.items()):\n",
    "    line = word + \"\\t\" + str(freq)\n",
    "    print(line)"
   ]
  },
  {
   "cell_type": "markdown",
   "metadata": {},
   "source": [
    "Then expand this to writing a file object:"
   ]
  },
  {
   "cell_type": "code",
   "execution_count": 69,
   "metadata": {
    "collapsed": true
   },
   "outputs": [],
   "source": [
    "with open(\"freq_dict_thw.csv\", 'w') as f: \n",
    "    for word, freq in sorted(freq_dict.items()):\n",
    "        line = word + \", \" + str(freq) + \"\\n\"\n",
    "        f.write(line)\n"
   ]
  },
  {
   "cell_type": "code",
   "execution_count": 70,
   "metadata": {
    "collapsed": false
   },
   "outputs": [
    {
     "name": "stdout",
     "output_type": "stream",
     "text": [
      "&, 4\r\n",
      "(Machine), 1\r\n",
      "(without, 1\r\n",
      "3, 1\r\n",
      "3D, 1\r\n",
      "A, 1\r\n",
      "Advanced, 4\r\n",
      "Architectures, 1\r\n",
      "Bash, 3\r\n",
      "Build, 1\r\n"
     ]
    }
   ],
   "source": [
    "!head -10 freq_dict_thw.csv"
   ]
  },
  {
   "cell_type": "code",
   "execution_count": null,
   "metadata": {
    "collapsed": true
   },
   "outputs": [],
   "source": []
  }
 ],
 "metadata": {
  "anaconda-cloud": {},
  "kernelspec": {
   "display_name": "Python [Root]",
   "language": "python",
   "name": "Python [Root]"
  },
  "language_info": {
   "codemirror_mode": {
    "name": "ipython",
    "version": 3
   },
   "file_extension": ".py",
   "mimetype": "text/x-python",
   "name": "python",
   "nbconvert_exporter": "python",
   "pygments_lexer": "ipython3",
   "version": "3.5.2"
  }
 },
 "nbformat": 4,
 "nbformat_minor": 2
}
