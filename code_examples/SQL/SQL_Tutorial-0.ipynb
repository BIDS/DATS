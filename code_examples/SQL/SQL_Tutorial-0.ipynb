{
 "cells": [
  {
   "cell_type": "markdown",
   "metadata": {},
   "source": [
    "# Intro to SQL - The Hacker Within (2018-02-21)\n",
    "This tutorial will show you the basics of SQL:\n",
    "* creating a table\n",
    "* inserting rows\n",
    "* querying with conditions\n",
    "* grouping and ordering\n",
    "* joining tables with a common field\n",
    "* aggregating rows using COUNT, MAX, etc.\n",
    "* alternates to SQL like pandas and Django\n",
    "* indexing frequently queried columns for performance\n",
    "\n",
    "## SQLite\n",
    "We are going to use [Python](https://docs.python.org/3/library/sqlite3.html) because it comes with the popular [SQLite](https://sqlite.org/index.html) (_aka_ [`etilqs`](https://www.google.com/search?q=etilqs)) relational database builtin. \n",
    "\n",
    "## Requirements\n",
    "The following examples assume you have Python 3 installed on your computer. Any distribution will do. If you have [Anaconda](https://www.anaconda.com/distribution/) or [Miniconda](https://conda.io/miniconda.html), you can create a new conda environment with the requirements for this tutorial from a terminal. For example with miniconda on Mac OS X, you might use the following to activate the root conda environment and create a new one called \"py36-thw-sql\".\n",
    "\n",
    "    ~$ source ~/miniconda/bin/activate\n",
    "    (root) ~$ conda create -n py36-thw-sql python=3.6.3 psycopg2 django pandas\n",
    "\n",
    "Or on Windows with Anaconda, you might use the following in a CMD terminal.\n",
    "\n",
    "    ~> %LOCALAPPDATA%\\Continuum\\anaconda3\\Scripts\\activate\n",
    "    (root) ~> conda create -n py36-thw-sql python=3.6.3 psycopg2 django pandas"
   ]
  },
  {
   "cell_type": "markdown",
   "metadata": {},
   "source": [
    "# Python DB-API 2.0\n",
    "[PEP 249](https://www.python.org/dev/peps/pep-0249/) specifies a `connection` to a database, and a `cursor` from the connection to execute SQL."
   ]
  },
  {
   "cell_type": "code",
   "execution_count": 1,
   "metadata": {},
   "outputs": [],
   "source": [
    "# imports\n",
    "import sqlite3  # this is the module that binds to SQLite\n",
    "import os\n",
    "\n",
    "DBFILE = 'sqlite3.db'  # this will be our database\n",
    "BASEDIR = %pwd  # os.path.abspath(os.path.dirname(__file__))\n",
    "DBPATH = os.path.join(BASEDIR, DBFILE)\n",
    "# we may need to delete the existing file first\n",
    "if os.path.exists(DBPATH):\n",
    "    os.remove(DBPATH)\n",
    "\n",
    "# open a connection to the database for this tutorial\n",
    "conn = sqlite3.connect(DBPATH)\n",
    "\n",
    "# get a cursor to the database\n",
    "cur = conn.cursor()"
   ]
  },
  {
   "cell_type": "markdown",
   "metadata": {},
   "source": [
    "## Notes\n",
    "If a file with the same name doesn't already exist, then this creates a new database otherwise it connects to the existing database contained in the file. You can also use ':memory:' to create an \"in-memory\" database that has no file, but then you can't connect to that from another process.\n",
    "\n",
    "We'll have to close the connection and cursor later. Next time we could use a [`with` context to automatically close the connection](https://docs.python.org/3.6/library/sqlite3.html#using-the-connection-as-a-context-manager).\n",
    "\n",
    "    with sqlite3.connect('sqlite3.db') as conn:\n",
    "        cur = conn.execute('SQL QUERY ...')  # e.g.: 'SELECT * FROM table_name;'\n",
    "        output = cur.fetchall()  # get the results\n",
    "\n",
    "Closing the connection automatically closes the cursor. [Other bindings may offer similar context managers.](http://initd.org/psycopg/docs/usage.html#with-statement) to commit and close changes or rollback changes and raise an exception."
   ]
  },
  {
   "cell_type": "markdown",
   "metadata": {},
   "source": [
    "# Creating tables\n",
    "A relational database or SQL database is a tabular structure consisting of rows of data with columns of fields. The [data definition language or DDL](https://en.wikipedia.org/wiki/Data_definition_language) used to create the table is the same language used to query it, called [SQL or Structured Query Language](https://en.wikipedia.org/wiki/SQL).\n",
    "\n",
    "Although [the basic SQL commands](https://sqlite.org/lang.html) are nearly the same for [other relational databases](https://www.postgresql.org/docs/10/static/sql.html), the data types may be different. [SQLite only has 5 datatypes](https://sqlite.org/datatype3.html): `NULL`, `INTEGER`, `REAL`, `TEXT`, `BLOB`. For [boolean, use integer zero for false, and one for true](https://sqlite.org/datatype3.html#boolean_datatype). For [dates and times use text and ISO8601](https://sqlite.org/datatype3.html#date_and_time_datatype), _e.g._: `\"2018-02-21T17:05-0800\"`. By comparison, [PostgreSQL has too many to list here](https://www.postgresql.org/docs/10/static/datatype.html) including booleans, date, time, arrays, JSON, etc.\n",
    "\n",
    "## `CREATE`\n",
    "The [basic SQL command to create a table](https://sqlite.org/lang_createtable.html) is\n",
    "\n",
    "    CREATE TABLE <table_name> (<field_name> <TYPE> <CONSTRAINTS>, <field_name> <TYPE> <CONSTRAINTS>, <CONSTRAINTS>, ...);\n",
    "\n",
    "Some languages enforce the semicolon, some don't. The syntax is nearly the same for [other relational databases](https://www.postgresql.org/docs/10/static/ddl-basics.html).\n",
    "\n",
    "### Constraints, Defaults, and Options\n",
    "Constraints are optional and set conditions, limitations, or options for columns and the table. The most common constraints are: `PRIMARY KEY`, `UNIQUE`, `NOT NULL`, `DEFAULT`, `FOREIGN KEY`, `REFERENCES`, etc. The syntax is nearly the same for [other relational databases](https://www.postgresql.org/docs/10/static/ddl-constraints.html).\n",
    "\n",
    "#### `PRIMARY KEY`\n",
    "The most important of these is `PRIMARY KEY` which is equivalent to `UNIQUE NOT NULL`. A [primary key](https://www.postgresql.org/docs/10/static/ddl-constraints.html#DDL-CONSTRAINTS-PRIMARY-KEYS) is a unique references that identifies each record in the table. Although it is not required, every table should have a primary key. Only one primary key is allowed, and it can be constructed from multiple columns, `PRIMARY KEY (<field_A>, <field_B)`, to create a unique together, non-null identifier. [In SQLite, if missing then a integer primary key named, `rowid`, is created by default](https://sqlite.org/lang_createtable.html#rowid). Also in SQLite, any integer primary key is automatically incremented, so [the _AUTOINCREMENT_ command is usually **not** needed](https://sqlite.org/autoinc.html). [In PostgreSQL the `SERIAL` command is used](https://www.postgresql.org/docs/10/static/datatype-numeric.html#DATATYPE-SERIAL) to create a corresponding [sequence](https://www.postgresql.org/docs/10/static/functions-sequence.html) for the primary key.\n",
    "\n",
    "## Practice\n",
    "The other constraints and options are also important, but we'll discover those as we learn. Let's create some simple databases with fictitious data to practice. Imagine you are testing several different materials with different properties $\\alpha$ and $\\beta$ under different stresses like different temperatures and  light intensity and changing thickness. How would you organize this data? Take a moment to design a schema or structure for your data. The schema consists of the column names and data types and the column and table constraints."
   ]
  },
  {
   "cell_type": "code",
   "execution_count": 2,
   "metadata": {},
   "outputs": [],
   "source": [
    "# we can use Python triple quoted strings to span multiple lines, but use single quotes, since SQL only uses double quotes\n",
    "\n",
    "# first create a materials table\n",
    "cur.execute('''CREATE TABLE materials (\n",
    "    material_id INTEGER PRIMARY KEY,\n",
    "    name TEXT,\n",
    "    alpha REAL NOT NULL,\n",
    "    beta REAL NOT NULL\n",
    ")''')\n",
    "conn.commit()\n",
    "# if you don't commit the changes, they won't be written to the file, and won't be visible to other connections\n",
    "\n",
    "# then create an experiments table\n",
    "cur.execute('''CREATE TABLE experiments (\n",
    "    experiment_id INTEGER PRIMARY KEY,\n",
    "    temperature REAL DEFAULT 298.15,\n",
    "    irradiance REAL DEFAULT 1000.0,\n",
    "    uv_filter INTEGER DEFAULT 0,\n",
    "    material_id NOT NULL REFERENCES materials ON UPDATE CASCADE ON DELETE CASCADE,\n",
    "    thickness REAL DEFAULT 0.005,\n",
    "    UNIQUE (temperature, irradiance)\n",
    ")''')\n",
    "conn.commit()\n",
    "\n",
    "# and finally create a trials table\n",
    "cur.execute('''CREATE TABLE trials (\n",
    "    trial_id INTEGER PRIMARY KEY,\n",
    "    experiment_id NOT NULL REFERENCES experiments ON UPDATE CASCADE ON DELETE CASCADE,\n",
    "    results BLOB NOT NULL,\n",
    "    duration REAL NOT NULL,\n",
    "    avg_temperature REAL NOT NULL,\n",
    "    std_temperature REAL NOT NULL,\n",
    "    avg_irradiance REAL NOT NULL,\n",
    "    std_irradiance REAL NOT NULL,\n",
    "    init_visible_transmittance REAL NOT NULL,\n",
    "    final_visible_transmittance REAL NOT NULL,\n",
    "    notes TEXT\n",
    ")''')\n",
    "conn.commit()"
   ]
  },
  {
   "cell_type": "markdown",
   "metadata": {},
   "source": [
    "## `INSERT`\n",
    "The [basic SQL command to put data into a table is](https://sqlite.org/lang_insert.html)\n",
    "\n",
    "    INSERT INTO <table_name> (<field_name>, <field_name>, ...) VALUES (<value>, <value>, ...)\n",
    "\n",
    "[Other relational databases use the same SQL syntax.](https://www.postgresql.org/docs/current/static/dml-insert.html)"
   ]
  },
  {
   "cell_type": "markdown",
   "metadata": {},
   "source": [
    "# Queries\n",
    "The way you select data is by executing queries."
   ]
  },
  {
   "cell_type": "code",
   "execution_count": null,
   "metadata": {},
   "outputs": [],
   "source": [
    "cur.close()\n",
    "conn.close()"
   ]
  },
  {
   "cell_type": "code",
   "execution_count": null,
   "metadata": {},
   "outputs": [],
   "source": []
  }
 ],
 "metadata": {
  "kernelspec": {
   "display_name": "Python 3",
   "language": "python",
   "name": "python3"
  },
  "language_info": {
   "codemirror_mode": {
    "name": "ipython",
    "version": 3
   },
   "file_extension": ".py",
   "mimetype": "text/x-python",
   "name": "python",
   "nbconvert_exporter": "python",
   "pygments_lexer": "ipython3",
   "version": "3.6.3"
  }
 },
 "nbformat": 4,
 "nbformat_minor": 2
}
