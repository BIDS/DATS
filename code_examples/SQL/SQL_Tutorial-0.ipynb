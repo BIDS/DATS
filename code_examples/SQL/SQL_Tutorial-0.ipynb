{
 "cells": [
  {
   "cell_type": "markdown",
   "metadata": {},
   "source": [
    "# Intro to SQL - The Hacker Within (2018-02-21)\n",
    "This tutorial will show you the basics of SQL:\n",
    "* creating a table\n",
    "* inserting rows\n",
    "* querying with conditions\n",
    "* grouping and ordering\n",
    "* joining tables with a common field\n",
    "* aggregating rows using COUNT, MAX, etc.\n",
    "* alternates to SQL like pandas and Django\n",
    "* indexing frequently queried columns for performance\n",
    "* alter existing table to add, drop, or rename a column\n",
    "* drop a table\n",
    "* vacuum a database\n",
    "\n",
    "## SQLite\n",
    "We are going to use [Python](https://docs.python.org/3/library/sqlite3.html) because it comes with the popular [SQLite](https://sqlite.org/index.html) (_aka_ [`etilqs`](https://www.google.com/search?q=etilqs)) relational database builtin. \n",
    "\n",
    "## Requirements\n",
    "The following examples assume you have Python 3 installed on your computer. Any distribution will do. If you have [Anaconda](https://www.anaconda.com/distribution/) or [Miniconda](https://conda.io/miniconda.html), you can create a new conda environment with the requirements for this tutorial from a terminal. For example with miniconda on Mac OS X, you might use the following to activate the root conda environment and create a new one called \"py36-thw-sql\".\n",
    "\n",
    "    ~$ source ~/miniconda/bin/activate\n",
    "    (root) ~$ conda create -n py36-thw-sql python=3.6.3 psycopg2 django pandas\n",
    "\n",
    "Or on Windows with Anaconda, you might use the following in a CMD terminal.\n",
    "\n",
    "    ~> %LOCALAPPDATA%\\Continuum\\anaconda3\\Scripts\\activate\n",
    "    (root) ~> conda create -n py36-thw-sql python=3.6.3 psycopg2 django pandas"
   ]
  },
  {
   "cell_type": "markdown",
   "metadata": {},
   "source": [
    "# Python DB-API 2.0\n",
    "[PEP 249](https://www.python.org/dev/peps/pep-0249/) specifies a `connection` to a database, and a `cursor` from the connection to execute SQL."
   ]
  },
  {
   "cell_type": "code",
   "execution_count": 1,
   "metadata": {},
   "outputs": [],
   "source": [
    "# imports\n",
    "import sqlite3  # this is the module that binds to SQLite\n",
    "import os\n",
    "import numpy as np  # never know when you might need NumPy, oh, right, always!\n",
    "import pandas as pd  # you'll see why we can use this later\n",
    "\n",
    "DBFILE = 'sqlite3.db'  # this will be our database\n",
    "BASEDIR = %pwd  # os.path.abspath(os.path.dirname(__file__))\n",
    "DBPATH = os.path.join(BASEDIR, DBFILE)\n",
    "\n",
    "# we may need to delete the existing file first\n",
    "if os.path.exists(DBPATH):\n",
    "    os.remove(DBPATH)\n",
    "\n",
    "# open a connection to the database for this tutorial\n",
    "conn = sqlite3.connect(DBPATH)\n",
    "\n",
    "# get a cursor to the database\n",
    "cur = conn.cursor()"
   ]
  },
  {
   "cell_type": "markdown",
   "metadata": {},
   "source": [
    "## Notes\n",
    "If a file with the same name doesn't already exist, then this creates a new database otherwise it connects to the existing database contained in the file. You can also use ':memory:' to create an \"in-memory\" database that has no file, but then you can't connect to that from another process.\n",
    "\n",
    "We'll have to close the connection and cursor later. Next time we could use a [`with` context to automatically close the connection](https://docs.python.org/3.6/library/sqlite3.html#using-the-connection-as-a-context-manager).\n",
    "\n",
    "    with sqlite3.connect('sqlite3.db') as conn:\n",
    "        cur = conn.execute('SQL QUERY ...')  # e.g.: 'SELECT * FROM table_name;'\n",
    "        output = cur.fetchall()  # get the results\n",
    "\n",
    "Closing the connection automatically closes the cursor. [Other bindings may offer similar context managers.](http://initd.org/psycopg/docs/usage.html#with-statement) to commit and close changes or rollback changes and raise an exception."
   ]
  },
  {
   "cell_type": "markdown",
   "metadata": {},
   "source": [
    "# Creating tables\n",
    "A relational database or SQL database is a tabular structure consisting of rows of data with columns of fields. The [data definition language or DDL](https://en.wikipedia.org/wiki/Data_definition_language) used to create the table is the same language used to query it, called [SQL or Structured Query Language](https://en.wikipedia.org/wiki/SQL).\n",
    "\n",
    "Although [the basic SQL commands](https://sqlite.org/lang.html) are nearly the same for [other relational databases](https://www.postgresql.org/docs/10/static/sql.html), the data types may be different. [SQLite only has 5 datatypes](https://sqlite.org/datatype3.html): `NULL`, `INTEGER`, `REAL`, `TEXT`, `BLOB`. For [boolean, use integer zero for false, and one for true](https://sqlite.org/datatype3.html#boolean_datatype). For [dates and times use text and ISO8601](https://sqlite.org/datatype3.html#date_and_time_datatype), _e.g._: `\"2018-02-21T17:05-0800\"`. By comparison, [PostgreSQL has too many to list here](https://www.postgresql.org/docs/10/static/datatype.html) including booleans, date, time, arrays, JSON, etc.\n",
    "\n",
    "## `CREATE`\n",
    "The [basic SQL command to create a table](https://sqlite.org/lang_createtable.html) is\n",
    "\n",
    "    CREATE TABLE <table_name> (<field_name> <TYPE> <CONSTRAINTS>, <field_name> <TYPE> <CONSTRAINTS>, <CONSTRAINTS>, ...);\n",
    "\n",
    "Some languages enforce the semicolon, some don't. The syntax is nearly the same for [other relational databases](https://www.postgresql.org/docs/10/static/ddl-basics.html).\n",
    "\n",
    "### Constraints, Defaults, and Options\n",
    "Constraints are optional and set conditions, limitations, or options for columns and the table. The most common constraints are: `PRIMARY KEY`, `UNIQUE`, `NOT NULL`, `DEFAULT`, `FOREIGN KEY`, `REFERENCES`, etc. The syntax is nearly the same for [other relational databases](https://www.postgresql.org/docs/10/static/ddl-constraints.html).\n",
    "\n",
    "#### `PRIMARY KEY`\n",
    "The most important of these is `PRIMARY KEY` which is equivalent to `UNIQUE NOT NULL`. A [primary key](https://www.postgresql.org/docs/10/static/ddl-constraints.html#DDL-CONSTRAINTS-PRIMARY-KEYS) is a unique references that identifies each record in the table. Although it is not required, every table should have a primary key. Only one primary key is allowed, and it can be constructed from multiple columns, `PRIMARY KEY (<field_A>, <field_B)`, to create a unique together, non-null identifier. [In SQLite, if missing then a integer primary key named, `rowid`, is created by default](https://sqlite.org/lang_createtable.html#rowid). Also in SQLite, any integer primary key is automatically incremented, so [the _AUTOINCREMENT_ command is usually **not** needed](https://sqlite.org/autoinc.html). [In PostgreSQL the `SERIAL` command is used](https://www.postgresql.org/docs/10/static/datatype-numeric.html#DATATYPE-SERIAL) to create a corresponding [sequence](https://www.postgresql.org/docs/10/static/functions-sequence.html) for the primary key.\n",
    "\n",
    "## Practice\n",
    "The other constraints and options are also important, but we'll discover those as we learn. Let's create some simple databases with fictitious data to practice. Imagine you are testing several different materials with different properties $\\alpha$ and $\\beta$ under different stresses like different temperatures and  light intensity and changing thickness. How would you organize this data? Take a moment to design a schema or structure for your data. The schema consists of the column names and data types and the column and table constraints."
   ]
  },
  {
   "cell_type": "code",
   "execution_count": 2,
   "metadata": {},
   "outputs": [],
   "source": [
    "# we can use Python triple quoted strings to span multiple lines, but use single quotes, since SQL only uses double quotes\n",
    "\n",
    "# first create a materials table\n",
    "cur.execute('''CREATE TABLE materials (\n",
    "    material_id TEXT PRIMARY KEY,\n",
    "    long_name TEXT UNIQUE NOT NULL,\n",
    "    alpha REAL NOT NULL,\n",
    "    beta REAL NOT NULL,\n",
    "    material_type TEXT NOT NULL\n",
    ")''')\n",
    "conn.commit()\n",
    "# if you don't commit the changes, they won't be written to the file, and won't be visible to other connections\n",
    "\n",
    "# then create an experiments table\n",
    "cur.execute('''CREATE TABLE experiments (\n",
    "    experiment_id INTEGER PRIMARY KEY,\n",
    "    temperature REAL DEFAULT 298.15,\n",
    "    irradiance REAL DEFAULT 1000.0,\n",
    "    uv_filter INTEGER DEFAULT 0,\n",
    "    material_id NOT NULL REFERENCES materials ON UPDATE CASCADE ON DELETE CASCADE,\n",
    "    thickness REAL DEFAULT 0.005,\n",
    "    UNIQUE (temperature, irradiance, uv_filter, material_id)\n",
    ")''')\n",
    "conn.commit()\n",
    "\n",
    "# and finally create a trials table\n",
    "cur.execute('''CREATE TABLE trials (\n",
    "    trial_id INTEGER PRIMARY KEY,\n",
    "    experiment_id NOT NULL REFERENCES experiments ON UPDATE CASCADE ON DELETE CASCADE,\n",
    "    results BLOB NOT NULL,\n",
    "    duration REAL NOT NULL,\n",
    "    avg_temperature REAL NOT NULL,\n",
    "    std_temperature REAL NOT NULL,\n",
    "    avg_irradiance REAL NOT NULL,\n",
    "    std_irradiance REAL NOT NULL,\n",
    "    init_visible_transmittance REAL NOT NULL,\n",
    "    final_visible_transmittance REAL NOT NULL,\n",
    "    notes TEXT\n",
    ")''')\n",
    "conn.commit()"
   ]
  },
  {
   "cell_type": "markdown",
   "metadata": {},
   "source": [
    "## `FOREIGN KEY`\n",
    "A [foreign key constraint](https://sqlite.org/foreignkeys.html) creates a relationship between two tables. The `FOREIGN KEY` is implied when the `REFERENCES` column constraint is applied. In the experiments table above, the column constraint on `material_id` is the same as adding this table constriant:\n",
    "\n",
    "    FOREIGN KEY (material_id) REFERENCES materials (material_id)\n",
    "\n",
    "Specifying the referenced column in the table constraint isn't necessary, and if omitted defaults to the primary key of the referenced table. The syntax is nearly the same for [other relational databases](https://www.postgresql.org/docs/10/static/ddl-constraints.html#DDL-CONSTRAINTS-FK).\n",
    "\n",
    "### `DELETE` and `UPDATE`\n",
    "What happens if the reference of a foreign key is deleted or updated? That's up to you: in SQLite the default is to do nothing, but typically you want the action to cascade. Add the desired [`ON DELETE` or `ON UPDATE` action](https://sqlite.org/foreignkeys.html#fk_actions) to the constraint.\n",
    "\n",
    "\n",
    "### Bonus Questions\n",
    "1. What is the difference between a column constraint and a table constraint?\n",
    "2. What [other table constraint](https://www.postgresql.org/docs/9.1/static/ddl-constraints.html#AEN2496) is in the experiments table?\n",
    "3. What other constraints or defaults are applied in the tables?\n",
    "4. What part of the materials table schema is fragile and can be improved?"
   ]
  },
  {
   "cell_type": "markdown",
   "metadata": {},
   "source": [
    "## `INSERT`\n",
    "The [basic SQL command to put data into a table is](https://sqlite.org/lang_insert.html)\n",
    "\n",
    "    INSERT INTO <table_name> (<field_name>, <field_name>, ...) VALUES (<value>, <value>, ...)\n",
    "\n",
    "[Other relational databases use the same SQL syntax.](https://www.postgresql.org/docs/current/static/dml-insert.html)\n",
    "\n",
    "Let's add some pretend data to the database"
   ]
  },
  {
   "cell_type": "code",
   "execution_count": 3,
   "metadata": {},
   "outputs": [
    {
     "data": {
      "text/plain": [
       "1"
      ]
     },
     "execution_count": 3,
     "metadata": {},
     "output_type": "execute_result"
    }
   ],
   "source": [
    "# add a EVA as a material\n",
    "cur.execute('INSERT INTO materials VALUES (\"EVA\", \"ethylene vinyl acetate\", 0.123, 4.56, \"polymer\")')\n",
    "conn.commit()  # you must commit for it to become permanent\n",
    "cur.rowcount  # tells you how many rows written, sometimes, it's quirky"
   ]
  },
  {
   "cell_type": "markdown",
   "metadata": {},
   "source": [
    "## Placeholders\n",
    "You can use placeholders to loop over insert statements to add multiple records.\n",
    "\n",
    ">*WARNING*: Never use string formatters to in lieu of placeholders or you may be subject to [a SQL injection attack](https://xkcd.com/327/).\n",
    "\n",
    "SQLite uses `?` but [other relational databases may use `%s`](http://initd.org/psycopg/docs/usage.html#passing-parameters-to-sql-queries) or another placeholder.\n",
    "\n",
    "Also, in `sqlite3` [`executemany`](https://docs.python.org/3/library/sqlite3.html#sqlite3.Cursor.executemany) is a convenient shortcut, [but it may not be convenient for all database bindings](http://initd.org/psycopg/docs/extras.html#fast-exec)."
   ]
  },
  {
   "cell_type": "code",
   "execution_count": 4,
   "metadata": {},
   "outputs": [
    {
     "name": "stdout",
     "output_type": "stream",
     "text": [
      "rowcount = 2\n"
     ]
    }
   ],
   "source": [
    "# add some more fake materials\n",
    "fake_materials = [\n",
    "    ('PMMC', 'poly methyl methacrylate', 0.789, 10.11, 'polymer'),\n",
    "    ('KBr', 'potassium bromide', 1.213, 14.15, 'crystal')\n",
    "]\n",
    "for mat in fake_materials:\n",
    "    # must have same number of place holders as values\n",
    "    cur.execute('INSERT INTO materials VALUES (?, ?, ?, ?, ?)', mat)  # use place holders\n",
    "conn.commit()  # you can commit all of the changes at the end of the loop\n",
    "\n",
    "# use the executemany shortcut\n",
    "fake_materials = [\n",
    "    ('SiO2', 'silicon dioxide', 1.617, 18.19, 'crystal'),\n",
    "    ('CaF2', 'calcium flouride', 2.0, 21.22, 'crystal')\n",
    "]\n",
    "cur.executemany('INSERT INTO materials VALUES (?, ?, ?, ?, ?)', fake_materials)\n",
    "conn.commit()\n",
    "print('rowcount = %d' % cur.rowcount)  # with executemany, cur.rowcount shows total number of rows"
   ]
  },
  {
   "cell_type": "markdown",
   "metadata": {},
   "source": [
    "## `DELETE` and `UPDATE`\n",
    "Oops I made a mistake. How do I fix it? The opposite of `INSERT` is [`DELETE`](https://sqlite.org/lang_delete.html). But don't throw the baby out with the bathwater, you can also [`UPDATE`] a record. [Other relational databases use the same SQL syntax to manipulate data](https://www.postgresql.org/docs/10/static/dml.html)."
   ]
  },
  {
   "cell_type": "code",
   "execution_count": 5,
   "metadata": {},
   "outputs": [],
   "source": [
    "cur.execute('DELETE FROM materials WHERE material_id == \"SiO2\"')\n",
    "cur.execute('UPDATE materials SET alpha=1.23E-4, beta=8.910E+11 WHERE material_id == \"CaF2\"')\n",
    "conn.commit()"
   ]
  },
  {
   "cell_type": "markdown",
   "metadata": {},
   "source": [
    "# Queries\n",
    "The way you [select](https://sqlite.org/lang_select.html) data is by executing queries. [The language is the same for all relational databases.](https://www.postgresql.org/docs/10/static/queries.html) The star `*` means select all columns, or you can give the columns explicitly."
   ]
  },
  {
   "cell_type": "code",
   "execution_count": 6,
   "metadata": {},
   "outputs": [
    {
     "data": {
      "text/plain": [
       "[('EVA', 'ethylene vinyl acetate', 0.123, 4.56, 'polymer'),\n",
       " ('PMMC', 'poly methyl methacrylate', 0.789, 10.11, 'polymer'),\n",
       " ('KBr', 'potassium bromide', 1.213, 14.15, 'crystal'),\n",
       " ('CaF2', 'calcium flouride', 0.000123, 891000000000.0, 'crystal')]"
      ]
     },
     "execution_count": 6,
     "metadata": {},
     "output_type": "execute_result"
    }
   ],
   "source": [
    "cur.execute('SELECT * FROM materials')\n",
    "cur.fetchall()  # fetch all the results of the query"
   ]
  },
  {
   "cell_type": "markdown",
   "metadata": {},
   "source": [
    "## Conditions\n",
    "You can limit a query using [`WHERE`](https://www.postgresql.org/docs/10/static/queries-table-expressions.html#QUERIES-FROM) and [`LIMIT`](https://www.postgresql.org/docs/10/static/queries-limit.html). You can combine `WHERE` with a conditional expression, `IN` to check a set, or `LIKE` to compare with strings.\n",
    "\n",
    "### Python DB-API Cursor Methods\n",
    "The Python DB-API cursor can be used as an iterator or you can call it's [fetch methods](https://docs.python.org/3/library/sqlite3.html#sqlite3.Cursor.fetchone)."
   ]
  },
  {
   "cell_type": "code",
   "execution_count": 7,
   "metadata": {},
   "outputs": [
    {
     "name": "stdout",
     "output_type": "stream",
     "text": [
      "EVA is ethylene vinyl acetate\n",
      "PMMC is poly methyl methacrylate\n"
     ]
    }
   ],
   "source": [
    "# limit the query using WHERE and LIMIT\n",
    "cur.execute('SELECT material_id, long_name FROM materials WHERE alpha < 1 LIMIT 2')\n",
    "for c in cur: print('{} is {}'.format(*c))  # user the cursor as an iterator"
   ]
  },
  {
   "cell_type": "code",
   "execution_count": 8,
   "metadata": {},
   "outputs": [
    {
     "data": {
      "text/plain": [
       "[('EVA', None), ('PMMC', None)]"
      ]
     },
     "execution_count": 8,
     "metadata": {},
     "output_type": "execute_result"
    }
   ],
   "source": [
    "materials_list = (\"EVA\", \"PMMC\")\n",
    "cur.execute('SELECT alpha, beta FROM materials WHERE material_type')\n",
    "[(mat, cur.fetchone()) for mat in materials_list]  # use the cursor fetchone() method to get next item"
   ]
  },
  {
   "cell_type": "markdown",
   "metadata": {},
   "source": [
    "### Aggregates\n",
    "Your query can aggregate results like `AVG`, `SUM`, `COUNT`, `MAX`, `MIN`, etc."
   ]
  },
  {
   "cell_type": "code",
   "execution_count": 9,
   "metadata": {},
   "outputs": [
    {
     "name": "stdout",
     "output_type": "stream",
     "text": [
      "(4,)\n"
     ]
    }
   ],
   "source": [
    "cur.execute('select COUNT(*) from materials')\n",
    "print(cur.fetchone())"
   ]
  },
  {
   "cell_type": "markdown",
   "metadata": {},
   "source": [
    "### `GROUP BY`\n",
    "You can group queries by a column or a condition such as an expression, `IN`, or `LIKE`, if your selection is an aggregate."
   ]
  },
  {
   "cell_type": "code",
   "execution_count": 10,
   "metadata": {},
   "outputs": [
    {
     "data": {
      "text/plain": [
       "[('crystal', 2, 0.6065615000000001, 891000000000.0),\n",
       " ('polymer', 2, 0.456, 10.11)]"
      ]
     },
     "execution_count": 10,
     "metadata": {},
     "output_type": "execute_result"
    }
   ],
   "source": [
    "cur.execute('select material_type, COUNT(*), AVG(alpha), MAX(beta) from materials GROUP BY material_type')\n",
    "cur.fetchmany(2)  # use fetchmany() with size parameter, just for fun"
   ]
  },
  {
   "cell_type": "markdown",
   "metadata": {},
   "source": [
    "## More Practice\n",
    "Add a fictitious experiment schedule and doctor up some data!"
   ]
  },
  {
   "cell_type": "code",
   "execution_count": 11,
   "metadata": {},
   "outputs": [],
   "source": [
    "# use defaults, let primary key auto-increment, just supply material ID\n",
    "cur.execute('INSERT INTO experiments (material_id) VALUES (\"EVA\")')  # use defaults, \n",
    "conn.commit()"
   ]
  },
  {
   "cell_type": "code",
   "execution_count": 12,
   "metadata": {},
   "outputs": [
    {
     "name": "stdout",
     "output_type": "stream",
     "text": [
      "sqlite3.IntegrityError: %s NOT NULL constraint failed: experiments.material_id\n"
     ]
    }
   ],
   "source": [
    "# set up a test matrix for EVA\n",
    "temp = range(300, 400, 25)\n",
    "irrad = range(400, 800, 100)\n",
    "try:\n",
    "    for T in temp:\n",
    "        for E in irrad:\n",
    "            cur.execute('INSERT INTO experiments (temperature, irradiance) VALUES (?, ?)', (T, E))\n",
    "except sqlite3.IntegrityError as exc:\n",
    "    print('sqlite3.IntegrityError: %s', exc)\n",
    "\n",
    "# Oops! We forgot to specify the material, there is not default, and it is constrained as NOT NULL!\n",
    "conn.rollback()  # undo any changes\n",
    "try:\n",
    "    for T in temp:\n",
    "        for E in irrad:\n",
    "            cur.execute('INSERT INTO experiments (temperature, irradiance, material_id) VALUES (?, ?, \"EVA\")', (T, E))\n",
    "except sqlite3.IntegrityError as exc:\n",
    "    print(exc)\n",
    "conn.commit()  # commit! commit! commit!"
   ]
  },
  {
   "cell_type": "code",
   "execution_count": 13,
   "metadata": {},
   "outputs": [
    {
     "data": {
      "text/plain": [
       "[(1, 298.15, 1000.0, 0, 'EVA', 0.005),\n",
       " (2, 300.0, 400.0, 0, 'EVA', 0.005),\n",
       " (3, 300.0, 500.0, 0, 'EVA', 0.005),\n",
       " (4, 300.0, 600.0, 0, 'EVA', 0.005),\n",
       " (5, 300.0, 700.0, 0, 'EVA', 0.005),\n",
       " (6, 325.0, 400.0, 0, 'EVA', 0.005),\n",
       " (7, 325.0, 500.0, 0, 'EVA', 0.005),\n",
       " (8, 325.0, 600.0, 0, 'EVA', 0.005),\n",
       " (9, 325.0, 700.0, 0, 'EVA', 0.005),\n",
       " (10, 350.0, 400.0, 0, 'EVA', 0.005),\n",
       " (11, 350.0, 500.0, 0, 'EVA', 0.005),\n",
       " (12, 350.0, 600.0, 0, 'EVA', 0.005),\n",
       " (13, 350.0, 700.0, 0, 'EVA', 0.005),\n",
       " (14, 375.0, 400.0, 0, 'EVA', 0.005),\n",
       " (15, 375.0, 500.0, 0, 'EVA', 0.005),\n",
       " (16, 375.0, 600.0, 0, 'EVA', 0.005),\n",
       " (17, 375.0, 700.0, 0, 'EVA', 0.005)]"
      ]
     },
     "execution_count": 13,
     "metadata": {},
     "output_type": "execute_result"
    }
   ],
   "source": [
    "# this list is hard to read\n",
    "list(cur.execute('select * from experiments'))"
   ]
  },
  {
   "cell_type": "code",
   "execution_count": 14,
   "metadata": {},
   "outputs": [
    {
     "data": {
      "text/html": [
       "<div>\n",
       "<style scoped>\n",
       "    .dataframe tbody tr th:only-of-type {\n",
       "        vertical-align: middle;\n",
       "    }\n",
       "\n",
       "    .dataframe tbody tr th {\n",
       "        vertical-align: top;\n",
       "    }\n",
       "\n",
       "    .dataframe thead th {\n",
       "        text-align: right;\n",
       "    }\n",
       "</style>\n",
       "<table border=\"1\" class=\"dataframe\">\n",
       "  <thead>\n",
       "    <tr style=\"text-align: right;\">\n",
       "      <th></th>\n",
       "      <th>temperature</th>\n",
       "      <th>irradiance</th>\n",
       "      <th>uv_filter</th>\n",
       "      <th>material_id</th>\n",
       "      <th>thickness</th>\n",
       "    </tr>\n",
       "    <tr>\n",
       "      <th>experiment_id</th>\n",
       "      <th></th>\n",
       "      <th></th>\n",
       "      <th></th>\n",
       "      <th></th>\n",
       "      <th></th>\n",
       "    </tr>\n",
       "  </thead>\n",
       "  <tbody>\n",
       "    <tr>\n",
       "      <th>1</th>\n",
       "      <td>298.15</td>\n",
       "      <td>1000.0</td>\n",
       "      <td>0</td>\n",
       "      <td>EVA</td>\n",
       "      <td>0.005</td>\n",
       "    </tr>\n",
       "    <tr>\n",
       "      <th>2</th>\n",
       "      <td>300.00</td>\n",
       "      <td>400.0</td>\n",
       "      <td>0</td>\n",
       "      <td>EVA</td>\n",
       "      <td>0.005</td>\n",
       "    </tr>\n",
       "    <tr>\n",
       "      <th>3</th>\n",
       "      <td>300.00</td>\n",
       "      <td>500.0</td>\n",
       "      <td>0</td>\n",
       "      <td>EVA</td>\n",
       "      <td>0.005</td>\n",
       "    </tr>\n",
       "    <tr>\n",
       "      <th>4</th>\n",
       "      <td>300.00</td>\n",
       "      <td>600.0</td>\n",
       "      <td>0</td>\n",
       "      <td>EVA</td>\n",
       "      <td>0.005</td>\n",
       "    </tr>\n",
       "    <tr>\n",
       "      <th>5</th>\n",
       "      <td>300.00</td>\n",
       "      <td>700.0</td>\n",
       "      <td>0</td>\n",
       "      <td>EVA</td>\n",
       "      <td>0.005</td>\n",
       "    </tr>\n",
       "    <tr>\n",
       "      <th>6</th>\n",
       "      <td>325.00</td>\n",
       "      <td>400.0</td>\n",
       "      <td>0</td>\n",
       "      <td>EVA</td>\n",
       "      <td>0.005</td>\n",
       "    </tr>\n",
       "    <tr>\n",
       "      <th>7</th>\n",
       "      <td>325.00</td>\n",
       "      <td>500.0</td>\n",
       "      <td>0</td>\n",
       "      <td>EVA</td>\n",
       "      <td>0.005</td>\n",
       "    </tr>\n",
       "    <tr>\n",
       "      <th>8</th>\n",
       "      <td>325.00</td>\n",
       "      <td>600.0</td>\n",
       "      <td>0</td>\n",
       "      <td>EVA</td>\n",
       "      <td>0.005</td>\n",
       "    </tr>\n",
       "    <tr>\n",
       "      <th>9</th>\n",
       "      <td>325.00</td>\n",
       "      <td>700.0</td>\n",
       "      <td>0</td>\n",
       "      <td>EVA</td>\n",
       "      <td>0.005</td>\n",
       "    </tr>\n",
       "    <tr>\n",
       "      <th>10</th>\n",
       "      <td>350.00</td>\n",
       "      <td>400.0</td>\n",
       "      <td>0</td>\n",
       "      <td>EVA</td>\n",
       "      <td>0.005</td>\n",
       "    </tr>\n",
       "    <tr>\n",
       "      <th>11</th>\n",
       "      <td>350.00</td>\n",
       "      <td>500.0</td>\n",
       "      <td>0</td>\n",
       "      <td>EVA</td>\n",
       "      <td>0.005</td>\n",
       "    </tr>\n",
       "    <tr>\n",
       "      <th>12</th>\n",
       "      <td>350.00</td>\n",
       "      <td>600.0</td>\n",
       "      <td>0</td>\n",
       "      <td>EVA</td>\n",
       "      <td>0.005</td>\n",
       "    </tr>\n",
       "    <tr>\n",
       "      <th>13</th>\n",
       "      <td>350.00</td>\n",
       "      <td>700.0</td>\n",
       "      <td>0</td>\n",
       "      <td>EVA</td>\n",
       "      <td>0.005</td>\n",
       "    </tr>\n",
       "    <tr>\n",
       "      <th>14</th>\n",
       "      <td>375.00</td>\n",
       "      <td>400.0</td>\n",
       "      <td>0</td>\n",
       "      <td>EVA</td>\n",
       "      <td>0.005</td>\n",
       "    </tr>\n",
       "    <tr>\n",
       "      <th>15</th>\n",
       "      <td>375.00</td>\n",
       "      <td>500.0</td>\n",
       "      <td>0</td>\n",
       "      <td>EVA</td>\n",
       "      <td>0.005</td>\n",
       "    </tr>\n",
       "    <tr>\n",
       "      <th>16</th>\n",
       "      <td>375.00</td>\n",
       "      <td>600.0</td>\n",
       "      <td>0</td>\n",
       "      <td>EVA</td>\n",
       "      <td>0.005</td>\n",
       "    </tr>\n",
       "    <tr>\n",
       "      <th>17</th>\n",
       "      <td>375.00</td>\n",
       "      <td>700.0</td>\n",
       "      <td>0</td>\n",
       "      <td>EVA</td>\n",
       "      <td>0.005</td>\n",
       "    </tr>\n",
       "  </tbody>\n",
       "</table>\n",
       "</div>"
      ],
      "text/plain": [
       "               temperature  irradiance  uv_filter material_id  thickness\n",
       "experiment_id                                                           \n",
       "1                   298.15      1000.0          0         EVA      0.005\n",
       "2                   300.00       400.0          0         EVA      0.005\n",
       "3                   300.00       500.0          0         EVA      0.005\n",
       "4                   300.00       600.0          0         EVA      0.005\n",
       "5                   300.00       700.0          0         EVA      0.005\n",
       "6                   325.00       400.0          0         EVA      0.005\n",
       "7                   325.00       500.0          0         EVA      0.005\n",
       "8                   325.00       600.0          0         EVA      0.005\n",
       "9                   325.00       700.0          0         EVA      0.005\n",
       "10                  350.00       400.0          0         EVA      0.005\n",
       "11                  350.00       500.0          0         EVA      0.005\n",
       "12                  350.00       600.0          0         EVA      0.005\n",
       "13                  350.00       700.0          0         EVA      0.005\n",
       "14                  375.00       400.0          0         EVA      0.005\n",
       "15                  375.00       500.0          0         EVA      0.005\n",
       "16                  375.00       600.0          0         EVA      0.005\n",
       "17                  375.00       700.0          0         EVA      0.005"
      ]
     },
     "execution_count": 14,
     "metadata": {},
     "output_type": "execute_result"
    }
   ],
   "source": [
    "# not only is Pandas much nicer, it also executes queries!\n",
    "pd.read_sql('select * from experiments', conn, index_col='experiment_id')"
   ]
  },
  {
   "cell_type": "code",
   "execution_count": 15,
   "metadata": {},
   "outputs": [],
   "source": [
    "cur.close()\n",
    "conn.close()"
   ]
  },
  {
   "cell_type": "code",
   "execution_count": null,
   "metadata": {},
   "outputs": [],
   "source": []
  }
 ],
 "metadata": {
  "kernelspec": {
   "display_name": "Python 3",
   "language": "python",
   "name": "python3"
  },
  "language_info": {
   "codemirror_mode": {
    "name": "ipython",
    "version": 3
   },
   "file_extension": ".py",
   "mimetype": "text/x-python",
   "name": "python",
   "nbconvert_exporter": "python",
   "pygments_lexer": "ipython3",
   "version": "3.6.3"
  }
 },
 "nbformat": 4,
 "nbformat_minor": 2
}
