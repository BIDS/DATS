{
 "cells": [
  {
   "cell_type": "markdown",
   "metadata": {},
   "source": [
    "# Intro to SQL - The Hacker Within (2018-02-21)\n",
    "This tutorial will show you the basics of SQL:\n",
    "* creating a table\n",
    "* inserting rows\n",
    "* querying with conditions\n",
    "* joining tables with a common field\n",
    "\n",
    "## SQLite\n",
    "We are going to use [Python](https://docs.python.org/3/library/sqlite3.html) because it comes with the popular [SQLite](https://sqlite.org/index.html) ([_aka_ `etilqs`](https://www.google.com/search?q=etilqs)) relational database builtin. \n",
    "\n",
    "## Requirements\n",
    "The following examples assume you have Python 3 installed on your computer. Any distribution will do.\n",
    "\n",
    "You will also need the file called [`sqlite3.db`](./sqlite3.db) that is also in this folder. You can download it or clone the entire repository."
   ]
  },
  {
   "cell_type": "code",
   "execution_count": null,
   "metadata": {},
   "outputs": [],
   "source": [
    "# imports\n",
    "import sqlite3  # this is the module that binds to SQLite\n",
    "\n",
    "# open a connection to the database for this tutorial\n",
    "conn = sqlite3.connect('sqlite3.db')\n",
    "\n",
    "# get a cursor to the database\n",
    "c = conn.cursor()"
   ]
  },
  {
   "cell_type": "markdown",
   "metadata": {},
   "source": [
    "# Queries\n",
    "The way you select data is by executing queries."
   ]
  },
  {
   "cell_type": "code",
   "execution_count": null,
   "metadata": {},
   "outputs": [],
   "source": [
    "# get all of the movies newr\n",
    "c.execute('SELECT * FROM IMDB WHERE (titleType = \"movie\", startYear > 2000) ORDER BY startYear')\n",
    "\n",
    "# the output is a cursor\n",
    "# so you can iterator over it\n",
    "# or call one of its \"fetch\" methods\n",
    "print(c.fetchall())"
   ]
  },
  {
   "cell_type": "code",
   "execution_count": null,
   "metadata": {
    "collapsed": true
   },
   "outputs": [],
   "source": []
  }
 ],
 "metadata": {
  "kernelspec": {
   "display_name": "Python 3",
   "language": "python",
   "name": "python3"
  },
  "language_info": {
   "codemirror_mode": {
    "name": "ipython",
    "version": 3
   },
   "file_extension": ".py",
   "mimetype": "text/x-python",
   "name": "python",
   "nbconvert_exporter": "python",
   "pygments_lexer": "ipython3",
   "version": "3.6.3"
  }
 },
 "nbformat": 4,
 "nbformat_minor": 2
}
