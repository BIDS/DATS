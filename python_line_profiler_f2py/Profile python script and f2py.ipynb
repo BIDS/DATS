{
 "cells": [
  {
   "cell_type": "markdown",
   "metadata": {},
   "source": [
    "This example is prepared by [Qingkai Kong](https://github.com/qingkaikong/) (qingkai.kong@gmail.com) from [Berkeley Seismological Lab](http://seismo.berkeley.edu/) for the lightning talk at [The Hacker Within](http://www.thehackerwithin.org/berkeley/) at BIDS on April 6th 2016. \n",
    "\n",
    "> The purpose of this script is to show how I usually do to speedup my python script. And hope this is useful to you. "
   ]
  },
  {
   "cell_type": "markdown",
   "metadata": {},
   "source": [
    "## Line_profiler\n",
    "\n",
    "Many times, you find your python script is slow, but you just don't know which part drags the whole performance down. To get an idea, I usually use the [line_profiler](https://github.com/rkern/line_profiler) from Robert Kern, this is really good if you want to identify which line uses more time than you expceted, and how often each line executed. Here's a blog talking about profile python [Marco Bonzanini](http://marcobonzanini.com/2015/01/05/my-python-code-is-slow-tips-for-profiling/)\n",
    "\n",
    "You can use line_profiler either in command line or in ipython notebook. \n",
    "\n",
    "### 1 Command line\n",
    "\n",
    "In a typical workflow, one only cares about line timings of a few functions because wading through the results of timing every single line of code would be overwhelming. However, LineProfiler does need to be explicitly told what functions to profile. The easiest way to get started is to use the kernprof script.\n",
    "\n",
    "Steps:\n",
    "> \n",
    "1. in your script, you decorate the functions you want to profile with @profile. For example:\n",
    "```python\n",
    "@profile\n",
    "def function_to_profile(a, b, c):\n",
    "    ...\n",
    "```\n",
    "2. Run the following command in the terminal:\n",
    "```sh\n",
    "kernprof -v -l profile_test.py\n",
    "```\n",
    "\n",
    "\n",
    "### 2 Run in Ipython notebook\n",
    "\n",
    "To run line_profiler in the notebook, you need load the extension first, and then use the magic commands %lprun to profile the script. "
   ]
  },
  {
   "cell_type": "code",
   "execution_count": 1,
   "metadata": {
    "collapsed": false
   },
   "outputs": [],
   "source": [
    "%load_ext line_profiler"
   ]
  },
  {
   "cell_type": "code",
   "execution_count": 2,
   "metadata": {
    "collapsed": true
   },
   "outputs": [],
   "source": [
    "def example_function(myRange):\n",
    "    # directly convert range to string list\n",
    "    str_list = []\n",
    "    for i in myRange:\n",
    "        str_list.append(str(i))\n",
    "        \n",
    "def example_function2(myRange):\n",
    "    # use list comprehension to convert range to string list\n",
    "    str_list = [str(i) for i in myRange] \n",
    "        "
   ]
  },
  {
   "cell_type": "code",
   "execution_count": 3,
   "metadata": {
    "collapsed": true
   },
   "outputs": [],
   "source": [
    "%lprun -f example_function example_function(range(1000000))"
   ]
  },
  {
   "cell_type": "code",
   "execution_count": 4,
   "metadata": {
    "collapsed": true
   },
   "outputs": [],
   "source": [
    "%lprun -f example_function2 example_function2(range(1000000))"
   ]
  },
  {
   "cell_type": "markdown",
   "metadata": {},
   "source": [
    "## Using f2py\n",
    "\n",
    "f2py - Fortran to Python interface generator, is used to call Fortran 77/90/95 external subroutines and Fortran 90/95 module subroutines as well as C functions. It is part of the Numpy now. You can find more details [here](http://docs.scipy.org/doc/numpy-dev/f2py/). \n",
    "\n",
    "Let's grab the example from the above link, and compare a python version and a fortran version for speed. "
   ]
  },
  {
   "cell_type": "markdown",
   "metadata": {},
   "source": [
    "### Python version"
   ]
  },
  {
   "cell_type": "code",
   "execution_count": 5,
   "metadata": {
    "collapsed": true
   },
   "outputs": [],
   "source": [
    "import numpy as np\n",
    "\n",
    "def fib(A):\n",
    "    '''\n",
    "    CALCULATE FIRST N FIBONACCI NUMBERS\n",
    "    '''\n",
    "    n = len(A)\n",
    "    \n",
    "    for i in range(n):\n",
    "        if i == 0:\n",
    "            A[i] = 0.\n",
    "        elif i == 1:\n",
    "            A[i] = 1.\n",
    "        else:\n",
    "            A[i] = A[i-1] + A[i-2]\n",
    "            \n",
    "    return A"
   ]
  },
  {
   "cell_type": "code",
   "execution_count": 6,
   "metadata": {
    "collapsed": false
   },
   "outputs": [
    {
     "data": {
      "text/plain": [
       "array([  0.,   1.,   1.,   2.,   3.,   5.,   8.,  13.,  21.,  34.])"
      ]
     },
     "execution_count": 6,
     "metadata": {},
     "output_type": "execute_result"
    }
   ],
   "source": [
    "dat_in = np.zeros(10) \n",
    "dat_out = fib(dat_in)\n",
    "dat_out"
   ]
  },
  {
   "cell_type": "code",
   "execution_count": 7,
   "metadata": {
    "collapsed": true
   },
   "outputs": [],
   "source": [
    "dat_in = np.zeros(1000) "
   ]
  },
  {
   "cell_type": "code",
   "execution_count": 8,
   "metadata": {
    "collapsed": false
   },
   "outputs": [],
   "source": [
    "%lprun -f fib fib(dat_in)"
   ]
  },
  {
   "cell_type": "markdown",
   "metadata": {},
   "source": [
    "### Fortran version\n",
    "\n",
    "let's first write a simple fortran subroutine"
   ]
  },
  {
   "cell_type": "code",
   "execution_count": 9,
   "metadata": {
    "collapsed": false
   },
   "outputs": [
    {
     "name": "stdout",
     "output_type": "stream",
     "text": [
      "Profile python script and f2py.ipynb example.py\r\n",
      "README.md\r\n"
     ]
    }
   ],
   "source": [
    "!ls"
   ]
  },
  {
   "cell_type": "code",
   "execution_count": 10,
   "metadata": {
    "collapsed": false
   },
   "outputs": [
    {
     "name": "stdout",
     "output_type": "stream",
     "text": [
      "Writing fib1.f\n"
     ]
    }
   ],
   "source": [
    "%%writefile fib1.f\n",
    "C FILE: FIB1.F\n",
    "      SUBROUTINE FIB(A,N)\n",
    "C\n",
    "C     CALCULATE FIRST N FIBONACCI NUMBERS\n",
    "C\n",
    "      INTEGER N\n",
    "      REAL*8 A(N)\n",
    "      DO I=1,N\n",
    "         IF (I.EQ.1) THEN\n",
    "            A(I) = 0.0D0\n",
    "         ELSEIF (I.EQ.2) THEN\n",
    "            A(I) = 1.0D0\n",
    "         ELSE \n",
    "            A(I) = A(I-1) + A(I-2)\n",
    "         ENDIF\n",
    "      ENDDO\n",
    "      END\n",
    "C END FILE FIB1.F"
   ]
  },
  {
   "cell_type": "code",
   "execution_count": 11,
   "metadata": {
    "collapsed": false
   },
   "outputs": [
    {
     "name": "stdout",
     "output_type": "stream",
     "text": [
      "\u001b[39mrunning build\u001b[0m\n",
      "\u001b[39mrunning config_cc\u001b[0m\n",
      "\u001b[39munifing config_cc, config, build_clib, build_ext, build commands --compiler options\u001b[0m\n",
      "\u001b[39mrunning config_fc\u001b[0m\n",
      "\u001b[39munifing config_fc, config, build_clib, build_ext, build commands --fcompiler options\u001b[0m\n",
      "\u001b[39mrunning build_src\u001b[0m\n",
      "\u001b[39mbuild_src\u001b[0m\n",
      "\u001b[39mbuilding extension \"fib1\" sources\u001b[0m\n",
      "\u001b[39mf2py options: []\u001b[0m\n",
      "\u001b[39mf2py:> /var/folders/xh/r5lqt0053l5d6xf9tq49tkgm0000gn/T/tmpKc3cnJ/src.macosx-10.10-intel-2.7/fib1module.c\u001b[0m\n",
      "\u001b[39mcreating /var/folders/xh/r5lqt0053l5d6xf9tq49tkgm0000gn/T/tmpKc3cnJ/src.macosx-10.10-intel-2.7\u001b[0m\n",
      "Reading fortran codes...\n",
      "\tReading file 'fib1.f' (format:fix,strict)\n",
      "Post-processing...\n",
      "\tBlock: fib1\n",
      "\t\t\tBlock: fib\n",
      "Post-processing (stage 2)...\n",
      "Building modules...\n",
      "\tBuilding module \"fib1\"...\n",
      "\t\tConstructing wrapper function \"fib\"...\n",
      "\t\t  fib(a,[n])\n",
      "\tWrote C/API module \"fib1\" to file \"/var/folders/xh/r5lqt0053l5d6xf9tq49tkgm0000gn/T/tmpKc3cnJ/src.macosx-10.10-intel-2.7/fib1module.c\"\n",
      "\u001b[39m  adding '/var/folders/xh/r5lqt0053l5d6xf9tq49tkgm0000gn/T/tmpKc3cnJ/src.macosx-10.10-intel-2.7/fortranobject.c' to sources.\u001b[0m\n",
      "\u001b[39m  adding '/var/folders/xh/r5lqt0053l5d6xf9tq49tkgm0000gn/T/tmpKc3cnJ/src.macosx-10.10-intel-2.7' to include_dirs.\u001b[0m\n",
      "\u001b[39mcopying /Library/Python/2.7/site-packages/numpy/f2py/src/fortranobject.c -> /var/folders/xh/r5lqt0053l5d6xf9tq49tkgm0000gn/T/tmpKc3cnJ/src.macosx-10.10-intel-2.7\u001b[0m\n",
      "\u001b[39mcopying /Library/Python/2.7/site-packages/numpy/f2py/src/fortranobject.h -> /var/folders/xh/r5lqt0053l5d6xf9tq49tkgm0000gn/T/tmpKc3cnJ/src.macosx-10.10-intel-2.7\u001b[0m\n",
      "\u001b[39mbuild_src: building npy-pkg config files\u001b[0m\n",
      "\u001b[39mrunning build_ext\u001b[0m\n",
      "\u001b[39mcustomize UnixCCompiler\u001b[0m\n",
      "\u001b[39mcustomize UnixCCompiler using build_ext\u001b[0m\n",
      "\u001b[39mcustomize Gnu95FCompiler\u001b[0m\n",
      "\u001b[39mFound executable /usr/local/bin/gfortran\u001b[0m\n",
      "\u001b[39mcustomize Gnu95FCompiler\u001b[0m\n",
      "\u001b[39mcustomize Gnu95FCompiler using build_ext\u001b[0m\n",
      "\u001b[39mbuilding 'fib1' extension\u001b[0m\n",
      "\u001b[39mcompiling C sources\u001b[0m\n",
      "\u001b[39mC compiler: cc -fno-strict-aliasing -fno-common -dynamic -arch x86_64 -arch i386 -g -Os -pipe -fno-common -fno-strict-aliasing -fwrapv -DENABLE_DTRACE -DMACOSX -DNDEBUG -Wall -Wstrict-prototypes -Wshorten-64-to-32 -DNDEBUG -g -fwrapv -Os -Wall -Wstrict-prototypes -DENABLE_DTRACE -arch x86_64 -arch i386 -pipe\n",
      "\u001b[0m\n",
      "\u001b[39mcreating /var/folders/xh/r5lqt0053l5d6xf9tq49tkgm0000gn/T/tmpKc3cnJ/var\u001b[0m\n",
      "\u001b[39mcreating /var/folders/xh/r5lqt0053l5d6xf9tq49tkgm0000gn/T/tmpKc3cnJ/var/folders\u001b[0m\n",
      "\u001b[39mcreating /var/folders/xh/r5lqt0053l5d6xf9tq49tkgm0000gn/T/tmpKc3cnJ/var/folders/xh\u001b[0m\n",
      "\u001b[39mcreating /var/folders/xh/r5lqt0053l5d6xf9tq49tkgm0000gn/T/tmpKc3cnJ/var/folders/xh/r5lqt0053l5d6xf9tq49tkgm0000gn\u001b[0m\n",
      "\u001b[39mcreating /var/folders/xh/r5lqt0053l5d6xf9tq49tkgm0000gn/T/tmpKc3cnJ/var/folders/xh/r5lqt0053l5d6xf9tq49tkgm0000gn/T\u001b[0m\n",
      "\u001b[39mcreating /var/folders/xh/r5lqt0053l5d6xf9tq49tkgm0000gn/T/tmpKc3cnJ/var/folders/xh/r5lqt0053l5d6xf9tq49tkgm0000gn/T/tmpKc3cnJ\u001b[0m\n",
      "\u001b[39mcreating /var/folders/xh/r5lqt0053l5d6xf9tq49tkgm0000gn/T/tmpKc3cnJ/var/folders/xh/r5lqt0053l5d6xf9tq49tkgm0000gn/T/tmpKc3cnJ/src.macosx-10.10-intel-2.7\u001b[0m\n",
      "\u001b[39mcompile options: '-I/var/folders/xh/r5lqt0053l5d6xf9tq49tkgm0000gn/T/tmpKc3cnJ/src.macosx-10.10-intel-2.7 -I/Library/Python/2.7/site-packages/numpy/core/include -I/System/Library/Frameworks/Python.framework/Versions/2.7/include/python2.7 -c'\u001b[0m\n",
      "\u001b[39mcc: /var/folders/xh/r5lqt0053l5d6xf9tq49tkgm0000gn/T/tmpKc3cnJ/src.macosx-10.10-intel-2.7/fib1module.c\u001b[0m\n",
      "In file included from /var/folders/xh/r5lqt0053l5d6xf9tq49tkgm0000gn/T/tmpKc3cnJ/src.macosx-10.10-intel-2.7/fib1module.c:19:\n",
      "In file included from /var/folders/xh/r5lqt0053l5d6xf9tq49tkgm0000gn/T/tmpKc3cnJ/src.macosx-10.10-intel-2.7/fortranobject.h:13:\n",
      "In file included from /Library/Python/2.7/site-packages/numpy/core/include/numpy/arrayobject.h:4:\n",
      "In file included from /Library/Python/2.7/site-packages/numpy/core/include/numpy/ndarrayobject.h:18:\n",
      "In file included from /Library/Python/2.7/site-packages/numpy/core/include/numpy/ndarraytypes.h:1777:\n",
      "/Library/Python/2.7/site-packages/numpy/core/include/numpy/npy_1_7_deprecated_api.h:15:2: warning: \"Using deprecated NumPy API, disable it by \"          \"#defining NPY_NO_DEPRECATED_API NPY_1_7_API_VERSION\" [-W#warnings]\n",
      "#warning \"Using deprecated NumPy API, disable it by \" \\\n",
      " ^\n",
      "/var/folders/xh/r5lqt0053l5d6xf9tq49tkgm0000gn/T/tmpKc3cnJ/src.macosx-10.10-intel-2.7/fib1module.c:122:12: warning: implicit conversion loses integer precision: 'npy_intp' (aka 'long') to 'npy_int' (aka 'int') [-Wshorten-64-to-32]\n",
      "      sz = PyArray_SIZE(var);\n",
      "         ~ ^~~~~~~~~~~~~~~~~\n",
      "/Library/Python/2.7/site-packages/numpy/core/include/numpy/ndarrayobject.h:91:25: note: expanded from macro 'PyArray_SIZE'\n",
      "#define PyArray_SIZE(m) PyArray_MultiplyList(PyArray_DIMS(m), PyArray_NDIM(m))\n",
      "                        ^~~~~~~~~~~~~~~~~~~~~~~~~~~~~~~~~~~~~~~~~~~~~~~~~~~~~~\n",
      "/Library/Python/2.7/site-packages/numpy/core/include/numpy/__multiarray_api.h:1029:9: note: expanded from macro 'PyArray_MultiplyList'\n",
      "        (*(npy_intp (*)(npy_intp *, int)) \\\n",
      "        ^\n",
      "/var/folders/xh/r5lqt0053l5d6xf9tq49tkgm0000gn/T/tmpKc3cnJ/src.macosx-10.10-intel-2.7/fib1module.c:128:14: warning: implicit conversion loses integer precision: 'npy_intp' (aka 'long') to 'npy_int' (aka 'int') [-Wshorten-64-to-32]\n",
      "        sz = PyArray_DIM(var, dim-1);\n",
      "           ~ ^~~~~~~~~~~~~~~~~~~~~~~\n",
      "/Library/Python/2.7/site-packages/numpy/core/include/numpy/ndarraytypes.h:1526:29: note: expanded from macro 'PyArray_DIM'\n",
      "#define PyArray_DIM(obj,n) (PyArray_DIMS(obj)[n])\n",
      "                            ^~~~~~~~~~~~~~~~~~~~\n",
      "/Library/Python/2.7/site-packages/numpy/core/include/numpy/ndarraytypes.h:1524:27: note: expanded from macro 'PyArray_DIMS'\n",
      "#define PyArray_DIMS(obj) (((PyArrayObject_fields *)(obj))->dimensions)\n",
      "                          ^\n",
      "/var/folders/xh/r5lqt0053l5d6xf9tq49tkgm0000gn/T/tmpKc3cnJ/src.macosx-10.10-intel-2.7/fib1module.c:144:10: warning: implicit conversion loses integer precision: 'long' to 'int' [-Wshorten-64-to-32]\n",
      "    *v = PyInt_AS_LONG(tmp);\n",
      "       ~ ^~~~~~~~~~~~~~~~~~\n",
      "/System/Library/Frameworks/Python.framework/Versions/2.7/include/python2.7/intobject.h:52:51: note: expanded from macro 'PyInt_AS_LONG'\n",
      "#define PyInt_AS_LONG(op) (((PyIntObject *)(op))->ob_ival)\n",
      "                           ~~~~~~~~~~~~~~~~~~~~~~~^~~~~~~\n",
      "/var/folders/xh/r5lqt0053l5d6xf9tq49tkgm0000gn/T/tmpKc3cnJ/src.macosx-10.10-intel-2.7/fib1module.c:232:30: warning: implicit conversion loses integer precision: 'npy_intp' (aka 'long') to 'int' [-Wshorten-64-to-32]\n",
      "  if (n_capi == Py_None) n = len(a); else\n",
      "                           ~ ^~~~~~\n",
      "/var/folders/xh/r5lqt0053l5d6xf9tq49tkgm0000gn/T/tmpKc3cnJ/src.macosx-10.10-intel-2.7/fib1module.c:73:18: note: expanded from macro 'len'\n",
      "#define len(var) shape(var,0)\n",
      "                 ^~~~~~~~~~~~\n",
      "/var/folders/xh/r5lqt0053l5d6xf9tq49tkgm0000gn/T/tmpKc3cnJ/src.macosx-10.10-intel-2.7/fib1module.c:69:24: note: expanded from macro 'shape'\n",
      "#define shape(var,dim) var ## _Dims[dim]\n",
      "                       ^~~~~~~~~~~~~~~~~\n",
      "<scratch space>:100:1: note: expanded from here\n",
      "a_Dims\n",
      "^\n",
      "/var/folders/xh/r5lqt0053l5d6xf9tq49tkgm0000gn/T/tmpKc3cnJ/src.macosx-10.10-intel-2.7/fib1module.c:112:12: warning: unused function 'f2py_size' [-Wunused-function]\n",
      "static int f2py_size(PyArrayObject* var, ...)\n",
      "           ^\n",
      "6 warnings generated.\n",
      "In file included from /var/folders/xh/r5lqt0053l5d6xf9tq49tkgm0000gn/T/tmpKc3cnJ/src.macosx-10.10-intel-2.7/fib1module.c:19:\n",
      "In file included from /var/folders/xh/r5lqt0053l5d6xf9tq49tkgm0000gn/T/tmpKc3cnJ/src.macosx-10.10-intel-2.7/fortranobject.h:13:\n",
      "In file included from /Library/Python/2.7/site-packages/numpy/core/include/numpy/arrayobject.h:4:\n",
      "In file included from /Library/Python/2.7/site-packages/numpy/core/include/numpy/ndarrayobject.h:18:\n",
      "In file included from /Library/Python/2.7/site-packages/numpy/core/include/numpy/ndarraytypes.h:1777:\n",
      "/Library/Python/2.7/site-packages/numpy/core/include/numpy/npy_1_7_deprecated_api.h:15:2: warning: \"Using deprecated NumPy API, disable it by \"          \"#defining NPY_NO_DEPRECATED_API NPY_1_7_API_VERSION\" [-W#warnings]\n",
      "#warning \"Using deprecated NumPy API, disable it by \" \\\n",
      " ^\n",
      "/var/folders/xh/r5lqt0053l5d6xf9tq49tkgm0000gn/T/tmpKc3cnJ/src.macosx-10.10-intel-2.7/fib1module.c:112:12: warning: unused function 'f2py_size' [-Wunused-function]\n",
      "static int f2py_size(PyArrayObject* var, ...)\n",
      "           ^\n",
      "2 warnings generated.\n",
      "\u001b[39mcc: /var/folders/xh/r5lqt0053l5d6xf9tq49tkgm0000gn/T/tmpKc3cnJ/src.macosx-10.10-intel-2.7/fortranobject.c\u001b[0m\n",
      "In file included from /var/folders/xh/r5lqt0053l5d6xf9tq49tkgm0000gn/T/tmpKc3cnJ/src.macosx-10.10-intel-2.7/fortranobject.c:2:\n",
      "In file included from /var/folders/xh/r5lqt0053l5d6xf9tq49tkgm0000gn/T/tmpKc3cnJ/src.macosx-10.10-intel-2.7/fortranobject.h:13:\n",
      "In file included from /Library/Python/2.7/site-packages/numpy/core/include/numpy/arrayobject.h:4:\n",
      "In file included from /Library/Python/2.7/site-packages/numpy/core/include/numpy/ndarrayobject.h:18:\n",
      "In file included from /Library/Python/2.7/site-packages/numpy/core/include/numpy/ndarraytypes.h:1777:\n",
      "/Library/Python/2.7/site-packages/numpy/core/include/numpy/npy_1_7_deprecated_api.h:15:2: warning: \"Using deprecated NumPy API, disable it by \"          \"#defining NPY_NO_DEPRECATED_API NPY_1_7_API_VERSION\" [-W#warnings]\n",
      "#warning \"Using deprecated NumPy API, disable it by \" \\\n",
      " ^\n",
      "/var/folders/xh/r5lqt0053l5d6xf9tq49tkgm0000gn/T/tmpKc3cnJ/src.macosx-10.10-intel-2.7/fortranobject.c:60:73: warning: implicit conversion loses integer precision: 'npy_intp' (aka 'long') to 'int' [-Wshorten-64-to-32]\n",
      "                                    NPY_STRING, NULL, fp->defs[i].data, fp->defs[i].dims.d[n],\n",
      "                                                                        ^~~~~~~~~~~~~~~~~~~~~\n",
      "2 warnings generated.\n",
      "In file included from /var/folders/xh/r5lqt0053l5d6xf9tq49tkgm0000gn/T/tmpKc3cnJ/src.macosx-10.10-intel-2.7/fortranobject.c:2:\n",
      "In file included from /var/folders/xh/r5lqt0053l5d6xf9tq49tkgm0000gn/T/tmpKc3cnJ/src.macosx-10.10-intel-2.7/fortranobject.h:13:\n",
      "In file included from /Library/Python/2.7/site-packages/numpy/core/include/numpy/arrayobject.h:4:\n",
      "In file included from /Library/Python/2.7/site-packages/numpy/core/include/numpy/ndarrayobject.h:18:\n",
      "In file included from /Library/Python/2.7/site-packages/numpy/core/include/numpy/ndarraytypes.h:1777:\n",
      "/Library/Python/2.7/site-packages/numpy/core/include/numpy/npy_1_7_deprecated_api.h:15:2: warning: \"Using deprecated NumPy API, disable it by \"          \"#defining NPY_NO_DEPRECATED_API NPY_1_7_API_VERSION\" [-W#warnings]\n",
      "#warning \"Using deprecated NumPy API, disable it by \" \\\n",
      " ^\n",
      "1 warning generated.\n",
      "\u001b[39mcompiling Fortran sources\u001b[0m\n",
      "\u001b[39mFortran f77 compiler: /usr/local/bin/gfortran -Wall -g -ffixed-form -fno-second-underscore -arch x86_64 -fPIC -O3 -funroll-loops\n",
      "Fortran f90 compiler: /usr/local/bin/gfortran -Wall -g -fno-second-underscore -arch x86_64 -fPIC -O3 -funroll-loops\n",
      "Fortran fix compiler: /usr/local/bin/gfortran -Wall -g -ffixed-form -fno-second-underscore -Wall -g -fno-second-underscore -arch x86_64 -fPIC -O3 -funroll-loops\u001b[0m\n",
      "\u001b[39mcompile options: '-I/var/folders/xh/r5lqt0053l5d6xf9tq49tkgm0000gn/T/tmpKc3cnJ/src.macosx-10.10-intel-2.7 -I/Library/Python/2.7/site-packages/numpy/core/include -I/System/Library/Frameworks/Python.framework/Versions/2.7/include/python2.7 -c'\u001b[0m\n",
      "\u001b[39mgfortran:f77: fib1.f\u001b[0m\n",
      "\u001b[39m/usr/local/bin/gfortran -Wall -g -arch x86_64 -Wall -g -undefined dynamic_lookup -bundle /var/folders/xh/r5lqt0053l5d6xf9tq49tkgm0000gn/T/tmpKc3cnJ/var/folders/xh/r5lqt0053l5d6xf9tq49tkgm0000gn/T/tmpKc3cnJ/src.macosx-10.10-intel-2.7/fib1module.o /var/folders/xh/r5lqt0053l5d6xf9tq49tkgm0000gn/T/tmpKc3cnJ/var/folders/xh/r5lqt0053l5d6xf9tq49tkgm0000gn/T/tmpKc3cnJ/src.macosx-10.10-intel-2.7/fortranobject.o /var/folders/xh/r5lqt0053l5d6xf9tq49tkgm0000gn/T/tmpKc3cnJ/fib1.o -L/usr/local/Cellar/gcc/5.3.0/lib/gcc/5/gcc/x86_64-apple-darwin14.5.0/5.3.0 -lgfortran -o ./fib1.so\u001b[0m\n",
      "Removing build directory /var/folders/xh/r5lqt0053l5d6xf9tq49tkgm0000gn/T/tmpKc3cnJ\n"
     ]
    }
   ],
   "source": [
    "!f2py -c fib1.f -m fib1"
   ]
  },
  {
   "cell_type": "code",
   "execution_count": 12,
   "metadata": {
    "collapsed": false
   },
   "outputs": [
    {
     "name": "stdout",
     "output_type": "stream",
     "text": [
      "Profile python script and f2py.ipynb fib1.f\r\n",
      "README.md                            \u001b[31mfib1.so\u001b[m\u001b[m\r\n",
      "example.py                           \u001b[34mfib1.so.dSYM\u001b[m\u001b[m\r\n"
     ]
    }
   ],
   "source": [
    "!ls"
   ]
  },
  {
   "cell_type": "markdown",
   "metadata": {},
   "source": [
    "You can see it created an python interface fib1.so. Now you can import the function into python."
   ]
  },
  {
   "cell_type": "code",
   "execution_count": 13,
   "metadata": {
    "collapsed": true
   },
   "outputs": [],
   "source": [
    "import fib1\n",
    "import numpy as np"
   ]
  },
  {
   "cell_type": "code",
   "execution_count": 14,
   "metadata": {
    "collapsed": false
   },
   "outputs": [
    {
     "name": "stdout",
     "output_type": "stream",
     "text": [
      "fib(a,[n])\n",
      "\n",
      "Wrapper for ``fib``.\n",
      "\n",
      "Parameters\n",
      "----------\n",
      "a : input rank-1 array('d') with bounds (n)\n",
      "\n",
      "Other Parameters\n",
      "----------------\n",
      "n : input int, optional\n",
      "    Default: len(a)\n",
      "\n"
     ]
    }
   ],
   "source": [
    "print fib1.fib.__doc__"
   ]
  },
  {
   "cell_type": "code",
   "execution_count": 15,
   "metadata": {
    "collapsed": false
   },
   "outputs": [],
   "source": [
    "a = np.zeros(9)"
   ]
  },
  {
   "cell_type": "code",
   "execution_count": 16,
   "metadata": {
    "collapsed": true
   },
   "outputs": [],
   "source": [
    "fib1.fib(a)"
   ]
  },
  {
   "cell_type": "code",
   "execution_count": 17,
   "metadata": {
    "collapsed": false
   },
   "outputs": [
    {
     "data": {
      "text/plain": [
       "array([  0.,   1.,   1.,   2.,   3.,   5.,   8.,  13.,  21.])"
      ]
     },
     "execution_count": 17,
     "metadata": {},
     "output_type": "execute_result"
    }
   ],
   "source": [
    "a"
   ]
  },
  {
   "cell_type": "markdown",
   "metadata": {},
   "source": [
    "Let's compare the time of both function, we can see for this exmaple, the fortran version is about 100 times faster than the python version."
   ]
  },
  {
   "cell_type": "code",
   "execution_count": 18,
   "metadata": {
    "collapsed": true
   },
   "outputs": [],
   "source": [
    "a = np.zeros(1000)"
   ]
  },
  {
   "cell_type": "code",
   "execution_count": 19,
   "metadata": {
    "collapsed": false
   },
   "outputs": [
    {
     "name": "stdout",
     "output_type": "stream",
     "text": [
      "100000 loops, best of 3: 2.66 µs per loop\n"
     ]
    }
   ],
   "source": [
    "%timeit fib1.fib(a)"
   ]
  },
  {
   "cell_type": "code",
   "execution_count": 20,
   "metadata": {
    "collapsed": false
   },
   "outputs": [
    {
     "name": "stdout",
     "output_type": "stream",
     "text": [
      "1000 loops, best of 3: 363 µs per loop\n"
     ]
    }
   ],
   "source": [
    "%timeit fib(a)"
   ]
  },
  {
   "cell_type": "markdown",
   "metadata": {},
   "source": [
    "## My workflow\n",
    "\n",
    "When I start some script, I usually use the following workflow to speedup:\n",
    "\n",
    "1. write python script\n",
    "2. profile it line by line\n",
    "3. finding some stupid thing that can be easily fix (I found this many times)\n",
    "4. parallel the part that used a lot of time\n",
    "5. use a f2py to take advantage of the fotran speed"
   ]
  }
 ],
 "metadata": {
  "kernelspec": {
   "display_name": "Python 2",
   "language": "python",
   "name": "python2"
  },
  "language_info": {
   "codemirror_mode": {
    "name": "ipython",
    "version": 2
   },
   "file_extension": ".py",
   "mimetype": "text/x-python",
   "name": "python",
   "nbconvert_exporter": "python",
   "pygments_lexer": "ipython2",
   "version": "2.7.10"
  }
 },
 "nbformat": 4,
 "nbformat_minor": 0
}
