{
 "cells": [
  {
   "cell_type": "markdown",
   "metadata": {},
   "source": [
    "# Messing Around with Scikit-Learn"
   ]
  },
  {
   "cell_type": "code",
   "execution_count": 1,
   "metadata": {
    "collapsed": true
   },
   "outputs": [],
   "source": [
    "import IPython.core.display as disp"
   ]
  },
  {
   "cell_type": "markdown",
   "metadata": {},
   "source": [
    "The plan for today:\n",
    "\n",
    " - **Part 1**: I will regurgitate some of the scikit-learn documentation at you, in ipython notebook form\n",
    " - **Part 2**: Shannon will give an example of scikit-learn in the wild"
   ]
  },
  {
   "cell_type": "markdown",
   "metadata": {},
   "source": [
    "## The basics: What is scikit-learn?\n",
    "\n",
    "Scikit-learn, or `sklearn`, is a machine learning package for python. It is built on the familiar scientific python tools (numpy, scipy, matplotlib, etc.) and thus plays very nicely with data in the form of numpy arrays (a cursory googling shows people are also working on [better integrating sklearn with other popular pythonic data structures like pandas DataFrames](https://github.com/paulgb/sklearn-pandas)).\n",
    "\n",
    "This notebook is really just an aggregation of some of the things from the sklearn documentation that I thought were interesting and/or useful. The [documentation](http://scikit-learn.org/stable/documentation.html) is really quite well organized in my opinion, so if you are curious about the layout of scikit learn or whether it has specific capabilities that you're interested in, go check it out!"
   ]
  },
  {
   "cell_type": "markdown",
   "metadata": {
    "collapsed": true
   },
   "source": [
    "## When should you use scikit-learn?\n",
    "\n",
    "When you have data with many samples that you can formulate into a learning problem. In other words, you'd like to find patterns within that data and/or predict properties of unknown data. The [documentation](http://scikit-learn.org/stable/tutorial/basic/tutorial.html) breaks down learning problems into the following categories:\n",
    "\n",
    " - **Supervised learning**\n",
    "   \n",
    "   You have input data and corresponding properties that you'd like to learn from your data to predict the\n",
    "   properties of unknown data. This can fall into a couple different sub-categories:\n",
    "   \n",
    "    - **Classification**: When the data fall into two or more discrete categories; classifying hand-written digits\n",
    "    for example.\n",
    "    \n",
    "    - **Regression**: similar to classification, but the output is a continuous variable rather than trying to \n",
    "    solve for group membership. An example of regression problem might be predicting shoe size based on age, \n",
    "    weight, and gender\n",
    "        \n",
    " - **Unsupervised learning**\n",
    " \n",
    "   You have input data, but no corresponding labels or dependent variable. Instead of trying to use the data to \n",
    "   predict some output for unknown data, you're more interested in finding structure in the data that is not \n",
    "   immediately apparent. For example, you might be interested in \n",
    "   detecting clusters in the input data, or dimensionality reduction to identify components that introduce the most\n",
    "   variability in your data, or to aid in visualization.\n",
    "   \n",
    "### Summary\n",
    "`sklearn` may be a good fit for cases where:\n",
    "\n",
    "1. You have moderately sized data (>50 samples, but not \"big data\")\n",
    "  - For instance, the svm.SVC classifier fit method is worse than quadratic in the number of samples, so the\n",
    "    documentation recommends you limit use of this classifier to datasets with less than a few 10,000's samples.\n",
    "<img src=http://cdn.meme.am/instances/500x/47510205.jpg>\n",
    "\n",
    "2. You are interested in trying off-the-shelf machine learning algorithms to explore data with good performance and low learning curve\n",
    "  - `sklearn` implements quite a few regression, classification, and unsupervised learning methods, but is not\n",
    "     all-inclusive. The goal of `sklearn` to make popular machine learning approaches accessible rather than \n",
    "     implementing every algorithm out there."
   ]
  },
  {
   "cell_type": "markdown",
   "metadata": {},
   "source": [
    "### Drawbacks and Caveats\n",
    "\n",
    "`sklearn` is not a silver bullet for all types of data and every application. The documentation readily states that the goal of `sklearn` is to do a few things "
   ]
  }
 ],
 "metadata": {
  "kernelspec": {
   "display_name": "Python 2",
   "language": "python",
   "name": "python2"
  },
  "language_info": {
   "codemirror_mode": {
    "name": "ipython",
    "version": 2
   },
   "file_extension": ".py",
   "mimetype": "text/x-python",
   "name": "python",
   "nbconvert_exporter": "python",
   "pygments_lexer": "ipython2",
   "version": "2.7.6"
  }
 },
 "nbformat": 4,
 "nbformat_minor": 0
}
