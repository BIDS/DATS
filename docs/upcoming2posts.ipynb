{
 "cells": [
  {
   "cell_type": "markdown",
   "metadata": {},
   "source": [
    "# upcoming2posts\n",
    "\n",
    "By Stuart Geiger (@staeiou), MIT license\n",
    "\n",
    "This is a script you run the day after THW, which changes yesterday's file from \"upcoming\" to \"posts\" so that the next week's topic shows on the main page."
   ]
  },
  {
   "cell_type": "code",
   "execution_count": 78,
   "metadata": {},
   "outputs": [
    {
     "name": "stdout",
     "output_type": "stream",
     "text": [
      "Already up-to-date.\r\n"
     ]
    }
   ],
   "source": [
    "!git pull"
   ]
  },
  {
   "cell_type": "code",
   "execution_count": 1,
   "metadata": {},
   "outputs": [],
   "source": [
    "import datetime\n",
    "from datetime import timedelta\n",
    "import os\n",
    "import glob\n",
    "import re"
   ]
  },
  {
   "cell_type": "code",
   "execution_count": 21,
   "metadata": {},
   "outputs": [],
   "source": [
    "today = datetime.date.today()\n",
    "yesterday = today - timedelta(7)\n"
   ]
  },
  {
   "cell_type": "code",
   "execution_count": 24,
   "metadata": {
    "collapsed": true
   },
   "outputs": [],
   "source": [
    "if yesterday.isoweekday() == 1:\n",
    "    yesterday_str = yesterday.strftime(\"%Y-%m-%d\")\n",
    "    "
   ]
  },
  {
   "cell_type": "code",
   "execution_count": 25,
   "metadata": {},
   "outputs": [
    {
     "data": {
      "text/plain": [
       "'2018-09-10'"
      ]
     },
     "execution_count": 25,
     "metadata": {},
     "output_type": "execute_result"
    }
   ],
   "source": [
    "yesterday_str"
   ]
  },
  {
   "cell_type": "code",
   "execution_count": 26,
   "metadata": {},
   "outputs": [],
   "source": [
    "filename = glob.glob(\"_posts/\" + yesterday_str + \"*\")[0]"
   ]
  },
  {
   "cell_type": "code",
   "execution_count": 27,
   "metadata": {},
   "outputs": [
    {
     "data": {
      "text/plain": [
       "'---\\nlayout: post2\\ntitle: Mark Mikofski -- Git Version Control with GitHub\\ntime: 4-5:30pm\\ncomments: true\\ncategory: upcoming\\ntags: meeting\\n---\\n\\n# Agenda\\n1. [Requirements](#requirements)\\n2. [Objectives](#objectives)\\n3. [What is Git VCS?](#git-vcs)\\n4. [GitHub](#github)\\n5. [GitHub Pages](#github-pages)\\n6. [SSH or HTTPS](#ssh-or-https)\\n7. [Git Primer](#git-primer)\\n8. [Winning Workflow](#winning-workflow)\\n\\n## Requirements\\nTo prepare for this tutorial make sure you have the following:\\n\\n1. We\\'re going to use Git, so make sure you have Git installed on a laptop,\\nand of course, don\\'t forget to bring your laptop to the tutorial.\\n\\n    - **MacOS**: you already have git, open a terminal and type git\\n\\n    - **Windows**: install [Git-for-Windows](https://gitforwindows.org/), no admin\\n\\n    - **Linux**: use your app manager, *eg* Ubuntu: `sudo apt install git`\\n\\n   For more info, see the [Git SCM Book on installing Git](https://git-scm.com/book/en/v2/Getting-Started-Installing-Git)\\n\\n2. We\\'re going to make a personal webpage on GitHub, so make sure your computer\\nhas working internet access. AFAIK anyone can use\\n[CalVisitor or AirBears WiFi](https://studenttech.berkeley.edu/get-online)\\nconnection for free.\\n3. If you are not already registered for GitHub, please create an account. I\\nstrongly recommend that you enable\\n[two factor authentication](https://help.github.com/articles/securing-your-account-with-two-factor-authentication-2fa/)\\nusing an app like Google Authenticator.\\n4. You\\'ll probably want a basic editor like Notepad on Windows, TextEdit on Mac,\\nand gedit in Linux, or you can also just edit your files directly on GitHub.\\nAnything will do, but *not* a word-processor, no, and a fullblown IDE is also\\nprobably overkill. Something like [Sublime Text](https://www.sublimetext.com/)\\nor [Notepad++](https://notepad-plus-plus.org/) is just right IMHO.\\n5. A willingness to participate, try new things, make mistakes, learn and have fun!\\n\\n## Objectives\\nAt the end of this tutorial you will be able to do the following:\\n\\n1. explain to a colleague what version control is, why it\\'s important, what it\\'s\\nimportant for, and when to use it\\n2. use Git to version control your documents between iterations\\n3. teach a coworker to use basic git commands, and to create a pull request on GitHub\\n4. collaborate with others on GitHub using a feature-branch workflow\\n5. make a personal webpage using GitHub Pages\\n\\n## Git VCS\\nWhat is Git? And why is it important? \\n\\n### In case of fire, git commit, git push and leave the building\\n![In case of fire, git commit, git push and leave the building](../images/in_case_of_fire.png)\\n\\n*From [GitHub repo `in-case-of-fire`](https://github.com/louim/in-case-of-fire)\\n(c) 2015 [Louis-Michel Couture](https://twitter.com/louim)*\\n\\n### Git on Git\\n>Git is a [free and open source](https://git-scm.com/about/free-and-open-source)\\ndistributed version control system designed to handle everything from small to\\nvery large projects with speed and efficiency. [1]\\n\\n### XKCD on Git\\n![xkcd 1597: Git](https://imgs.xkcd.com/comics/git.png)\\n\\n### Version Control Software (VCS) _aka_ Source Code Management (SCM)\\nBut what is Version Control?\\n\\n> ... version control, _aka_ source control, is the management of changes to\\ndocuments, computer programs, large web sites, and other collections of\\ninformation. [2]\\n\\nWhether you\\'re writing a dissertation, developing an analysis, or writing code,\\nyou will revise, revise, and revise. Each iteration is important. Using Git VCS\\ngives you the ability:\\n\\n* to reverse your work\\n* take a new direction without losing your current position\\n* recover from a hard drive crash\\n* continue your work from a different laptop\\n* collaborate with others, \\n\\n#### References\\n1. [Git SCM](https://git-scm.com/)\\n2. [Wikipedia: Version Control](https://en.wikipedia.org/wiki/Version_control)\\n\\n## GitHub\\nRepeat the following 3 times out loud:\\n\\n>Git is *not* GitHub, and GitHub is *not* Git.\\n\\nGitHub is an online hosted Git service that acts as a centralized repository\\nfor its users. You can create and clone Git repositories on GitHub, and you can\\npull from and push to Git repositories on GitHub, just as if they were on your\\nown laptop, another networked laptop, or another  online Git hosting service\\nlike Bitbucket or GitLab.\\n\\nIf you have not already created a GitHub account, you need to create one now to\\nparticipate in this tutorial. Also, I encourage you to enable two-factor\\nauthentication (TFA on your GitHub account, and store your backup codes in a\\nsafe location, that you will remember. TFA makes it more difficult to hack your\\naccount.\\n\\n## GitHub Pages\\nGitHub allows users to host static content on [GitHub Pages](https://pages.github.com/).\\nContent written in markdown is automatically rendered as html using\\n[Jekyll](https://jekyllrb.com/), a Ruby static content generator. GitHub offers\\nthemes to beautify your site look and layout. It\\'s a great place to host your\\npersonal website.\\n\\n1. To create your personal GitHub Page, you need to create a new repository called\\n`<your-github-username>.github.io`, for example `mikofski.github.io`.\\n\\n2. After the new repository is created, open the repository settings, and select\\ntheme chooser.\\n\\n3. After Choosing a theme, an online editor opens with `index.md`. You can make\\nedits to this file like change the title to your name.\\n\\n4. Scroll to the bottom, find where it says commit directly to master, in the\\nfirst field enter, \"initial commit\", and then press the commit button.\\n\\n**Congratulations!** You\\'ve just made your first Git commit on GitHub, and created\\nyour personal website. But, it\\'s far from done. It could use a little mroe work.\\nLet\\'s take it offline, and iterate on it, till it\\'s just the way you want.\\n\\n## SSH or HTTPS\\nIn order to pull the repository to your laptop, you\\'ll have to prove to GitHub,\\nthat you are who you say you are, and that you have permission to edit the site.\\nThere are two ways to authenticate to GitHub:\\n\\n- **SSH**: you create a pair of keys, keep one private, and upload the public\\nkey to GitHub. (Recommended)\\n\\n  1. if your laptop has a folder called `.ssh` in your user profile and it\\n  contains two files called `id_rsa` and `id_rsa.pub` then skip to step 4.\\n\\n  2. if your laptop does *not* have a `.ssh` folder, then open a shell type\\n  `ssh-keygen`\\n\\n  3. when prompted to for a passphrase, enter something that is easy to remember\\n\\n  4. on your laptop in a shell, type\\n\\n         $ eval `ssh-agent`\\n         $ ssh-add\\n\\n  5. if prompted for you passphrase and you know it, enter it, but if you don\\'t\\n  know it, then kill the shell, delete the `.ssh` folder, and restart from step 2\\n\\n  6. on you laptop, open the `id_rsa.pub` file in `.ssh/` and copy the contents\\n\\n  7. online in your personal GitHub profile, in settings under SSH keys, click\\n  New SSH key, paste the contents of your public key and click Add SSH key to save\\n\\n- **HTTPS**: You use your GitHub username and password, but if you enabled TFA,\\nthis becomes more complicated. You have two more options:\\n\\n  * Windows: do nothing, Microsoft has already installed a credential manager\\n  that works with GitHub to prompt you for your TFA code.\\n\\n  * Mac/Linux Option A: create a personal access token with repo access\\n\\n    1. in your personal GitHub profile under developer settings click generate\\n    new personal access token, and check the repo full access box\\n\\n    2. on your laptop enable git credential store by typing\\n    `git config credential.store`\\n\\n    3. then when prompted by Git, use your GitHub username, and the personal\\n    access token as your password.\\n\\n  * Mac/Linux Option B: download and\\n  [install the Microsoft Git Crendential manager](https://github.com/Microsoft/Git-Credential-Manager-for-Mac-and-Linux/blob/master/Install.md) - this does\\n  everything in option 1 for you (Recommended)\\n\\n## Git Primer\\nThe most important Git command is `git`. If you type it in a terminal you get a\\nlist of the other most important Git commands such as `init`, `clone`, `status`,\\n`log`, `diff`, `add`, `commit`, `checkout`, `remote add`, `pull`, and `push`.\\n\\nThe first thing you should do, after setting up your `.ssh` keys is to tell Git\\nyour full name and email address to use. Then we can get your new website and\\nstart hacking on it. The following commands are entered in a shell in a folder\\nyou use for projects for. \\n\\n1. Add your name and email using `git config`:\\n\\n       $ git config --global user.name \"Your Name Comes Here\"\\n       $ git config --global user.email you@yourdomain.example.com\\n\\n2. Clone your GitHub repository to your laptop using `git clone`:\\n\\n       # if you\\'re using SSH\\n       $ git clone git@github.com:<github-username>/<github-username>.github.io.git\\n\\n       # if you\\'re using HTTPS\\n       $ git clone https://github.com/<github-username>/<github-username>.github.io.git\\n\\n3. Enter the newly cloned repo, display the remotes and the log\\n\\n       $ git log\\n       $ git remote\\n       $ git remote show origin\\n\\n4. Now open your editor and make some changes to your `index.md` file.\\n\\n5. Before you make too many changes, go back to the shell and view the status,\\na diff from the previous version, and commit your changes\\n\\n       $ git status\\n       $ git diff\\n       $ git commit -am \"put any message here, usually under 50 characters\"\\n\\n### XKCD on Git Commit\\n![xkcd 1296: Git Commit](https://imgs.xkcd.com/comics/git_commit.png)\\n\\n## Winning Workflow\\nThe secret power of using Git with GitHub is how easy it makes collaborating\\nwith others. AFAIK the feature-branch workflow is the most frequent method of\\ncollaboration on GitHub. I outlined it\\'s steps in a THW-Berkeley talk last year\\non [using GitHub in OSS](https://bids.github.io/dats/posts/2017-10-04-github-oss-f17.html).\\n\\n## Additional Info\\n- [GitHub help pages](https://help.github.com/) are a wealth of info.\\n- [Oh Shit Git!](https://ohshitgit.com/) is a funny.\\n- [Git SCM Documentation](https://git-scm.com/doc) is the official source.\\n'"
      ]
     },
     "execution_count": 27,
     "metadata": {},
     "output_type": "execute_result"
    }
   ],
   "source": [
    "with open(filename, \"r\") as file:\n",
    "    file_text = file.read()\n",
    "file_text"
   ]
  },
  {
   "cell_type": "code",
   "execution_count": 28,
   "metadata": {},
   "outputs": [
    {
     "data": {
      "text/plain": [
       "'---\\nlayout: post2\\ntitle: Mark Mikofski -- Git Version Control with GitHub\\ntime: 4-5:30pm\\ncomments: true\\ncategory: posts\\ntags: meeting\\n---\\n\\n# Agenda\\n1. [Requirements](#requirements)\\n2. [Objectives](#objectives)\\n3. [What is Git VCS?](#git-vcs)\\n4. [GitHub](#github)\\n5. [GitHub Pages](#github-pages)\\n6. [SSH or HTTPS](#ssh-or-https)\\n7. [Git Primer](#git-primer)\\n8. [Winning Workflow](#winning-workflow)\\n\\n## Requirements\\nTo prepare for this tutorial make sure you have the following:\\n\\n1. We\\'re going to use Git, so make sure you have Git installed on a laptop,\\nand of course, don\\'t forget to bring your laptop to the tutorial.\\n\\n    - **MacOS**: you already have git, open a terminal and type git\\n\\n    - **Windows**: install [Git-for-Windows](https://gitforwindows.org/), no admin\\n\\n    - **Linux**: use your app manager, *eg* Ubuntu: `sudo apt install git`\\n\\n   For more info, see the [Git SCM Book on installing Git](https://git-scm.com/book/en/v2/Getting-Started-Installing-Git)\\n\\n2. We\\'re going to make a personal webpage on GitHub, so make sure your computer\\nhas working internet access. AFAIK anyone can use\\n[CalVisitor or AirBears WiFi](https://studenttech.berkeley.edu/get-online)\\nconnection for free.\\n3. If you are not already registered for GitHub, please create an account. I\\nstrongly recommend that you enable\\n[two factor authentication](https://help.github.com/articles/securing-your-account-with-two-factor-authentication-2fa/)\\nusing an app like Google Authenticator.\\n4. You\\'ll probably want a basic editor like Notepad on Windows, TextEdit on Mac,\\nand gedit in Linux, or you can also just edit your files directly on GitHub.\\nAnything will do, but *not* a word-processor, no, and a fullblown IDE is also\\nprobably overkill. Something like [Sublime Text](https://www.sublimetext.com/)\\nor [Notepad++](https://notepad-plus-plus.org/) is just right IMHO.\\n5. A willingness to participate, try new things, make mistakes, learn and have fun!\\n\\n## Objectives\\nAt the end of this tutorial you will be able to do the following:\\n\\n1. explain to a colleague what version control is, why it\\'s important, what it\\'s\\nimportant for, and when to use it\\n2. use Git to version control your documents between iterations\\n3. teach a coworker to use basic git commands, and to create a pull request on GitHub\\n4. collaborate with others on GitHub using a feature-branch workflow\\n5. make a personal webpage using GitHub Pages\\n\\n## Git VCS\\nWhat is Git? And why is it important? \\n\\n### In case of fire, git commit, git push and leave the building\\n![In case of fire, git commit, git push and leave the building](../images/in_case_of_fire.png)\\n\\n*From [GitHub repo `in-case-of-fire`](https://github.com/louim/in-case-of-fire)\\n(c) 2015 [Louis-Michel Couture](https://twitter.com/louim)*\\n\\n### Git on Git\\n>Git is a [free and open source](https://git-scm.com/about/free-and-open-source)\\ndistributed version control system designed to handle everything from small to\\nvery large projects with speed and efficiency. [1]\\n\\n### XKCD on Git\\n![xkcd 1597: Git](https://imgs.xkcd.com/comics/git.png)\\n\\n### Version Control Software (VCS) _aka_ Source Code Management (SCM)\\nBut what is Version Control?\\n\\n> ... version control, _aka_ source control, is the management of changes to\\ndocuments, computer programs, large web sites, and other collections of\\ninformation. [2]\\n\\nWhether you\\'re writing a dissertation, developing an analysis, or writing code,\\nyou will revise, revise, and revise. Each iteration is important. Using Git VCS\\ngives you the ability:\\n\\n* to reverse your work\\n* take a new direction without losing your current position\\n* recover from a hard drive crash\\n* continue your work from a different laptop\\n* collaborate with others, \\n\\n#### References\\n1. [Git SCM](https://git-scm.com/)\\n2. [Wikipedia: Version Control](https://en.wikipedia.org/wiki/Version_control)\\n\\n## GitHub\\nRepeat the following 3 times out loud:\\n\\n>Git is *not* GitHub, and GitHub is *not* Git.\\n\\nGitHub is an online hosted Git service that acts as a centralized repository\\nfor its users. You can create and clone Git repositories on GitHub, and you can\\npull from and push to Git repositories on GitHub, just as if they were on your\\nown laptop, another networked laptop, or another  online Git hosting service\\nlike Bitbucket or GitLab.\\n\\nIf you have not already created a GitHub account, you need to create one now to\\nparticipate in this tutorial. Also, I encourage you to enable two-factor\\nauthentication (TFA on your GitHub account, and store your backup codes in a\\nsafe location, that you will remember. TFA makes it more difficult to hack your\\naccount.\\n\\n## GitHub Pages\\nGitHub allows users to host static content on [GitHub Pages](https://pages.github.com/).\\nContent written in markdown is automatically rendered as html using\\n[Jekyll](https://jekyllrb.com/), a Ruby static content generator. GitHub offers\\nthemes to beautify your site look and layout. It\\'s a great place to host your\\npersonal website.\\n\\n1. To create your personal GitHub Page, you need to create a new repository called\\n`<your-github-username>.github.io`, for example `mikofski.github.io`.\\n\\n2. After the new repository is created, open the repository settings, and select\\ntheme chooser.\\n\\n3. After Choosing a theme, an online editor opens with `index.md`. You can make\\nedits to this file like change the title to your name.\\n\\n4. Scroll to the bottom, find where it says commit directly to master, in the\\nfirst field enter, \"initial commit\", and then press the commit button.\\n\\n**Congratulations!** You\\'ve just made your first Git commit on GitHub, and created\\nyour personal website. But, it\\'s far from done. It could use a little mroe work.\\nLet\\'s take it offline, and iterate on it, till it\\'s just the way you want.\\n\\n## SSH or HTTPS\\nIn order to pull the repository to your laptop, you\\'ll have to prove to GitHub,\\nthat you are who you say you are, and that you have permission to edit the site.\\nThere are two ways to authenticate to GitHub:\\n\\n- **SSH**: you create a pair of keys, keep one private, and upload the public\\nkey to GitHub. (Recommended)\\n\\n  1. if your laptop has a folder called `.ssh` in your user profile and it\\n  contains two files called `id_rsa` and `id_rsa.pub` then skip to step 4.\\n\\n  2. if your laptop does *not* have a `.ssh` folder, then open a shell type\\n  `ssh-keygen`\\n\\n  3. when prompted to for a passphrase, enter something that is easy to remember\\n\\n  4. on your laptop in a shell, type\\n\\n         $ eval `ssh-agent`\\n         $ ssh-add\\n\\n  5. if prompted for you passphrase and you know it, enter it, but if you don\\'t\\n  know it, then kill the shell, delete the `.ssh` folder, and restart from step 2\\n\\n  6. on you laptop, open the `id_rsa.pub` file in `.ssh/` and copy the contents\\n\\n  7. online in your personal GitHub profile, in settings under SSH keys, click\\n  New SSH key, paste the contents of your public key and click Add SSH key to save\\n\\n- **HTTPS**: You use your GitHub username and password, but if you enabled TFA,\\nthis becomes more complicated. You have two more options:\\n\\n  * Windows: do nothing, Microsoft has already installed a credential manager\\n  that works with GitHub to prompt you for your TFA code.\\n\\n  * Mac/Linux Option A: create a personal access token with repo access\\n\\n    1. in your personal GitHub profile under developer settings click generate\\n    new personal access token, and check the repo full access box\\n\\n    2. on your laptop enable git credential store by typing\\n    `git config credential.store`\\n\\n    3. then when prompted by Git, use your GitHub username, and the personal\\n    access token as your password.\\n\\n  * Mac/Linux Option B: download and\\n  [install the Microsoft Git Crendential manager](https://github.com/Microsoft/Git-Credential-Manager-for-Mac-and-Linux/blob/master/Install.md) - this does\\n  everything in option 1 for you (Recommended)\\n\\n## Git Primer\\nThe most important Git command is `git`. If you type it in a terminal you get a\\nlist of the other most important Git commands such as `init`, `clone`, `status`,\\n`log`, `diff`, `add`, `commit`, `checkout`, `remote add`, `pull`, and `push`.\\n\\nThe first thing you should do, after setting up your `.ssh` keys is to tell Git\\nyour full name and email address to use. Then we can get your new website and\\nstart hacking on it. The following commands are entered in a shell in a folder\\nyou use for projects for. \\n\\n1. Add your name and email using `git config`:\\n\\n       $ git config --global user.name \"Your Name Comes Here\"\\n       $ git config --global user.email you@yourdomain.example.com\\n\\n2. Clone your GitHub repository to your laptop using `git clone`:\\n\\n       # if you\\'re using SSH\\n       $ git clone git@github.com:<github-username>/<github-username>.github.io.git\\n\\n       # if you\\'re using HTTPS\\n       $ git clone https://github.com/<github-username>/<github-username>.github.io.git\\n\\n3. Enter the newly cloned repo, display the remotes and the log\\n\\n       $ git log\\n       $ git remote\\n       $ git remote show origin\\n\\n4. Now open your editor and make some changes to your `index.md` file.\\n\\n5. Before you make too many changes, go back to the shell and view the status,\\na diff from the previous version, and commit your changes\\n\\n       $ git status\\n       $ git diff\\n       $ git commit -am \"put any message here, usually under 50 characters\"\\n\\n### XKCD on Git Commit\\n![xkcd 1296: Git Commit](https://imgs.xkcd.com/comics/git_commit.png)\\n\\n## Winning Workflow\\nThe secret power of using Git with GitHub is how easy it makes collaborating\\nwith others. AFAIK the feature-branch workflow is the most frequent method of\\ncollaboration on GitHub. I outlined it\\'s steps in a THW-Berkeley talk last year\\non [using GitHub in OSS](https://bids.github.io/dats/posts/2017-10-04-github-oss-f17.html).\\n\\n## Additional Info\\n- [GitHub help pages](https://help.github.com/) are a wealth of info.\\n- [Oh Shit Git!](https://ohshitgit.com/) is a funny.\\n- [Git SCM Documentation](https://git-scm.com/doc) is the official source.\\n'"
      ]
     },
     "execution_count": 28,
     "metadata": {},
     "output_type": "execute_result"
    }
   ],
   "source": [
    "file_text = file_text.replace('category: upcoming', 'category: posts')\n",
    "file_text = file_text.replace('category:upcoming', 'category: posts')\n",
    "file_text"
   ]
  },
  {
   "cell_type": "code",
   "execution_count": 29,
   "metadata": {
    "collapsed": true
   },
   "outputs": [],
   "source": [
    "with open(filename, \"w\") as file:\n",
    "    file.write(file_text)"
   ]
  },
  {
   "cell_type": "code",
   "execution_count": 30,
   "metadata": {},
   "outputs": [
    {
     "name": "stdout",
     "output_type": "stream",
     "text": [
      "[master e587760] upcoming to posts [automated]\n",
      " 2 files changed, 28 insertions(+), 41 deletions(-)\n"
     ]
    },
    {
     "name": "stderr",
     "output_type": "stream",
     "text": [
      "warning: LF will be replaced by CRLF in docs/upcoming2posts.ipynb.\n",
      "The file will have its original line endings in your working directory.\n"
     ]
    }
   ],
   "source": [
    "!git commit -a -m \"upcoming to posts [automated]\""
   ]
  },
  {
   "cell_type": "code",
   "execution_count": null,
   "metadata": {},
   "outputs": [],
   "source": [
    "# note that you have to have credentials set up to push from a notebook, otherwise you do it manually\n",
    "!git push"
   ]
  },
  {
   "cell_type": "code",
   "execution_count": null,
   "metadata": {
    "collapsed": true
   },
   "outputs": [],
   "source": []
  }
 ],
 "metadata": {
  "kernelspec": {
   "display_name": "Python 3",
   "language": "python",
   "name": "python3"
  },
  "language_info": {
   "codemirror_mode": {
    "name": "ipython",
    "version": 3
   },
   "file_extension": ".py",
   "mimetype": "text/x-python",
   "name": "python",
   "nbconvert_exporter": "python",
   "pygments_lexer": "ipython3",
   "version": "3.6.2"
  }
 },
 "nbformat": 4,
 "nbformat_minor": 2
}
