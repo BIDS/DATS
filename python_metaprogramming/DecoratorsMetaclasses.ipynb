{
 "cells": [
  {
   "cell_type": "markdown",
   "metadata": {
    "collapsed": true
   },
   "source": [
    "# Decorators and the sometimes useful (useless) but often interesting\n",
    "\n",
    "## Decorators example: Debugging with the print statement\n",
    "Let's start with a simple function that does something:\n",
    "```python\n",
    "def sum(x,y):\n",
    "    print x+y;\n",
    "    return x+y;\n",
    "```\n",
    "Ok, but you probably want to remove the print before you let someone see your code... and maybe changes in the future will also need this debugging step. Our first 'decorator'\n",
    "```python\n",
    "def debug(val):\n",
    "    print val;\n",
    "    return val;\n",
    "def sum(x,y):\n",
    "    return x+y;\n",
    "x,y=2,3;\n",
    "# 'explicit decorator'\n",
    "debug(sum(x,y))\n",
    "```\n",
    "Ok but we moved the print statement -out- of the function. Version controling between the master and debugging branch might still be weird. What we really want is a modified version of the function sum. What if a function could modify the call to sum:\n",
    "```python\n",
    "def debug_on(func):\n",
    "    def debugging(*args,**kwargs):\n",
    "        print 'Scope: debugging',func(*args,**kwargs);\n",
    "        return func(*args,**kwargs);\n",
    "    print 'Scope: debug_on',debugging\n",
    "    return debugging\n",
    "    \n",
    "```\n",
    "Read what is happening here carefully. \n",
    "```python\n",
    "def debug_on(func):\n",
    "    def debugging(*args,**kwargs):\n",
    "    ...\n",
    "    return debugging;\n",
    "```\n",
    "We take in a function, and return a function. What happens for example:\n",
    "```python\n",
    ">> a = debug_on(sum); # a->debugging\n",
    "                      # Note that debugging calls our original function sum\n",
    "Scope: debug_on <function debugging at 0xf4b4d3ac>\n",
    "```\n",
    "We pass all positional (\\*args) and keyword (\\*\\*kwargs) through debugging to sum and return the result. \n",
    "```python\n",
    ">> print(a(3,4));\n",
    "Scope: debugging, 7\n",
    "7\n",
    "```"
   ]
  },
  {
   "cell_type": "code",
   "execution_count": null,
   "metadata": {
    "collapsed": false
   },
   "outputs": [],
   "source": [
    "def debug_on(func):\n",
    "    def debugging(*args,**kwargs):\n",
    "        retval = func(*args,**kwargs);\n",
    "        print('Scope: debugging %s:%s:%s'%(func,func.__name__,retval));\n",
    "        return retval;\n",
    "    print('Scope: debug_on',debugging)\n",
    "    return debugging"
   ]
  },
  {
   "cell_type": "code",
   "execution_count": null,
   "metadata": {
    "collapsed": false
   },
   "outputs": [],
   "source": [
    "# the @ syntax is equivalent to function nesting https://www.python.org/dev/peps/pep-0318/\n",
    "# debug_on(sum)\n",
    "\n",
    "@debug_on\n",
    "def sum(x,y):        # sum->debugging\n",
    "    return x+y;\n",
    "@debug_on\n",
    "def sum2(x,y):       #sum2->debugging, but seperate instance\n",
    "    return (x+y)**2.;\n",
    "print('Scope: main sum %s, sum2 %s'%(sum,sum2))\n"
   ]
  },
  {
   "cell_type": "markdown",
   "metadata": {},
   "source": [
    "### NOTE! decorated sum and debugging point to the same function!"
   ]
  },
  {
   "cell_type": "code",
   "execution_count": null,
   "metadata": {
    "collapsed": false
   },
   "outputs": [],
   "source": [
    "sum(3,4)\n",
    "sum2(3,4)"
   ]
  },
  {
   "cell_type": "markdown",
   "metadata": {},
   "source": [
    "## What about class or a class functions?\n",
    "An example class:\n",
    "```python\n",
    "class point():\n",
    "    def __init__(self,x,y):\n",
    "        self.x=x;\n",
    "        self.y=y;\n",
    "    def dist(self,x,y):\n",
    "        return self.x**2.+self.y**2;\n",
    "```"
   ]
  },
  {
   "cell_type": "code",
   "execution_count": null,
   "metadata": {
    "collapsed": false
   },
   "outputs": [],
   "source": [
    "@debug_on\n",
    "class point():\n",
    "    @debug_on\n",
    "    def __init__(self,x,y):\n",
    "        self.x=x;\n",
    "        self.y=y;\n",
    "    @debug_on\n",
    "    def dist(self):\n",
    "        return self.x**2.+self.y**2;"
   ]
  },
  {
   "cell_type": "code",
   "execution_count": null,
   "metadata": {
    "collapsed": false
   },
   "outputs": [],
   "source": [
    "a = point(1,2);\n",
    "a.dist()"
   ]
  },
  {
   "cell_type": "markdown",
   "metadata": {},
   "source": [
    "### So it works on classes too. Why?\n",
    "(Left for the reader)\n",
    "### Ok, so the syntax for debugging the class is kind of annoying... can we debug all the methods with a single @?\n",
    "```python\n",
    "def debug_on_classes(cls):\n",
    "    def debugging(*args,**kwargs):\n",
    "        cdict = cls.__dict__;\n",
    "        for item in cdict:\n",
    "            func = getattr(cls,item);\n",
    "            if( hasattr(func,'__call__') ):\n",
    "                setattr(cls,item,debug_on(func))\n",
    "        return cls(*args,**kwargs);\n",
    "    return debugging;\n",
    "```\n",
    "Note the careful syntax. Here we simply ask for all the items in the class dictionary and, if they are callable, we wrap then with the debug_on decorator. Test it out!"
   ]
  },
  {
   "cell_type": "code",
   "execution_count": null,
   "metadata": {
    "collapsed": false
   },
   "outputs": [],
   "source": [
    "def debug_on_classes(cls):\n",
    "    def debugging(*args,**kwargs):\n",
    "        cdict = cls.__dict__;\n",
    "        print(cdict);\n",
    "        for item in cdict:\n",
    "            func = getattr(cls,item);\n",
    "            if( hasattr(func,'__call__') ):\n",
    "                setattr(cls,item,debug_on(func))\n",
    "        return cls(*args,**kwargs);\n",
    "    return debugging;\n"
   ]
  },
  {
   "cell_type": "code",
   "execution_count": null,
   "metadata": {
    "collapsed": false
   },
   "outputs": [],
   "source": [
    "@debug_on_classes\n",
    "class point():\n",
    "    def __init__(self,x,y):\n",
    "        self.x=x;\n",
    "        self.y=y;\n",
    "    def dist(self):\n",
    "        return self.x**2.+self.y**2;\n",
    "a = point(1,2);\n",
    "a.dist();"
   ]
  },
  {
   "cell_type": "markdown",
   "metadata": {},
   "source": [
    "### Decorator: Main ideas\n",
    "1. Functions can be made to point other places... and maybe eventually calling the original code as written.\n",
    "2. Pointers!POINTERS!\n",
    "3. @ really just nests the function calls, the power to call the original function is yours!\n"
   ]
  },
  {
   "cell_type": "markdown",
   "metadata": {},
   "source": [
    "## Metaclasses: A higher calling\n",
    "So decorators are ways to modify class and function behavior by redirecting calls to a wrapper function first. How can there be a higher level of control? Metaclasses. These control the behavior of classes before instantiation.\n",
    "\n",
    "More to come...\n"
   ]
  }
 ],
 "metadata": {
  "kernelspec": {
   "display_name": "Python 3",
   "language": "python",
   "name": "python3"
  },
  "language_info": {
   "codemirror_mode": {
    "name": "ipython",
    "version": 3
   },
   "file_extension": ".py",
   "mimetype": "text/x-python",
   "name": "python",
   "nbconvert_exporter": "python",
   "pygments_lexer": "ipython3"
  }
 },
 "nbformat": 4,
 "nbformat_minor": 0
}
