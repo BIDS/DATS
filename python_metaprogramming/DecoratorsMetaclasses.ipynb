{
 "cells": [
  {
   "cell_type": "markdown",
   "metadata": {
    "collapsed": true
   },
   "source": [
    "# Python Metaprogramming (the sometimes useful but often interesting)\n",
    "\n",
    "## Why?\n",
    "1. Repetative code is an excuse to waste time?\n",
    "2. Might allow you to control functions, classes behavior at a higher level than just writing code\n",
    "3. Using decorators that are available in the Python standard library might save you time/preserve functionality of your code https://docs.python.org/3/library/functools.html\n",
    "\n",
    "## What are they? \n",
    "1. Decorators apply operations to functions/classes that are generally applicable to many objects.\n",
    "2. They are functions that take function/classes as arguments and change their behavior\n",
    "3. Special syntax @decorator\n",
    "\n",
    "## Decorators example: Debugging with the print statement\n",
    "Let's start with a simple function that does something:\n",
    "```python\n",
    "def sum(x,y):\n",
    "    print x+y;\n",
    "    return x+y;\n",
    "```\n",
    "Ok, but you probably want to remove the print before you let someone see your code... and maybe changes in the future will also need this debugging step. Our first 'decorator'\n",
    "```python\n",
    "def debug(val):\n",
    "    print val;\n",
    "    return val;\n",
    "def sum(x,y):\n",
    "    return x+y;\n",
    "x,y=2,3;\n",
    "# 'explicit decorator'\n",
    "debug(sum(x,y))\n",
    "```\n",
    "Ok but we moved the print statement -out- of the function. Version controling between the master and debugging branch might still be weird. What we really want is a modified version of the function sum. What if a function could modify the call to sum:\n",
    "```python\n",
    "def debug_on(func):\n",
    "    def debugging(*args,**kwargs):\n",
    "        print 'Scope: debugging',func(*args,**kwargs);\n",
    "        return func(*args,**kwargs);\n",
    "    print 'Scope: debug_on',debugging\n",
    "    return debugging\n",
    "    \n",
    "```\n",
    "Read what is happening here carefully. \n",
    "```python\n",
    "def debug_on(func):\n",
    "    def debugging(*args,**kwargs):\n",
    "    ...\n",
    "    return debugging;\n",
    "```\n",
    "We take in a function, and return a function. What happens for example:\n",
    "```python\n",
    ">> a = debug_on(sum); # a->debugging\n",
    "                      # Note that debugging calls our original function sum\n",
    "Scope: debug_on <function debugging at 0xf4b4d3ac>\n",
    "```\n",
    "We pass all positional (\\*args) and keyword (\\*\\*kwargs) through debugging to sum and return the result. \n",
    "```python\n",
    ">> print(a(3,4));\n",
    "Scope: debugging, 7\n",
    "7\n",
    "```"
   ]
  },
  {
   "cell_type": "code",
   "execution_count": 30,
   "metadata": {
    "collapsed": false
   },
   "outputs": [],
   "source": [
    "from functools import wraps\n",
    "def debug_on(func):\n",
    "    @wraps(func) #preserving the metadata for func\n",
    "    def debugging(*args,**kwargs):\n",
    "        retval = func(*args,**kwargs);\n",
    "        print('Scope: debugging %s:%s:%s'%(func,func.__name__,retval));\n",
    "        return retval;\n",
    "    print('Scope: debug_on',debugging)\n",
    "    return debugging"
   ]
  },
  {
   "cell_type": "code",
   "execution_count": 31,
   "metadata": {
    "collapsed": false
   },
   "outputs": [
    {
     "name": "stdout",
     "output_type": "stream",
     "text": [
      "Scope: debug_on <function sum at 0xf4ab2104>\n",
      "Scope: debug_on <function sum2 at 0xf4ab2f5c>\n",
      "Scope: main sum <function sum at 0xf4ab2104>, sum2 <function sum2 at 0xf4ab2f5c>\n",
      "----------\n",
      "Q:What does sum2 do? A:Return the square of the sum\n"
     ]
    }
   ],
   "source": [
    "# the @ syntax is equivalent to function nesting https://www.python.org/dev/peps/pep-0318/\n",
    "# debug_on(sum)\n",
    "\n",
    "@debug_on\n",
    "def sum(x,y):        # sum->debugging\n",
    "    '''Return the sum'''\n",
    "    return x+y;\n",
    "@debug_on\n",
    "def sum2(x,y):       #sum2->debugging, but seperate instance\n",
    "    '''Return the square of the sum'''\n",
    "    return (x+y)**2.;\n",
    "\n",
    "print('Scope: main sum %s, sum2 %s'%(sum,sum2))\n",
    "print('-'*10)\n",
    "print('Q:What does %s do? A:%s'%(sum2.__name__,sum2.__doc__))"
   ]
  },
  {
   "cell_type": "markdown",
   "metadata": {},
   "source": [
    "### NOTE! decorated sum and debugging point to the same function!"
   ]
  },
  {
   "cell_type": "code",
   "execution_count": 32,
   "metadata": {
    "collapsed": false
   },
   "outputs": [
    {
     "name": "stdout",
     "output_type": "stream",
     "text": [
      "Scope: debugging <function sum at 0xf4ab214c>:sum:7\n",
      "Scope: debugging <function sum2 at 0xf4ab2194>:sum2:49.0\n"
     ]
    },
    {
     "data": {
      "text/plain": [
       "49.0"
      ]
     },
     "execution_count": 32,
     "metadata": {},
     "output_type": "execute_result"
    }
   ],
   "source": [
    "sum(3,4)\n",
    "sum2(3,4)"
   ]
  },
  {
   "cell_type": "markdown",
   "metadata": {},
   "source": [
    "## What about class or a class functions?\n",
    "An example class:\n",
    "```python\n",
    "class point():\n",
    "    def __init__(self,x,y):\n",
    "        self.x=x;\n",
    "        self.y=y;\n",
    "    def dist(self,x,y):\n",
    "        return self.x**2.+self.y**2;\n",
    "```"
   ]
  },
  {
   "cell_type": "code",
   "execution_count": 33,
   "metadata": {
    "collapsed": false
   },
   "outputs": [
    {
     "name": "stdout",
     "output_type": "stream",
     "text": [
      "Scope: debug_on <function point.__init__ at 0xf4ab2c8c>\n",
      "Scope: debug_on <function point.dist at 0xf4ab2224>\n",
      "Scope: debug_on <function point at 0xf4ab2bfc>\n"
     ]
    }
   ],
   "source": [
    "@debug_on\n",
    "class point():\n",
    "    @debug_on\n",
    "    def __init__(self,x,y):\n",
    "        self.x=x;\n",
    "        self.y=y;\n",
    "    @debug_on\n",
    "    def dist(self):\n",
    "        return self.x**2.+self.y**2;"
   ]
  },
  {
   "cell_type": "code",
   "execution_count": 34,
   "metadata": {
    "collapsed": false
   },
   "outputs": [
    {
     "name": "stdout",
     "output_type": "stream",
     "text": [
      "Scope: debugging <function point.__init__ at 0xf4ab265c>:__init__:None\n",
      "Scope: debugging <class '__main__.point'>:point:<__main__.point object at 0xf4aaa58c>\n",
      "Scope: debugging <function point.dist at 0xf4ab280c>:dist:5.0\n"
     ]
    },
    {
     "data": {
      "text/plain": [
       "5.0"
      ]
     },
     "execution_count": 34,
     "metadata": {},
     "output_type": "execute_result"
    }
   ],
   "source": [
    "a = point(1,2);\n",
    "a.dist()"
   ]
  },
  {
   "cell_type": "markdown",
   "metadata": {},
   "source": [
    "### So it works on classes too. Why?\n",
    "(Left for the reader)\n",
    "### Ok, so the syntax for debugging the class is kind of annoying... can we debug all the methods with a single @?\n",
    "```python\n",
    "def debug_on_classes(cls):\n",
    "    def debugging(*args,**kwargs):\n",
    "        cdict = cls.__dict__;\n",
    "        for item in cdict:\n",
    "            func = getattr(cls,item);\n",
    "            if( hasattr(func,'__call__') ):\n",
    "                setattr(cls,item,debug_on(func))\n",
    "        return cls(*args,**kwargs);\n",
    "    return debugging;\n",
    "```\n",
    "Note the careful syntax. Here we simply ask for all the items in the class dictionary and, if they are callable, we wrap then with the debug_on decorator. Test it out!"
   ]
  },
  {
   "cell_type": "code",
   "execution_count": 35,
   "metadata": {
    "collapsed": false
   },
   "outputs": [],
   "source": [
    "def debug_on_classes(cls):\n",
    "    @wraps(cls) #preserving the cls metadata\n",
    "    def debugging(*args,**kwargs):\n",
    "        cdict = cls.__dict__;\n",
    "        for item in cdict:\n",
    "            func = getattr(cls,item);\n",
    "            if( hasattr(func,'__call__') ):\n",
    "                setattr(cls,item,debug_on(func))\n",
    "        return cls(*args,**kwargs);\n",
    "    return debugging;"
   ]
  },
  {
   "cell_type": "code",
   "execution_count": 36,
   "metadata": {
    "collapsed": false
   },
   "outputs": [
    {
     "name": "stdout",
     "output_type": "stream",
     "text": [
      "Scope: debug_on <function point.dist at 0xf4ab2bfc>\n",
      "Scope: debug_on <function point.__init__ at 0xf4a8ac8c>\n",
      "Scope: debugging <function point.__init__ at 0xf4a8ae84>:__init__:None\n",
      "Scope: debugging <function point.dist at 0xf4a8a194>:dist:5.0\n"
     ]
    }
   ],
   "source": [
    "@debug_on_classes\n",
    "class point():\n",
    "    def __init__(self,x,y):\n",
    "        self.x=x;\n",
    "        self.y=y;\n",
    "    def dist(self):\n",
    "        return self.x**2.+self.y**2;\n",
    "a = point(1,2);\n",
    "a.dist();"
   ]
  },
  {
   "cell_type": "markdown",
   "metadata": {},
   "source": [
    "## What is the deal with the parameter? @(*args,**kwargs)\n",
    "Decorators can take arguments. Basically this involves another layer on top of the decorator\n",
    "\n",
    "```python\n",
    "from timeit import default_timer as timer\n",
    "\n",
    "def time_execution(symb='*'*10):\n",
    "    def time_decorator(func):\n",
    "        def time_function(*args,**kwargs):\n",
    "            start = timer();\n",
    "            result=func(*args,**kwargs);\n",
    "            end = timer()-start;\n",
    "            print('Function call %s took %.2f seconds'%(func.__name__,end));\n",
    "            return result;\n",
    "        return time_function;\n",
    "    return time_decorator;\n",
    "```\n",
    "Note that this is just another function pointer on top of the time_decorator function. It manages the \\*args and \\*\\*kwargs passed to the decorator\n"
   ]
  },
  {
   "cell_type": "code",
   "execution_count": 49,
   "metadata": {
    "collapsed": false
   },
   "outputs": [
    {
     "name": "stdout",
     "output_type": "stream",
     "text": [
      "========== Function call recursive_counter took 0.00 seconds\n",
      "========== Function call recursive_counter took 0.10 seconds\n",
      "========== Function call recursive_counter took 0.20 seconds\n",
      "========== Function call recursive_counter took 0.30 seconds\n",
      "========== Function call recursive_counter took 0.40 seconds\n",
      "========== Function call recursive_counter took 0.50 seconds\n",
      "========== Function call recursive_counter took 0.60 seconds\n",
      "========== Function call recursive_counter took 0.70 seconds\n",
      "========== Function call recursive_counter took 0.80 seconds\n",
      "========== Function call recursive_counter took 0.90 seconds\n",
      "========== Function call recursive_counter took 1.00 seconds\n",
      "10\n"
     ]
    }
   ],
   "source": [
    "from timeit import default_timer as timer\n",
    "from time import sleep;\n",
    "\n",
    "def time_execution(*args,**kwargs):\n",
    "    symb = kwargs.pop('symb','*'*10)\n",
    "    def time_decorator(func):\n",
    "        def time_function(*args,**kwargs):\n",
    "            start = timer();\n",
    "            result=func(*args,**kwargs);\n",
    "            end = timer()-start;\n",
    "            print('%s Function call %s took %.2f seconds'%(symb,func.__name__,end));\n",
    "            return result;\n",
    "        return time_function;\n",
    "    return time_decorator;\n",
    "\n",
    "@time_execution(symb='='*10)               # note that @profile is provided by https://mg.pov.lt/profilehooks/\n",
    "def recursive_counter(n=0):\n",
    "    while(n<10):\n",
    "        sleep(0.1);\n",
    "        n = recursive_counter(n+1);\n",
    "    return n;\n",
    "\n",
    "print( recursive_counter(0) )"
   ]
  },
  {
   "cell_type": "markdown",
   "metadata": {},
   "source": [
    "### Decorator: Main ideas\n",
    "1. Functions can be made to point other places... and maybe eventually calling the original code as written.\n",
    "2. Pointers!POINTERS!\n",
    "3. @ really just nests the function calls, the power to call the original function is yours!"
   ]
  },
  {
   "cell_type": "markdown",
   "metadata": {},
   "source": [
    "## Metaclasses: A higher calling\n",
    "So decorators are ways to modify class and function behavior by redirecting calls to a wrapper function first. How can there be a higher level of control? Metaclasses. These control the behavior of classes before instantiation.\n",
    "\n",
    "More to come...\n"
   ]
  }
 ],
 "metadata": {
  "kernelspec": {
   "display_name": "Python 3",
   "language": "python",
   "name": "python3"
  },
  "language_info": {
   "codemirror_mode": {
    "name": "ipython",
    "version": 3
   },
   "file_extension": ".py",
   "mimetype": "text/x-python",
   "name": "python",
   "nbconvert_exporter": "python",
   "pygments_lexer": "ipython3",
   "version": "3.4.3"
  }
 },
 "nbformat": 4,
 "nbformat_minor": 0
}
