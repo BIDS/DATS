{
 "cells": [
  {
   "cell_type": "markdown",
   "metadata": {},
   "source": [
    "# An Introduction to Matplotlib\n",
    "\n",
    "* Tenzing HY Joshi: thjoshi@lbl.gov\n",
    "* Nick Swanson-Hysell: swanson-hysell@berkeley.edu"
   ]
  },
  {
   "cell_type": "markdown",
   "metadata": {},
   "source": [
    "## What is Matplotlib?\n",
    "\n",
    "> matplotlib is a library for making 2D plots of arrays in Python. ... matplotlib is designed with the philosophy that you should be able to create simple plots with just a few commands, or just one! ... \n",
    "\n",
    "> The matplotlib code is conceptually divided into **three** parts: **the pylab interface** is the set of functions provided by matplotlib.pylab which allow the user to create plots with code quite similar to MATLAB figure generating code (Pyplot tutorial). **The matplotlib frontend or matplotlib API** is the set of classes that do the heavy lifting, creating and managing figures, text, lines, plots and so on (Artist tutorial). This is an abstract interface that knows nothing about output. **The backends** are device-dependent drawing devices, aka renderers, that transform the frontend representation to hardcopy or a display device (What is a backend?). "
   ]
  },
  {
   "cell_type": "markdown",
   "metadata": {},
   "source": [
    "## Resources\n",
    "* [Matplotlib website](www.matplotlib.org)\n",
    "* Other\n",
    "* Other\n",
    "* Other"
   ]
  },
  {
   "cell_type": "markdown",
   "metadata": {},
   "source": [
    "## What I'll touch on\n",
    "* Importing  \n",
    "* Simple plots\n",
    "* Figures and Axes\n",
    "* Useful plot types\n",
    "* Formatting\n",
    "  * Specific commands\n",
    "  * matplotlibrc file\n",
    "  * Style Sheets\n",
    "* An example or two of code to make a publication plot"
   ]
  },
  {
   "cell_type": "code",
   "execution_count": null,
   "metadata": {
    "collapsed": true
   },
   "outputs": [],
   "source": [
    "import matplotlib as mpl"
   ]
  },
  {
   "cell_type": "code",
   "execution_count": null,
   "metadata": {
    "collapsed": false
   },
   "outputs": [],
   "source": [
    "mpl"
   ]
  },
  {
   "cell_type": "code",
   "execution_count": 17,
   "metadata": {
    "collapsed": false
   },
   "outputs": [],
   "source": [
    "# I normally prototype my code in an editor + ipy terminal.\n",
    "# In those cases I import pyplot and numpy via\n",
    "import matplotlib.pyplot as plt\n",
    "import numpy as np\n",
    "\n",
    "# In Jupy notebooks we've got magic functions and pylab gives you pyplot as plt and numpy as np\n",
    "# %pylab \n",
    "\n",
    "# Additionally, inline will let you plot inline of the notebook\n",
    "# %pylab inline\n",
    "\n",
    "# And notebook, as I've just found out gives you some resizing etc... tools inline.\n",
    "# %pylab notebook"
   ]
  },
  {
   "cell_type": "code",
   "execution_count": 21,
   "metadata": {
    "collapsed": false
   },
   "outputs": [
    {
     "data": {
      "text/plain": [
       "<matplotlib.text.Text at 0x11401a150>"
      ]
     },
     "execution_count": 21,
     "metadata": {},
     "output_type": "execute_result"
    }
   ],
   "source": [
    "y = np.ones(10)\n",
    "\n",
    "for x in range(2,10):\n",
    "    y[x] = y[x-2] + y[x-1]\n",
    "\n",
    "plt.plot(y)\n",
    "plt.title('This story')"
   ]
  },
  {
   "cell_type": "markdown",
   "metadata": {},
   "source": [
    "### Where's the plot to this story?\n",
    "\n",
    "By default, with pyplot the *interactive* Mode is turned *off*.  That means that the state of our Figure is updated on every plt command, but only drawn when we ask for it to be drawn `plt.draw()` and shown when we ask for it to be shown `plt.show()`.  So lets have a look at what happened."
   ]
  },
  {
   "cell_type": "code",
   "execution_count": 22,
   "metadata": {
    "collapsed": true
   },
   "outputs": [],
   "source": [
    "plt.show()"
   ]
  },
  {
   "cell_type": "code",
   "execution_count": 23,
   "metadata": {
    "collapsed": false
   },
   "outputs": [
    {
     "name": "stdout",
     "output_type": "stream",
     "text": [
      "I can not run this command until I close the window because interactive mode is turned off\n"
     ]
    }
   ],
   "source": [
    "print('I can not run this command until I close the window because interactive mode is turned off')"
   ]
  },
  {
   "cell_type": "markdown",
   "metadata": {},
   "source": [
    "### Interactive mode on or off is a preference. See how it works for your workflow.\n",
    "* `plt.ion()` can be used to turn interactive mode on\n",
    "* `plt.ioff()` then turns it off\n",
    "\n",
    "\n",
    "For now lets switch over to the `%pylab notebook` configuration to make it easier on ourselves."
   ]
  },
  {
   "cell_type": "code",
   "execution_count": 106,
   "metadata": {
    "collapsed": false
   },
   "outputs": [
    {
     "name": "stdout",
     "output_type": "stream",
     "text": [
      "Populating the interactive namespace from numpy and matplotlib\n"
     ]
    }
   ],
   "source": [
    "%pylab inline\n",
    "pylab.rcParams['figure.figsize'] = (10.0, 7.0)"
   ]
  },
  {
   "cell_type": "markdown",
   "metadata": {},
   "source": [
    "# Some Simple Plots"
   ]
  },
  {
   "cell_type": "code",
   "execution_count": 63,
   "metadata": {
    "collapsed": false,
    "scrolled": false
   },
   "outputs": [
    {
     "data": {
      "application/javascript": [
       "/* Put everything inside the global mpl namespace */\n",
       "window.mpl = {};\n",
       "\n",
       "mpl.get_websocket_type = function() {\n",
       "    if (typeof(WebSocket) !== 'undefined') {\n",
       "        return WebSocket;\n",
       "    } else if (typeof(MozWebSocket) !== 'undefined') {\n",
       "        return MozWebSocket;\n",
       "    } else {\n",
       "        alert('Your browser does not have WebSocket support.' +\n",
       "              'Please try Chrome, Safari or Firefox ≥ 6. ' +\n",
       "              'Firefox 4 and 5 are also supported but you ' +\n",
       "              'have to enable WebSockets in about:config.');\n",
       "    };\n",
       "}\n",
       "\n",
       "mpl.figure = function(figure_id, websocket, ondownload, parent_element) {\n",
       "    this.id = figure_id;\n",
       "\n",
       "    this.ws = websocket;\n",
       "\n",
       "    this.supports_binary = (this.ws.binaryType != undefined);\n",
       "\n",
       "    if (!this.supports_binary) {\n",
       "        var warnings = document.getElementById(\"mpl-warnings\");\n",
       "        if (warnings) {\n",
       "            warnings.style.display = 'block';\n",
       "            warnings.textContent = (\n",
       "                \"This browser does not support binary websocket messages. \" +\n",
       "                    \"Performance may be slow.\");\n",
       "        }\n",
       "    }\n",
       "\n",
       "    this.imageObj = new Image();\n",
       "\n",
       "    this.context = undefined;\n",
       "    this.message = undefined;\n",
       "    this.canvas = undefined;\n",
       "    this.rubberband_canvas = undefined;\n",
       "    this.rubberband_context = undefined;\n",
       "    this.format_dropdown = undefined;\n",
       "\n",
       "    this.image_mode = 'full';\n",
       "\n",
       "    this.root = $('<div/>');\n",
       "    this._root_extra_style(this.root)\n",
       "    this.root.attr('style', 'display: inline-block');\n",
       "\n",
       "    $(parent_element).append(this.root);\n",
       "\n",
       "    this._init_header(this);\n",
       "    this._init_canvas(this);\n",
       "    this._init_toolbar(this);\n",
       "\n",
       "    var fig = this;\n",
       "\n",
       "    this.waiting = false;\n",
       "\n",
       "    this.ws.onopen =  function () {\n",
       "            fig.send_message(\"supports_binary\", {value: fig.supports_binary});\n",
       "            fig.send_message(\"send_image_mode\", {});\n",
       "            fig.send_message(\"refresh\", {});\n",
       "        }\n",
       "\n",
       "    this.imageObj.onload = function() {\n",
       "            if (fig.image_mode == 'full') {\n",
       "                // Full images could contain transparency (where diff images\n",
       "                // almost always do), so we need to clear the canvas so that\n",
       "                // there is no ghosting.\n",
       "                fig.context.clearRect(0, 0, fig.canvas.width, fig.canvas.height);\n",
       "            }\n",
       "            fig.context.drawImage(fig.imageObj, 0, 0);\n",
       "        };\n",
       "\n",
       "    this.imageObj.onunload = function() {\n",
       "        this.ws.close();\n",
       "    }\n",
       "\n",
       "    this.ws.onmessage = this._make_on_message_function(this);\n",
       "\n",
       "    this.ondownload = ondownload;\n",
       "}\n",
       "\n",
       "mpl.figure.prototype._init_header = function() {\n",
       "    var titlebar = $(\n",
       "        '<div class=\"ui-dialog-titlebar ui-widget-header ui-corner-all ' +\n",
       "        'ui-helper-clearfix\"/>');\n",
       "    var titletext = $(\n",
       "        '<div class=\"ui-dialog-title\" style=\"width: 100%; ' +\n",
       "        'text-align: center; padding: 3px;\"/>');\n",
       "    titlebar.append(titletext)\n",
       "    this.root.append(titlebar);\n",
       "    this.header = titletext[0];\n",
       "}\n",
       "\n",
       "\n",
       "\n",
       "mpl.figure.prototype._canvas_extra_style = function(canvas_div) {\n",
       "\n",
       "}\n",
       "\n",
       "\n",
       "mpl.figure.prototype._root_extra_style = function(canvas_div) {\n",
       "\n",
       "}\n",
       "\n",
       "mpl.figure.prototype._init_canvas = function() {\n",
       "    var fig = this;\n",
       "\n",
       "    var canvas_div = $('<div/>');\n",
       "\n",
       "    canvas_div.attr('style', 'position: relative; clear: both; outline: 0');\n",
       "\n",
       "    function canvas_keyboard_event(event) {\n",
       "        return fig.key_event(event, event['data']);\n",
       "    }\n",
       "\n",
       "    canvas_div.keydown('key_press', canvas_keyboard_event);\n",
       "    canvas_div.keyup('key_release', canvas_keyboard_event);\n",
       "    this.canvas_div = canvas_div\n",
       "    this._canvas_extra_style(canvas_div)\n",
       "    this.root.append(canvas_div);\n",
       "\n",
       "    var canvas = $('<canvas/>');\n",
       "    canvas.addClass('mpl-canvas');\n",
       "    canvas.attr('style', \"left: 0; top: 0; z-index: 0; outline: 0\")\n",
       "\n",
       "    this.canvas = canvas[0];\n",
       "    this.context = canvas[0].getContext(\"2d\");\n",
       "\n",
       "    var rubberband = $('<canvas/>');\n",
       "    rubberband.attr('style', \"position: absolute; left: 0; top: 0; z-index: 1;\")\n",
       "\n",
       "    var pass_mouse_events = true;\n",
       "\n",
       "    canvas_div.resizable({\n",
       "        start: function(event, ui) {\n",
       "            pass_mouse_events = false;\n",
       "        },\n",
       "        resize: function(event, ui) {\n",
       "            fig.request_resize(ui.size.width, ui.size.height);\n",
       "        },\n",
       "        stop: function(event, ui) {\n",
       "            pass_mouse_events = true;\n",
       "            fig.request_resize(ui.size.width, ui.size.height);\n",
       "        },\n",
       "    });\n",
       "\n",
       "    function mouse_event_fn(event) {\n",
       "        if (pass_mouse_events)\n",
       "            return fig.mouse_event(event, event['data']);\n",
       "    }\n",
       "\n",
       "    rubberband.mousedown('button_press', mouse_event_fn);\n",
       "    rubberband.mouseup('button_release', mouse_event_fn);\n",
       "    // Throttle sequential mouse events to 1 every 20ms.\n",
       "    rubberband.mousemove('motion_notify', mouse_event_fn);\n",
       "\n",
       "    rubberband.mouseenter('figure_enter', mouse_event_fn);\n",
       "    rubberband.mouseleave('figure_leave', mouse_event_fn);\n",
       "\n",
       "    canvas_div.on(\"wheel\", function (event) {\n",
       "        event = event.originalEvent;\n",
       "        event['data'] = 'scroll'\n",
       "        if (event.deltaY < 0) {\n",
       "            event.step = 1;\n",
       "        } else {\n",
       "            event.step = -1;\n",
       "        }\n",
       "        mouse_event_fn(event);\n",
       "    });\n",
       "\n",
       "    canvas_div.append(canvas);\n",
       "    canvas_div.append(rubberband);\n",
       "\n",
       "    this.rubberband = rubberband;\n",
       "    this.rubberband_canvas = rubberband[0];\n",
       "    this.rubberband_context = rubberband[0].getContext(\"2d\");\n",
       "    this.rubberband_context.strokeStyle = \"#000000\";\n",
       "\n",
       "    this._resize_canvas = function(width, height) {\n",
       "        // Keep the size of the canvas, canvas container, and rubber band\n",
       "        // canvas in synch.\n",
       "        canvas_div.css('width', width)\n",
       "        canvas_div.css('height', height)\n",
       "\n",
       "        canvas.attr('width', width);\n",
       "        canvas.attr('height', height);\n",
       "\n",
       "        rubberband.attr('width', width);\n",
       "        rubberband.attr('height', height);\n",
       "    }\n",
       "\n",
       "    // Set the figure to an initial 600x600px, this will subsequently be updated\n",
       "    // upon first draw.\n",
       "    this._resize_canvas(600, 600);\n",
       "\n",
       "    // Disable right mouse context menu.\n",
       "    $(this.rubberband_canvas).bind(\"contextmenu\",function(e){\n",
       "        return false;\n",
       "    });\n",
       "\n",
       "    function set_focus () {\n",
       "        canvas.focus();\n",
       "        canvas_div.focus();\n",
       "    }\n",
       "\n",
       "    window.setTimeout(set_focus, 100);\n",
       "}\n",
       "\n",
       "mpl.figure.prototype._init_toolbar = function() {\n",
       "    var fig = this;\n",
       "\n",
       "    var nav_element = $('<div/>')\n",
       "    nav_element.attr('style', 'width: 100%');\n",
       "    this.root.append(nav_element);\n",
       "\n",
       "    // Define a callback function for later on.\n",
       "    function toolbar_event(event) {\n",
       "        return fig.toolbar_button_onclick(event['data']);\n",
       "    }\n",
       "    function toolbar_mouse_event(event) {\n",
       "        return fig.toolbar_button_onmouseover(event['data']);\n",
       "    }\n",
       "\n",
       "    for(var toolbar_ind in mpl.toolbar_items) {\n",
       "        var name = mpl.toolbar_items[toolbar_ind][0];\n",
       "        var tooltip = mpl.toolbar_items[toolbar_ind][1];\n",
       "        var image = mpl.toolbar_items[toolbar_ind][2];\n",
       "        var method_name = mpl.toolbar_items[toolbar_ind][3];\n",
       "\n",
       "        if (!name) {\n",
       "            // put a spacer in here.\n",
       "            continue;\n",
       "        }\n",
       "        var button = $('<button/>');\n",
       "        button.addClass('ui-button ui-widget ui-state-default ui-corner-all ' +\n",
       "                        'ui-button-icon-only');\n",
       "        button.attr('role', 'button');\n",
       "        button.attr('aria-disabled', 'false');\n",
       "        button.click(method_name, toolbar_event);\n",
       "        button.mouseover(tooltip, toolbar_mouse_event);\n",
       "\n",
       "        var icon_img = $('<span/>');\n",
       "        icon_img.addClass('ui-button-icon-primary ui-icon');\n",
       "        icon_img.addClass(image);\n",
       "        icon_img.addClass('ui-corner-all');\n",
       "\n",
       "        var tooltip_span = $('<span/>');\n",
       "        tooltip_span.addClass('ui-button-text');\n",
       "        tooltip_span.html(tooltip);\n",
       "\n",
       "        button.append(icon_img);\n",
       "        button.append(tooltip_span);\n",
       "\n",
       "        nav_element.append(button);\n",
       "    }\n",
       "\n",
       "    var fmt_picker_span = $('<span/>');\n",
       "\n",
       "    var fmt_picker = $('<select/>');\n",
       "    fmt_picker.addClass('mpl-toolbar-option ui-widget ui-widget-content');\n",
       "    fmt_picker_span.append(fmt_picker);\n",
       "    nav_element.append(fmt_picker_span);\n",
       "    this.format_dropdown = fmt_picker[0];\n",
       "\n",
       "    for (var ind in mpl.extensions) {\n",
       "        var fmt = mpl.extensions[ind];\n",
       "        var option = $(\n",
       "            '<option/>', {selected: fmt === mpl.default_extension}).html(fmt);\n",
       "        fmt_picker.append(option)\n",
       "    }\n",
       "\n",
       "    // Add hover states to the ui-buttons\n",
       "    $( \".ui-button\" ).hover(\n",
       "        function() { $(this).addClass(\"ui-state-hover\");},\n",
       "        function() { $(this).removeClass(\"ui-state-hover\");}\n",
       "    );\n",
       "\n",
       "    var status_bar = $('<span class=\"mpl-message\"/>');\n",
       "    nav_element.append(status_bar);\n",
       "    this.message = status_bar[0];\n",
       "}\n",
       "\n",
       "mpl.figure.prototype.request_resize = function(x_pixels, y_pixels) {\n",
       "    // Request matplotlib to resize the figure. Matplotlib will then trigger a resize in the client,\n",
       "    // which will in turn request a refresh of the image.\n",
       "    this.send_message('resize', {'width': x_pixels, 'height': y_pixels});\n",
       "}\n",
       "\n",
       "mpl.figure.prototype.send_message = function(type, properties) {\n",
       "    properties['type'] = type;\n",
       "    properties['figure_id'] = this.id;\n",
       "    this.ws.send(JSON.stringify(properties));\n",
       "}\n",
       "\n",
       "mpl.figure.prototype.send_draw_message = function() {\n",
       "    if (!this.waiting) {\n",
       "        this.waiting = true;\n",
       "        this.ws.send(JSON.stringify({type: \"draw\", figure_id: this.id}));\n",
       "    }\n",
       "}\n",
       "\n",
       "\n",
       "mpl.figure.prototype.handle_save = function(fig, msg) {\n",
       "    var format_dropdown = fig.format_dropdown;\n",
       "    var format = format_dropdown.options[format_dropdown.selectedIndex].value;\n",
       "    fig.ondownload(fig, format);\n",
       "}\n",
       "\n",
       "\n",
       "mpl.figure.prototype.handle_resize = function(fig, msg) {\n",
       "    var size = msg['size'];\n",
       "    if (size[0] != fig.canvas.width || size[1] != fig.canvas.height) {\n",
       "        fig._resize_canvas(size[0], size[1]);\n",
       "        fig.send_message(\"refresh\", {});\n",
       "    };\n",
       "}\n",
       "\n",
       "mpl.figure.prototype.handle_rubberband = function(fig, msg) {\n",
       "    var x0 = msg['x0'];\n",
       "    var y0 = fig.canvas.height - msg['y0'];\n",
       "    var x1 = msg['x1'];\n",
       "    var y1 = fig.canvas.height - msg['y1'];\n",
       "    x0 = Math.floor(x0) + 0.5;\n",
       "    y0 = Math.floor(y0) + 0.5;\n",
       "    x1 = Math.floor(x1) + 0.5;\n",
       "    y1 = Math.floor(y1) + 0.5;\n",
       "    var min_x = Math.min(x0, x1);\n",
       "    var min_y = Math.min(y0, y1);\n",
       "    var width = Math.abs(x1 - x0);\n",
       "    var height = Math.abs(y1 - y0);\n",
       "\n",
       "    fig.rubberband_context.clearRect(\n",
       "        0, 0, fig.canvas.width, fig.canvas.height);\n",
       "\n",
       "    fig.rubberband_context.strokeRect(min_x, min_y, width, height);\n",
       "}\n",
       "\n",
       "mpl.figure.prototype.handle_figure_label = function(fig, msg) {\n",
       "    // Updates the figure title.\n",
       "    fig.header.textContent = msg['label'];\n",
       "}\n",
       "\n",
       "mpl.figure.prototype.handle_cursor = function(fig, msg) {\n",
       "    var cursor = msg['cursor'];\n",
       "    switch(cursor)\n",
       "    {\n",
       "    case 0:\n",
       "        cursor = 'pointer';\n",
       "        break;\n",
       "    case 1:\n",
       "        cursor = 'default';\n",
       "        break;\n",
       "    case 2:\n",
       "        cursor = 'crosshair';\n",
       "        break;\n",
       "    case 3:\n",
       "        cursor = 'move';\n",
       "        break;\n",
       "    }\n",
       "    fig.rubberband_canvas.style.cursor = cursor;\n",
       "}\n",
       "\n",
       "mpl.figure.prototype.handle_message = function(fig, msg) {\n",
       "    fig.message.textContent = msg['message'];\n",
       "}\n",
       "\n",
       "mpl.figure.prototype.handle_draw = function(fig, msg) {\n",
       "    // Request the server to send over a new figure.\n",
       "    fig.send_draw_message();\n",
       "}\n",
       "\n",
       "mpl.figure.prototype.handle_image_mode = function(fig, msg) {\n",
       "    fig.image_mode = msg['mode'];\n",
       "}\n",
       "\n",
       "mpl.figure.prototype.updated_canvas_event = function() {\n",
       "    // Called whenever the canvas gets updated.\n",
       "    this.send_message(\"ack\", {});\n",
       "}\n",
       "\n",
       "// A function to construct a web socket function for onmessage handling.\n",
       "// Called in the figure constructor.\n",
       "mpl.figure.prototype._make_on_message_function = function(fig) {\n",
       "    return function socket_on_message(evt) {\n",
       "        if (evt.data instanceof Blob) {\n",
       "            /* FIXME: We get \"Resource interpreted as Image but\n",
       "             * transferred with MIME type text/plain:\" errors on\n",
       "             * Chrome.  But how to set the MIME type?  It doesn't seem\n",
       "             * to be part of the websocket stream */\n",
       "            evt.data.type = \"image/png\";\n",
       "\n",
       "            /* Free the memory for the previous frames */\n",
       "            if (fig.imageObj.src) {\n",
       "                (window.URL || window.webkitURL).revokeObjectURL(\n",
       "                    fig.imageObj.src);\n",
       "            }\n",
       "\n",
       "            fig.imageObj.src = (window.URL || window.webkitURL).createObjectURL(\n",
       "                evt.data);\n",
       "            fig.updated_canvas_event();\n",
       "            fig.waiting = false;\n",
       "            return;\n",
       "        }\n",
       "        else if (typeof evt.data === 'string' && evt.data.slice(0, 21) == \"data:image/png;base64\") {\n",
       "            fig.imageObj.src = evt.data;\n",
       "            fig.updated_canvas_event();\n",
       "            fig.waiting = false;\n",
       "            return;\n",
       "        }\n",
       "\n",
       "        var msg = JSON.parse(evt.data);\n",
       "        var msg_type = msg['type'];\n",
       "\n",
       "        // Call the  \"handle_{type}\" callback, which takes\n",
       "        // the figure and JSON message as its only arguments.\n",
       "        try {\n",
       "            var callback = fig[\"handle_\" + msg_type];\n",
       "        } catch (e) {\n",
       "            console.log(\"No handler for the '\" + msg_type + \"' message type: \", msg);\n",
       "            return;\n",
       "        }\n",
       "\n",
       "        if (callback) {\n",
       "            try {\n",
       "                // console.log(\"Handling '\" + msg_type + \"' message: \", msg);\n",
       "                callback(fig, msg);\n",
       "            } catch (e) {\n",
       "                console.log(\"Exception inside the 'handler_\" + msg_type + \"' callback:\", e, e.stack, msg);\n",
       "            }\n",
       "        }\n",
       "    };\n",
       "}\n",
       "\n",
       "// from http://stackoverflow.com/questions/1114465/getting-mouse-location-in-canvas\n",
       "mpl.findpos = function(e) {\n",
       "    //this section is from http://www.quirksmode.org/js/events_properties.html\n",
       "    var targ;\n",
       "    if (!e)\n",
       "        e = window.event;\n",
       "    if (e.target)\n",
       "        targ = e.target;\n",
       "    else if (e.srcElement)\n",
       "        targ = e.srcElement;\n",
       "    if (targ.nodeType == 3) // defeat Safari bug\n",
       "        targ = targ.parentNode;\n",
       "\n",
       "    // jQuery normalizes the pageX and pageY\n",
       "    // pageX,Y are the mouse positions relative to the document\n",
       "    // offset() returns the position of the element relative to the document\n",
       "    var x = e.pageX - $(targ).offset().left;\n",
       "    var y = e.pageY - $(targ).offset().top;\n",
       "\n",
       "    return {\"x\": x, \"y\": y};\n",
       "};\n",
       "\n",
       "/*\n",
       " * return a copy of an object with only non-object keys\n",
       " * we need this to avoid circular references\n",
       " * http://stackoverflow.com/a/24161582/3208463\n",
       " */\n",
       "function simpleKeys (original) {\n",
       "  return Object.keys(original).reduce(function (obj, key) {\n",
       "    if (typeof original[key] !== 'object')\n",
       "        obj[key] = original[key]\n",
       "    return obj;\n",
       "  }, {});\n",
       "}\n",
       "\n",
       "mpl.figure.prototype.mouse_event = function(event, name) {\n",
       "    var canvas_pos = mpl.findpos(event)\n",
       "\n",
       "    if (name === 'button_press')\n",
       "    {\n",
       "        this.canvas.focus();\n",
       "        this.canvas_div.focus();\n",
       "    }\n",
       "\n",
       "    var x = canvas_pos.x;\n",
       "    var y = canvas_pos.y;\n",
       "\n",
       "    this.send_message(name, {x: x, y: y, button: event.button,\n",
       "                             step: event.step,\n",
       "                             guiEvent: simpleKeys(event)});\n",
       "\n",
       "    /* This prevents the web browser from automatically changing to\n",
       "     * the text insertion cursor when the button is pressed.  We want\n",
       "     * to control all of the cursor setting manually through the\n",
       "     * 'cursor' event from matplotlib */\n",
       "    event.preventDefault();\n",
       "    return false;\n",
       "}\n",
       "\n",
       "mpl.figure.prototype._key_event_extra = function(event, name) {\n",
       "    // Handle any extra behaviour associated with a key event\n",
       "}\n",
       "\n",
       "mpl.figure.prototype.key_event = function(event, name) {\n",
       "\n",
       "    // Prevent repeat events\n",
       "    if (name == 'key_press')\n",
       "    {\n",
       "        if (event.which === this._key)\n",
       "            return;\n",
       "        else\n",
       "            this._key = event.which;\n",
       "    }\n",
       "    if (name == 'key_release')\n",
       "        this._key = null;\n",
       "\n",
       "    var value = '';\n",
       "    if (event.ctrlKey && event.which != 17)\n",
       "        value += \"ctrl+\";\n",
       "    if (event.altKey && event.which != 18)\n",
       "        value += \"alt+\";\n",
       "    if (event.shiftKey && event.which != 16)\n",
       "        value += \"shift+\";\n",
       "\n",
       "    value += 'k';\n",
       "    value += event.which.toString();\n",
       "\n",
       "    this._key_event_extra(event, name);\n",
       "\n",
       "    this.send_message(name, {key: value,\n",
       "                             guiEvent: simpleKeys(event)});\n",
       "    return false;\n",
       "}\n",
       "\n",
       "mpl.figure.prototype.toolbar_button_onclick = function(name) {\n",
       "    if (name == 'download') {\n",
       "        this.handle_save(this, null);\n",
       "    } else {\n",
       "        this.send_message(\"toolbar_button\", {name: name});\n",
       "    }\n",
       "};\n",
       "\n",
       "mpl.figure.prototype.toolbar_button_onmouseover = function(tooltip) {\n",
       "    this.message.textContent = tooltip;\n",
       "};\n",
       "mpl.toolbar_items = [[\"Home\", \"Reset original view\", \"fa fa-home icon-home\", \"home\"], [\"Back\", \"Back to  previous view\", \"fa fa-arrow-left icon-arrow-left\", \"back\"], [\"Forward\", \"Forward to next view\", \"fa fa-arrow-right icon-arrow-right\", \"forward\"], [\"\", \"\", \"\", \"\"], [\"Pan\", \"Pan axes with left mouse, zoom with right\", \"fa fa-arrows icon-move\", \"pan\"], [\"Zoom\", \"Zoom to rectangle\", \"fa fa-square-o icon-check-empty\", \"zoom\"], [\"\", \"\", \"\", \"\"], [\"Download\", \"Download plot\", \"fa fa-floppy-o icon-save\", \"download\"]];\n",
       "\n",
       "mpl.extensions = [\"eps\", \"jpeg\", \"pdf\", \"png\", \"ps\", \"raw\", \"svg\", \"tif\"];\n",
       "\n",
       "mpl.default_extension = \"png\";var comm_websocket_adapter = function(comm) {\n",
       "    // Create a \"websocket\"-like object which calls the given IPython comm\n",
       "    // object with the appropriate methods. Currently this is a non binary\n",
       "    // socket, so there is still some room for performance tuning.\n",
       "    var ws = {};\n",
       "\n",
       "    ws.close = function() {\n",
       "        comm.close()\n",
       "    };\n",
       "    ws.send = function(m) {\n",
       "        //console.log('sending', m);\n",
       "        comm.send(m);\n",
       "    };\n",
       "    // Register the callback with on_msg.\n",
       "    comm.on_msg(function(msg) {\n",
       "        //console.log('receiving', msg['content']['data'], msg);\n",
       "        // Pass the mpl event to the overriden (by mpl) onmessage function.\n",
       "        ws.onmessage(msg['content']['data'])\n",
       "    });\n",
       "    return ws;\n",
       "}\n",
       "\n",
       "mpl.mpl_figure_comm = function(comm, msg) {\n",
       "    // This is the function which gets called when the mpl process\n",
       "    // starts-up an IPython Comm through the \"matplotlib\" channel.\n",
       "\n",
       "    var id = msg.content.data.id;\n",
       "    // Get hold of the div created by the display call when the Comm\n",
       "    // socket was opened in Python.\n",
       "    var element = $(\"#\" + id);\n",
       "    var ws_proxy = comm_websocket_adapter(comm)\n",
       "\n",
       "    function ondownload(figure, format) {\n",
       "        window.open(figure.imageObj.src);\n",
       "    }\n",
       "\n",
       "    var fig = new mpl.figure(id, ws_proxy,\n",
       "                           ondownload,\n",
       "                           element.get(0));\n",
       "\n",
       "    // Call onopen now - mpl needs it, as it is assuming we've passed it a real\n",
       "    // web socket which is closed, not our websocket->open comm proxy.\n",
       "    ws_proxy.onopen();\n",
       "\n",
       "    fig.parent_element = element.get(0);\n",
       "    fig.cell_info = mpl.find_output_cell(\"<div id='\" + id + \"'></div>\");\n",
       "    if (!fig.cell_info) {\n",
       "        console.error(\"Failed to find cell for figure\", id, fig);\n",
       "        return;\n",
       "    }\n",
       "\n",
       "    var output_index = fig.cell_info[2]\n",
       "    var cell = fig.cell_info[0];\n",
       "\n",
       "};\n",
       "\n",
       "mpl.figure.prototype.handle_close = function(fig, msg) {\n",
       "    fig.root.unbind('remove')\n",
       "\n",
       "    // Update the output cell to use the data from the current canvas.\n",
       "    fig.push_to_output();\n",
       "    var dataURL = fig.canvas.toDataURL();\n",
       "    // Re-enable the keyboard manager in IPython - without this line, in FF,\n",
       "    // the notebook keyboard shortcuts fail.\n",
       "    IPython.keyboard_manager.enable()\n",
       "    $(fig.parent_element).html('<img src=\"' + dataURL + '\">');\n",
       "    fig.close_ws(fig, msg);\n",
       "}\n",
       "\n",
       "mpl.figure.prototype.close_ws = function(fig, msg){\n",
       "    fig.send_message('closing', msg);\n",
       "    // fig.ws.close()\n",
       "}\n",
       "\n",
       "mpl.figure.prototype.push_to_output = function(remove_interactive) {\n",
       "    // Turn the data on the canvas into data in the output cell.\n",
       "    var dataURL = this.canvas.toDataURL();\n",
       "    this.cell_info[1]['text/html'] = '<img src=\"' + dataURL + '\">';\n",
       "}\n",
       "\n",
       "mpl.figure.prototype.updated_canvas_event = function() {\n",
       "    // Tell IPython that the notebook contents must change.\n",
       "    IPython.notebook.set_dirty(true);\n",
       "    this.send_message(\"ack\", {});\n",
       "    var fig = this;\n",
       "    // Wait a second, then push the new image to the DOM so\n",
       "    // that it is saved nicely (might be nice to debounce this).\n",
       "    setTimeout(function () { fig.push_to_output() }, 1000);\n",
       "}\n",
       "\n",
       "mpl.figure.prototype._init_toolbar = function() {\n",
       "    var fig = this;\n",
       "\n",
       "    var nav_element = $('<div/>')\n",
       "    nav_element.attr('style', 'width: 100%');\n",
       "    this.root.append(nav_element);\n",
       "\n",
       "    // Define a callback function for later on.\n",
       "    function toolbar_event(event) {\n",
       "        return fig.toolbar_button_onclick(event['data']);\n",
       "    }\n",
       "    function toolbar_mouse_event(event) {\n",
       "        return fig.toolbar_button_onmouseover(event['data']);\n",
       "    }\n",
       "\n",
       "    for(var toolbar_ind in mpl.toolbar_items){\n",
       "        var name = mpl.toolbar_items[toolbar_ind][0];\n",
       "        var tooltip = mpl.toolbar_items[toolbar_ind][1];\n",
       "        var image = mpl.toolbar_items[toolbar_ind][2];\n",
       "        var method_name = mpl.toolbar_items[toolbar_ind][3];\n",
       "\n",
       "        if (!name) { continue; };\n",
       "\n",
       "        var button = $('<button class=\"btn btn-default\" href=\"#\" title=\"' + name + '\"><i class=\"fa ' + image + ' fa-lg\"></i></button>');\n",
       "        button.click(method_name, toolbar_event);\n",
       "        button.mouseover(tooltip, toolbar_mouse_event);\n",
       "        nav_element.append(button);\n",
       "    }\n",
       "\n",
       "    // Add the status bar.\n",
       "    var status_bar = $('<span class=\"mpl-message\" style=\"text-align:right; float: right;\"/>');\n",
       "    nav_element.append(status_bar);\n",
       "    this.message = status_bar[0];\n",
       "\n",
       "    // Add the close button to the window.\n",
       "    var buttongrp = $('<div class=\"btn-group inline pull-right\"></div>');\n",
       "    var button = $('<button class=\"btn btn-mini btn-primary\" href=\"#\" title=\"Stop Interaction\"><i class=\"fa fa-power-off icon-remove icon-large\"></i></button>');\n",
       "    button.click(function (evt) { fig.handle_close(fig, {}); } );\n",
       "    button.mouseover('Stop Interaction', toolbar_mouse_event);\n",
       "    buttongrp.append(button);\n",
       "    var titlebar = this.root.find($('.ui-dialog-titlebar'));\n",
       "    titlebar.prepend(buttongrp);\n",
       "}\n",
       "\n",
       "mpl.figure.prototype._root_extra_style = function(el){\n",
       "    var fig = this\n",
       "    el.on(\"remove\", function(){\n",
       "\tfig.close_ws(fig, {});\n",
       "    });\n",
       "}\n",
       "\n",
       "mpl.figure.prototype._canvas_extra_style = function(el){\n",
       "    // this is important to make the div 'focusable\n",
       "    el.attr('tabindex', 0)\n",
       "    // reach out to IPython and tell the keyboard manager to turn it's self\n",
       "    // off when our div gets focus\n",
       "\n",
       "    // location in version 3\n",
       "    if (IPython.notebook.keyboard_manager) {\n",
       "        IPython.notebook.keyboard_manager.register_events(el);\n",
       "    }\n",
       "    else {\n",
       "        // location in version 2\n",
       "        IPython.keyboard_manager.register_events(el);\n",
       "    }\n",
       "\n",
       "}\n",
       "\n",
       "mpl.figure.prototype._key_event_extra = function(event, name) {\n",
       "    var manager = IPython.notebook.keyboard_manager;\n",
       "    if (!manager)\n",
       "        manager = IPython.keyboard_manager;\n",
       "\n",
       "    // Check for shift+enter\n",
       "    if (event.shiftKey && event.which == 13) {\n",
       "        this.canvas_div.blur();\n",
       "        event.shiftKey = false;\n",
       "        // Send a \"J\" for go to next cell\n",
       "        event.which = 74;\n",
       "        event.keyCode = 74;\n",
       "        manager.command_mode();\n",
       "        manager.handle_keydown(event);\n",
       "    }\n",
       "}\n",
       "\n",
       "mpl.figure.prototype.handle_save = function(fig, msg) {\n",
       "    fig.ondownload(fig, null);\n",
       "}\n",
       "\n",
       "\n",
       "mpl.find_output_cell = function(html_output) {\n",
       "    // Return the cell and output element which can be found *uniquely* in the notebook.\n",
       "    // Note - this is a bit hacky, but it is done because the \"notebook_saving.Notebook\"\n",
       "    // IPython event is triggered only after the cells have been serialised, which for\n",
       "    // our purposes (turning an active figure into a static one), is too late.\n",
       "    var cells = IPython.notebook.get_cells();\n",
       "    var ncells = cells.length;\n",
       "    for (var i=0; i<ncells; i++) {\n",
       "        var cell = cells[i];\n",
       "        if (cell.cell_type === 'code'){\n",
       "            for (var j=0; j<cell.output_area.outputs.length; j++) {\n",
       "                var data = cell.output_area.outputs[j];\n",
       "                if (data.data) {\n",
       "                    // IPython >= 3 moved mimebundle to data attribute of output\n",
       "                    data = data.data;\n",
       "                }\n",
       "                if (data['text/html'] == html_output) {\n",
       "                    return [cell, data, j];\n",
       "                }\n",
       "            }\n",
       "        }\n",
       "    }\n",
       "}\n",
       "\n",
       "// Register the function which deals with the matplotlib target/channel.\n",
       "// The kernel may be null if the page has been refreshed.\n",
       "if (IPython.notebook.kernel != null) {\n",
       "    IPython.notebook.kernel.comm_manager.register_target('matplotlib', mpl.mpl_figure_comm);\n",
       "}\n"
      ],
      "text/plain": [
       "<IPython.core.display.Javascript object>"
      ]
     },
     "metadata": {},
     "output_type": "display_data"
    },
    {
     "data": {
      "text/html": [
       "<img src=\"data:image/png;base64,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\">"
      ],
      "text/plain": [
       "<IPython.core.display.HTML object>"
      ]
     },
     "metadata": {},
     "output_type": "display_data"
    },
    {
     "data": {
      "text/plain": [
       "<matplotlib.text.Text at 0x11973d0d0>"
      ]
     },
     "execution_count": 63,
     "metadata": {},
     "output_type": "execute_result"
    }
   ],
   "source": [
    "x = np.linspace(0,5,100)\n",
    "y = np.random.exponential(1./3., 100)\n",
    "\n",
    "plt.plot(x,y, c='r',marker='x')\n",
    "plt.xlabel('Sample time (au)')\n",
    "plt.ylabel('Exponential Sample (au)')\n",
    "plt.title('See the trend?')"
   ]
  },
  {
   "cell_type": "markdown",
   "metadata": {},
   "source": [
    "### Lots of kwargs to modify your plot\n",
    "A few that I find most useful are:\n",
    "* alpha\n",
    "* color or c\n",
    "* linestyle or ls\n",
    "* linewidth or lw\n",
    "* marker\n",
    "* markersize or ms\n",
    "* label\n"
   ]
  },
  {
   "cell_type": "code",
   "execution_count": 100,
   "metadata": {
    "collapsed": true
   },
   "outputs": [],
   "source": [
    "x = np.linspace(0,6.,1000.)"
   ]
  },
  {
   "cell_type": "code",
   "execution_count": 107,
   "metadata": {
    "collapsed": false
   },
   "outputs": [
    {
     "data": {
      "text/plain": [
       "<matplotlib.legend.Legend at 0x11fc97b90>"
      ]
     },
     "execution_count": 107,
     "metadata": {},
     "output_type": "execute_result"
    },
    {
     "data": {
      "image/png": "[encoded data removed]",
      "text/plain": [
       "<matplotlib.figure.Figure at 0x11f99d050>"
      ]
     },
     "metadata": {},
     "output_type": "display_data"
    }
   ],
   "source": [
    "plt.plot(x, x, alpha = 0.5, c = 'r', ls = ':', lw=3., label='x')\n",
    "plt.plot(x, x**(3./2), alpha = 0.5, c = 'b', ls = '-', lw=3., label='x**3/2')\n",
    "plt.plot(x, x**2, alpha = 0.5, c = 'g', ls = '--', lw=3., label='x**2')\n",
    "plt.plot(x, np.log(1+x)*20., alpha = 0.5, c = 'c', ls = '-.', lw=3., label='log(1+x)')\n",
    "\n",
    "plt.legend(loc=2)"
   ]
  },
  {
   "cell_type": "markdown",
   "metadata": {},
   "source": [
    "Nice scatter Example from the MPL website.  Note that the kwargs are different here.  Quick inspection of the docs is handy."
   ]
  },
  {
   "cell_type": "code",
   "execution_count": 116,
   "metadata": {
    "collapsed": false
   },
   "outputs": [
    {
     "data": {
      "image/png": "[encoded data removed]",
      "text/plain": [
       "<matplotlib.figure.Figure at 0x12069d990>"
      ]
     },
     "metadata": {},
     "output_type": "display_data"
    }
   ],
   "source": [
    "N = 50\n",
    "x = np.random.rand(N)\n",
    "y = np.random.rand(N)\n",
    "colors = np.random.rand(N)\n",
    "area = np.pi * (15 * np.random.rand(N))**2  # 0 to 15 point radiuses\n",
    "\n",
    "x = plt.scatter(x, y, s=area, c=colors, alpha=0.4)\n",
    "plt.show()\n"
   ]
  },
  {
   "cell_type": "code",
   "execution_count": 128,
   "metadata": {
    "collapsed": false
   },
   "outputs": [
    {
     "data": {
      "image/png": "[encoded data removed]",
      "text/plain": [
       "<matplotlib.figure.Figure at 0x12216ff90>"
      ]
     },
     "metadata": {},
     "output_type": "display_data"
    }
   ],
   "source": [
    "N=10000\n",
    "values1 = np.random.normal(25., 3., N)\n",
    "values2 = np.random.normal(33., 8., N/10)\n",
    "valuestot = np.concatenate([values1,values2])\n",
    "\n",
    "x1 = plt.hist(valuestot, bins=range(0,101,1), color='g', alpha=0.5)\n",
    "x2 = plt.hist(values2, bins=range(0,101,1), color='r', alpha=0.5)\n",
    "x3 = plt.hist(values1, bins=range(0,101,1), color='b', alpha=0.5)"
   ]
  },
  {
   "cell_type": "markdown",
   "metadata": {},
   "source": [
    "### Loads of examples and plot types in the Matplotlib.org [Gallery](http://matplotlib.org/gallery.html)\n",
    "* Its worth looking through some examples just to get a feel for what types of plots are available and how they are used."
   ]
  },
  {
   "cell_type": "markdown",
   "metadata": {},
   "source": [
    "# Figures and Axes\n",
    "\n",
    "Working with MPL Figure and Axes objects gives you more control.  You can quickly make multiple plots, shared axes, etc... on the same Figure."
   ]
  },
  {
   "cell_type": "markdown",
   "metadata": {},
   "source": [
    "* Figure command\n",
    "* Subplot command\n",
    "* Different sized subplots\n",
    "* Axes controls\n",
    "  * ticks, labels, else?"
   ]
  },
  {
   "cell_type": "code",
   "execution_count": 151,
   "metadata": {
    "collapsed": false
   },
   "outputs": [
    {
     "data": {
      "text/plain": [
       "<matplotlib.text.Text at 0x124ff58d0>"
      ]
     },
     "execution_count": 151,
     "metadata": {},
     "output_type": "execute_result"
    },
    {
     "data": {
      "image/png": "[encoded data removed]",
      "text/plain": [
       "<matplotlib.figure.Figure at 0x123238210>"
      ]
     },
     "metadata": {},
     "output_type": "display_data"
    }
   ],
   "source": [
    "fig = plt.figure(figsize=(10,6))\n",
    "\n",
    "# Make an axes as if the figure had 1 row, 2 columns and it would be the first of the two sub-divisions.\n",
    "ax1 = fig.add_subplot(121)\n",
    "plot1 = ax1.plot([1,2,3,4,1,0])\n",
    "ax1.set_xlabel('time since start of talk')\n",
    "ax1.set_ylabel('interest level')\n",
    "ax1.set_xbound([-1.,6.])\n",
    "\n",
    "\n",
    "\n",
    "# Make an axes as if the figure had 1 row, 2 columns and it would be the second of the two sub-divisions.\n",
    "ax2 = fig.add_subplot(122)\n",
    "plot2 = ax2.scatter([1,1,1,2,2,2,3,3,3,4,4,4], [1,2,3]*4)\n",
    "ax2.set_title('A commentary on chairs with wheels')"
   ]
  },
  {
   "cell_type": "code",
   "execution_count": 149,
   "metadata": {
    "collapsed": false
   },
   "outputs": [
    {
     "name": "stdout",
     "output_type": "stream",
     "text": [
      "[<matplotlib.lines.Line2D object at 0x12276c850>]\n",
      "<matplotlib.collections.PathCollection object at 0x12271bd90>\n"
     ]
    }
   ],
   "source": [
    "print(plot1)\n",
    "print(plot2)"
   ]
  },
  {
   "cell_type": "markdown",
   "metadata": {},
   "source": [
    "`fig.add_axes` is another option for adding axes as you wish.\n",
    "* Relative lower left corner x and y coordinates\n",
    "* Relative x and y spans of the axes"
   ]
  },
  {
   "cell_type": "code",
   "execution_count": 167,
   "metadata": {
    "collapsed": false
   },
   "outputs": [
    {
     "data": {
      "text/plain": [
       "[<matplotlib.lines.Line2D at 0x125bfeb50>]"
      ]
     },
     "execution_count": 167,
     "metadata": {},
     "output_type": "execute_result"
    },
    {
     "data": {
      "image/png": "[encoded data removed]",
      "text/plain": [
       "<matplotlib.figure.Figure at 0x126562f50>"
      ]
     },
     "metadata": {},
     "output_type": "display_data"
    }
   ],
   "source": [
    "fig2 = plt.figure(figsize=(10,10))\n",
    "ax1 = fig2.add_axes([0.1,0.1,0.8,0.4])\n",
    "histvals = ax1.hist(np.random.exponential(0.5,5000), bins=np.arange(0,5, 0.1))\n",
    "ax1.set_xlabel('Sampled Value')\n",
    "ax1.set_ylabel('Counts per bin')\n",
    "\n",
    "ax2 = fig2.add_axes([0.3,0.55, 0.4, 0.35])\n",
    "ax2.plot([13,8,5,3,2,1,1],'r:',lw=3)"
   ]
  },
  {
   "cell_type": "markdown",
   "metadata": {},
   "source": [
    "Alternative route to making axes and figures..."
   ]
  },
  {
   "cell_type": "code",
   "execution_count": null,
   "metadata": {
    "collapsed": true
   },
   "outputs": [],
   "source": []
  },
  {
   "cell_type": "code",
   "execution_count": null,
   "metadata": {
    "collapsed": true
   },
   "outputs": [],
   "source": []
  },
  {
   "cell_type": "code",
   "execution_count": null,
   "metadata": {
    "collapsed": true
   },
   "outputs": [],
   "source": []
  },
  {
   "cell_type": "markdown",
   "metadata": {},
   "source": [
    "# Colors and colormaps\n",
    "\n",
    "MPL has a variety of [Colormaps](http://matplotlib.org/users/colormaps.html) to choose from.\n",
    "\n",
    "I also use the python library [Palettable](https://jiffyclub.github.io/palettable/) to gain access to a few other colors and colormaps in convienent ways.  I won't use this library today, but if you're interested in some other options from what MPL has it is worth a look."
   ]
  },
  {
   "cell_type": "code",
   "execution_count": 129,
   "metadata": {
    "collapsed": false
   },
   "outputs": [
    {
     "data": {
      "text/plain": [
       "[u'Accent',\n",
       " u'Accent_r',\n",
       " u'Blues',\n",
       " u'Blues_r',\n",
       " u'BrBG',\n",
       " u'BrBG_r',\n",
       " u'BuGn',\n",
       " u'BuGn_r',\n",
       " u'BuPu',\n",
       " u'BuPu_r',\n",
       " u'CMRmap',\n",
       " u'CMRmap_r',\n",
       " u'Dark2',\n",
       " u'Dark2_r',\n",
       " u'GnBu',\n",
       " u'GnBu_r',\n",
       " u'Greens',\n",
       " u'Greens_r',\n",
       " u'Greys',\n",
       " u'Greys_r',\n",
       " u'OrRd',\n",
       " u'OrRd_r',\n",
       " u'Oranges',\n",
       " u'Oranges_r',\n",
       " u'PRGn',\n",
       " u'PRGn_r',\n",
       " u'Paired',\n",
       " u'Paired_r',\n",
       " u'Pastel1',\n",
       " u'Pastel1_r',\n",
       " u'Pastel2',\n",
       " u'Pastel2_r',\n",
       " u'PiYG',\n",
       " u'PiYG_r',\n",
       " u'PuBu',\n",
       " u'PuBuGn',\n",
       " u'PuBuGn_r',\n",
       " u'PuBu_r',\n",
       " u'PuOr',\n",
       " u'PuOr_r',\n",
       " u'PuRd',\n",
       " u'PuRd_r',\n",
       " u'Purples',\n",
       " u'Purples_r',\n",
       " u'RdBu',\n",
       " u'RdBu_r',\n",
       " u'RdGy',\n",
       " u'RdGy_r',\n",
       " u'RdPu',\n",
       " u'RdPu_r',\n",
       " u'RdYlBu',\n",
       " u'RdYlBu_r',\n",
       " u'RdYlGn',\n",
       " u'RdYlGn_r',\n",
       " u'Reds',\n",
       " u'Reds_r',\n",
       " u'Set1',\n",
       " u'Set1_r',\n",
       " u'Set2',\n",
       " u'Set2_r',\n",
       " u'Set3',\n",
       " u'Set3_r',\n",
       " u'Spectral',\n",
       " u'Spectral_r',\n",
       " u'Wistia',\n",
       " u'Wistia_r',\n",
       " u'YlGn',\n",
       " u'YlGnBu',\n",
       " u'YlGnBu_r',\n",
       " u'YlGn_r',\n",
       " u'YlOrBr',\n",
       " u'YlOrBr_r',\n",
       " u'YlOrRd',\n",
       " u'YlOrRd_r',\n",
       " u'afmhot',\n",
       " u'afmhot_r',\n",
       " u'autumn',\n",
       " u'autumn_r',\n",
       " u'binary',\n",
       " u'binary_r',\n",
       " u'bone',\n",
       " u'bone_r',\n",
       " u'brg',\n",
       " u'brg_r',\n",
       " u'bwr',\n",
       " u'bwr_r',\n",
       " u'cool',\n",
       " u'cool_r',\n",
       " u'coolwarm',\n",
       " u'coolwarm_r',\n",
       " u'copper',\n",
       " u'copper_r',\n",
       " u'cubehelix',\n",
       " u'cubehelix_r',\n",
       " u'flag',\n",
       " u'flag_r',\n",
       " u'gist_earth',\n",
       " u'gist_earth_r',\n",
       " u'gist_gray',\n",
       " u'gist_gray_r',\n",
       " u'gist_heat',\n",
       " u'gist_heat_r',\n",
       " u'gist_ncar',\n",
       " u'gist_ncar_r',\n",
       " u'gist_rainbow',\n",
       " u'gist_rainbow_r',\n",
       " u'gist_stern',\n",
       " u'gist_stern_r',\n",
       " u'gist_yarg',\n",
       " u'gist_yarg_r',\n",
       " u'gnuplot',\n",
       " u'gnuplot2',\n",
       " u'gnuplot2_r',\n",
       " u'gnuplot_r',\n",
       " u'gray',\n",
       " u'gray_r',\n",
       " u'hot',\n",
       " u'hot_r',\n",
       " u'hsv',\n",
       " u'hsv_r',\n",
       " 'inferno',\n",
       " 'inferno_r',\n",
       " u'jet',\n",
       " u'jet_r',\n",
       " 'magma',\n",
       " 'magma_r',\n",
       " u'nipy_spectral',\n",
       " u'nipy_spectral_r',\n",
       " u'ocean',\n",
       " u'ocean_r',\n",
       " u'pink',\n",
       " u'pink_r',\n",
       " 'plasma',\n",
       " 'plasma_r',\n",
       " u'prism',\n",
       " u'prism_r',\n",
       " u'rainbow',\n",
       " u'rainbow_r',\n",
       " u'seismic',\n",
       " u'seismic_r',\n",
       " u'spectral',\n",
       " u'spectral_r',\n",
       " u'spring',\n",
       " u'spring_r',\n",
       " u'summer',\n",
       " u'summer_r',\n",
       " u'terrain',\n",
       " u'terrain_r',\n",
       " 'viridis',\n",
       " 'viridis_r',\n",
       " u'winter',\n",
       " u'winter_r']"
      ]
     },
     "execution_count": 129,
     "metadata": {},
     "output_type": "execute_result"
    }
   ],
   "source": [
    "plt.colormaps()"
   ]
  },
  {
   "cell_type": "code",
   "execution_count": 179,
   "metadata": {
    "collapsed": false
   },
   "outputs": [],
   "source": [
    "cmap1 = plt.cm.cubehelix\n",
    "Ncolors = 12\n",
    "colors = cmap1(np.linspace(0,1,Ncolors))"
   ]
  },
  {
   "cell_type": "code",
   "execution_count": null,
   "metadata": {
    "collapsed": true
   },
   "outputs": [],
   "source": []
  },
  {
   "cell_type": "code",
   "execution_count": null,
   "metadata": {
    "collapsed": true
   },
   "outputs": [],
   "source": []
  },
  {
   "cell_type": "code",
   "execution_count": null,
   "metadata": {
    "collapsed": true
   },
   "outputs": [],
   "source": []
  },
  {
   "cell_type": "code",
   "execution_count": null,
   "metadata": {
    "collapsed": true
   },
   "outputs": [],
   "source": []
  },
  {
   "cell_type": "markdown",
   "metadata": {},
   "source": [
    "* Sampling colors from a colormap\n",
    "* Examples\n",
    "* Normalizing colormaps (lognorm)\n",
    "* cmap kawrg"
   ]
  },
  {
   "cell_type": "markdown",
   "metadata": {},
   "source": [
    "# Lines and text"
   ]
  },
  {
   "cell_type": "markdown",
   "metadata": {},
   "source": [
    "* Adding horizontal and vertical lines\n",
    "  * `hlines` and `vlines`\n",
    "* Adding text to your figures is also often needed."
   ]
  },
  {
   "cell_type": "code",
   "execution_count": null,
   "metadata": {
    "collapsed": true
   },
   "outputs": [],
   "source": [
    "plt.vlines"
   ]
  },
  {
   "cell_type": "code",
   "execution_count": null,
   "metadata": {
    "collapsed": true
   },
   "outputs": [],
   "source": []
  },
  {
   "cell_type": "code",
   "execution_count": null,
   "metadata": {
    "collapsed": true
   },
   "outputs": [],
   "source": []
  },
  {
   "cell_type": "code",
   "execution_count": null,
   "metadata": {
    "collapsed": true
   },
   "outputs": [],
   "source": []
  },
  {
   "cell_type": "code",
   "execution_count": null,
   "metadata": {
    "collapsed": true
   },
   "outputs": [],
   "source": []
  },
  {
   "cell_type": "code",
   "execution_count": null,
   "metadata": {
    "collapsed": true
   },
   "outputs": [],
   "source": []
  },
  {
   "cell_type": "markdown",
   "metadata": {},
   "source": [
    "# A Publication Example"
   ]
  },
  {
   "cell_type": "code",
   "execution_count": null,
   "metadata": {
    "collapsed": true
   },
   "outputs": [],
   "source": []
  },
  {
   "cell_type": "code",
   "execution_count": null,
   "metadata": {
    "collapsed": true
   },
   "outputs": [],
   "source": []
  },
  {
   "cell_type": "code",
   "execution_count": null,
   "metadata": {
    "collapsed": true
   },
   "outputs": [],
   "source": []
  },
  {
   "cell_type": "code",
   "execution_count": null,
   "metadata": {
    "collapsed": true
   },
   "outputs": [],
   "source": []
  },
  {
   "cell_type": "code",
   "execution_count": null,
   "metadata": {
    "collapsed": true
   },
   "outputs": [],
   "source": []
  }
 ],
 "metadata": {
  "kernelspec": {
   "display_name": "Python 2",
   "language": "python",
   "name": "python2"
  },
  "language_info": {
   "codemirror_mode": {
    "name": "ipython",
    "version": 2
   },
   "file_extension": ".py",
   "mimetype": "text/x-python",
   "name": "python",
   "nbconvert_exporter": "python",
   "pygments_lexer": "ipython2",
   "version": "2.7.11"
  }
 },
 "nbformat": 4,
 "nbformat_minor": 0
}
