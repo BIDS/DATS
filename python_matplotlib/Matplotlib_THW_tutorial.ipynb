{
 "cells": [
  {
   "cell_type": "markdown",
   "metadata": {},
   "source": [
    "#An Introduction to Matplotlib\n",
    "\n",
    "* Nick Swanson-Hysell: swanson-hysell@berkeley.edu\n",
    "* Tenzing HY Joshi: thjoshi@lbl.gov"
   ]
  },
  {
   "cell_type": "markdown",
   "metadata": {},
   "source": [
    "Nick, I've added some crude thoughts below for what to focus on.  I will be working on my pandas THW talk over the next week, after that I'll have some more time to get cracking on this.  Co-leading sounds great, carve out what you're most excited about."
   ]
  },
  {
   "cell_type": "markdown",
   "metadata": {},
   "source": [
    "##Primary objectives\n",
    "* Importing \n",
    "* Simple plots and convienent methods\n",
    "* Figures and Axes\n",
    "* Useful plot types\n",
    "  * plot\n",
    "  * scatter\n",
    "  * hist\n",
    "  * pcolor & pcolormesh\n",
    "  * others...\n",
    "* Formatting \n",
    "  * axes labels\n",
    "  * multiple frames\n",
    "  * colors\n",
    "* Publication examples"
   ]
  },
  {
   "cell_type": "code",
   "execution_count": null,
   "metadata": {
    "collapsed": true
   },
   "outputs": [],
   "source": []
  }
 ],
 "metadata": {
  "kernelspec": {
   "display_name": "Python 2",
   "language": "python",
   "name": "python2"
  },
  "language_info": {
   "codemirror_mode": {
    "name": "ipython",
    "version": 2
   },
   "file_extension": ".py",
   "mimetype": "text/x-python",
   "name": "python",
   "nbconvert_exporter": "python",
   "pygments_lexer": "ipython2",
   "version": "2.7.11"
  }
 },
 "nbformat": 4,
 "nbformat_minor": 0
}
