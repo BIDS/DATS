{
 "cells": [
  {
   "cell_type": "markdown",
   "metadata": {},
   "source": [
    "# A Backwards Approach to Pandas\n",
    "\n",
    "### The Hacker Within, Berkeley Feb 10 2016\n",
    "### Tenzing Joshi -- Applied Nuclear Physics, LBL"
   ]
  },
  {
   "cell_type": "markdown",
   "metadata": {},
   "source": [
    "\n",
    "This notebook is an introduction to the pandas library for python.  We'll go over the data structures of pandas and explore some of their uses.  We'll then play around with some data from a mobile gamma-ray detector array to look at some real uses of DataFrames.\n"
   ]
  },
  {
   "cell_type": "markdown",
   "metadata": {},
   "source": [
    "## Resources\n",
    "\n",
    "* Pandas site\n",
    "  * http://pandas.pydata.org/pandas-docs/stable/overview.html\n",
    "  * There are loads of useful examples and tutorials on this site\n",
    "  * If you're curious then take some time to look around\n",
    "  \n",
    "* Wes's Book\n",
    "  * Wes McKinney started Pandas\n",
    "  * Wes wrote a book titled **Python for Data Analysis**\n",
    "  * http://www.amazon.com/Python-Data-Analysis-Wrangling-IPython/dp/1449319793\n",
    "  * This was my starting point and there is great stuff in this book\n",
    "\n",
    "* Other Pandas tutorials I found online with a 5 minute google search\n",
    "  * http://www.gregreda.com/2013/10/26/intro-to-pandas-data-structures/\n",
    "  * http://synesthesiam.com/posts/an-introduction-to-pandas.html\n",
    "  * https://plot.ly/ipython-notebooks/big-data-analytics-with-pandas-and-sqlite/\n",
    "\n",
    "* Stack Overflow\n",
    "  * There are a large number of Pandas related answers on here\n",
    "  * http://stackoverflow.com/questions/tagged/pandas\n",
    "  * It seems like this site is monitored for pandas tagged questions, if you're stumped then this is a great place to ask a question.\n",
    "  "
   ]
  },
  {
   "cell_type": "markdown",
   "metadata": {},
   "source": [
    "## What is Pandas?  \n",
    "\n",
    "I'll just let the Pandas [website](http://pandas.pydata.org/pandas-docs/stable/overview.html) do the talking here...\n",
    "\n",
    "\n",
    "> pandas consists of the following things\n",
    "\n",
    "> - A set of labeled array data structures, the primary of which are Series and DataFrame\n",
    ">   - **Series** 1D labeled homogenously typed array\n",
    ">   - **DataFrame** 2D labeled, size-mutable tabular structure with potentially heterogeneously-typed columns\n",
    ">   - **Panel** General 3D labeled, also size-mutable array\n",
    "> - Index objects enabling both simple axis indexing and multi-level / hierarchical axis indexing\n",
    "> - An integrated group by engine for aggregating and transforming data sets\n",
    "> - Date range generation (date_range) and custom date offsets enabling the implementation of customized frequencies\n",
    "> - Input/Output tools: loading tabular data from flat files (CSV, delimited, Excel 2003), and saving and loading pandas objects from the fast and efficient PyTables/HDF5 format.\n",
    "> - Memory-efficient “sparse” versions of the standard data structures for storing data that is mostly missing or mostly constant (some fixed value)\n",
    "> - Moving window statistics (rolling mean, rolling standard deviation, etc.)\n",
    "> - Static and moving window linear and panel regression\n"
   ]
  },
  {
   "cell_type": "markdown",
   "metadata": {},
   "source": [
    "Pandas has a truly *incredible* amount of functionality, however, accessing a lot of this requires understanding the nuance of Index objects and knowning that the functionality exists.  "
   ]
  },
  {
   "cell_type": "code",
   "execution_count": null,
   "metadata": {
    "collapsed": true
   },
   "outputs": [],
   "source": [
    "import numpy as np\n",
    "import pandas as pd"
   ]
  },
  {
   "cell_type": "markdown",
   "metadata": {},
   "source": [
    "### Lets first play with Series"
   ]
  },
  {
   "cell_type": "code",
   "execution_count": null,
   "metadata": {
    "collapsed": false
   },
   "outputs": [],
   "source": [
    "sadstring = 'sadnap'\n",
    "mfs = pd.Series(list(sadstring))\n",
    "mfs"
   ]
  },
  {
   "cell_type": "markdown",
   "metadata": {},
   "source": [
    "#### Series are like np.arrays, but they have indicies.  If you don't specify on creation it will initialize to range(len(object)).  Indicies are big part of what makes pandas useful, but also a bit tricky.  We'll get to using indicies in more detail in a bit."
   ]
  },
  {
   "cell_type": "markdown",
   "metadata": {},
   "source": [
    "The .values attribute will return the underlying numpy array or recarray"
   ]
  },
  {
   "cell_type": "code",
   "execution_count": null,
   "metadata": {
    "collapsed": false
   },
   "outputs": [],
   "source": [
    "mfs.values"
   ]
  },
  {
   "cell_type": "markdown",
   "metadata": {},
   "source": [
    "The associated index can be viewed.  Theres also plenty of attributes for working with more complicated indicies.\n",
    "\n",
    "You can also write yourself a new index."
   ]
  },
  {
   "cell_type": "code",
   "execution_count": null,
   "metadata": {
    "collapsed": false
   },
   "outputs": [],
   "source": [
    "mfs.index"
   ]
  },
  {
   "cell_type": "code",
   "execution_count": null,
   "metadata": {
    "collapsed": false
   },
   "outputs": [],
   "source": [
    "mfs.index = range(5,11)\n",
    "mfs"
   ]
  },
  {
   "cell_type": "markdown",
   "metadata": {},
   "source": [
    "Grabbing a component in a Series is as easy as grabbing based on its label."
   ]
  },
  {
   "cell_type": "code",
   "execution_count": null,
   "metadata": {
    "collapsed": false
   },
   "outputs": [],
   "source": [
    "mfs[5]"
   ]
  },
  {
   "cell_type": "markdown",
   "metadata": {},
   "source": [
    ".ix, .iloc, and .loc can be used to slice in different ways too.  More about this in a bit. "
   ]
  },
  {
   "cell_type": "code",
   "execution_count": null,
   "metadata": {
    "collapsed": false
   },
   "outputs": [],
   "source": [
    "mfs.loc[10]"
   ]
  },
  {
   "cell_type": "code",
   "execution_count": null,
   "metadata": {
    "collapsed": false
   },
   "outputs": [],
   "source": [
    "mfs.loc[8:10]"
   ]
  },
  {
   "cell_type": "code",
   "execution_count": null,
   "metadata": {
    "collapsed": false
   },
   "outputs": [],
   "source": [
    "mfs.iloc[:3]"
   ]
  },
  {
   "cell_type": "markdown",
   "metadata": {},
   "source": [
    "Passing a list of labels works as you'd expect.  The ordering of the list is preserved in the result!"
   ]
  },
  {
   "cell_type": "code",
   "execution_count": null,
   "metadata": {
    "collapsed": false
   },
   "outputs": [],
   "source": [
    "listoflabels = np.arange(10,4,-1)\n",
    "mfs[listoflabels]"
   ]
  },
  {
   "cell_type": "markdown",
   "metadata": {},
   "source": [
    "Adding a few items is straightforward."
   ]
  },
  {
   "cell_type": "code",
   "execution_count": null,
   "metadata": {
    "collapsed": true
   },
   "outputs": [],
   "source": [
    "mfs[4] = ' '\n",
    "mfs[0] = ' wants friend'"
   ]
  },
  {
   "cell_type": "code",
   "execution_count": null,
   "metadata": {
    "collapsed": false
   },
   "outputs": [],
   "source": [
    "mfs.loc[[5,6,7,4,10,9,8,7,6,0]].tolist()"
   ]
  },
  {
   "cell_type": "code",
   "execution_count": null,
   "metadata": {
    "collapsed": false
   },
   "outputs": [],
   "source": [
    "''.join(_)"
   ]
  },
  {
   "cell_type": "markdown",
   "metadata": {},
   "source": [
    "#### Sad pandas are silly anyways, how about something with numbers, because pandas play nicely with math."
   ]
  },
  {
   "cell_type": "code",
   "execution_count": null,
   "metadata": {
    "collapsed": false
   },
   "outputs": [],
   "source": [
    "animalsdict = {\n",
    "    'moose':1220,\n",
    "    'buffalo':774,\n",
    "    'chicken':13,\n",
    "    'sadpanda':97,\n",
    "    'platypus':2084\n",
    "}\n",
    "mss = pd.Series(animalsdict)\n",
    "mss.name = 'CoolFactor'\n",
    "mss"
   ]
  },
  {
   "cell_type": "code",
   "execution_count": null,
   "metadata": {
    "collapsed": false
   },
   "outputs": [],
   "source": [
    "mss * 2.41"
   ]
  },
  {
   "cell_type": "code",
   "execution_count": null,
   "metadata": {
    "collapsed": false
   },
   "outputs": [],
   "source": [
    "mss>555"
   ]
  },
  {
   "cell_type": "code",
   "execution_count": null,
   "metadata": {
    "collapsed": false,
    "scrolled": true
   },
   "outputs": [],
   "source": [
    "mss[mss>555]"
   ]
  },
  {
   "cell_type": "markdown",
   "metadata": {},
   "source": [
    "Boolean masking can work with a boolean Series or a boolean array of appropriate length. \n",
    "\n",
    "The .apply method can applie an arbitray function to each labeled piece.  When we get to 2D structures you can apply to rows or columns if you'd like."
   ]
  },
  {
   "cell_type": "code",
   "execution_count": null,
   "metadata": {
    "collapsed": false
   },
   "outputs": [],
   "source": [
    "mss[mss>555].apply(np.random.poisson)"
   ]
  },
  {
   "cell_type": "code",
   "execution_count": null,
   "metadata": {
    "collapsed": false
   },
   "outputs": [],
   "source": [
    "np.min(mss)"
   ]
  },
  {
   "cell_type": "code",
   "execution_count": null,
   "metadata": {
    "collapsed": false
   },
   "outputs": [],
   "source": [
    "mss.argmin()"
   ]
  },
  {
   "cell_type": "code",
   "execution_count": null,
   "metadata": {
    "collapsed": false
   },
   "outputs": [],
   "source": [
    "mss.describe()"
   ]
  },
  {
   "cell_type": "markdown",
   "metadata": {},
   "source": [
    "#### Series are also a bit like ordered dictionaries with fixed length.\n",
    "\n",
    "You can check which *labels* are in your Series."
   ]
  },
  {
   "cell_type": "code",
   "execution_count": null,
   "metadata": {
    "collapsed": false
   },
   "outputs": [],
   "source": [
    "'chicken' in mss"
   ]
  },
  {
   "cell_type": "code",
   "execution_count": null,
   "metadata": {
    "collapsed": false
   },
   "outputs": [],
   "source": [
    "13 in mss"
   ]
  },
  {
   "cell_type": "markdown",
   "metadata": {},
   "source": [
    "### This next bit is an extra example, but for the talk we'll move on."
   ]
  },
  {
   "cell_type": "code",
   "execution_count": null,
   "metadata": {
    "collapsed": false
   },
   "outputs": [],
   "source": [
    "mts = pd.Series( {'chicken':1.2, \n",
    "                  'moose':30.77, \n",
    "                  'elk': 22.88, \n",
    "                  'marmot':4.49,\n",
    "                  'platypus':14.9,\n",
    "                  'humans':100.,\n",
    "                  'sadpanda':0.9} )\n",
    "mts.name = 'NormalizedRadFactor'\n",
    "mts"
   ]
  },
  {
   "cell_type": "code",
   "execution_count": null,
   "metadata": {
    "collapsed": false
   },
   "outputs": [],
   "source": [
    "coolness = mss / mss.chicken\n",
    "radness = mts\n",
    "\n",
    "print coolness\n",
    "\n",
    "print radness"
   ]
  },
  {
   "cell_type": "code",
   "execution_count": null,
   "metadata": {
    "collapsed": false
   },
   "outputs": [],
   "source": [
    "animalBitCoinValue = (radness + coolness * radness) / radness.max()\n",
    "animalBitCoinValue"
   ]
  },
  {
   "cell_type": "code",
   "execution_count": null,
   "metadata": {
    "collapsed": false,
    "scrolled": true
   },
   "outputs": [],
   "source": [
    "animalBitCoinValue.isnull()"
   ]
  },
  {
   "cell_type": "code",
   "execution_count": null,
   "metadata": {
    "collapsed": false
   },
   "outputs": [],
   "source": [
    "prizedAnimals = animalBitCoinValue[animalBitCoinValue>17.]\n",
    "print prizedAnimals"
   ]
  },
  {
   "cell_type": "code",
   "execution_count": null,
   "metadata": {
    "collapsed": false
   },
   "outputs": [],
   "source": [
    "animalBitCoinValue.fillna(1.)"
   ]
  },
  {
   "cell_type": "markdown",
   "metadata": {},
   "source": [
    "### DataFrames are 2D data structures, columns can be different dtypes, and columns and rows have indicies.  "
   ]
  },
  {
   "cell_type": "markdown",
   "metadata": {},
   "source": [
    "### Theres more than one way to make a DataFrames (and Series).\n",
    "* numpy arrays\n",
    "* lists\n",
    "* csv files\n",
    "* excel files\n",
    "* databases queries\n",
    "* dicts of things\n",
    "* lists of series\n",
    "* other dataframes\n",
    "* Seriously, it gets a bit rediculous, but in a good way once you get the hang of it.\n",
    "\n",
    "I personally end up using np.arrays, dicts of arrays, lists of named Series, and sometimes concatenate lists of DFs. "
   ]
  },
  {
   "cell_type": "markdown",
   "metadata": {},
   "source": [
    "Lets make a DataFrame (df) with a dict."
   ]
  },
  {
   "cell_type": "code",
   "execution_count": null,
   "metadata": {
    "collapsed": false
   },
   "outputs": [],
   "source": [
    "data = {'state':['Ohio','California','Indiana','Idaho'],\n",
    "        'year':[2000,2001,2002,2004],\n",
    "        'pop':[23.4,34.1,7.8,1.3]}\n",
    "df = pd.DataFrame(data)\n",
    "df"
   ]
  },
  {
   "cell_type": "markdown",
   "metadata": {},
   "source": [
    ".index gives us the row index\n",
    "\n",
    ".columns gives the column index"
   ]
  },
  {
   "cell_type": "code",
   "execution_count": null,
   "metadata": {
    "collapsed": false
   },
   "outputs": [],
   "source": [
    "print df.index\n",
    "print ' '\n",
    "print df.columns"
   ]
  },
  {
   "cell_type": "code",
   "execution_count": null,
   "metadata": {
    "collapsed": false
   },
   "outputs": [],
   "source": [
    "df['state']"
   ]
  },
  {
   "cell_type": "code",
   "execution_count": null,
   "metadata": {
    "collapsed": false
   },
   "outputs": [],
   "source": [
    "df.year"
   ]
  },
  {
   "cell_type": "code",
   "execution_count": null,
   "metadata": {
    "collapsed": false
   },
   "outputs": [],
   "source": [
    "df2 = pd.DataFrame(data, columns=['pop','state','year','debt'], index=range(1,5))\n",
    "df2"
   ]
  },
  {
   "cell_type": "code",
   "execution_count": null,
   "metadata": {
    "collapsed": false
   },
   "outputs": [],
   "source": [
    "df2[1]"
   ]
  },
  {
   "cell_type": "markdown",
   "metadata": {},
   "source": [
    "### Knowing how to slice into a dataframe to get at your data takes practice.  Pandas has a lot of choices for doing this, but that is because they are needed to cover all sorts of functionality.\n",
    "\n",
    "#### Seriously.  Practice... experiment... work through some tutorials/cookbooks on the web.\n",
    "\n",
    "[Indexing options](http://pandas.pydata.org/pandas-docs/stable/indexing.html)\n",
    "1. **df[LABEL]**, returns the corresponding value in a Series or a column of a dataframe with index of LABEL.\n",
    "2. **df.LABEL**, returns the corresponding value in a Series or a column of a dataframe with index of LABEL.\n",
    "3. Next we have **df.loc[LABEL]** or **df.loc[LABEL1, LABEL2]**.  This is label based, but ca nalso take boolean masks.  Slicing can work too!  Lists of labels can work too!  \n",
    "4. After that we've got **df.iloc[INT]** and **df.iloc[INT1,INT2]**.  This is integer location along the different axes... like referencing location in a numpy array.\n",
    "5. Then there is **df.ix** which can take mixed labels and integer locations.  Be careful with this, but I use it quite often because df.ix is shorter than df.loc.  Dumb, I know.\n",
    "6. **df.xs()** comes in pretty handy with grabbing interesting data from MultiIndex frames.  More on that later. But you can basically grab a cross-section of a dataframe based on the value of an index, and you can specify the level of that index."
   ]
  },
  {
   "cell_type": "code",
   "execution_count": null,
   "metadata": {
    "collapsed": false
   },
   "outputs": [],
   "source": [
    "print df2"
   ]
  },
  {
   "cell_type": "code",
   "execution_count": null,
   "metadata": {
    "collapsed": false
   },
   "outputs": [],
   "source": [
    "df2.loc[1]"
   ]
  },
  {
   "cell_type": "code",
   "execution_count": null,
   "metadata": {
    "collapsed": false
   },
   "outputs": [],
   "source": [
    "df2.iloc[0]"
   ]
  },
  {
   "cell_type": "code",
   "execution_count": null,
   "metadata": {
    "collapsed": false
   },
   "outputs": [],
   "source": [
    "df2.ix[1,'state']"
   ]
  },
  {
   "cell_type": "code",
   "execution_count": null,
   "metadata": {
    "collapsed": false
   },
   "outputs": [],
   "source": [
    "df2['state'][1]"
   ]
  },
  {
   "cell_type": "code",
   "execution_count": null,
   "metadata": {
    "collapsed": false
   },
   "outputs": [],
   "source": [
    "df2.loc[1:3,'year']"
   ]
  },
  {
   "cell_type": "code",
   "execution_count": null,
   "metadata": {
    "collapsed": false
   },
   "outputs": [],
   "source": [
    "df2['debt'] = 22\n",
    "df2"
   ]
  },
  {
   "cell_type": "code",
   "execution_count": null,
   "metadata": {
    "collapsed": false
   },
   "outputs": [],
   "source": [
    "df2.loc[3,'debt'] = 0.22\n",
    "df2.loc[2,'debt'] = np.nan\n",
    "df2"
   ]
  },
  {
   "cell_type": "code",
   "execution_count": null,
   "metadata": {
    "collapsed": false
   },
   "outputs": [],
   "source": [
    "df2.fillna(321)"
   ]
  },
  {
   "cell_type": "code",
   "execution_count": null,
   "metadata": {
    "collapsed": false
   },
   "outputs": [],
   "source": [
    "df2.values"
   ]
  },
  {
   "cell_type": "code",
   "execution_count": null,
   "metadata": {
    "collapsed": false
   },
   "outputs": [],
   "source": [
    "df2.reindex(range(6), fill_value=0.1)"
   ]
  },
  {
   "cell_type": "code",
   "execution_count": null,
   "metadata": {
    "collapsed": false
   },
   "outputs": [],
   "source": [
    "df2"
   ]
  },
  {
   "cell_type": "markdown",
   "metadata": {},
   "source": [
    "Loads of Pandas functions will return a **new** object.  The original is left in tact.  Sometimes you'll want to overwrite the old object, in this case also pass the **inplace=True** flag."
   ]
  },
  {
   "cell_type": "code",
   "execution_count": null,
   "metadata": {
    "collapsed": false
   },
   "outputs": [],
   "source": [
    "df2.drop(2)"
   ]
  },
  {
   "cell_type": "markdown",
   "metadata": {},
   "source": [
    "Some functionality could be applied to rows or columns.  To break the ambiguity there is the **axis** flag.  **axis=0** corresponds to rows, **axis=1** corresponds to columns."
   ]
  },
  {
   "cell_type": "code",
   "execution_count": null,
   "metadata": {
    "collapsed": false
   },
   "outputs": [],
   "source": [
    "df2.drop('year', axis=1)"
   ]
  },
  {
   "cell_type": "code",
   "execution_count": null,
   "metadata": {
    "collapsed": false
   },
   "outputs": [],
   "source": [
    "df2.loc[[2,4],['pop','state']] = [[11.1,'Maine'],[87,'Canada']]\n",
    "print df2"
   ]
  },
  {
   "cell_type": "markdown",
   "metadata": {},
   "source": [
    "#### OK, so that was a quick introduction to DataFrames and how to touch some of the data that lives inside of them.  "
   ]
  },
  {
   "cell_type": "markdown",
   "metadata": {},
   "source": [
    "\n",
    "\n",
    "\n",
    "\n",
    "## QUESTIONS BEFORE WE CONTINUE?"
   ]
  },
  {
   "cell_type": "markdown",
   "metadata": {},
   "source": [
    " "
   ]
  },
  {
   "cell_type": "markdown",
   "metadata": {},
   "source": [
    " "
   ]
  },
  {
   "cell_type": "markdown",
   "metadata": {},
   "source": [
    " "
   ]
  },
  {
   "cell_type": "markdown",
   "metadata": {},
   "source": [
    "### For this next section lets play with some data that I was working with last week.\n",
    "\n",
    "This data comes from a mobile array of High Purity Germanium (HPGe) Detectors.  It is measuring the gamma-ray background.  In this background we'll have events across a range of energies, and some peaks at a few characteristic energies.\n",
    "\n",
    "Please do not distribute this data, not that you would want to.  While this is part of a semi-open dataset access to this dataset should be pursued through the formal channels.\n",
    "\n",
    "https://dl.dropboxusercontent.com/u/4558549/THWPasses.hdf5"
   ]
  },
  {
   "cell_type": "code",
   "execution_count": null,
   "metadata": {
    "collapsed": false
   },
   "outputs": [],
   "source": [
    "import matplotlib.pyplot as plt\n",
    "%matplotlib inline\n",
    "import mpld3\n",
    "mpld3.enable_notebook()"
   ]
  },
  {
   "cell_type": "markdown",
   "metadata": {},
   "source": [
    "Pandas can write objects to loads of different formats.  It can also read them in from a variety of formats.  The amount of functionality in read_csv is great!\n",
    "\n",
    "Pandas has PyTables integration!  This means that you can drop your Series or DataFrames directly into an HDF5 file (called an HDFStore in Pandas lingo).  Lets open the Store of data we'll use."
   ]
  },
  {
   "cell_type": "code",
   "execution_count": null,
   "metadata": {
    "collapsed": false
   },
   "outputs": [],
   "source": [
    "infile = pd.HDFStore('THWPasses.hdf5','r')"
   ]
  },
  {
   "cell_type": "code",
   "execution_count": null,
   "metadata": {
    "collapsed": false
   },
   "outputs": [],
   "source": [
    "infile"
   ]
  },
  {
   "cell_type": "code",
   "execution_count": null,
   "metadata": {
    "collapsed": false
   },
   "outputs": [],
   "source": [
    "keys = infile.keys()\n",
    "print keys"
   ]
  },
  {
   "cell_type": "markdown",
   "metadata": {},
   "source": [
    "So we've got a few dataframes hiding inside"
   ]
  },
  {
   "cell_type": "code",
   "execution_count": null,
   "metadata": {
    "collapsed": true
   },
   "outputs": [],
   "source": [
    "gpsdf = infile[keys[0]]\n",
    "\n",
    "gammadf = infile[keys[1]]"
   ]
  },
  {
   "cell_type": "markdown",
   "metadata": {},
   "source": [
    "#### Whats inside?"
   ]
  },
  {
   "cell_type": "code",
   "execution_count": null,
   "metadata": {
    "collapsed": false
   },
   "outputs": [],
   "source": [
    "gammadf.head(10)"
   ]
  },
  {
   "cell_type": "code",
   "execution_count": null,
   "metadata": {
    "collapsed": false
   },
   "outputs": [],
   "source": [
    "gpsdf.head(10)"
   ]
  },
  {
   "cell_type": "markdown",
   "metadata": {},
   "source": [
    "#### Anyone have ideas of questions we could ask about the data?"
   ]
  },
  {
   "cell_type": "code",
   "execution_count": null,
   "metadata": {
    "collapsed": false
   },
   "outputs": [],
   "source": []
  },
  {
   "cell_type": "code",
   "execution_count": null,
   "metadata": {
    "collapsed": true
   },
   "outputs": [],
   "source": []
  },
  {
   "cell_type": "code",
   "execution_count": null,
   "metadata": {
    "collapsed": true
   },
   "outputs": [],
   "source": []
  },
  {
   "cell_type": "code",
   "execution_count": null,
   "metadata": {
    "collapsed": true
   },
   "outputs": [],
   "source": []
  },
  {
   "cell_type": "code",
   "execution_count": null,
   "metadata": {
    "collapsed": true
   },
   "outputs": [],
   "source": []
  },
  {
   "cell_type": "code",
   "execution_count": null,
   "metadata": {
    "collapsed": true
   },
   "outputs": [],
   "source": []
  },
  {
   "cell_type": "code",
   "execution_count": null,
   "metadata": {
    "collapsed": true
   },
   "outputs": [],
   "source": []
  },
  {
   "cell_type": "code",
   "execution_count": null,
   "metadata": {
    "collapsed": true
   },
   "outputs": [],
   "source": []
  },
  {
   "cell_type": "code",
   "execution_count": null,
   "metadata": {
    "collapsed": true
   },
   "outputs": [],
   "source": []
  },
  {
   "cell_type": "markdown",
   "metadata": {},
   "source": [
    "#### Ok, here are a few things I did..."
   ]
  },
  {
   "cell_type": "code",
   "execution_count": null,
   "metadata": {
    "collapsed": false
   },
   "outputs": [],
   "source": [
    "gammadf.detch.value_counts()"
   ]
  },
  {
   "cell_type": "markdown",
   "metadata": {},
   "source": [
    "Looks like two outliers..."
   ]
  },
  {
   "cell_type": "code",
   "execution_count": null,
   "metadata": {
    "collapsed": false
   },
   "outputs": [],
   "source": [
    "fullhistogram = gammadf.groupby('detch').energy.apply(lambda x: np.histogram(x, bins=range(0,3000,1))[0])\n",
    "fullhistogram.head()"
   ]
  },
  {
   "cell_type": "code",
   "execution_count": null,
   "metadata": {
    "collapsed": true
   },
   "outputs": [],
   "source": [
    "fullhistogram = fullhistogram.apply(pd.Series)"
   ]
  },
  {
   "cell_type": "code",
   "execution_count": null,
   "metadata": {
    "collapsed": false
   },
   "outputs": [],
   "source": [
    "fullhistogram.head()"
   ]
  },
  {
   "cell_type": "code",
   "execution_count": null,
   "metadata": {
    "collapsed": false
   },
   "outputs": [],
   "source": [
    "fullhistogram.T.plot(figsize=(12,8))"
   ]
  },
  {
   "cell_type": "code",
   "execution_count": null,
   "metadata": {
    "collapsed": false
   },
   "outputs": [],
   "source": [
    "gammadf.timestamp.iloc[::1000].plot()"
   ]
  },
  {
   "cell_type": "markdown",
   "metadata": {},
   "source": [
    "looks like the data isn't sorted in time... we should do that!"
   ]
  },
  {
   "cell_type": "code",
   "execution_count": null,
   "metadata": {
    "collapsed": true
   },
   "outputs": [],
   "source": [
    "gammadf.sort_values(by='timestamp', inplace=True)\n",
    "gpsdf.sort_values(by='timestamp', inplace=True)"
   ]
  },
  {
   "cell_type": "code",
   "execution_count": null,
   "metadata": {
    "collapsed": false
   },
   "outputs": [],
   "source": [
    "gammadf.head()"
   ]
  },
  {
   "cell_type": "markdown",
   "metadata": {},
   "source": [
    "Look!  It sorted our dataframe inplace.  The inplace flag can be set for a ton of different operations, otherwise it usually returns a new object.  \n",
    "\n",
    "One thing to note is that the index also came along for the ride, by that I mean the key value pairs are in tact."
   ]
  },
  {
   "cell_type": "code",
   "execution_count": null,
   "metadata": {
    "collapsed": true
   },
   "outputs": [],
   "source": [
    "gammadf.reset_index(inplace=True, drop=True)\n",
    "gpsdf.reset_index(inplace=True, drop=True)"
   ]
  },
  {
   "cell_type": "code",
   "execution_count": null,
   "metadata": {
    "collapsed": false
   },
   "outputs": [],
   "source": [
    "gammadf.head()"
   ]
  },
  {
   "cell_type": "markdown",
   "metadata": {},
   "source": [
    "Thats a bit better.  Without the drop flag the old index will get turned into a column in the returned frame.  You can also use the append flat, then the index you're adding becomes an additiona level on the index."
   ]
  },
  {
   "cell_type": "code",
   "execution_count": null,
   "metadata": {
    "collapsed": false
   },
   "outputs": [],
   "source": [
    "fig = plt.figure()\n",
    "gammadf.timestamp.iloc[::1000].plot(fig=fig,ls=':')"
   ]
  },
  {
   "cell_type": "markdown",
   "metadata": {},
   "source": [
    "Plotting is pretty convienent, lots of matplotlib syntax works intuitively."
   ]
  },
  {
   "cell_type": "markdown",
   "metadata": {},
   "source": [
    "Looks like there are discrete jumps in timestamp... Maybe this data was acquired across a wide period of time.  Maybe we should split up."
   ]
  },
  {
   "cell_type": "code",
   "execution_count": null,
   "metadata": {
    "collapsed": false
   },
   "outputs": [],
   "source": [
    "gammadf.timestamp.diff().describe()"
   ]
  },
  {
   "cell_type": "code",
   "execution_count": null,
   "metadata": {
    "collapsed": false
   },
   "outputs": [],
   "source": [
    "gammadf['segment'] = (gammadf.timestamp.diff() > 60.).astype(int).cumsum()\n",
    "gammadf.segment.unique()"
   ]
  },
  {
   "cell_type": "markdown",
   "metadata": {},
   "source": [
    "Cool, we've got 22 different segments of data...  Maybe the GPS data will cooperate as well..."
   ]
  },
  {
   "cell_type": "code",
   "execution_count": null,
   "metadata": {
    "collapsed": false
   },
   "outputs": [],
   "source": [
    "gpsdf['segment'] = (gpsdf.timestamp.diff() > 60.).astype(int)\n",
    "gpsdf.segment = gpsdf.segment.cumsum()\n",
    "gpsdf.segment.unique()"
   ]
  },
  {
   "cell_type": "markdown",
   "metadata": {},
   "source": [
    "Schwing!"
   ]
  },
  {
   "cell_type": "markdown",
   "metadata": {},
   "source": [
    "Maybe the GPS is well behaved when it comes to sampling frequency..."
   ]
  },
  {
   "cell_type": "code",
   "execution_count": null,
   "metadata": {
    "collapsed": false
   },
   "outputs": [],
   "source": [
    "gpsdf.timestamp.diff().describe()"
   ]
  },
  {
   "cell_type": "markdown",
   "metadata": {},
   "source": [
    "Maybe it makes sense to group by the segment and then look at the time between samples..."
   ]
  },
  {
   "cell_type": "code",
   "execution_count": null,
   "metadata": {
    "collapsed": false
   },
   "outputs": [],
   "source": [
    "gpsdf.groupby('segment').apply(lambda x: x.timestamp.diff().describe())"
   ]
  },
  {
   "cell_type": "code",
   "execution_count": null,
   "metadata": {
    "collapsed": false
   },
   "outputs": [],
   "source": [
    "gpsdf.groupby('segment').timestamp.apply(lambda x: x.diff().describe())"
   ]
  },
  {
   "cell_type": "markdown",
   "metadata": {},
   "source": [
    "Five Hz across the board.  Not too shabby.\n",
    "\n",
    "What about event rate in the gamma detectors?"
   ]
  },
  {
   "cell_type": "code",
   "execution_count": null,
   "metadata": {
    "collapsed": false
   },
   "outputs": [],
   "source": [
    "seggroup = gammadf.groupby('segment')\n",
    "countspersegment = seggroup.apply(len)"
   ]
  },
  {
   "cell_type": "code",
   "execution_count": null,
   "metadata": {
    "collapsed": false
   },
   "outputs": [],
   "source": [
    "segtime = seggroup.timestamp.apply(lambda x: x.max()-x.min())"
   ]
  },
  {
   "cell_type": "code",
   "execution_count": null,
   "metadata": {
    "collapsed": true
   },
   "outputs": [],
   "source": [
    "countrate = countspersegment / segtime"
   ]
  },
  {
   "cell_type": "code",
   "execution_count": null,
   "metadata": {
    "collapsed": false
   },
   "outputs": [],
   "source": [
    "countrate"
   ]
  },
  {
   "cell_type": "markdown",
   "metadata": {},
   "source": [
    "What if the number of detectors changes per segment!?"
   ]
  },
  {
   "cell_type": "code",
   "execution_count": null,
   "metadata": {
    "collapsed": false
   },
   "outputs": [],
   "source": [
    "numdetperseg = seggroup.detch.apply(lambda x: len(x.unique()))\n",
    "numdetperseg"
   ]
  },
  {
   "cell_type": "code",
   "execution_count": null,
   "metadata": {
    "collapsed": false
   },
   "outputs": [],
   "source": [
    "countrate = countrate / numdetperseg\n",
    "countrate"
   ]
  },
  {
   "cell_type": "code",
   "execution_count": null,
   "metadata": {
    "collapsed": false
   },
   "outputs": [],
   "source": [
    "gpsdf.describe()"
   ]
  },
  {
   "cell_type": "markdown",
   "metadata": {},
   "source": [
    "Looks like there isn't much variance in the GPS positions.  Lets convert to meters in cartesian space to have a look!"
   ]
  },
  {
   "cell_type": "code",
   "execution_count": null,
   "metadata": {
    "collapsed": true
   },
   "outputs": [],
   "source": [
    "# in meters\n",
    "R_earth = 6371000\n",
    "degtoster = np.pi/180.\n",
    "\n",
    "def haversine(lat1deg, lon1deg, lat2deg, lon2deg):\n",
    "\t\"\"\"\n",
    "\tCalculate the great circle distance between two points in meters\n",
    "\tand the bearing direction on the earth (specified in decimal degrees)\n",
    "\t\"\"\"\n",
    "\t# convert decimal degrees to radians \n",
    "\tlon1=(np.pi/180)*lon1deg\n",
    "\tlat1=(np.pi/180)*lat1deg\n",
    "\tlon2=(np.pi/180)*lon2deg\n",
    "\tlat2=(np.pi/180)*lat2deg\n",
    "\t# haversine formula \n",
    "\tdlon = lon2 - lon1 \n",
    "\tdlat = lat2 - lat1 \n",
    "\ta = np.sin(dlat/2)**2 + np.cos(lat1) * np.cos(lat2) * np.sin(dlon/2)**2\n",
    "\tc = 2 * np.arcsin(np.sqrt(a)) \n",
    "\t\n",
    "\t# distance\n",
    "\tdist = R_earth * c\n",
    "\t\n",
    "\t# bearing direction\n",
    "\tdirection = np.arctan2( np.sin(dlon)*np.cos(lat2), \n",
    "\t\t\t\t\t\tnp.cos(lat1)*np.sin(lat2) - np.sin(lat1)*np.cos(lat2)*np.cos(dlon) )\n",
    "\t \n",
    "\treturn dist, direction\n",
    "\n",
    "vhaversine = np.vectorize(haversine)\n",
    "\n",
    "def convertLatLon(originlat, originlon, lat, lon):\n",
    "\tr, heading = vhaversine(originlat, originlon, lat, lon)\n",
    "\tx = r * np.sin(heading)\n",
    "\ty = r * np.cos(heading)\n",
    "\n",
    "\treturn y,x\n",
    "\n",
    "vconvertLatLon = np.vectorize(convertLatLon)"
   ]
  },
  {
   "cell_type": "code",
   "execution_count": null,
   "metadata": {
    "collapsed": true
   },
   "outputs": [],
   "source": [
    "y,x = vconvertLatLon(gpsdf.lat.min(), gpsdf.lon.min(), gpsdf.lat, gpsdf.lon)"
   ]
  },
  {
   "cell_type": "code",
   "execution_count": null,
   "metadata": {
    "collapsed": false
   },
   "outputs": [],
   "source": [
    "gpsdf['x'] = x\n",
    "gpsdf['y'] = y\n",
    "gpsdf.head(10)"
   ]
  },
  {
   "cell_type": "code",
   "execution_count": null,
   "metadata": {
    "collapsed": false
   },
   "outputs": [],
   "source": [
    "plt.plot(gpsdf.x, gpsdf.y)"
   ]
  },
  {
   "cell_type": "markdown",
   "metadata": {},
   "source": [
    "Well I'll fill you in right now, this data comes from a few blocks of University Ave. in Berkeley.  Some are going westbound, some are eastbound...  I'm a bit surprised the GPS resolved the different sides of the road..."
   ]
  },
  {
   "cell_type": "code",
   "execution_count": null,
   "metadata": {
    "collapsed": false
   },
   "outputs": [],
   "source": [
    "eastbound = gpsdf.groupby('segment').apply(lambda aa: aa.x.iloc[-1] - aa.x.iloc[0]) > 0\n",
    "eastbound"
   ]
  },
  {
   "cell_type": "code",
   "execution_count": null,
   "metadata": {
    "collapsed": false
   },
   "outputs": [],
   "source": [
    "gammadfeast = gammadf.set_index('segment').ix[eastbound].reset_index()\n",
    "gpsdfeast = gpsdf.set_index('segment').ix[eastbound].reset_index()"
   ]
  },
  {
   "cell_type": "markdown",
   "metadata": {},
   "source": [
    "Ok, perhaps distance down the road would let us aggregate along chunks of distance here and look at the variability of natural radioactivity."
   ]
  },
  {
   "cell_type": "code",
   "execution_count": null,
   "metadata": {
    "collapsed": true
   },
   "outputs": [],
   "source": [
    "gpsdfeast['distance'] = np.sqrt(gpsdfeast.x**2 + gpsdfeast.y**2)"
   ]
  },
  {
   "cell_type": "markdown",
   "metadata": {},
   "source": [
    "Joining and merging dataframes can be done like databases.  As always, loads of functionality here, but this is just one example.... "
   ]
  },
  {
   "cell_type": "code",
   "execution_count": null,
   "metadata": {
    "collapsed": false
   },
   "outputs": [],
   "source": [
    "lmjoined = gammadfeast.merge(gpsdfeast[['distance','timestamp']], left_on='timestamp', right_on='timestamp', how='outer')"
   ]
  },
  {
   "cell_type": "code",
   "execution_count": null,
   "metadata": {
    "collapsed": false,
    "scrolled": true
   },
   "outputs": [],
   "source": [
    "lmjoined.head()"
   ]
  },
  {
   "cell_type": "code",
   "execution_count": null,
   "metadata": {
    "collapsed": false
   },
   "outputs": [],
   "source": [
    "lmjoined.tail()"
   ]
  },
  {
   "cell_type": "code",
   "execution_count": null,
   "metadata": {
    "collapsed": true
   },
   "outputs": [],
   "source": [
    "lmjoined = lmjoined.sort_values('timestamp').reset_index(drop=True)"
   ]
  },
  {
   "cell_type": "code",
   "execution_count": null,
   "metadata": {
    "collapsed": false
   },
   "outputs": [],
   "source": [
    "lmjoined.head()"
   ]
  },
  {
   "cell_type": "markdown",
   "metadata": {},
   "source": [
    "Forward and backward fill work as expected.  There are interpolation tools as well.  I'm not going to touch on timeseries stuff, but Pandas plays incredibly nicely with timeseries."
   ]
  },
  {
   "cell_type": "code",
   "execution_count": null,
   "metadata": {
    "collapsed": true
   },
   "outputs": [],
   "source": [
    "lmjoined.distance.ffill(inplace=True)\n",
    "lmjoined.distance.bfill(inplace=True)"
   ]
  },
  {
   "cell_type": "markdown",
   "metadata": {},
   "source": [
    "Drop the initial GPS coords because they don't correspond to gamma-ray interactions"
   ]
  },
  {
   "cell_type": "code",
   "execution_count": null,
   "metadata": {
    "collapsed": false
   },
   "outputs": [],
   "source": [
    "lmjoined.dropna(inplace=True)\n",
    "lmjoined.head()"
   ]
  },
  {
   "cell_type": "code",
   "execution_count": null,
   "metadata": {
    "collapsed": true
   },
   "outputs": [],
   "source": [
    "stepsize = 20\n",
    "lmjoined['distchunk'] = (lmjoined.distance // stepsize).astype(int) * stepsize + stepsize/2"
   ]
  },
  {
   "cell_type": "markdown",
   "metadata": {
    "collapsed": true
   },
   "source": [
    "I like this trick of // division and casting as an integer to make a nice arbitrary unit value for grouping..."
   ]
  },
  {
   "cell_type": "markdown",
   "metadata": {
    "collapsed": true
   },
   "source": [
    "Another way is using pd.cut to label data.  "
   ]
  },
  {
   "cell_type": "code",
   "execution_count": null,
   "metadata": {
    "collapsed": false
   },
   "outputs": [],
   "source": [
    "labeledges = np.arange(0,lmjoined.distance.max()+stepsize,stepsize)\n",
    "labels = (labeledges[:-1] + labeledges[1:])/2\n",
    "lmjoined['distchunk2'] = pd.cut(lmjoined.distance, labeledges, labels=labels, include_lowest=False)"
   ]
  },
  {
   "cell_type": "code",
   "execution_count": null,
   "metadata": {
    "collapsed": false
   },
   "outputs": [],
   "source": [
    "lmjoined.head()"
   ]
  },
  {
   "cell_type": "markdown",
   "metadata": {
    "collapsed": true
   },
   "source": [
    "Ok, we should probably do some real work now.  Lets calculate the normalized (by time and detector number) spectra for each segment/distchunk combination."
   ]
  },
  {
   "cell_type": "code",
   "execution_count": null,
   "metadata": {
    "collapsed": true
   },
   "outputs": [],
   "source": [
    "segdistgroup = lmjoined.groupby(['segment','distchunk'])\n",
    "histdata = segdistgroup.energy.apply(lambda x: 1. * np.histogram(x,bins=np.arange(0,3000,1))[0]).apply(pd.Series)\n",
    "deltaT = segdistgroup.timestamp.max() - segdistgroup.timestamp.min()\n",
    "numdetectors = segdistgroup.detch.apply(lambda x: len(x.unique()))"
   ]
  },
  {
   "cell_type": "code",
   "execution_count": null,
   "metadata": {
    "collapsed": false
   },
   "outputs": [],
   "source": [
    "normhist = histdata.div(deltaT, level=[0,1], axis=0)\n",
    "normhist = normhist.div(numdetectors, level=[0,1], axis=0)"
   ]
  },
  {
   "cell_type": "code",
   "execution_count": null,
   "metadata": {
    "collapsed": false
   },
   "outputs": [],
   "source": [
    "normhist.head().T.plot()"
   ]
  },
  {
   "cell_type": "code",
   "execution_count": null,
   "metadata": {
    "collapsed": false
   },
   "outputs": [],
   "source": [
    "peakratesdict = {}\n",
    "peakratesdict['k'] = normhist.loc[:,1460-3:1460+3].sum(axis=1)\n",
    "peakratesdict['pos'] = normhist.loc[:,511-3:511+3].sum(axis=1)\n",
    "peakratesdict['tl'] = normhist.loc[:,2614-3:2614+3].sum(axis=1)\n",
    "peakratesdict['bi'] = normhist.loc[:,609-3:609+3].sum(axis=1)\n",
    "\n",
    "peakrates = pd.DataFrame(peakratesdict)"
   ]
  },
  {
   "cell_type": "code",
   "execution_count": null,
   "metadata": {
    "collapsed": false
   },
   "outputs": [],
   "source": [
    "peakrates.head()"
   ]
  },
  {
   "cell_type": "code",
   "execution_count": null,
   "metadata": {
    "collapsed": false
   },
   "outputs": [],
   "source": [
    "meanrates = peakrates.dropna().groupby(level=1).agg([np.mean,np.std])"
   ]
  },
  {
   "cell_type": "code",
   "execution_count": null,
   "metadata": {
    "collapsed": false
   },
   "outputs": [],
   "source": [
    "meanrates.xs('mean',level=1,axis=1).plot()"
   ]
  },
  {
   "cell_type": "code",
   "execution_count": null,
   "metadata": {
    "collapsed": false
   },
   "outputs": [],
   "source": [
    "meanrates.xs('std',level=1,axis=1).plot()"
   ]
  },
  {
   "cell_type": "code",
   "execution_count": null,
   "metadata": {
    "collapsed": true
   },
   "outputs": [],
   "source": []
  },
  {
   "cell_type": "code",
   "execution_count": null,
   "metadata": {
    "collapsed": true
   },
   "outputs": [],
   "source": []
  },
  {
   "cell_type": "code",
   "execution_count": null,
   "metadata": {
    "collapsed": true
   },
   "outputs": [],
   "source": []
  },
  {
   "cell_type": "code",
   "execution_count": null,
   "metadata": {
    "collapsed": true
   },
   "outputs": [],
   "source": []
  },
  {
   "cell_type": "code",
   "execution_count": null,
   "metadata": {
    "collapsed": true
   },
   "outputs": [],
   "source": []
  },
  {
   "cell_type": "code",
   "execution_count": null,
   "metadata": {
    "collapsed": true
   },
   "outputs": [],
   "source": []
  },
  {
   "cell_type": "code",
   "execution_count": null,
   "metadata": {
    "collapsed": true
   },
   "outputs": [],
   "source": []
  },
  {
   "cell_type": "code",
   "execution_count": null,
   "metadata": {
    "collapsed": true
   },
   "outputs": [],
   "source": []
  },
  {
   "cell_type": "code",
   "execution_count": null,
   "metadata": {
    "collapsed": true
   },
   "outputs": [],
   "source": []
  },
  {
   "cell_type": "code",
   "execution_count": null,
   "metadata": {
    "collapsed": true
   },
   "outputs": [],
   "source": []
  },
  {
   "cell_type": "code",
   "execution_count": null,
   "metadata": {
    "collapsed": true
   },
   "outputs": [],
   "source": []
  },
  {
   "cell_type": "code",
   "execution_count": null,
   "metadata": {
    "collapsed": true
   },
   "outputs": [],
   "source": []
  },
  {
   "cell_type": "code",
   "execution_count": null,
   "metadata": {
    "collapsed": true
   },
   "outputs": [],
   "source": []
  },
  {
   "cell_type": "code",
   "execution_count": null,
   "metadata": {
    "collapsed": true
   },
   "outputs": [],
   "source": []
  },
  {
   "cell_type": "code",
   "execution_count": null,
   "metadata": {
    "collapsed": true
   },
   "outputs": [],
   "source": []
  },
  {
   "cell_type": "code",
   "execution_count": null,
   "metadata": {
    "collapsed": true
   },
   "outputs": [],
   "source": []
  },
  {
   "cell_type": "code",
   "execution_count": null,
   "metadata": {
    "collapsed": true
   },
   "outputs": [],
   "source": []
  },
  {
   "cell_type": "code",
   "execution_count": null,
   "metadata": {
    "collapsed": true
   },
   "outputs": [],
   "source": []
  }
 ],
 "metadata": {
  "kernelspec": {
   "display_name": "Python 2",
   "language": "python",
   "name": "python2"
  },
  "language_info": {
   "codemirror_mode": {
    "name": "ipython",
    "version": 2
   },
   "file_extension": ".py",
   "mimetype": "text/x-python",
   "name": "python",
   "nbconvert_exporter": "python",
   "pygments_lexer": "ipython2",
   "version": "2.7.11"
  }
 },
 "nbformat": 4,
 "nbformat_minor": 0
}
