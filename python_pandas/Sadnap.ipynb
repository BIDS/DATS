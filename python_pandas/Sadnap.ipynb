{
 "cells": [
  {
   "cell_type": "markdown",
   "metadata": {},
   "source": [
    "# A Backwards Approach to Pandas\n",
    "\n",
    "### The Hacker Within, Berkeley Feb 10 2016\n",
    "### Tenzing Joshi -- Applied Nuclear Physics, LBL"
   ]
  },
  {
   "cell_type": "markdown",
   "metadata": {},
   "source": [
    "\n",
    "This notebook is an introduction to the pandas library for python.  We'll go over the data structures of pandas and explore some of their uses.  We'll then play around with some data from a mobile gamma-ray detector array to look at some real uses of DataFrames.\n"
   ]
  },
  {
   "cell_type": "markdown",
   "metadata": {},
   "source": [
    "## Resources\n",
    "\n",
    "* Pandas site\n",
    "  * http://pandas.pydata.org/pandas-docs/stable/overview.html\n",
    "  * There are loads of useful examples and tutorials on this site\n",
    "  * If you're curious then take some time to look around\n",
    "  \n",
    "* Wes's Book\n",
    "  * Wes McKinney started Pandas\n",
    "  * Wes wrote a book titled **Python for Data Analysis**\n",
    "  * http://www.amazon.com/Python-Data-Analysis-Wrangling-IPython/dp/1449319793\n",
    "  * This was my starting point and there is great stuff in this book\n",
    "\n",
    "* Other Pandas tutorials I found online with a 5 minute google search\n",
    "  * http://www.gregreda.com/2013/10/26/intro-to-pandas-data-structures/\n",
    "  * http://synesthesiam.com/posts/an-introduction-to-pandas.html\n",
    "  * https://plot.ly/ipython-notebooks/big-data-analytics-with-pandas-and-sqlite/\n",
    "\n",
    "* Stack Overflow\n",
    "  * There are a large number of Pandas related answers on here\n",
    "  * http://stackoverflow.com/questions/tagged/pandas\n",
    "  * It seems like this site is monitored for pandas tagged questions, if you're stumped then this is a great place to ask a question.\n",
    "  "
   ]
  },
  {
   "cell_type": "markdown",
   "metadata": {},
   "source": [
    "## What is Pandas?  \n",
    "\n",
    "I'll just let the Pandas [website](http://pandas.pydata.org/pandas-docs/stable/overview.html) do the talking here...\n",
    "\n",
    "\n",
    "> pandas consists of the following things\n",
    "\n",
    "> - A set of labeled array data structures, the primary of which are Series and DataFrame\n",
    ">   - **Series** 1D labeled homogenously typed array\n",
    ">   - **DataFrame** 2D labeled, size-mutable tabular structure with potentially heterogeneously-typed columns\n",
    ">   - **Panel** General 3D labeled, also size-mutable array\n",
    "> - Index objects enabling both simple axis indexing and multi-level / hierarchical axis indexing\n",
    "> - An integrated group by engine for aggregating and transforming data sets\n",
    "> - Date range generation (date_range) and custom date offsets enabling the implementation of customized frequencies\n",
    "> - Input/Output tools: loading tabular data from flat files (CSV, delimited, Excel 2003), and saving and loading pandas objects from the fast and efficient PyTables/HDF5 format.\n",
    "> - Memory-efficient “sparse” versions of the standard data structures for storing data that is mostly missing or mostly constant (some fixed value)\n",
    "> - Moving window statistics (rolling mean, rolling standard deviation, etc.)\n",
    "> - Static and moving window linear and panel regression\n"
   ]
  },
  {
   "cell_type": "markdown",
   "metadata": {},
   "source": [
    "Pandas has a truly *incredible* amount of functionality, however, accessing a lot of this requires understanding the nuance of Index objects and knowning that the functionality exists.  "
   ]
  },
  {
   "cell_type": "code",
   "execution_count": 6,
   "metadata": {
    "collapsed": true
   },
   "outputs": [],
   "source": [
    "import numpy as np\n",
    "import pandas as pd"
   ]
  },
  {
   "cell_type": "markdown",
   "metadata": {},
   "source": [
    "### Lets first play with Series"
   ]
  },
  {
   "cell_type": "code",
   "execution_count": 5,
   "metadata": {
    "collapsed": false
   },
   "outputs": [
    {
     "data": {
      "text/plain": [
       "0    s\n",
       "1    a\n",
       "2    d\n",
       "3    n\n",
       "4    a\n",
       "5    p\n",
       "dtype: object"
      ]
     },
     "execution_count": 5,
     "metadata": {},
     "output_type": "execute_result"
    }
   ],
   "source": [
    "sadstring = 'sadnap'\n",
    "myFirstSeries = pd.Series(list(sadstring))\n",
    "myFirstSeries"
   ]
  },
  {
   "cell_type": "markdown",
   "metadata": {},
   "source": [
    "#### Series are like np.arrays, but they have indicies.  If you don't specify on creation it will initialize to range(len(object)).  Indicies are big part of what makes pandas useful, but also a bit tricky.  We'll get to using indicies in more detail in a bit."
   ]
  },
  {
   "cell_type": "code",
   "execution_count": 6,
   "metadata": {
    "collapsed": false
   },
   "outputs": [
    {
     "data": {
      "text/plain": [
       "array(['s', 'a', 'd', 'n', 'a', 'p'], dtype=object)"
      ]
     },
     "execution_count": 6,
     "metadata": {},
     "output_type": "execute_result"
    }
   ],
   "source": [
    "mfs = myFirstSeries\n",
    "mfs.values"
   ]
  },
  {
   "cell_type": "code",
   "execution_count": 7,
   "metadata": {
    "collapsed": false
   },
   "outputs": [
    {
     "data": {
      "text/plain": [
       "Int64Index([0, 1, 2, 3, 4, 5], dtype='int64')"
      ]
     },
     "execution_count": 7,
     "metadata": {},
     "output_type": "execute_result"
    }
   ],
   "source": [
    "mfs.index"
   ]
  },
  {
   "cell_type": "code",
   "execution_count": 15,
   "metadata": {
    "collapsed": false
   },
   "outputs": [
    {
     "data": {
      "text/plain": [
       "5     s\n",
       "6     a\n",
       "7     d\n",
       "8     n\n",
       "9     a\n",
       "10    p\n",
       "dtype: object"
      ]
     },
     "execution_count": 15,
     "metadata": {},
     "output_type": "execute_result"
    }
   ],
   "source": [
    "mfs.index = range(5,11)\n",
    "mfs"
   ]
  },
  {
   "cell_type": "code",
   "execution_count": 13,
   "metadata": {
    "collapsed": false
   },
   "outputs": [
    {
     "data": {
      "text/plain": [
       "a    s\n",
       "b    a\n",
       "c    d\n",
       "d    n\n",
       "e    a\n",
       "f    p\n",
       "dtype: object"
      ]
     },
     "execution_count": 13,
     "metadata": {},
     "output_type": "execute_result"
    }
   ],
   "source": [
    "mfs[5]"
   ]
  },
  {
   "cell_type": "code",
   "execution_count": 16,
   "metadata": {
    "collapsed": false
   },
   "outputs": [
    {
     "data": {
      "text/plain": [
       "'p'"
      ]
     },
     "execution_count": 16,
     "metadata": {},
     "output_type": "execute_result"
    }
   ],
   "source": [
    "mfs.ix[10]"
   ]
  },
  {
   "cell_type": "code",
   "execution_count": 17,
   "metadata": {
    "collapsed": false
   },
   "outputs": [
    {
     "data": {
      "text/plain": [
       "5    s\n",
       "6    a\n",
       "7    d\n",
       "dtype: object"
      ]
     },
     "execution_count": 17,
     "metadata": {},
     "output_type": "execute_result"
    }
   ],
   "source": [
    "mfs.iloc[:3]"
   ]
  },
  {
   "cell_type": "code",
   "execution_count": 18,
   "metadata": {
    "collapsed": false
   },
   "outputs": [
    {
     "data": {
      "text/plain": [
       "10    p\n",
       "9     a\n",
       "8     n\n",
       "7     d\n",
       "6     a\n",
       "5     s\n",
       "dtype: object"
      ]
     },
     "execution_count": 18,
     "metadata": {},
     "output_type": "execute_result"
    }
   ],
   "source": [
    "mfs[np.arange(5,11)[::-1]]"
   ]
  },
  {
   "cell_type": "code",
   "execution_count": 19,
   "metadata": {
    "collapsed": true
   },
   "outputs": [],
   "source": [
    "mfs[4] = ' '\n",
    "mfs[0] = ' wants friend'"
   ]
  },
  {
   "cell_type": "code",
   "execution_count": 22,
   "metadata": {
    "collapsed": false
   },
   "outputs": [
    {
     "data": {
      "text/plain": [
       "['s', 'a', 'd', ' ', 'p', 'a', 'n', 'd', 'a', ' wants friend']"
      ]
     },
     "execution_count": 22,
     "metadata": {},
     "output_type": "execute_result"
    }
   ],
   "source": [
    "mfs.loc[[5,6,7,4,10,9,8,7,6,0]].tolist()"
   ]
  },
  {
   "cell_type": "code",
   "execution_count": null,
   "metadata": {
    "collapsed": true
   },
   "outputs": [],
   "source": [
    "''.join(_)"
   ]
  },
  {
   "cell_type": "markdown",
   "metadata": {},
   "source": [
    "#### Sad pandas are silly anyways, how about something with numbers, because pandas play nicely with math."
   ]
  },
  {
   "cell_type": "code",
   "execution_count": 1,
   "metadata": {
    "collapsed": false
   },
   "outputs": [
    {
     "ename": "NameError",
     "evalue": "name 'pd' is not defined",
     "output_type": "error",
     "traceback": [
      "\u001b[0;31m---------------------------------------------------------------------------\u001b[0m",
      "\u001b[0;31mNameError\u001b[0m                                 Traceback (most recent call last)",
      "\u001b[0;32m<ipython-input-1-64c85c1768ee>\u001b[0m in \u001b[0;36m<module>\u001b[0;34m()\u001b[0m\n\u001b[1;32m      6\u001b[0m     \u001b[0;34m'platypus'\u001b[0m\u001b[0;34m:\u001b[0m\u001b[0;36m2084\u001b[0m\u001b[0;34m\u001b[0m\u001b[0m\n\u001b[1;32m      7\u001b[0m }\n\u001b[0;32m----> 8\u001b[0;31m \u001b[0mmss\u001b[0m \u001b[0;34m=\u001b[0m \u001b[0mpd\u001b[0m\u001b[0;34m.\u001b[0m\u001b[0mSeries\u001b[0m\u001b[0;34m(\u001b[0m\u001b[0manimalsdict\u001b[0m\u001b[0;34m)\u001b[0m\u001b[0;34m\u001b[0m\u001b[0m\n\u001b[0m\u001b[1;32m      9\u001b[0m \u001b[0mmss\u001b[0m\u001b[0;34m.\u001b[0m\u001b[0mname\u001b[0m \u001b[0;34m=\u001b[0m \u001b[0;34m'CoolFactor'\u001b[0m\u001b[0;34m\u001b[0m\u001b[0m\n\u001b[1;32m     10\u001b[0m \u001b[0mmss\u001b[0m\u001b[0;34m\u001b[0m\u001b[0m\n",
      "\u001b[0;31mNameError\u001b[0m: name 'pd' is not defined"
     ]
    }
   ],
   "source": [
    "animalsdict = {\n",
    "    'moose':1220,\n",
    "    'buffalo':774,\n",
    "    'chicken':13,\n",
    "    'sadpanda':97,\n",
    "    'platypus':2084\n",
    "}\n",
    "mss = pd.Series(animalsdict)\n",
    "mss.name = 'CoolFactor'\n",
    "mss"
   ]
  },
  {
   "cell_type": "code",
   "execution_count": 25,
   "metadata": {
    "collapsed": false
   },
   "outputs": [
    {
     "data": {
      "text/plain": [
       "buffalo     1548\n",
       "chicken       26\n",
       "moose       2440\n",
       "sadpanda     194\n",
       "yak          168\n",
       "dtype: int64"
      ]
     },
     "execution_count": 25,
     "metadata": {},
     "output_type": "execute_result"
    }
   ],
   "source": [
    "mss * 2.41"
   ]
  },
  {
   "cell_type": "code",
   "execution_count": 31,
   "metadata": {
    "collapsed": false,
    "scrolled": true
   },
   "outputs": [
    {
     "data": {
      "text/plain": [
       "buffalo     744\n",
       "moose      1296\n",
       "dtype: int64"
      ]
     },
     "execution_count": 31,
     "metadata": {},
     "output_type": "execute_result"
    }
   ],
   "source": [
    "mss[mss>555]"
   ]
  },
  {
   "cell_type": "code",
   "execution_count": 33,
   "metadata": {
    "collapsed": false
   },
   "outputs": [
    {
     "data": {
      "text/plain": [
       "buffalo     758\n",
       "moose      1225\n",
       "dtype: int64"
      ]
     },
     "execution_count": 33,
     "metadata": {},
     "output_type": "execute_result"
    }
   ],
   "source": [
    "mss[mss>555].apply(np.random.poisson)"
   ]
  },
  {
   "cell_type": "code",
   "execution_count": 32,
   "metadata": {
    "collapsed": false
   },
   "outputs": [
    {
     "data": {
      "text/plain": [
       "13"
      ]
     },
     "execution_count": 32,
     "metadata": {},
     "output_type": "execute_result"
    }
   ],
   "source": [
    "np.min(mss)"
   ]
  },
  {
   "cell_type": "code",
   "execution_count": 35,
   "metadata": {
    "collapsed": false
   },
   "outputs": [
    {
     "data": {
      "text/plain": [
       "count       5.000000\n",
       "mean      437.600000\n",
       "std       535.406668\n",
       "min        13.000000\n",
       "25%        84.000000\n",
       "50%        97.000000\n",
       "75%       774.000000\n",
       "max      1220.000000\n",
       "dtype: float64"
      ]
     },
     "execution_count": 35,
     "metadata": {},
     "output_type": "execute_result"
    }
   ],
   "source": [
    "mss.describe()"
   ]
  },
  {
   "cell_type": "markdown",
   "metadata": {},
   "source": [
    "#### Series are also a bit like ordered dictionaries with fixed length."
   ]
  },
  {
   "cell_type": "code",
   "execution_count": null,
   "metadata": {
    "collapsed": false
   },
   "outputs": [],
   "source": [
    "'chicken' in mss"
   ]
  },
  {
   "cell_type": "code",
   "execution_count": null,
   "metadata": {
    "collapsed": false
   },
   "outputs": [],
   "source": [
    "3 in mss"
   ]
  },
  {
   "cell_type": "code",
   "execution_count": 56,
   "metadata": {
    "collapsed": false
   },
   "outputs": [
    {
     "data": {
      "text/plain": [
       "chicken       1.20\n",
       "elk          22.88\n",
       "humans      100.00\n",
       "marmot        4.49\n",
       "moose        30.77\n",
       "platypus     14.90\n",
       "sadpanda      0.90\n",
       "Name: NormalizedRadFactor, dtype: float64"
      ]
     },
     "execution_count": 56,
     "metadata": {},
     "output_type": "execute_result"
    }
   ],
   "source": [
    "mts = pd.Series( {'chicken':1.2, \n",
    "                  'moose':30.77, \n",
    "                  'elk': 22.88, \n",
    "                  'marmot':4.49,\n",
    "                  'platypus':14.9,\n",
    "                  'humans':100.,\n",
    "                  'sadpanda':0.9} )\n",
    "mts.name = 'NormalizedRadFactor'\n",
    "mts"
   ]
  },
  {
   "cell_type": "code",
   "execution_count": 58,
   "metadata": {
    "collapsed": false
   },
   "outputs": [
    {
     "name": "stdout",
     "output_type": "stream",
     "text": [
      "buffalo      59.538462\n",
      "chicken       1.000000\n",
      "moose        93.846154\n",
      "platypus    160.307692\n",
      "sadpanda      7.461538\n",
      "Name: CoolFactor, dtype: float64\n",
      "chicken       1.20\n",
      "elk          22.88\n",
      "humans      100.00\n",
      "marmot        4.49\n",
      "moose        30.77\n",
      "platypus     14.90\n",
      "sadpanda      0.90\n",
      "Name: NormalizedRadFactor, dtype: float64\n"
     ]
    }
   ],
   "source": [
    "coolness = mss / mss.chicken\n",
    "radness = mts\n",
    "\n",
    "print coolness\n",
    "\n",
    "print radness"
   ]
  },
  {
   "cell_type": "code",
   "execution_count": 60,
   "metadata": {
    "collapsed": false
   },
   "outputs": [
    {
     "data": {
      "text/plain": [
       "buffalo           NaN\n",
       "chicken      0.024000\n",
       "elk               NaN\n",
       "humans            NaN\n",
       "marmot            NaN\n",
       "moose       29.184162\n",
       "platypus    24.034846\n",
       "sadpanda     0.076154\n",
       "dtype: float64"
      ]
     },
     "execution_count": 60,
     "metadata": {},
     "output_type": "execute_result"
    }
   ],
   "source": [
    "animalBitCoinValue = (radness + coolness * radness) / radness.max()\n",
    "animalBitCoinValue"
   ]
  },
  {
   "cell_type": "code",
   "execution_count": 61,
   "metadata": {
    "collapsed": false
   },
   "outputs": [
    {
     "data": {
      "text/plain": [
       "buffalo      True\n",
       "chicken     False\n",
       "elk          True\n",
       "humans       True\n",
       "marmot       True\n",
       "moose       False\n",
       "platypus    False\n",
       "sadpanda    False\n",
       "dtype: bool"
      ]
     },
     "execution_count": 61,
     "metadata": {},
     "output_type": "execute_result"
    }
   ],
   "source": [
    "animalBitCoinValue.isnull()"
   ]
  },
  {
   "cell_type": "code",
   "execution_count": 63,
   "metadata": {
    "collapsed": false
   },
   "outputs": [
    {
     "name": "stdout",
     "output_type": "stream",
     "text": [
      "moose       29.184162\n",
      "platypus    24.034846\n",
      "dtype: float64\n"
     ]
    }
   ],
   "source": [
    "prizedAnimals = animalBitCoinValue[animalBitCoinValue>17.]\n",
    "print prizedAnimals"
   ]
  },
  {
   "cell_type": "code",
   "execution_count": 65,
   "metadata": {
    "collapsed": false
   },
   "outputs": [
    {
     "name": "stdout",
     "output_type": "stream",
     "text": [
      "buffalo      0.250000\n",
      "chicken      0.024000\n",
      "elk          0.250000\n",
      "humans       0.250000\n",
      "marmot       0.250000\n",
      "moose       29.184162\n",
      "platypus    24.034846\n",
      "sadpanda     0.076154\n",
      "dtype: float64\n"
     ]
    }
   ],
   "source": [
    "animalBitCoinValue[animalBitCoinValue.isnull()] = 0.001\n",
    "print animalBitCoinValue"
   ]
  },
  {
   "cell_type": "markdown",
   "metadata": {},
   "source": [
    "## The Index is used for alignment, and it works when you have Indicies with multiple levels.  Also boolean masking can be sprinkled in for good measure.\n",
    "\n"
   ]
  },
  {
   "cell_type": "markdown",
   "metadata": {},
   "source": [
    "A pandas DataFrame is somewhat inspired by the R Data-Frame, but apparently here at THW we don't like R... booo R.  \n",
    "\n",
    "Anyways, DataFrames are 2D data structures, columns can be different dtypes, and columns and rows have indicies.  "
   ]
  },
  {
   "cell_type": "markdown",
   "metadata": {},
   "source": [
    "## Theres more than one way to make a DataFrames (and Series).\n",
    "* numpy arrays\n",
    "* lists\n",
    "* csv files\n",
    "* excel files\n",
    "* databases queries\n",
    "* dicts of things\n",
    "* lists of series\n",
    "* other dataframes\n",
    "* Seriously, it gets a bit rediculous, but in a good way once you get the hang of it.\n",
    "\n",
    "I personally end up using np.arrays, dicts of arrays, lists of named Series, and sometimes concatenate lists of DFs. "
   ]
  },
  {
   "cell_type": "code",
   "execution_count": 66,
   "metadata": {
    "collapsed": false
   },
   "outputs": [
    {
     "data": {
      "text/html": [
       "<div>\n",
       "<table border=\"1\" class=\"dataframe\">\n",
       "  <thead>\n",
       "    <tr style=\"text-align: right;\">\n",
       "      <th></th>\n",
       "      <th>pop</th>\n",
       "      <th>state</th>\n",
       "      <th>year</th>\n",
       "    </tr>\n",
       "  </thead>\n",
       "  <tbody>\n",
       "    <tr>\n",
       "      <th>0</th>\n",
       "      <td>23.4</td>\n",
       "      <td>Ohio</td>\n",
       "      <td>2000</td>\n",
       "    </tr>\n",
       "    <tr>\n",
       "      <th>1</th>\n",
       "      <td>34.1</td>\n",
       "      <td>California</td>\n",
       "      <td>2001</td>\n",
       "    </tr>\n",
       "    <tr>\n",
       "      <th>2</th>\n",
       "      <td>7.8</td>\n",
       "      <td>Indiana</td>\n",
       "      <td>2002</td>\n",
       "    </tr>\n",
       "    <tr>\n",
       "      <th>3</th>\n",
       "      <td>1.3</td>\n",
       "      <td>Idaho</td>\n",
       "      <td>2004</td>\n",
       "    </tr>\n",
       "  </tbody>\n",
       "</table>\n",
       "</div>"
      ],
      "text/plain": [
       "    pop       state  year\n",
       "0  23.4        Ohio  2000\n",
       "1  34.1  California  2001\n",
       "2   7.8     Indiana  2002\n",
       "3   1.3       Idaho  2004"
      ]
     },
     "execution_count": 66,
     "metadata": {},
     "output_type": "execute_result"
    }
   ],
   "source": [
    "data = {'state':['Ohio','California','Indiana','Idaho'],\n",
    "        'year':[2000,2001,2002,2004],\n",
    "        'pop':[23.4,34.1,7.8,1.3]}\n",
    "df = pd.DataFrame(data)\n",
    "df"
   ]
  },
  {
   "cell_type": "code",
   "execution_count": 67,
   "metadata": {
    "collapsed": false
   },
   "outputs": [
    {
     "data": {
      "text/plain": [
       "0          Ohio\n",
       "1    California\n",
       "2       Indiana\n",
       "3         Idaho\n",
       "Name: state, dtype: object"
      ]
     },
     "execution_count": 67,
     "metadata": {},
     "output_type": "execute_result"
    }
   ],
   "source": [
    "df['state']"
   ]
  },
  {
   "cell_type": "code",
   "execution_count": 68,
   "metadata": {
    "collapsed": false
   },
   "outputs": [
    {
     "data": {
      "text/plain": [
       "0    2000\n",
       "1    2001\n",
       "2    2002\n",
       "3    2004\n",
       "Name: year, dtype: int64"
      ]
     },
     "execution_count": 68,
     "metadata": {},
     "output_type": "execute_result"
    }
   ],
   "source": [
    "df.year"
   ]
  },
  {
   "cell_type": "markdown",
   "metadata": {},
   "source": [
    "Indexing Frames with [ ] (get_item) gives access to columns, as does .name syntax (if the name is reasonable)."
   ]
  },
  {
   "cell_type": "code",
   "execution_count": 69,
   "metadata": {
    "collapsed": false
   },
   "outputs": [
    {
     "data": {
      "text/html": [
       "<div>\n",
       "<table border=\"1\" class=\"dataframe\">\n",
       "  <thead>\n",
       "    <tr style=\"text-align: right;\">\n",
       "      <th></th>\n",
       "      <th>pop</th>\n",
       "      <th>state</th>\n",
       "      <th>year</th>\n",
       "      <th>debt</th>\n",
       "    </tr>\n",
       "  </thead>\n",
       "  <tbody>\n",
       "    <tr>\n",
       "      <th>1</th>\n",
       "      <td>23.4</td>\n",
       "      <td>Ohio</td>\n",
       "      <td>2000</td>\n",
       "      <td>NaN</td>\n",
       "    </tr>\n",
       "    <tr>\n",
       "      <th>2</th>\n",
       "      <td>34.1</td>\n",
       "      <td>California</td>\n",
       "      <td>2001</td>\n",
       "      <td>NaN</td>\n",
       "    </tr>\n",
       "    <tr>\n",
       "      <th>3</th>\n",
       "      <td>7.8</td>\n",
       "      <td>Indiana</td>\n",
       "      <td>2002</td>\n",
       "      <td>NaN</td>\n",
       "    </tr>\n",
       "    <tr>\n",
       "      <th>4</th>\n",
       "      <td>1.3</td>\n",
       "      <td>Idaho</td>\n",
       "      <td>2004</td>\n",
       "      <td>NaN</td>\n",
       "    </tr>\n",
       "  </tbody>\n",
       "</table>\n",
       "</div>"
      ],
      "text/plain": [
       "    pop       state  year debt\n",
       "1  23.4        Ohio  2000  NaN\n",
       "2  34.1  California  2001  NaN\n",
       "3   7.8     Indiana  2002  NaN\n",
       "4   1.3       Idaho  2004  NaN"
      ]
     },
     "execution_count": 69,
     "metadata": {},
     "output_type": "execute_result"
    }
   ],
   "source": [
    "df2 = pd.DataFrame(data, columns=['pop','state','year','debt'], index=range(1,5))\n",
    "df2"
   ]
  },
  {
   "cell_type": "code",
   "execution_count": null,
   "metadata": {
    "collapsed": false
   },
   "outputs": [],
   "source": [
    "df2[1]"
   ]
  },
  {
   "cell_type": "markdown",
   "metadata": {},
   "source": [
    "[Indexing options](http://pandas.pydata.org/pandas-docs/stable/indexing.html)\n",
    "- [LABEL], returns the corresponding value in a Series or a column of a dataframe with index of LABEL.\n",
    "- .LABEL, returns the corresponding value in a Series or a column of a dataframe with index of LABEL.\n",
    "- Next we have .loc[LABEL] or .loc[LABEL1, LABEL2].  This is label based, but ca nalso take boolean masks.  Slicing can work too!  Lists of labels can work too!  \n",
    "- After that we've got .iloc[INT] and .iloc[INT1,INT2].  This is integer location along the different axes... like referencing location in a numpy array.\n",
    "- Then there is .ix which can take mixed labels and integer locations.  Be careful with this, but I use it quite often because .ix is shorter than .loc.  Dumb, I know.\n",
    "- .xs() comes in pretty handy with grabbing interesting data from MultiIndex frames.  More on that later. "
   ]
  },
  {
   "cell_type": "code",
   "execution_count": 74,
   "metadata": {
    "collapsed": false
   },
   "outputs": [
    {
     "data": {
      "text/plain": [
       "pop      23.4\n",
       "state    Ohio\n",
       "year     2000\n",
       "debt      NaN\n",
       "Name: 1, dtype: object"
      ]
     },
     "execution_count": 74,
     "metadata": {},
     "output_type": "execute_result"
    }
   ],
   "source": [
    "df2.loc[1]"
   ]
  },
  {
   "cell_type": "code",
   "execution_count": 75,
   "metadata": {
    "collapsed": false
   },
   "outputs": [
    {
     "data": {
      "text/plain": [
       "1    23.4\n",
       "2    34.1\n",
       "3     7.8\n",
       "4     1.3\n",
       "Name: pop, dtype: float64"
      ]
     },
     "execution_count": 75,
     "metadata": {},
     "output_type": "execute_result"
    }
   ],
   "source": [
    "df2.iloc[0]"
   ]
  },
  {
   "cell_type": "code",
   "execution_count": 76,
   "metadata": {
    "collapsed": false
   },
   "outputs": [
    {
     "data": {
      "text/plain": [
       "'Ohio'"
      ]
     },
     "execution_count": 76,
     "metadata": {},
     "output_type": "execute_result"
    }
   ],
   "source": [
    "df2.ix[1,'state']"
   ]
  },
  {
   "cell_type": "code",
   "execution_count": 77,
   "metadata": {
    "collapsed": false
   },
   "outputs": [
    {
     "ename": "KeyError",
     "evalue": "0",
     "output_type": "error",
     "traceback": [
      "\u001b[0;31m---------------------------------------------------------------------------\u001b[0m",
      "\u001b[0;31mKeyError\u001b[0m                                  Traceback (most recent call last)",
      "\u001b[0;32m<ipython-input-77-556357d7f835>\u001b[0m in \u001b[0;36m<module>\u001b[0;34m()\u001b[0m\n\u001b[0;32m----> 1\u001b[0;31m \u001b[0mdf2\u001b[0m\u001b[0;34m[\u001b[0m\u001b[0;34m'state'\u001b[0m\u001b[0;34m]\u001b[0m\u001b[0;34m[\u001b[0m\u001b[0;36m0\u001b[0m\u001b[0;34m]\u001b[0m\u001b[0;34m\u001b[0m\u001b[0m\n\u001b[0m",
      "\u001b[0;32m/Users/tenzo/anaconda/lib/python2.7/site-packages/pandas/core/series.pyc\u001b[0m in \u001b[0;36m__getitem__\u001b[0;34m(self, key)\u001b[0m\n\u001b[1;32m    555\u001b[0m     \u001b[0;32mdef\u001b[0m \u001b[0m__getitem__\u001b[0m\u001b[0;34m(\u001b[0m\u001b[0mself\u001b[0m\u001b[0;34m,\u001b[0m \u001b[0mkey\u001b[0m\u001b[0;34m)\u001b[0m\u001b[0;34m:\u001b[0m\u001b[0;34m\u001b[0m\u001b[0m\n\u001b[1;32m    556\u001b[0m         \u001b[0;32mtry\u001b[0m\u001b[0;34m:\u001b[0m\u001b[0;34m\u001b[0m\u001b[0m\n\u001b[0;32m--> 557\u001b[0;31m             \u001b[0mresult\u001b[0m \u001b[0;34m=\u001b[0m \u001b[0mself\u001b[0m\u001b[0;34m.\u001b[0m\u001b[0mindex\u001b[0m\u001b[0;34m.\u001b[0m\u001b[0mget_value\u001b[0m\u001b[0;34m(\u001b[0m\u001b[0mself\u001b[0m\u001b[0;34m,\u001b[0m \u001b[0mkey\u001b[0m\u001b[0;34m)\u001b[0m\u001b[0;34m\u001b[0m\u001b[0m\n\u001b[0m\u001b[1;32m    558\u001b[0m \u001b[0;34m\u001b[0m\u001b[0m\n\u001b[1;32m    559\u001b[0m             \u001b[0;32mif\u001b[0m \u001b[0;32mnot\u001b[0m \u001b[0mnp\u001b[0m\u001b[0;34m.\u001b[0m\u001b[0misscalar\u001b[0m\u001b[0;34m(\u001b[0m\u001b[0mresult\u001b[0m\u001b[0;34m)\u001b[0m\u001b[0;34m:\u001b[0m\u001b[0;34m\u001b[0m\u001b[0m\n",
      "\u001b[0;32m/Users/tenzo/anaconda/lib/python2.7/site-packages/pandas/core/index.pyc\u001b[0m in \u001b[0;36mget_value\u001b[0;34m(self, series, key)\u001b[0m\n\u001b[1;32m   1788\u001b[0m \u001b[0;34m\u001b[0m\u001b[0m\n\u001b[1;32m   1789\u001b[0m         \u001b[0;32mtry\u001b[0m\u001b[0;34m:\u001b[0m\u001b[0;34m\u001b[0m\u001b[0m\n\u001b[0;32m-> 1790\u001b[0;31m             \u001b[0;32mreturn\u001b[0m \u001b[0mself\u001b[0m\u001b[0;34m.\u001b[0m\u001b[0m_engine\u001b[0m\u001b[0;34m.\u001b[0m\u001b[0mget_value\u001b[0m\u001b[0;34m(\u001b[0m\u001b[0ms\u001b[0m\u001b[0;34m,\u001b[0m \u001b[0mk\u001b[0m\u001b[0;34m)\u001b[0m\u001b[0;34m\u001b[0m\u001b[0m\n\u001b[0m\u001b[1;32m   1791\u001b[0m         \u001b[0;32mexcept\u001b[0m \u001b[0mKeyError\u001b[0m \u001b[0;32mas\u001b[0m \u001b[0me1\u001b[0m\u001b[0;34m:\u001b[0m\u001b[0;34m\u001b[0m\u001b[0m\n\u001b[1;32m   1792\u001b[0m             \u001b[0;32mif\u001b[0m \u001b[0mlen\u001b[0m\u001b[0;34m(\u001b[0m\u001b[0mself\u001b[0m\u001b[0;34m)\u001b[0m \u001b[0;34m>\u001b[0m \u001b[0;36m0\u001b[0m \u001b[0;32mand\u001b[0m \u001b[0mself\u001b[0m\u001b[0;34m.\u001b[0m\u001b[0minferred_type\u001b[0m \u001b[0;32min\u001b[0m \u001b[0;34m[\u001b[0m\u001b[0;34m'integer'\u001b[0m\u001b[0;34m,\u001b[0m\u001b[0;34m'boolean'\u001b[0m\u001b[0;34m]\u001b[0m\u001b[0;34m:\u001b[0m\u001b[0;34m\u001b[0m\u001b[0m\n",
      "\u001b[0;32mpandas/index.pyx\u001b[0m in \u001b[0;36mpandas.index.IndexEngine.get_value (pandas/index.c:3204)\u001b[0;34m()\u001b[0m\n",
      "\u001b[0;32mpandas/index.pyx\u001b[0m in \u001b[0;36mpandas.index.IndexEngine.get_value (pandas/index.c:2903)\u001b[0;34m()\u001b[0m\n",
      "\u001b[0;32mpandas/index.pyx\u001b[0m in \u001b[0;36mpandas.index.IndexEngine.get_loc (pandas/index.c:3843)\u001b[0;34m()\u001b[0m\n",
      "\u001b[0;32mpandas/hashtable.pyx\u001b[0m in \u001b[0;36mpandas.hashtable.Int64HashTable.get_item (pandas/hashtable.c:6525)\u001b[0;34m()\u001b[0m\n",
      "\u001b[0;32mpandas/hashtable.pyx\u001b[0m in \u001b[0;36mpandas.hashtable.Int64HashTable.get_item (pandas/hashtable.c:6463)\u001b[0;34m()\u001b[0m\n",
      "\u001b[0;31mKeyError\u001b[0m: 0"
     ]
    }
   ],
   "source": [
    "df2['state'][0]"
   ]
  },
  {
   "cell_type": "code",
   "execution_count": 81,
   "metadata": {
    "collapsed": false
   },
   "outputs": [
    {
     "data": {
      "text/plain": [
       "1          Ohio\n",
       "2    California\n",
       "Name: state, dtype: object"
      ]
     },
     "execution_count": 81,
     "metadata": {},
     "output_type": "execute_result"
    }
   ],
   "source": [
    "df2.ix[0:2,'state']"
   ]
  },
  {
   "cell_type": "code",
   "execution_count": 82,
   "metadata": {
    "collapsed": false
   },
   "outputs": [
    {
     "data": {
      "text/html": [
       "<div>\n",
       "<table border=\"1\" class=\"dataframe\">\n",
       "  <thead>\n",
       "    <tr style=\"text-align: right;\">\n",
       "      <th></th>\n",
       "      <th>pop</th>\n",
       "      <th>state</th>\n",
       "      <th>year</th>\n",
       "      <th>debt</th>\n",
       "    </tr>\n",
       "  </thead>\n",
       "  <tbody>\n",
       "    <tr>\n",
       "      <th>1</th>\n",
       "      <td>23.4</td>\n",
       "      <td>Ohio</td>\n",
       "      <td>2000</td>\n",
       "      <td>22</td>\n",
       "    </tr>\n",
       "    <tr>\n",
       "      <th>2</th>\n",
       "      <td>34.1</td>\n",
       "      <td>California</td>\n",
       "      <td>2001</td>\n",
       "      <td>22</td>\n",
       "    </tr>\n",
       "    <tr>\n",
       "      <th>3</th>\n",
       "      <td>7.8</td>\n",
       "      <td>Indiana</td>\n",
       "      <td>2002</td>\n",
       "      <td>22</td>\n",
       "    </tr>\n",
       "    <tr>\n",
       "      <th>4</th>\n",
       "      <td>1.3</td>\n",
       "      <td>Idaho</td>\n",
       "      <td>2004</td>\n",
       "      <td>22</td>\n",
       "    </tr>\n",
       "  </tbody>\n",
       "</table>\n",
       "</div>"
      ],
      "text/plain": [
       "    pop       state  year  debt\n",
       "1  23.4        Ohio  2000    22\n",
       "2  34.1  California  2001    22\n",
       "3   7.8     Indiana  2002    22\n",
       "4   1.3       Idaho  2004    22"
      ]
     },
     "execution_count": 82,
     "metadata": {},
     "output_type": "execute_result"
    }
   ],
   "source": [
    "df2['debt'] = 22\n",
    "df2"
   ]
  },
  {
   "cell_type": "code",
   "execution_count": 83,
   "metadata": {
    "collapsed": false
   },
   "outputs": [
    {
     "data": {
      "text/html": [
       "<div>\n",
       "<table border=\"1\" class=\"dataframe\">\n",
       "  <thead>\n",
       "    <tr style=\"text-align: right;\">\n",
       "      <th></th>\n",
       "      <th>pop</th>\n",
       "      <th>state</th>\n",
       "      <th>year</th>\n",
       "      <th>debt</th>\n",
       "    </tr>\n",
       "  </thead>\n",
       "  <tbody>\n",
       "    <tr>\n",
       "      <th>1</th>\n",
       "      <td>23.4</td>\n",
       "      <td>Ohio</td>\n",
       "      <td>2000</td>\n",
       "      <td>22.00</td>\n",
       "    </tr>\n",
       "    <tr>\n",
       "      <th>2</th>\n",
       "      <td>34.1</td>\n",
       "      <td>California</td>\n",
       "      <td>2001</td>\n",
       "      <td>22.00</td>\n",
       "    </tr>\n",
       "    <tr>\n",
       "      <th>3</th>\n",
       "      <td>7.8</td>\n",
       "      <td>Indiana</td>\n",
       "      <td>2002</td>\n",
       "      <td>0.22</td>\n",
       "    </tr>\n",
       "    <tr>\n",
       "      <th>4</th>\n",
       "      <td>1.3</td>\n",
       "      <td>Idaho</td>\n",
       "      <td>2004</td>\n",
       "      <td>22.00</td>\n",
       "    </tr>\n",
       "  </tbody>\n",
       "</table>\n",
       "</div>"
      ],
      "text/plain": [
       "    pop       state  year   debt\n",
       "1  23.4        Ohio  2000  22.00\n",
       "2  34.1  California  2001  22.00\n",
       "3   7.8     Indiana  2002   0.22\n",
       "4   1.3       Idaho  2004  22.00"
      ]
     },
     "execution_count": 83,
     "metadata": {},
     "output_type": "execute_result"
    }
   ],
   "source": [
    "df2.ix[3,'debt'] = 0.22\n",
    "df2"
   ]
  },
  {
   "cell_type": "code",
   "execution_count": 84,
   "metadata": {
    "collapsed": false
   },
   "outputs": [
    {
     "data": {
      "text/plain": [
       "array([[23.4, 'Ohio', 2000, 22.0],\n",
       "       [34.1, 'California', 2001, 22.0],\n",
       "       [7.8, 'Indiana', 2002, 0.22],\n",
       "       [1.3, 'Idaho', 2004, 22.0]], dtype=object)"
      ]
     },
     "execution_count": 84,
     "metadata": {},
     "output_type": "execute_result"
    }
   ],
   "source": [
    "df2.values"
   ]
  },
  {
   "cell_type": "code",
   "execution_count": 87,
   "metadata": {
    "collapsed": false
   },
   "outputs": [
    {
     "data": {
      "text/html": [
       "<div>\n",
       "<table border=\"1\" class=\"dataframe\">\n",
       "  <thead>\n",
       "    <tr style=\"text-align: right;\">\n",
       "      <th></th>\n",
       "      <th>pop</th>\n",
       "      <th>state</th>\n",
       "      <th>year</th>\n",
       "      <th>debt</th>\n",
       "    </tr>\n",
       "  </thead>\n",
       "  <tbody>\n",
       "    <tr>\n",
       "      <th>0</th>\n",
       "      <td>0.1</td>\n",
       "      <td>0.1</td>\n",
       "      <td>0.1</td>\n",
       "      <td>0.10</td>\n",
       "    </tr>\n",
       "    <tr>\n",
       "      <th>1</th>\n",
       "      <td>23.4</td>\n",
       "      <td>Ohio</td>\n",
       "      <td>2000.0</td>\n",
       "      <td>22.00</td>\n",
       "    </tr>\n",
       "    <tr>\n",
       "      <th>2</th>\n",
       "      <td>34.1</td>\n",
       "      <td>California</td>\n",
       "      <td>2001.0</td>\n",
       "      <td>22.00</td>\n",
       "    </tr>\n",
       "    <tr>\n",
       "      <th>3</th>\n",
       "      <td>7.8</td>\n",
       "      <td>Indiana</td>\n",
       "      <td>2002.0</td>\n",
       "      <td>0.22</td>\n",
       "    </tr>\n",
       "    <tr>\n",
       "      <th>4</th>\n",
       "      <td>1.3</td>\n",
       "      <td>Idaho</td>\n",
       "      <td>2004.0</td>\n",
       "      <td>22.00</td>\n",
       "    </tr>\n",
       "    <tr>\n",
       "      <th>5</th>\n",
       "      <td>0.1</td>\n",
       "      <td>0.1</td>\n",
       "      <td>0.1</td>\n",
       "      <td>0.10</td>\n",
       "    </tr>\n",
       "  </tbody>\n",
       "</table>\n",
       "</div>"
      ],
      "text/plain": [
       "    pop       state    year   debt\n",
       "0   0.1         0.1     0.1   0.10\n",
       "1  23.4        Ohio  2000.0  22.00\n",
       "2  34.1  California  2001.0  22.00\n",
       "3   7.8     Indiana  2002.0   0.22\n",
       "4   1.3       Idaho  2004.0  22.00\n",
       "5   0.1         0.1     0.1   0.10"
      ]
     },
     "execution_count": 87,
     "metadata": {},
     "output_type": "execute_result"
    }
   ],
   "source": [
    "df2.reindex(range(6), fill_value=0.1)"
   ]
  },
  {
   "cell_type": "code",
   "execution_count": 88,
   "metadata": {
    "collapsed": false
   },
   "outputs": [
    {
     "data": {
      "text/html": [
       "<div>\n",
       "<table border=\"1\" class=\"dataframe\">\n",
       "  <thead>\n",
       "    <tr style=\"text-align: right;\">\n",
       "      <th></th>\n",
       "      <th>pop</th>\n",
       "      <th>state</th>\n",
       "      <th>year</th>\n",
       "      <th>debt</th>\n",
       "    </tr>\n",
       "  </thead>\n",
       "  <tbody>\n",
       "    <tr>\n",
       "      <th>1</th>\n",
       "      <td>23.4</td>\n",
       "      <td>Ohio</td>\n",
       "      <td>2000</td>\n",
       "      <td>22.00</td>\n",
       "    </tr>\n",
       "    <tr>\n",
       "      <th>2</th>\n",
       "      <td>34.1</td>\n",
       "      <td>California</td>\n",
       "      <td>2001</td>\n",
       "      <td>22.00</td>\n",
       "    </tr>\n",
       "    <tr>\n",
       "      <th>3</th>\n",
       "      <td>7.8</td>\n",
       "      <td>Indiana</td>\n",
       "      <td>2002</td>\n",
       "      <td>0.22</td>\n",
       "    </tr>\n",
       "    <tr>\n",
       "      <th>4</th>\n",
       "      <td>1.3</td>\n",
       "      <td>Idaho</td>\n",
       "      <td>2004</td>\n",
       "      <td>22.00</td>\n",
       "    </tr>\n",
       "  </tbody>\n",
       "</table>\n",
       "</div>"
      ],
      "text/plain": [
       "    pop       state  year   debt\n",
       "1  23.4        Ohio  2000  22.00\n",
       "2  34.1  California  2001  22.00\n",
       "3   7.8     Indiana  2002   0.22\n",
       "4   1.3       Idaho  2004  22.00"
      ]
     },
     "execution_count": 88,
     "metadata": {},
     "output_type": "execute_result"
    }
   ],
   "source": [
    "df2"
   ]
  },
  {
   "cell_type": "code",
   "execution_count": 89,
   "metadata": {
    "collapsed": false
   },
   "outputs": [
    {
     "data": {
      "text/html": [
       "<div>\n",
       "<table border=\"1\" class=\"dataframe\">\n",
       "  <thead>\n",
       "    <tr style=\"text-align: right;\">\n",
       "      <th></th>\n",
       "      <th>pop</th>\n",
       "      <th>state</th>\n",
       "      <th>year</th>\n",
       "      <th>debt</th>\n",
       "    </tr>\n",
       "  </thead>\n",
       "  <tbody>\n",
       "    <tr>\n",
       "      <th>1</th>\n",
       "      <td>23.4</td>\n",
       "      <td>Ohio</td>\n",
       "      <td>2000</td>\n",
       "      <td>22.00</td>\n",
       "    </tr>\n",
       "    <tr>\n",
       "      <th>3</th>\n",
       "      <td>7.8</td>\n",
       "      <td>Indiana</td>\n",
       "      <td>2002</td>\n",
       "      <td>0.22</td>\n",
       "    </tr>\n",
       "    <tr>\n",
       "      <th>4</th>\n",
       "      <td>1.3</td>\n",
       "      <td>Idaho</td>\n",
       "      <td>2004</td>\n",
       "      <td>22.00</td>\n",
       "    </tr>\n",
       "  </tbody>\n",
       "</table>\n",
       "</div>"
      ],
      "text/plain": [
       "    pop    state  year   debt\n",
       "1  23.4     Ohio  2000  22.00\n",
       "3   7.8  Indiana  2002   0.22\n",
       "4   1.3    Idaho  2004  22.00"
      ]
     },
     "execution_count": 89,
     "metadata": {},
     "output_type": "execute_result"
    }
   ],
   "source": [
    "df2.drop(2)"
   ]
  },
  {
   "cell_type": "code",
   "execution_count": 90,
   "metadata": {
    "collapsed": false
   },
   "outputs": [
    {
     "data": {
      "text/html": [
       "<div>\n",
       "<table border=\"1\" class=\"dataframe\">\n",
       "  <thead>\n",
       "    <tr style=\"text-align: right;\">\n",
       "      <th></th>\n",
       "      <th>state</th>\n",
       "      <th>year</th>\n",
       "      <th>debt</th>\n",
       "    </tr>\n",
       "  </thead>\n",
       "  <tbody>\n",
       "    <tr>\n",
       "      <th>1</th>\n",
       "      <td>Ohio</td>\n",
       "      <td>2000</td>\n",
       "      <td>22.00</td>\n",
       "    </tr>\n",
       "    <tr>\n",
       "      <th>2</th>\n",
       "      <td>California</td>\n",
       "      <td>2001</td>\n",
       "      <td>22.00</td>\n",
       "    </tr>\n",
       "    <tr>\n",
       "      <th>3</th>\n",
       "      <td>Indiana</td>\n",
       "      <td>2002</td>\n",
       "      <td>0.22</td>\n",
       "    </tr>\n",
       "    <tr>\n",
       "      <th>4</th>\n",
       "      <td>Idaho</td>\n",
       "      <td>2004</td>\n",
       "      <td>22.00</td>\n",
       "    </tr>\n",
       "  </tbody>\n",
       "</table>\n",
       "</div>"
      ],
      "text/plain": [
       "        state  year   debt\n",
       "1        Ohio  2000  22.00\n",
       "2  California  2001  22.00\n",
       "3     Indiana  2002   0.22\n",
       "4       Idaho  2004  22.00"
      ]
     },
     "execution_count": 90,
     "metadata": {},
     "output_type": "execute_result"
    }
   ],
   "source": [
    "df2.drop('pop', axis=1)"
   ]
  },
  {
   "cell_type": "code",
   "execution_count": 92,
   "metadata": {
    "collapsed": false
   },
   "outputs": [
    {
     "data": {
      "text/html": [
       "<div>\n",
       "<table border=\"1\" class=\"dataframe\">\n",
       "  <thead>\n",
       "    <tr style=\"text-align: right;\">\n",
       "      <th></th>\n",
       "      <th>pop</th>\n",
       "      <th>state</th>\n",
       "    </tr>\n",
       "  </thead>\n",
       "  <tbody>\n",
       "    <tr>\n",
       "      <th>1</th>\n",
       "      <td>23.4</td>\n",
       "      <td>Ohio</td>\n",
       "    </tr>\n",
       "    <tr>\n",
       "      <th>2</th>\n",
       "      <td>34.1</td>\n",
       "      <td>California</td>\n",
       "    </tr>\n",
       "    <tr>\n",
       "      <th>3</th>\n",
       "      <td>7.8</td>\n",
       "      <td>Indiana</td>\n",
       "    </tr>\n",
       "    <tr>\n",
       "      <th>4</th>\n",
       "      <td>1.3</td>\n",
       "      <td>Idaho</td>\n",
       "    </tr>\n",
       "  </tbody>\n",
       "</table>\n",
       "</div>"
      ],
      "text/plain": [
       "    pop       state\n",
       "1  23.4        Ohio\n",
       "2  34.1  California\n",
       "3   7.8     Indiana\n",
       "4   1.3       Idaho"
      ]
     },
     "execution_count": 92,
     "metadata": {},
     "output_type": "execute_result"
    }
   ],
   "source": [
    "df2[[0,1]]"
   ]
  },
  {
   "cell_type": "code",
   "execution_count": 96,
   "metadata": {
    "collapsed": false
   },
   "outputs": [
    {
     "name": "stdout",
     "output_type": "stream",
     "text": [
      "    pop    state  year   debt\n",
      "1  23.4     Ohio  2000  22.00\n",
      "2  11.1    Maine  2001  22.00\n",
      "3   7.8  Indiana  2002   0.22\n",
      "4  87.0   Canada  2004  22.00\n"
     ]
    }
   ],
   "source": [
    "df2.loc[[2,4],['pop','state']] = [[11.1,'Maine'],[87,'Canada']]\n",
    "print df2"
   ]
  },
  {
   "cell_type": "markdown",
   "metadata": {},
   "source": [
    "#### OK, so that was a quick introduction to DataFrames and how to touch some of the data that lives inside of them.  "
   ]
  },
  {
   "cell_type": "markdown",
   "metadata": {},
   "source": []
  },
  {
   "cell_type": "markdown",
   "metadata": {},
   "source": []
  },
  {
   "cell_type": "markdown",
   "metadata": {},
   "source": [
    "\n",
    "\n",
    "\n",
    "\n",
    "## QUESTIONS BEFORE WE CONTINUE?"
   ]
  },
  {
   "cell_type": "markdown",
   "metadata": {},
   "source": []
  },
  {
   "cell_type": "markdown",
   "metadata": {},
   "source": []
  },
  {
   "cell_type": "markdown",
   "metadata": {},
   "source": []
  },
  {
   "cell_type": "markdown",
   "metadata": {},
   "source": [
    "#### For this next section lets play with some data that I was working with last week.\n",
    "\n",
    "This data comes from a mobile array of High Purity Germanium (HPGe) Detectors.  It isn't raw, but I've left it ragged enough that we'll need to munge it before answering questions becomes easier.  This isn't a terrifically complicated table for an example, but maybe thats a good thing.  Loads of the tutorials posted at the top in References have great examples too!\n",
    "\n",
    "Please do not distribute this data, not that you would want to.  While this is part of a semi-open dataset access to this dataset should be pursued through the formal channels.\n",
    "\n",
    "https://dl.dropboxusercontent.com/u/4558549/THWPasses.hdf5"
   ]
  },
  {
   "cell_type": "markdown",
   "metadata": {},
   "source": [
    "#### Pandas has PyTables integration!  This means that you can drop your Series or DataFrames directly into an HDF5 file (called an HDFStore in Pandas lingo).  Lets open the Store of data we'll use."
   ]
  },
  {
   "cell_type": "code",
   "execution_count": 7,
   "metadata": {
    "collapsed": true
   },
   "outputs": [],
   "source": [
    "import matplotlib.pyplot as plt\n",
    "%matplotlib inline"
   ]
  },
  {
   "cell_type": "code",
   "execution_count": 8,
   "metadata": {
    "collapsed": false
   },
   "outputs": [],
   "source": [
    "infile = pd.HDFStore('THWPasses.hdf5','r')"
   ]
  },
  {
   "cell_type": "code",
   "execution_count": 9,
   "metadata": {
    "collapsed": false
   },
   "outputs": [
    {
     "data": {
      "text/plain": [
       "<class 'pandas.io.pytables.HDFStore'>\n",
       "File path: THWPasses.hdf5\n",
       "/GPSdata             frame        (shape->[14371,3])  \n",
       "/HPGEdata            frame        (shape->[2328352,3])"
      ]
     },
     "execution_count": 9,
     "metadata": {},
     "output_type": "execute_result"
    }
   ],
   "source": [
    "infile"
   ]
  },
  {
   "cell_type": "code",
   "execution_count": 10,
   "metadata": {
    "collapsed": false
   },
   "outputs": [
    {
     "name": "stdout",
     "output_type": "stream",
     "text": [
      "['/GPSdata', '/HPGEdata']\n"
     ]
    }
   ],
   "source": [
    "keys = infile.keys()\n",
    "print keys"
   ]
  },
  {
   "cell_type": "markdown",
   "metadata": {},
   "source": [
    "So we've got a few dataframes hiding inside"
   ]
  },
  {
   "cell_type": "code",
   "execution_count": 17,
   "metadata": {
    "collapsed": true
   },
   "outputs": [],
   "source": [
    "listmodedf = infile[keys[1]]\n",
    "lmdf = listmodedf\n",
    "\n",
    "gpsdf = infile[keys[0]]"
   ]
  },
  {
   "cell_type": "markdown",
   "metadata": {},
   "source": [
    "#### Whats inside?"
   ]
  },
  {
   "cell_type": "code",
   "execution_count": 18,
   "metadata": {
    "collapsed": false
   },
   "outputs": [
    {
     "data": {
      "text/html": [
       "<div>\n",
       "<table border=\"1\" class=\"dataframe\">\n",
       "  <thead>\n",
       "    <tr style=\"text-align: right;\">\n",
       "      <th></th>\n",
       "      <th>timestamp</th>\n",
       "      <th>detch</th>\n",
       "      <th>energy</th>\n",
       "    </tr>\n",
       "  </thead>\n",
       "  <tbody>\n",
       "    <tr>\n",
       "      <th>13975129</th>\n",
       "      <td>1.335387e+09</td>\n",
       "      <td>16</td>\n",
       "      <td>187.947830</td>\n",
       "    </tr>\n",
       "    <tr>\n",
       "      <th>13975130</th>\n",
       "      <td>1.335387e+09</td>\n",
       "      <td>7</td>\n",
       "      <td>2109.051270</td>\n",
       "    </tr>\n",
       "    <tr>\n",
       "      <th>13975131</th>\n",
       "      <td>1.335387e+09</td>\n",
       "      <td>6</td>\n",
       "      <td>119.749451</td>\n",
       "    </tr>\n",
       "    <tr>\n",
       "      <th>13975132</th>\n",
       "      <td>1.335387e+09</td>\n",
       "      <td>24</td>\n",
       "      <td>413.067627</td>\n",
       "    </tr>\n",
       "    <tr>\n",
       "      <th>13975133</th>\n",
       "      <td>1.335387e+09</td>\n",
       "      <td>7</td>\n",
       "      <td>242.087418</td>\n",
       "    </tr>\n",
       "    <tr>\n",
       "      <th>13975134</th>\n",
       "      <td>1.335387e+09</td>\n",
       "      <td>28</td>\n",
       "      <td>370.802856</td>\n",
       "    </tr>\n",
       "    <tr>\n",
       "      <th>13975135</th>\n",
       "      <td>1.335387e+09</td>\n",
       "      <td>28</td>\n",
       "      <td>149.982178</td>\n",
       "    </tr>\n",
       "    <tr>\n",
       "      <th>13975136</th>\n",
       "      <td>1.335387e+09</td>\n",
       "      <td>24</td>\n",
       "      <td>546.586487</td>\n",
       "    </tr>\n",
       "    <tr>\n",
       "      <th>13975137</th>\n",
       "      <td>1.335387e+09</td>\n",
       "      <td>6</td>\n",
       "      <td>115.927986</td>\n",
       "    </tr>\n",
       "    <tr>\n",
       "      <th>13975138</th>\n",
       "      <td>1.335387e+09</td>\n",
       "      <td>19</td>\n",
       "      <td>106.596954</td>\n",
       "    </tr>\n",
       "  </tbody>\n",
       "</table>\n",
       "</div>"
      ],
      "text/plain": [
       "             timestamp  detch       energy\n",
       "13975129  1.335387e+09     16   187.947830\n",
       "13975130  1.335387e+09      7  2109.051270\n",
       "13975131  1.335387e+09      6   119.749451\n",
       "13975132  1.335387e+09     24   413.067627\n",
       "13975133  1.335387e+09      7   242.087418\n",
       "13975134  1.335387e+09     28   370.802856\n",
       "13975135  1.335387e+09     28   149.982178\n",
       "13975136  1.335387e+09     24   546.586487\n",
       "13975137  1.335387e+09      6   115.927986\n",
       "13975138  1.335387e+09     19   106.596954"
      ]
     },
     "execution_count": 18,
     "metadata": {},
     "output_type": "execute_result"
    }
   ],
   "source": [
    "lmdf.head(10)"
   ]
  },
  {
   "cell_type": "code",
   "execution_count": 19,
   "metadata": {
    "collapsed": false
   },
   "outputs": [
    {
     "data": {
      "text/html": [
       "<div>\n",
       "<table border=\"1\" class=\"dataframe\">\n",
       "  <thead>\n",
       "    <tr style=\"text-align: right;\">\n",
       "      <th></th>\n",
       "      <th>timestamp</th>\n",
       "      <th>lat</th>\n",
       "      <th>lon</th>\n",
       "    </tr>\n",
       "  </thead>\n",
       "  <tbody>\n",
       "    <tr>\n",
       "      <th>402877</th>\n",
       "      <td>1.335387e+09</td>\n",
       "      <td>37.871223</td>\n",
       "      <td>-122.275262</td>\n",
       "    </tr>\n",
       "    <tr>\n",
       "      <th>402878</th>\n",
       "      <td>1.335387e+09</td>\n",
       "      <td>37.871226</td>\n",
       "      <td>-122.275243</td>\n",
       "    </tr>\n",
       "    <tr>\n",
       "      <th>402879</th>\n",
       "      <td>1.335387e+09</td>\n",
       "      <td>37.871229</td>\n",
       "      <td>-122.275223</td>\n",
       "    </tr>\n",
       "    <tr>\n",
       "      <th>402880</th>\n",
       "      <td>1.335387e+09</td>\n",
       "      <td>37.871231</td>\n",
       "      <td>-122.275204</td>\n",
       "    </tr>\n",
       "    <tr>\n",
       "      <th>402881</th>\n",
       "      <td>1.335387e+09</td>\n",
       "      <td>37.871233</td>\n",
       "      <td>-122.275183</td>\n",
       "    </tr>\n",
       "    <tr>\n",
       "      <th>402882</th>\n",
       "      <td>1.335387e+09</td>\n",
       "      <td>37.871236</td>\n",
       "      <td>-122.275164</td>\n",
       "    </tr>\n",
       "    <tr>\n",
       "      <th>402883</th>\n",
       "      <td>1.335387e+09</td>\n",
       "      <td>37.871239</td>\n",
       "      <td>-122.275145</td>\n",
       "    </tr>\n",
       "    <tr>\n",
       "      <th>402884</th>\n",
       "      <td>1.335387e+09</td>\n",
       "      <td>37.871242</td>\n",
       "      <td>-122.275125</td>\n",
       "    </tr>\n",
       "    <tr>\n",
       "      <th>402885</th>\n",
       "      <td>1.335387e+09</td>\n",
       "      <td>37.871247</td>\n",
       "      <td>-122.275108</td>\n",
       "    </tr>\n",
       "    <tr>\n",
       "      <th>402886</th>\n",
       "      <td>1.335387e+09</td>\n",
       "      <td>37.871249</td>\n",
       "      <td>-122.275088</td>\n",
       "    </tr>\n",
       "  </tbody>\n",
       "</table>\n",
       "</div>"
      ],
      "text/plain": [
       "           timestamp        lat         lon\n",
       "402877  1.335387e+09  37.871223 -122.275262\n",
       "402878  1.335387e+09  37.871226 -122.275243\n",
       "402879  1.335387e+09  37.871229 -122.275223\n",
       "402880  1.335387e+09  37.871231 -122.275204\n",
       "402881  1.335387e+09  37.871233 -122.275183\n",
       "402882  1.335387e+09  37.871236 -122.275164\n",
       "402883  1.335387e+09  37.871239 -122.275145\n",
       "402884  1.335387e+09  37.871242 -122.275125\n",
       "402885  1.335387e+09  37.871247 -122.275108\n",
       "402886  1.335387e+09  37.871249 -122.275088"
      ]
     },
     "execution_count": 19,
     "metadata": {},
     "output_type": "execute_result"
    }
   ],
   "source": [
    "gpsdf.head(10)"
   ]
  },
  {
   "cell_type": "markdown",
   "metadata": {},
   "source": [
    "#### What should we do next?"
   ]
  },
  {
   "cell_type": "code",
   "execution_count": null,
   "metadata": {
    "collapsed": true
   },
   "outputs": [],
   "source": []
  },
  {
   "cell_type": "code",
   "execution_count": null,
   "metadata": {
    "collapsed": true
   },
   "outputs": [],
   "source": []
  },
  {
   "cell_type": "code",
   "execution_count": null,
   "metadata": {
    "collapsed": true
   },
   "outputs": [],
   "source": []
  },
  {
   "cell_type": "code",
   "execution_count": null,
   "metadata": {
    "collapsed": true
   },
   "outputs": [],
   "source": []
  },
  {
   "cell_type": "code",
   "execution_count": null,
   "metadata": {
    "collapsed": true
   },
   "outputs": [],
   "source": []
  },
  {
   "cell_type": "code",
   "execution_count": null,
   "metadata": {
    "collapsed": true
   },
   "outputs": [],
   "source": []
  },
  {
   "cell_type": "code",
   "execution_count": null,
   "metadata": {
    "collapsed": true
   },
   "outputs": [],
   "source": []
  },
  {
   "cell_type": "code",
   "execution_count": null,
   "metadata": {
    "collapsed": true
   },
   "outputs": [],
   "source": []
  },
  {
   "cell_type": "code",
   "execution_count": null,
   "metadata": {
    "collapsed": true
   },
   "outputs": [],
   "source": []
  },
  {
   "cell_type": "markdown",
   "metadata": {},
   "source": [
    "#### Ok, here are a few things I did..."
   ]
  },
  {
   "cell_type": "code",
   "execution_count": 20,
   "metadata": {
    "collapsed": false
   },
   "outputs": [
    {
     "data": {
      "text/plain": [
       "6     202496\n",
       "27    164686\n",
       "23    160142\n",
       "7     159862\n",
       "2     159850\n",
       "5     155212\n",
       "28    146047\n",
       "19    145917\n",
       "4     142246\n",
       "26    132366\n",
       "24    129493\n",
       "3     129375\n",
       "29    127270\n",
       "16    124495\n",
       "1     118354\n",
       "25     95034\n",
       "30     26114\n",
       "22      9393\n",
       "Name: detch, dtype: int64"
      ]
     },
     "execution_count": 20,
     "metadata": {},
     "output_type": "execute_result"
    }
   ],
   "source": [
    "lmdf.detch.value_counts()"
   ]
  },
  {
   "cell_type": "code",
   "execution_count": 24,
   "metadata": {
    "collapsed": false
   },
   "outputs": [
    {
     "data": {
      "text/plain": [
       "<matplotlib.axes._subplots.AxesSubplot at 0x124e12350>"
      ]
     },
     "execution_count": 24,
     "metadata": {},
     "output_type": "execute_result"
    },
    {
     "data": {
      "image/png": "[encoded data removed]",
      "text/plain": [
       "<matplotlib.figure.Figure at 0x124e83f90>"
      ]
     },
     "metadata": {},
     "output_type": "display_data"
    }
   ],
   "source": [
    "lmdf.timestamp.iloc[::1000].plot()"
   ]
  },
  {
   "cell_type": "markdown",
   "metadata": {},
   "source": [
    "looks like the data isn't continuous"
   ]
  },
  {
   "cell_type": "code",
   "execution_count": 34,
   "metadata": {
    "collapsed": true
   },
   "outputs": [],
   "source": [
    "lmdf.sort_values(by='timestamp', inplace=True)\n",
    "gpsdf.sort_values(by='timestamp', inplace=True)"
   ]
  },
  {
   "cell_type": "code",
   "execution_count": 30,
   "metadata": {
    "collapsed": false
   },
   "outputs": [
    {
     "data": {
      "text/html": [
       "<div>\n",
       "<table border=\"1\" class=\"dataframe\">\n",
       "  <thead>\n",
       "    <tr style=\"text-align: right;\">\n",
       "      <th></th>\n",
       "      <th>timestamp</th>\n",
       "      <th>detch</th>\n",
       "      <th>energy</th>\n",
       "    </tr>\n",
       "  </thead>\n",
       "  <tbody>\n",
       "    <tr>\n",
       "      <th>1180438</th>\n",
       "      <td>1.331661e+09</td>\n",
       "      <td>3</td>\n",
       "      <td>143.800919</td>\n",
       "    </tr>\n",
       "    <tr>\n",
       "      <th>1180439</th>\n",
       "      <td>1.331661e+09</td>\n",
       "      <td>6</td>\n",
       "      <td>381.026550</td>\n",
       "    </tr>\n",
       "    <tr>\n",
       "      <th>1180440</th>\n",
       "      <td>1.331661e+09</td>\n",
       "      <td>4</td>\n",
       "      <td>146.409409</td>\n",
       "    </tr>\n",
       "    <tr>\n",
       "      <th>1180441</th>\n",
       "      <td>1.331661e+09</td>\n",
       "      <td>7</td>\n",
       "      <td>224.622955</td>\n",
       "    </tr>\n",
       "    <tr>\n",
       "      <th>1180442</th>\n",
       "      <td>1.331661e+09</td>\n",
       "      <td>22</td>\n",
       "      <td>467.196014</td>\n",
       "    </tr>\n",
       "  </tbody>\n",
       "</table>\n",
       "</div>"
      ],
      "text/plain": [
       "            timestamp  detch      energy\n",
       "1180438  1.331661e+09      3  143.800919\n",
       "1180439  1.331661e+09      6  381.026550\n",
       "1180440  1.331661e+09      4  146.409409\n",
       "1180441  1.331661e+09      7  224.622955\n",
       "1180442  1.331661e+09     22  467.196014"
      ]
     },
     "execution_count": 30,
     "metadata": {},
     "output_type": "execute_result"
    }
   ],
   "source": [
    "lmdf.head()"
   ]
  },
  {
   "cell_type": "markdown",
   "metadata": {},
   "source": [
    "Look!  It sorted our dataframe inplace, but the index also came along for the ride!"
   ]
  },
  {
   "cell_type": "code",
   "execution_count": 35,
   "metadata": {
    "collapsed": true
   },
   "outputs": [],
   "source": [
    "lmdf.reset_index(inplace=True, drop=True)\n",
    "gpsdf.reset_index(inplace=True, drop=True)"
   ]
  },
  {
   "cell_type": "code",
   "execution_count": 32,
   "metadata": {
    "collapsed": false
   },
   "outputs": [
    {
     "data": {
      "text/html": [
       "<div>\n",
       "<table border=\"1\" class=\"dataframe\">\n",
       "  <thead>\n",
       "    <tr style=\"text-align: right;\">\n",
       "      <th></th>\n",
       "      <th>timestamp</th>\n",
       "      <th>detch</th>\n",
       "      <th>energy</th>\n",
       "    </tr>\n",
       "  </thead>\n",
       "  <tbody>\n",
       "    <tr>\n",
       "      <th>0</th>\n",
       "      <td>1.331661e+09</td>\n",
       "      <td>3</td>\n",
       "      <td>143.800919</td>\n",
       "    </tr>\n",
       "    <tr>\n",
       "      <th>1</th>\n",
       "      <td>1.331661e+09</td>\n",
       "      <td>6</td>\n",
       "      <td>381.026550</td>\n",
       "    </tr>\n",
       "    <tr>\n",
       "      <th>2</th>\n",
       "      <td>1.331661e+09</td>\n",
       "      <td>4</td>\n",
       "      <td>146.409409</td>\n",
       "    </tr>\n",
       "    <tr>\n",
       "      <th>3</th>\n",
       "      <td>1.331661e+09</td>\n",
       "      <td>7</td>\n",
       "      <td>224.622955</td>\n",
       "    </tr>\n",
       "    <tr>\n",
       "      <th>4</th>\n",
       "      <td>1.331661e+09</td>\n",
       "      <td>22</td>\n",
       "      <td>467.196014</td>\n",
       "    </tr>\n",
       "  </tbody>\n",
       "</table>\n",
       "</div>"
      ],
      "text/plain": [
       "      timestamp  detch      energy\n",
       "0  1.331661e+09      3  143.800919\n",
       "1  1.331661e+09      6  381.026550\n",
       "2  1.331661e+09      4  146.409409\n",
       "3  1.331661e+09      7  224.622955\n",
       "4  1.331661e+09     22  467.196014"
      ]
     },
     "execution_count": 32,
     "metadata": {},
     "output_type": "execute_result"
    }
   ],
   "source": [
    "lmdf.head()"
   ]
  },
  {
   "cell_type": "markdown",
   "metadata": {},
   "source": [
    "Thats a bit better"
   ]
  },
  {
   "cell_type": "code",
   "execution_count": 40,
   "metadata": {
    "collapsed": false
   },
   "outputs": [
    {
     "data": {
      "text/plain": [
       "<matplotlib.axes._subplots.AxesSubplot at 0x13067a190>"
      ]
     },
     "execution_count": 40,
     "metadata": {},
     "output_type": "execute_result"
    },
    {
     "data": {
      "image/png": "[encoded data removed]",
      "text/plain": [
       "<matplotlib.figure.Figure at 0x1304f4490>"
      ]
     },
     "metadata": {},
     "output_type": "display_data"
    }
   ],
   "source": [
    "fig = plt.figure()\n",
    "lmdf.timestamp.iloc[::1000].plot(fig=fig,ls=':')"
   ]
  },
  {
   "cell_type": "markdown",
   "metadata": {},
   "source": [
    "Looks like there are discrete jumps in timestamp... Maybe this data was acquired across a wide period of time.  Maybe we should split up."
   ]
  },
  {
   "cell_type": "code",
   "execution_count": 41,
   "metadata": {
    "collapsed": false
   },
   "outputs": [
    {
     "data": {
      "text/plain": [
       "count    2328351.000000\n",
       "mean           1.854004\n",
       "std          920.638557\n",
       "min            0.000000\n",
       "25%            0.000200\n",
       "50%            0.000500\n",
       "75%            0.001200\n",
       "max       691704.402635\n",
       "Name: timestamp, dtype: float64"
      ]
     },
     "execution_count": 41,
     "metadata": {},
     "output_type": "execute_result"
    }
   ],
   "source": [
    "lmdf.timestamp.diff().describe()"
   ]
  },
  {
   "cell_type": "code",
   "execution_count": 46,
   "metadata": {
    "collapsed": false
   },
   "outputs": [
    {
     "data": {
      "text/plain": [
       "array([ 0,  1,  2,  3,  4,  5,  6,  7,  8,  9, 10, 11, 12, 13, 14, 15, 16,\n",
       "       17, 18, 19, 20, 21])"
      ]
     },
     "execution_count": 46,
     "metadata": {},
     "output_type": "execute_result"
    }
   ],
   "source": [
    "lmdf['segment'] = (lmdf.timestamp.diff() > 60.).astype(int)\n",
    "lmdf.segment = lmdf.segment.cumsum()\n",
    "lmdf.segment.unique()"
   ]
  },
  {
   "cell_type": "markdown",
   "metadata": {},
   "source": [
    "Cool, we've got 22 different segments of data...  Maybe the GPS data will cooperate as well..."
   ]
  },
  {
   "cell_type": "code",
   "execution_count": 47,
   "metadata": {
    "collapsed": false
   },
   "outputs": [
    {
     "data": {
      "text/plain": [
       "array([ 0,  1,  2,  3,  4,  5,  6,  7,  8,  9, 10, 11, 12, 13, 14, 15, 16,\n",
       "       17, 18, 19, 20, 21])"
      ]
     },
     "execution_count": 47,
     "metadata": {},
     "output_type": "execute_result"
    }
   ],
   "source": [
    "gpsdf['segment'] = (gpsdf.timestamp.diff() > 60.).astype(int)\n",
    "gpsdf.segment = gpsdf.segment.cumsum()\n",
    "gpsdf.segment.unique()"
   ]
  },
  {
   "cell_type": "markdown",
   "metadata": {},
   "source": [
    "Schwing!"
   ]
  },
  {
   "cell_type": "markdown",
   "metadata": {},
   "source": [
    "Maybe the GPS is well behaved when it comes to sampling frequency..."
   ]
  },
  {
   "cell_type": "code",
   "execution_count": 48,
   "metadata": {
    "collapsed": false
   },
   "outputs": [
    {
     "data": {
      "text/plain": [
       "count     14370.00000\n",
       "mean        300.40167\n",
       "std       11715.43832\n",
       "min           0.20000\n",
       "25%           0.20000\n",
       "50%           0.20000\n",
       "75%           0.20000\n",
       "max      691704.80000\n",
       "Name: timestamp, dtype: float64"
      ]
     },
     "execution_count": 48,
     "metadata": {},
     "output_type": "execute_result"
    }
   ],
   "source": [
    "gpsdf.timestamp.diff().describe()"
   ]
  },
  {
   "cell_type": "markdown",
   "metadata": {},
   "source": [
    "Maybe it makes sense to group by the segment and then look at the time between samples..."
   ]
  },
  {
   "cell_type": "code",
   "execution_count": 50,
   "metadata": {
    "collapsed": false
   },
   "outputs": [
    {
     "data": {
      "text/html": [
       "<div>\n",
       "<table border=\"1\" class=\"dataframe\">\n",
       "  <thead>\n",
       "    <tr style=\"text-align: right;\">\n",
       "      <th></th>\n",
       "      <th>max</th>\n",
       "      <th>min</th>\n",
       "      <th>std</th>\n",
       "    </tr>\n",
       "    <tr>\n",
       "      <th>segment</th>\n",
       "      <th></th>\n",
       "      <th></th>\n",
       "      <th></th>\n",
       "    </tr>\n",
       "  </thead>\n",
       "  <tbody>\n",
       "    <tr>\n",
       "      <th>0</th>\n",
       "      <td>1.331661e+09</td>\n",
       "      <td>1.331661e+09</td>\n",
       "      <td>26.125090</td>\n",
       "    </tr>\n",
       "    <tr>\n",
       "      <th>1</th>\n",
       "      <td>1.331670e+09</td>\n",
       "      <td>1.331670e+09</td>\n",
       "      <td>23.065131</td>\n",
       "    </tr>\n",
       "    <tr>\n",
       "      <th>2</th>\n",
       "      <td>1.331743e+09</td>\n",
       "      <td>1.331743e+09</td>\n",
       "      <td>44.658045</td>\n",
       "    </tr>\n",
       "    <tr>\n",
       "      <th>3</th>\n",
       "      <td>1.331830e+09</td>\n",
       "      <td>1.331829e+09</td>\n",
       "      <td>32.937828</td>\n",
       "    </tr>\n",
       "    <tr>\n",
       "      <th>4</th>\n",
       "      <td>1.332263e+09</td>\n",
       "      <td>1.332263e+09</td>\n",
       "      <td>28.492228</td>\n",
       "    </tr>\n",
       "    <tr>\n",
       "      <th>5</th>\n",
       "      <td>1.332275e+09</td>\n",
       "      <td>1.332275e+09</td>\n",
       "      <td>39.923770</td>\n",
       "    </tr>\n",
       "    <tr>\n",
       "      <th>6</th>\n",
       "      <td>1.332867e+09</td>\n",
       "      <td>1.332867e+09</td>\n",
       "      <td>25.720944</td>\n",
       "    </tr>\n",
       "    <tr>\n",
       "      <th>7</th>\n",
       "      <td>1.332954e+09</td>\n",
       "      <td>1.332954e+09</td>\n",
       "      <td>50.547020</td>\n",
       "    </tr>\n",
       "    <tr>\n",
       "      <th>8</th>\n",
       "      <td>1.333482e+09</td>\n",
       "      <td>1.333481e+09</td>\n",
       "      <td>67.752064</td>\n",
       "    </tr>\n",
       "    <tr>\n",
       "      <th>9</th>\n",
       "      <td>1.333558e+09</td>\n",
       "      <td>1.333558e+09</td>\n",
       "      <td>47.256122</td>\n",
       "    </tr>\n",
       "    <tr>\n",
       "      <th>10</th>\n",
       "      <td>1.333658e+09</td>\n",
       "      <td>1.333658e+09</td>\n",
       "      <td>20.351581</td>\n",
       "    </tr>\n",
       "    <tr>\n",
       "      <th>11</th>\n",
       "      <td>1.333991e+09</td>\n",
       "      <td>1.333991e+09</td>\n",
       "      <td>29.415989</td>\n",
       "    </tr>\n",
       "    <tr>\n",
       "      <th>12</th>\n",
       "      <td>1.334005e+09</td>\n",
       "      <td>1.334004e+09</td>\n",
       "      <td>45.408600</td>\n",
       "    </tr>\n",
       "    <tr>\n",
       "      <th>13</th>\n",
       "      <td>1.334696e+09</td>\n",
       "      <td>1.334696e+09</td>\n",
       "      <td>39.288685</td>\n",
       "    </tr>\n",
       "    <tr>\n",
       "      <th>14</th>\n",
       "      <td>1.334768e+09</td>\n",
       "      <td>1.334768e+09</td>\n",
       "      <td>32.880093</td>\n",
       "    </tr>\n",
       "    <tr>\n",
       "      <th>15</th>\n",
       "      <td>1.334780e+09</td>\n",
       "      <td>1.334780e+09</td>\n",
       "      <td>27.164321</td>\n",
       "    </tr>\n",
       "    <tr>\n",
       "      <th>16</th>\n",
       "      <td>1.335287e+09</td>\n",
       "      <td>1.335287e+09</td>\n",
       "      <td>66.308688</td>\n",
       "    </tr>\n",
       "    <tr>\n",
       "      <th>17</th>\n",
       "      <td>1.335298e+09</td>\n",
       "      <td>1.335298e+09</td>\n",
       "      <td>38.769069</td>\n",
       "    </tr>\n",
       "    <tr>\n",
       "      <th>18</th>\n",
       "      <td>1.335373e+09</td>\n",
       "      <td>1.335373e+09</td>\n",
       "      <td>53.722448</td>\n",
       "    </tr>\n",
       "    <tr>\n",
       "      <th>19</th>\n",
       "      <td>1.335387e+09</td>\n",
       "      <td>1.335387e+09</td>\n",
       "      <td>37.267958</td>\n",
       "    </tr>\n",
       "    <tr>\n",
       "      <th>20</th>\n",
       "      <td>1.335893e+09</td>\n",
       "      <td>1.335892e+09</td>\n",
       "      <td>23.873422</td>\n",
       "    </tr>\n",
       "    <tr>\n",
       "      <th>21</th>\n",
       "      <td>1.335978e+09</td>\n",
       "      <td>1.335978e+09</td>\n",
       "      <td>29.415989</td>\n",
       "    </tr>\n",
       "  </tbody>\n",
       "</table>\n",
       "</div>"
      ],
      "text/plain": [
       "                  max           min        std\n",
       "segment                                       \n",
       "0        1.331661e+09  1.331661e+09  26.125090\n",
       "1        1.331670e+09  1.331670e+09  23.065131\n",
       "2        1.331743e+09  1.331743e+09  44.658045\n",
       "3        1.331830e+09  1.331829e+09  32.937828\n",
       "4        1.332263e+09  1.332263e+09  28.492228\n",
       "5        1.332275e+09  1.332275e+09  39.923770\n",
       "6        1.332867e+09  1.332867e+09  25.720944\n",
       "7        1.332954e+09  1.332954e+09  50.547020\n",
       "8        1.333482e+09  1.333481e+09  67.752064\n",
       "9        1.333558e+09  1.333558e+09  47.256122\n",
       "10       1.333658e+09  1.333658e+09  20.351581\n",
       "11       1.333991e+09  1.333991e+09  29.415989\n",
       "12       1.334005e+09  1.334004e+09  45.408600\n",
       "13       1.334696e+09  1.334696e+09  39.288685\n",
       "14       1.334768e+09  1.334768e+09  32.880093\n",
       "15       1.334780e+09  1.334780e+09  27.164321\n",
       "16       1.335287e+09  1.335287e+09  66.308688\n",
       "17       1.335298e+09  1.335298e+09  38.769069\n",
       "18       1.335373e+09  1.335373e+09  53.722448\n",
       "19       1.335387e+09  1.335387e+09  37.267958\n",
       "20       1.335893e+09  1.335892e+09  23.873422\n",
       "21       1.335978e+09  1.335978e+09  29.415989"
      ]
     },
     "execution_count": 50,
     "metadata": {},
     "output_type": "execute_result"
    }
   ],
   "source": [
    "gpsdf.groupby('segment').timestamp.agg(['max','min','std'])"
   ]
  },
  {
   "cell_type": "markdown",
   "metadata": {},
   "source": [
    "Well that isn't quite right."
   ]
  },
  {
   "cell_type": "code",
   "execution_count": 52,
   "metadata": {
    "collapsed": false
   },
   "outputs": [
    {
     "data": {
      "text/html": [
       "<div>\n",
       "<table border=\"1\" class=\"dataframe\">\n",
       "  <thead>\n",
       "    <tr style=\"text-align: right;\">\n",
       "      <th>timestamp</th>\n",
       "      <th>count</th>\n",
       "      <th>mean</th>\n",
       "      <th>std</th>\n",
       "      <th>min</th>\n",
       "      <th>25%</th>\n",
       "      <th>50%</th>\n",
       "      <th>75%</th>\n",
       "      <th>max</th>\n",
       "    </tr>\n",
       "    <tr>\n",
       "      <th>segment</th>\n",
       "      <th></th>\n",
       "      <th></th>\n",
       "      <th></th>\n",
       "      <th></th>\n",
       "      <th></th>\n",
       "      <th></th>\n",
       "      <th></th>\n",
       "      <th></th>\n",
       "    </tr>\n",
       "  </thead>\n",
       "  <tbody>\n",
       "    <tr>\n",
       "      <th>0</th>\n",
       "      <td>451</td>\n",
       "      <td>0.2</td>\n",
       "      <td>9.539386e-08</td>\n",
       "      <td>0.2</td>\n",
       "      <td>0.2</td>\n",
       "      <td>0.2</td>\n",
       "      <td>0.2</td>\n",
       "      <td>0.2</td>\n",
       "    </tr>\n",
       "    <tr>\n",
       "      <th>1</th>\n",
       "      <td>398</td>\n",
       "      <td>0.2</td>\n",
       "      <td>9.521650e-08</td>\n",
       "      <td>0.2</td>\n",
       "      <td>0.2</td>\n",
       "      <td>0.2</td>\n",
       "      <td>0.2</td>\n",
       "      <td>0.2</td>\n",
       "    </tr>\n",
       "    <tr>\n",
       "      <th>2</th>\n",
       "      <td>772</td>\n",
       "      <td>0.2</td>\n",
       "      <td>9.533642e-08</td>\n",
       "      <td>0.2</td>\n",
       "      <td>0.2</td>\n",
       "      <td>0.2</td>\n",
       "      <td>0.2</td>\n",
       "      <td>0.2</td>\n",
       "    </tr>\n",
       "    <tr>\n",
       "      <th>3</th>\n",
       "      <td>569</td>\n",
       "      <td>0.2</td>\n",
       "      <td>9.551419e-08</td>\n",
       "      <td>0.2</td>\n",
       "      <td>0.2</td>\n",
       "      <td>0.2</td>\n",
       "      <td>0.2</td>\n",
       "      <td>0.2</td>\n",
       "    </tr>\n",
       "    <tr>\n",
       "      <th>4</th>\n",
       "      <td>492</td>\n",
       "      <td>0.2</td>\n",
       "      <td>9.531866e-08</td>\n",
       "      <td>0.2</td>\n",
       "      <td>0.2</td>\n",
       "      <td>0.2</td>\n",
       "      <td>0.2</td>\n",
       "      <td>0.2</td>\n",
       "    </tr>\n",
       "    <tr>\n",
       "      <th>5</th>\n",
       "      <td>690</td>\n",
       "      <td>0.2</td>\n",
       "      <td>9.543661e-08</td>\n",
       "      <td>0.2</td>\n",
       "      <td>0.2</td>\n",
       "      <td>0.2</td>\n",
       "      <td>0.2</td>\n",
       "      <td>0.2</td>\n",
       "    </tr>\n",
       "    <tr>\n",
       "      <th>6</th>\n",
       "      <td>444</td>\n",
       "      <td>0.2</td>\n",
       "      <td>9.555555e-08</td>\n",
       "      <td>0.2</td>\n",
       "      <td>0.2</td>\n",
       "      <td>0.2</td>\n",
       "      <td>0.2</td>\n",
       "      <td>0.2</td>\n",
       "    </tr>\n",
       "    <tr>\n",
       "      <th>7</th>\n",
       "      <td>874</td>\n",
       "      <td>0.2</td>\n",
       "      <td>9.546295e-08</td>\n",
       "      <td>0.2</td>\n",
       "      <td>0.2</td>\n",
       "      <td>0.2</td>\n",
       "      <td>0.2</td>\n",
       "      <td>0.2</td>\n",
       "    </tr>\n",
       "    <tr>\n",
       "      <th>8</th>\n",
       "      <td>1172</td>\n",
       "      <td>0.2</td>\n",
       "      <td>9.534703e-08</td>\n",
       "      <td>0.2</td>\n",
       "      <td>0.2</td>\n",
       "      <td>0.2</td>\n",
       "      <td>0.2</td>\n",
       "      <td>0.2</td>\n",
       "    </tr>\n",
       "    <tr>\n",
       "      <th>9</th>\n",
       "      <td>817</td>\n",
       "      <td>0.2</td>\n",
       "      <td>9.555700e-08</td>\n",
       "      <td>0.2</td>\n",
       "      <td>0.2</td>\n",
       "      <td>0.2</td>\n",
       "      <td>0.2</td>\n",
       "      <td>0.2</td>\n",
       "    </tr>\n",
       "    <tr>\n",
       "      <th>10</th>\n",
       "      <td>351</td>\n",
       "      <td>0.2</td>\n",
       "      <td>9.540139e-08</td>\n",
       "      <td>0.2</td>\n",
       "      <td>0.2</td>\n",
       "      <td>0.2</td>\n",
       "      <td>0.2</td>\n",
       "      <td>0.2</td>\n",
       "    </tr>\n",
       "    <tr>\n",
       "      <th>11</th>\n",
       "      <td>508</td>\n",
       "      <td>0.2</td>\n",
       "      <td>9.524938e-08</td>\n",
       "      <td>0.2</td>\n",
       "      <td>0.2</td>\n",
       "      <td>0.2</td>\n",
       "      <td>0.2</td>\n",
       "      <td>0.2</td>\n",
       "    </tr>\n",
       "    <tr>\n",
       "      <th>12</th>\n",
       "      <td>785</td>\n",
       "      <td>0.2</td>\n",
       "      <td>9.542823e-08</td>\n",
       "      <td>0.2</td>\n",
       "      <td>0.2</td>\n",
       "      <td>0.2</td>\n",
       "      <td>0.2</td>\n",
       "      <td>0.2</td>\n",
       "    </tr>\n",
       "    <tr>\n",
       "      <th>13</th>\n",
       "      <td>679</td>\n",
       "      <td>0.2</td>\n",
       "      <td>9.549040e-08</td>\n",
       "      <td>0.2</td>\n",
       "      <td>0.2</td>\n",
       "      <td>0.2</td>\n",
       "      <td>0.2</td>\n",
       "      <td>0.2</td>\n",
       "    </tr>\n",
       "    <tr>\n",
       "      <th>14</th>\n",
       "      <td>568</td>\n",
       "      <td>0.2</td>\n",
       "      <td>9.526192e-08</td>\n",
       "      <td>0.2</td>\n",
       "      <td>0.2</td>\n",
       "      <td>0.2</td>\n",
       "      <td>0.2</td>\n",
       "      <td>0.2</td>\n",
       "    </tr>\n",
       "    <tr>\n",
       "      <th>15</th>\n",
       "      <td>469</td>\n",
       "      <td>0.2</td>\n",
       "      <td>9.516257e-08</td>\n",
       "      <td>0.2</td>\n",
       "      <td>0.2</td>\n",
       "      <td>0.2</td>\n",
       "      <td>0.2</td>\n",
       "      <td>0.2</td>\n",
       "    </tr>\n",
       "    <tr>\n",
       "      <th>16</th>\n",
       "      <td>1147</td>\n",
       "      <td>0.2</td>\n",
       "      <td>9.550248e-08</td>\n",
       "      <td>0.2</td>\n",
       "      <td>0.2</td>\n",
       "      <td>0.2</td>\n",
       "      <td>0.2</td>\n",
       "      <td>0.2</td>\n",
       "    </tr>\n",
       "    <tr>\n",
       "      <th>17</th>\n",
       "      <td>670</td>\n",
       "      <td>0.2</td>\n",
       "      <td>9.543868e-08</td>\n",
       "      <td>0.2</td>\n",
       "      <td>0.2</td>\n",
       "      <td>0.2</td>\n",
       "      <td>0.2</td>\n",
       "      <td>0.2</td>\n",
       "    </tr>\n",
       "    <tr>\n",
       "      <th>18</th>\n",
       "      <td>929</td>\n",
       "      <td>0.2</td>\n",
       "      <td>9.545730e-08</td>\n",
       "      <td>0.2</td>\n",
       "      <td>0.2</td>\n",
       "      <td>0.2</td>\n",
       "      <td>0.2</td>\n",
       "      <td>0.2</td>\n",
       "    </tr>\n",
       "    <tr>\n",
       "      <th>19</th>\n",
       "      <td>644</td>\n",
       "      <td>0.2</td>\n",
       "      <td>9.521854e-08</td>\n",
       "      <td>0.2</td>\n",
       "      <td>0.2</td>\n",
       "      <td>0.2</td>\n",
       "      <td>0.2</td>\n",
       "      <td>0.2</td>\n",
       "    </tr>\n",
       "    <tr>\n",
       "      <th>20</th>\n",
       "      <td>412</td>\n",
       "      <td>0.2</td>\n",
       "      <td>9.574312e-08</td>\n",
       "      <td>0.2</td>\n",
       "      <td>0.2</td>\n",
       "      <td>0.2</td>\n",
       "      <td>0.2</td>\n",
       "      <td>0.2</td>\n",
       "    </tr>\n",
       "    <tr>\n",
       "      <th>21</th>\n",
       "      <td>508</td>\n",
       "      <td>0.2</td>\n",
       "      <td>9.560208e-08</td>\n",
       "      <td>0.2</td>\n",
       "      <td>0.2</td>\n",
       "      <td>0.2</td>\n",
       "      <td>0.2</td>\n",
       "      <td>0.2</td>\n",
       "    </tr>\n",
       "  </tbody>\n",
       "</table>\n",
       "</div>"
      ],
      "text/plain": [
       "timestamp  count  mean           std  min  25%  50%  75%  max\n",
       "segment                                                      \n",
       "0            451   0.2  9.539386e-08  0.2  0.2  0.2  0.2  0.2\n",
       "1            398   0.2  9.521650e-08  0.2  0.2  0.2  0.2  0.2\n",
       "2            772   0.2  9.533642e-08  0.2  0.2  0.2  0.2  0.2\n",
       "3            569   0.2  9.551419e-08  0.2  0.2  0.2  0.2  0.2\n",
       "4            492   0.2  9.531866e-08  0.2  0.2  0.2  0.2  0.2\n",
       "5            690   0.2  9.543661e-08  0.2  0.2  0.2  0.2  0.2\n",
       "6            444   0.2  9.555555e-08  0.2  0.2  0.2  0.2  0.2\n",
       "7            874   0.2  9.546295e-08  0.2  0.2  0.2  0.2  0.2\n",
       "8           1172   0.2  9.534703e-08  0.2  0.2  0.2  0.2  0.2\n",
       "9            817   0.2  9.555700e-08  0.2  0.2  0.2  0.2  0.2\n",
       "10           351   0.2  9.540139e-08  0.2  0.2  0.2  0.2  0.2\n",
       "11           508   0.2  9.524938e-08  0.2  0.2  0.2  0.2  0.2\n",
       "12           785   0.2  9.542823e-08  0.2  0.2  0.2  0.2  0.2\n",
       "13           679   0.2  9.549040e-08  0.2  0.2  0.2  0.2  0.2\n",
       "14           568   0.2  9.526192e-08  0.2  0.2  0.2  0.2  0.2\n",
       "15           469   0.2  9.516257e-08  0.2  0.2  0.2  0.2  0.2\n",
       "16          1147   0.2  9.550248e-08  0.2  0.2  0.2  0.2  0.2\n",
       "17           670   0.2  9.543868e-08  0.2  0.2  0.2  0.2  0.2\n",
       "18           929   0.2  9.545730e-08  0.2  0.2  0.2  0.2  0.2\n",
       "19           644   0.2  9.521854e-08  0.2  0.2  0.2  0.2  0.2\n",
       "20           412   0.2  9.574312e-08  0.2  0.2  0.2  0.2  0.2\n",
       "21           508   0.2  9.560208e-08  0.2  0.2  0.2  0.2  0.2"
      ]
     },
     "execution_count": 52,
     "metadata": {},
     "output_type": "execute_result"
    }
   ],
   "source": [
    "gpsdf.groupby('segment').apply(lambda x: x.timestamp.diff().describe())"
   ]
  },
  {
   "cell_type": "markdown",
   "metadata": {},
   "source": [
    "Five Hz across the board.  Not too shabby.\n",
    "\n",
    "What about event rate in the gamma detectors?"
   ]
  },
  {
   "cell_type": "code",
   "execution_count": 61,
   "metadata": {
    "collapsed": false
   },
   "outputs": [],
   "source": [
    "seggroup = lmdf.groupby('segment')\n",
    "countspersegment = seggroup.apply(len)"
   ]
  },
  {
   "cell_type": "code",
   "execution_count": 62,
   "metadata": {
    "collapsed": false
   },
   "outputs": [],
   "source": [
    "segtime = seggroup.timestamp.apply(lambda x: x.max()-x.min())"
   ]
  },
  {
   "cell_type": "code",
   "execution_count": 63,
   "metadata": {
    "collapsed": true
   },
   "outputs": [],
   "source": [
    "countrate = countspersegment / segtime"
   ]
  },
  {
   "cell_type": "code",
   "execution_count": 64,
   "metadata": {
    "collapsed": false
   },
   "outputs": [
    {
     "data": {
      "text/plain": [
       "segment\n",
       "0      853.772038\n",
       "1      813.118296\n",
       "2      918.903625\n",
       "3      771.657073\n",
       "4      759.539539\n",
       "5     1957.996836\n",
       "6     1037.104551\n",
       "7      931.202490\n",
       "8      657.238185\n",
       "9      693.859710\n",
       "10     713.826310\n",
       "11     753.025399\n",
       "12     706.037820\n",
       "13     736.035149\n",
       "14     771.529778\n",
       "15     721.559409\n",
       "16     634.953860\n",
       "17     673.506044\n",
       "18     770.018212\n",
       "19     615.876206\n",
       "20     711.266296\n",
       "21     718.124089\n",
       "dtype: float64"
      ]
     },
     "execution_count": 64,
     "metadata": {},
     "output_type": "execute_result"
    }
   ],
   "source": [
    "countrate"
   ]
  },
  {
   "cell_type": "markdown",
   "metadata": {},
   "source": [
    "What if the number of detectors changes per segment!?"
   ]
  },
  {
   "cell_type": "code",
   "execution_count": 69,
   "metadata": {
    "collapsed": false
   },
   "outputs": [
    {
     "data": {
      "text/plain": [
       "segment\n",
       "0     17\n",
       "1     17\n",
       "2     17\n",
       "3     15\n",
       "4     14\n",
       "5     14\n",
       "6     16\n",
       "7     16\n",
       "8     15\n",
       "9     16\n",
       "10    16\n",
       "11    16\n",
       "12    16\n",
       "13    16\n",
       "14    16\n",
       "15    16\n",
       "16    15\n",
       "17    15\n",
       "18    15\n",
       "19    15\n",
       "20    15\n",
       "21    15\n",
       "Name: detch, dtype: int64"
      ]
     },
     "execution_count": 69,
     "metadata": {},
     "output_type": "execute_result"
    }
   ],
   "source": [
    "numdetperseg = seggroup.detch.apply(lambda x: len(x.unique()))\n",
    "numdetperseg"
   ]
  },
  {
   "cell_type": "code",
   "execution_count": 71,
   "metadata": {
    "collapsed": false
   },
   "outputs": [
    {
     "data": {
      "text/plain": [
       "segment\n",
       "0     2.954229\n",
       "1     2.813558\n",
       "2     3.179597\n",
       "3     3.429587\n",
       "4     3.875202\n",
       "5     9.989780\n",
       "6     4.051190\n",
       "7     3.637510\n",
       "8     2.921059\n",
       "9     2.710389\n",
       "10    2.788384\n",
       "11    2.941505\n",
       "12    2.757960\n",
       "13    2.875137\n",
       "14    3.013788\n",
       "15    2.818591\n",
       "16    2.822017\n",
       "17    2.993360\n",
       "18    3.422303\n",
       "19    2.737228\n",
       "20    3.161184\n",
       "21    3.191663\n",
       "dtype: float64"
      ]
     },
     "execution_count": 71,
     "metadata": {},
     "output_type": "execute_result"
    }
   ],
   "source": [
    "countrate = countrate / numdetperseg\n",
    "countrate"
   ]
  },
  {
   "cell_type": "code",
   "execution_count": 72,
   "metadata": {
    "collapsed": false
   },
   "outputs": [
    {
     "data": {
      "text/html": [
       "<div>\n",
       "<table border=\"1\" class=\"dataframe\">\n",
       "  <thead>\n",
       "    <tr style=\"text-align: right;\">\n",
       "      <th></th>\n",
       "      <th>timestamp</th>\n",
       "      <th>lat</th>\n",
       "      <th>lon</th>\n",
       "      <th>segment</th>\n",
       "    </tr>\n",
       "  </thead>\n",
       "  <tbody>\n",
       "    <tr>\n",
       "      <th>count</th>\n",
       "      <td>1.437100e+04</td>\n",
       "      <td>14371.000000</td>\n",
       "      <td>14371.000000</td>\n",
       "      <td>14371.000000</td>\n",
       "    </tr>\n",
       "    <tr>\n",
       "      <th>mean</th>\n",
       "      <td>1.333865e+09</td>\n",
       "      <td>37.871892</td>\n",
       "      <td>-122.270444</td>\n",
       "      <td>10.768144</td>\n",
       "    </tr>\n",
       "    <tr>\n",
       "      <th>std</th>\n",
       "      <td>1.371669e+06</td>\n",
       "      <td>0.000321</td>\n",
       "      <td>0.002528</td>\n",
       "      <td>6.023946</td>\n",
       "    </tr>\n",
       "    <tr>\n",
       "      <th>min</th>\n",
       "      <td>1.331661e+09</td>\n",
       "      <td>37.871217</td>\n",
       "      <td>-122.275301</td>\n",
       "      <td>0.000000</td>\n",
       "    </tr>\n",
       "    <tr>\n",
       "      <th>25%</th>\n",
       "      <td>1.332867e+09</td>\n",
       "      <td>37.871629</td>\n",
       "      <td>-122.272753</td>\n",
       "      <td>6.000000</td>\n",
       "    </tr>\n",
       "    <tr>\n",
       "      <th>50%</th>\n",
       "      <td>1.333991e+09</td>\n",
       "      <td>37.871929</td>\n",
       "      <td>-122.270357</td>\n",
       "      <td>11.000000</td>\n",
       "    </tr>\n",
       "    <tr>\n",
       "      <th>75%</th>\n",
       "      <td>1.335287e+09</td>\n",
       "      <td>37.872153</td>\n",
       "      <td>-122.268158</td>\n",
       "      <td>16.000000</td>\n",
       "    </tr>\n",
       "    <tr>\n",
       "      <th>max</th>\n",
       "      <td>1.335978e+09</td>\n",
       "      <td>37.872481</td>\n",
       "      <td>-122.266184</td>\n",
       "      <td>21.000000</td>\n",
       "    </tr>\n",
       "  </tbody>\n",
       "</table>\n",
       "</div>"
      ],
      "text/plain": [
       "          timestamp           lat           lon       segment\n",
       "count  1.437100e+04  14371.000000  14371.000000  14371.000000\n",
       "mean   1.333865e+09     37.871892   -122.270444     10.768144\n",
       "std    1.371669e+06      0.000321      0.002528      6.023946\n",
       "min    1.331661e+09     37.871217   -122.275301      0.000000\n",
       "25%    1.332867e+09     37.871629   -122.272753      6.000000\n",
       "50%    1.333991e+09     37.871929   -122.270357     11.000000\n",
       "75%    1.335287e+09     37.872153   -122.268158     16.000000\n",
       "max    1.335978e+09     37.872481   -122.266184     21.000000"
      ]
     },
     "execution_count": 72,
     "metadata": {},
     "output_type": "execute_result"
    }
   ],
   "source": [
    "gpsdf.describe()"
   ]
  },
  {
   "cell_type": "markdown",
   "metadata": {},
   "source": [
    "Looks like there isn't much variance in the GPS positions.  Lets convert to meters in cartesian space to have a look!"
   ]
  },
  {
   "cell_type": "code",
   "execution_count": 73,
   "metadata": {
    "collapsed": true
   },
   "outputs": [],
   "source": [
    "# in meters\n",
    "R_earth = 6371000\n",
    "degtoster = np.pi/180.\n",
    "\n",
    "def haversine(lat1deg, lon1deg, lat2deg, lon2deg):\n",
    "\t\"\"\"\n",
    "\tCalculate the great circle distance between two points in meters\n",
    "\tand the bearing direction on the earth (specified in decimal degrees)\n",
    "\t\"\"\"\n",
    "\t# convert decimal degrees to radians \n",
    "\tlon1=(np.pi/180)*lon1deg\n",
    "\tlat1=(np.pi/180)*lat1deg\n",
    "\tlon2=(np.pi/180)*lon2deg\n",
    "\tlat2=(np.pi/180)*lat2deg\n",
    "\t# haversine formula \n",
    "\tdlon = lon2 - lon1 \n",
    "\tdlat = lat2 - lat1 \n",
    "\ta = np.sin(dlat/2)**2 + np.cos(lat1) * np.cos(lat2) * np.sin(dlon/2)**2\n",
    "\tc = 2 * np.arcsin(np.sqrt(a)) \n",
    "\t\n",
    "\t# distance\n",
    "\tdist = R_earth * c\n",
    "\t\n",
    "\t# bearing direction\n",
    "\tdirection = np.arctan2( np.sin(dlon)*np.cos(lat2), \n",
    "\t\t\t\t\t\tnp.cos(lat1)*np.sin(lat2) - np.sin(lat1)*np.cos(lat2)*np.cos(dlon) )\n",
    "\t \n",
    "\treturn dist, direction\n",
    "\n",
    "vhaversine = np.vectorize(haversine)\n",
    "\n",
    "def convertLatLon(originlat, originlon, lat, lon):\n",
    "\tr, heading = vhaversine(originlat, originlon, lat, lon)\n",
    "\tx = r * np.sin(heading)\n",
    "\ty = r * np.cos(heading)\n",
    "\n",
    "\treturn y,x\n",
    "\n",
    "vconvertLatLon = np.vectorize(convertLatLon)"
   ]
  },
  {
   "cell_type": "code",
   "execution_count": 74,
   "metadata": {
    "collapsed": true
   },
   "outputs": [],
   "source": [
    "y,x = vconvertLatLon(gpsdf.lat.min(), gpsdf.lon.min(), gpsdf.lat, gpsdf.lon)"
   ]
  },
  {
   "cell_type": "code",
   "execution_count": 76,
   "metadata": {
    "collapsed": false
   },
   "outputs": [
    {
     "data": {
      "text/html": [
       "<div>\n",
       "<table border=\"1\" class=\"dataframe\">\n",
       "  <thead>\n",
       "    <tr style=\"text-align: right;\">\n",
       "      <th></th>\n",
       "      <th>timestamp</th>\n",
       "      <th>lat</th>\n",
       "      <th>lon</th>\n",
       "      <th>segment</th>\n",
       "      <th>x</th>\n",
       "      <th>y</th>\n",
       "    </tr>\n",
       "  </thead>\n",
       "  <tbody>\n",
       "    <tr>\n",
       "      <th>0</th>\n",
       "      <td>1.331661e+09</td>\n",
       "      <td>37.872436</td>\n",
       "      <td>-122.266358</td>\n",
       "      <td>0</td>\n",
       "      <td>784.957176</td>\n",
       "      <td>135.510092</td>\n",
       "    </tr>\n",
       "    <tr>\n",
       "      <th>1</th>\n",
       "      <td>1.331661e+09</td>\n",
       "      <td>37.872433</td>\n",
       "      <td>-122.266371</td>\n",
       "      <td>0</td>\n",
       "      <td>783.786873</td>\n",
       "      <td>135.194928</td>\n",
       "    </tr>\n",
       "    <tr>\n",
       "      <th>2</th>\n",
       "      <td>1.331661e+09</td>\n",
       "      <td>37.872430</td>\n",
       "      <td>-122.266385</td>\n",
       "      <td>0</td>\n",
       "      <td>782.572682</td>\n",
       "      <td>134.879759</td>\n",
       "    </tr>\n",
       "    <tr>\n",
       "      <th>3</th>\n",
       "      <td>1.331661e+09</td>\n",
       "      <td>37.872427</td>\n",
       "      <td>-122.266399</td>\n",
       "      <td>0</td>\n",
       "      <td>781.329235</td>\n",
       "      <td>134.546056</td>\n",
       "    </tr>\n",
       "    <tr>\n",
       "      <th>4</th>\n",
       "      <td>1.331661e+09</td>\n",
       "      <td>37.872424</td>\n",
       "      <td>-122.266413</td>\n",
       "      <td>0</td>\n",
       "      <td>780.056529</td>\n",
       "      <td>134.212350</td>\n",
       "    </tr>\n",
       "    <tr>\n",
       "      <th>5</th>\n",
       "      <td>1.331661e+09</td>\n",
       "      <td>37.872421</td>\n",
       "      <td>-122.266428</td>\n",
       "      <td>0</td>\n",
       "      <td>778.754565</td>\n",
       "      <td>133.878641</td>\n",
       "    </tr>\n",
       "    <tr>\n",
       "      <th>6</th>\n",
       "      <td>1.331661e+09</td>\n",
       "      <td>37.872418</td>\n",
       "      <td>-122.266443</td>\n",
       "      <td>0</td>\n",
       "      <td>777.437967</td>\n",
       "      <td>133.581996</td>\n",
       "    </tr>\n",
       "    <tr>\n",
       "      <th>7</th>\n",
       "      <td>1.331661e+09</td>\n",
       "      <td>37.872416</td>\n",
       "      <td>-122.266459</td>\n",
       "      <td>0</td>\n",
       "      <td>776.048217</td>\n",
       "      <td>133.359475</td>\n",
       "    </tr>\n",
       "    <tr>\n",
       "      <th>8</th>\n",
       "      <td>1.331661e+09</td>\n",
       "      <td>37.872414</td>\n",
       "      <td>-122.266475</td>\n",
       "      <td>0</td>\n",
       "      <td>774.643838</td>\n",
       "      <td>133.136952</td>\n",
       "    </tr>\n",
       "    <tr>\n",
       "      <th>9</th>\n",
       "      <td>1.331661e+09</td>\n",
       "      <td>37.872411</td>\n",
       "      <td>-122.266491</td>\n",
       "      <td>0</td>\n",
       "      <td>773.239466</td>\n",
       "      <td>132.840299</td>\n",
       "    </tr>\n",
       "  </tbody>\n",
       "</table>\n",
       "</div>"
      ],
      "text/plain": [
       "      timestamp        lat         lon  segment           x           y\n",
       "0  1.331661e+09  37.872436 -122.266358        0  784.957176  135.510092\n",
       "1  1.331661e+09  37.872433 -122.266371        0  783.786873  135.194928\n",
       "2  1.331661e+09  37.872430 -122.266385        0  782.572682  134.879759\n",
       "3  1.331661e+09  37.872427 -122.266399        0  781.329235  134.546056\n",
       "4  1.331661e+09  37.872424 -122.266413        0  780.056529  134.212350\n",
       "5  1.331661e+09  37.872421 -122.266428        0  778.754565  133.878641\n",
       "6  1.331661e+09  37.872418 -122.266443        0  777.437967  133.581996\n",
       "7  1.331661e+09  37.872416 -122.266459        0  776.048217  133.359475\n",
       "8  1.331661e+09  37.872414 -122.266475        0  774.643838  133.136952\n",
       "9  1.331661e+09  37.872411 -122.266491        0  773.239466  132.840299"
      ]
     },
     "execution_count": 76,
     "metadata": {},
     "output_type": "execute_result"
    }
   ],
   "source": [
    "gpsdf['x'] = x\n",
    "gpsdf['y'] = y\n",
    "gpsdf.head(10)"
   ]
  },
  {
   "cell_type": "code",
   "execution_count": 77,
   "metadata": {
    "collapsed": false
   },
   "outputs": [
    {
     "data": {
      "text/plain": [
       "[<matplotlib.lines.Line2D at 0x109577490>]"
      ]
     },
     "execution_count": 77,
     "metadata": {},
     "output_type": "execute_result"
    },
    {
     "data": {
      "image/png": "[encoded data removed]",
      "text/plain": [
       "<matplotlib.figure.Figure at 0x137338850>"
      ]
     },
     "metadata": {},
     "output_type": "display_data"
    }
   ],
   "source": [
    "plt.plot(gpsdf.x, gpsdf.y)"
   ]
  },
  {
   "cell_type": "markdown",
   "metadata": {},
   "source": [
    "Well I'll fill you in right now, this data comes from a few blocks of University Ave. in Berkeley.  Some are going westbound, some are eastbound...  I'm a bit surprised the GPS resolved the different sides of the road..."
   ]
  },
  {
   "cell_type": "code",
   "execution_count": 81,
   "metadata": {
    "collapsed": false
   },
   "outputs": [
    {
     "data": {
      "text/plain": [
       "segment\n",
       "0     False\n",
       "1      True\n",
       "2     False\n",
       "3     False\n",
       "4     False\n",
       "5      True\n",
       "6     False\n",
       "7     False\n",
       "8      True\n",
       "9     False\n",
       "10     True\n",
       "11    False\n",
       "12     True\n",
       "13     True\n",
       "14    False\n",
       "15     True\n",
       "16    False\n",
       "17     True\n",
       "18    False\n",
       "19     True\n",
       "20    False\n",
       "21    False\n",
       "dtype: bool"
      ]
     },
     "execution_count": 81,
     "metadata": {},
     "output_type": "execute_result"
    }
   ],
   "source": [
    "eastbound = gpsdf.groupby('segment').apply(lambda x: x.x.iloc[-1] - x.x.iloc[0]) > 0\n",
    "eastbound"
   ]
  },
  {
   "cell_type": "code",
   "execution_count": 87,
   "metadata": {
    "collapsed": false
   },
   "outputs": [],
   "source": [
    "lmdfeast = lmdf.set_index('segment').ix[eastbound].reset_index()\n",
    "gpsdfeast = gpsdf.set_index('segment').ix[eastbound].reset_index()"
   ]
  },
  {
   "cell_type": "code",
   "execution_count": 86,
   "metadata": {
    "collapsed": false
   },
   "outputs": [
    {
     "data": {
      "text/plain": [
       "[<matplotlib.lines.Line2D at 0x117649a90>]"
      ]
     },
     "execution_count": 86,
     "metadata": {},
     "output_type": "execute_result"
    },
    {
     "data": {
      "image/png": "[encoded data removed]",
      "text/plain": [
       "<matplotlib.figure.Figure at 0x109577610>"
      ]
     },
     "metadata": {},
     "output_type": "display_data"
    }
   ],
   "source": [
    "plt.plot(gpsdfeast.x, gpsdfeast.y)"
   ]
  },
  {
   "cell_type": "code",
   "execution_count": 89,
   "metadata": {
    "collapsed": false
   },
   "outputs": [
    {
     "data": {
      "text/plain": [
       "array([ 1,  5,  8, 10, 12, 13, 15, 17, 19])"
      ]
     },
     "execution_count": 89,
     "metadata": {},
     "output_type": "execute_result"
    }
   ],
   "source": [
    "gpsdfeast.segment.unique()"
   ]
  },
  {
   "cell_type": "code",
   "execution_count": 90,
   "metadata": {
    "collapsed": true
   },
   "outputs": [],
   "source": [
    "gpsdfeast['distance'] = np.sqrt(gpsdfeast.x**2 + gpsdfeast.y**2)"
   ]
  },
  {
   "cell_type": "code",
   "execution_count": 133,
   "metadata": {
    "collapsed": false
   },
   "outputs": [],
   "source": [
    "lmjoined = lmdfeast.merge(gpsdfeast[['distance','timestamp']], left_on='timestamp', right_on='timestamp', how='outer')"
   ]
  },
  {
   "cell_type": "code",
   "execution_count": 134,
   "metadata": {
    "collapsed": false,
    "scrolled": true
   },
   "outputs": [
    {
     "data": {
      "text/html": [
       "<div>\n",
       "<table border=\"1\" class=\"dataframe\">\n",
       "  <thead>\n",
       "    <tr style=\"text-align: right;\">\n",
       "      <th></th>\n",
       "      <th>segment</th>\n",
       "      <th>timestamp</th>\n",
       "      <th>detch</th>\n",
       "      <th>energy</th>\n",
       "      <th>dist</th>\n",
       "      <th>distance</th>\n",
       "    </tr>\n",
       "  </thead>\n",
       "  <tbody>\n",
       "    <tr>\n",
       "      <th>0</th>\n",
       "      <td>1</td>\n",
       "      <td>1.331670e+09</td>\n",
       "      <td>26</td>\n",
       "      <td>399.345154</td>\n",
       "      <td>NaN</td>\n",
       "      <td>NaN</td>\n",
       "    </tr>\n",
       "    <tr>\n",
       "      <th>1</th>\n",
       "      <td>1</td>\n",
       "      <td>1.331670e+09</td>\n",
       "      <td>29</td>\n",
       "      <td>101.067833</td>\n",
       "      <td>NaN</td>\n",
       "      <td>NaN</td>\n",
       "    </tr>\n",
       "    <tr>\n",
       "      <th>2</th>\n",
       "      <td>1</td>\n",
       "      <td>1.331670e+09</td>\n",
       "      <td>2</td>\n",
       "      <td>123.998184</td>\n",
       "      <td>NaN</td>\n",
       "      <td>NaN</td>\n",
       "    </tr>\n",
       "    <tr>\n",
       "      <th>3</th>\n",
       "      <td>1</td>\n",
       "      <td>1.331670e+09</td>\n",
       "      <td>3</td>\n",
       "      <td>223.163559</td>\n",
       "      <td>NaN</td>\n",
       "      <td>NaN</td>\n",
       "    </tr>\n",
       "    <tr>\n",
       "      <th>4</th>\n",
       "      <td>1</td>\n",
       "      <td>1.331670e+09</td>\n",
       "      <td>25</td>\n",
       "      <td>1221.298584</td>\n",
       "      <td>NaN</td>\n",
       "      <td>NaN</td>\n",
       "    </tr>\n",
       "  </tbody>\n",
       "</table>\n",
       "</div>"
      ],
      "text/plain": [
       "   segment     timestamp  detch       energy  dist  distance\n",
       "0        1  1.331670e+09     26   399.345154   NaN       NaN\n",
       "1        1  1.331670e+09     29   101.067833   NaN       NaN\n",
       "2        1  1.331670e+09      2   123.998184   NaN       NaN\n",
       "3        1  1.331670e+09      3   223.163559   NaN       NaN\n",
       "4        1  1.331670e+09     25  1221.298584   NaN       NaN"
      ]
     },
     "execution_count": 134,
     "metadata": {},
     "output_type": "execute_result"
    }
   ],
   "source": [
    "lmjoined.head()"
   ]
  },
  {
   "cell_type": "code",
   "execution_count": 135,
   "metadata": {
    "collapsed": false
   },
   "outputs": [
    {
     "data": {
      "text/html": [
       "<div>\n",
       "<table border=\"1\" class=\"dataframe\">\n",
       "  <thead>\n",
       "    <tr style=\"text-align: right;\">\n",
       "      <th></th>\n",
       "      <th>segment</th>\n",
       "      <th>timestamp</th>\n",
       "      <th>detch</th>\n",
       "      <th>energy</th>\n",
       "      <th>dist</th>\n",
       "      <th>distance</th>\n",
       "    </tr>\n",
       "  </thead>\n",
       "  <tbody>\n",
       "    <tr>\n",
       "      <th>996027</th>\n",
       "      <td>NaN</td>\n",
       "      <td>1.335387e+09</td>\n",
       "      <td>NaN</td>\n",
       "      <td>NaN</td>\n",
       "      <td>NaN</td>\n",
       "      <td>601.182680</td>\n",
       "    </tr>\n",
       "    <tr>\n",
       "      <th>996028</th>\n",
       "      <td>NaN</td>\n",
       "      <td>1.335387e+09</td>\n",
       "      <td>NaN</td>\n",
       "      <td>NaN</td>\n",
       "      <td>NaN</td>\n",
       "      <td>602.352183</td>\n",
       "    </tr>\n",
       "    <tr>\n",
       "      <th>996029</th>\n",
       "      <td>NaN</td>\n",
       "      <td>1.335387e+09</td>\n",
       "      <td>NaN</td>\n",
       "      <td>NaN</td>\n",
       "      <td>NaN</td>\n",
       "      <td>603.495995</td>\n",
       "    </tr>\n",
       "    <tr>\n",
       "      <th>996030</th>\n",
       "      <td>NaN</td>\n",
       "      <td>1.335387e+09</td>\n",
       "      <td>NaN</td>\n",
       "      <td>NaN</td>\n",
       "      <td>NaN</td>\n",
       "      <td>604.646094</td>\n",
       "    </tr>\n",
       "    <tr>\n",
       "      <th>996031</th>\n",
       "      <td>NaN</td>\n",
       "      <td>1.335387e+09</td>\n",
       "      <td>NaN</td>\n",
       "      <td>NaN</td>\n",
       "      <td>NaN</td>\n",
       "      <td>605.753012</td>\n",
       "    </tr>\n",
       "  </tbody>\n",
       "</table>\n",
       "</div>"
      ],
      "text/plain": [
       "        segment     timestamp  detch  energy  dist    distance\n",
       "996027      NaN  1.335387e+09    NaN     NaN   NaN  601.182680\n",
       "996028      NaN  1.335387e+09    NaN     NaN   NaN  602.352183\n",
       "996029      NaN  1.335387e+09    NaN     NaN   NaN  603.495995\n",
       "996030      NaN  1.335387e+09    NaN     NaN   NaN  604.646094\n",
       "996031      NaN  1.335387e+09    NaN     NaN   NaN  605.753012"
      ]
     },
     "execution_count": 135,
     "metadata": {},
     "output_type": "execute_result"
    }
   ],
   "source": [
    "lmjoined.tail()"
   ]
  },
  {
   "cell_type": "code",
   "execution_count": 136,
   "metadata": {
    "collapsed": true
   },
   "outputs": [],
   "source": [
    "lmjoined = lmjoined.sort_values('timestamp').reset_index(drop=True)"
   ]
  },
  {
   "cell_type": "code",
   "execution_count": 140,
   "metadata": {
    "collapsed": false
   },
   "outputs": [
    {
     "data": {
      "text/html": [
       "<div>\n",
       "<table border=\"1\" class=\"dataframe\">\n",
       "  <thead>\n",
       "    <tr style=\"text-align: right;\">\n",
       "      <th></th>\n",
       "      <th>segment</th>\n",
       "      <th>timestamp</th>\n",
       "      <th>detch</th>\n",
       "      <th>energy</th>\n",
       "      <th>distance</th>\n",
       "    </tr>\n",
       "  </thead>\n",
       "  <tbody>\n",
       "    <tr>\n",
       "      <th>0</th>\n",
       "      <td>1</td>\n",
       "      <td>1.331670e+09</td>\n",
       "      <td>26</td>\n",
       "      <td>399.345154</td>\n",
       "      <td>NaN</td>\n",
       "    </tr>\n",
       "    <tr>\n",
       "      <th>1</th>\n",
       "      <td>1</td>\n",
       "      <td>1.331670e+09</td>\n",
       "      <td>29</td>\n",
       "      <td>101.067833</td>\n",
       "      <td>NaN</td>\n",
       "    </tr>\n",
       "    <tr>\n",
       "      <th>2</th>\n",
       "      <td>1</td>\n",
       "      <td>1.331670e+09</td>\n",
       "      <td>2</td>\n",
       "      <td>123.998184</td>\n",
       "      <td>NaN</td>\n",
       "    </tr>\n",
       "    <tr>\n",
       "      <th>3</th>\n",
       "      <td>1</td>\n",
       "      <td>1.331670e+09</td>\n",
       "      <td>3</td>\n",
       "      <td>223.163559</td>\n",
       "      <td>NaN</td>\n",
       "    </tr>\n",
       "    <tr>\n",
       "      <th>4</th>\n",
       "      <td>1</td>\n",
       "      <td>1.331670e+09</td>\n",
       "      <td>25</td>\n",
       "      <td>1221.298584</td>\n",
       "      <td>NaN</td>\n",
       "    </tr>\n",
       "  </tbody>\n",
       "</table>\n",
       "</div>"
      ],
      "text/plain": [
       "   segment     timestamp  detch       energy  distance\n",
       "0        1  1.331670e+09     26   399.345154       NaN\n",
       "1        1  1.331670e+09     29   101.067833       NaN\n",
       "2        1  1.331670e+09      2   123.998184       NaN\n",
       "3        1  1.331670e+09      3   223.163559       NaN\n",
       "4        1  1.331670e+09     25  1221.298584       NaN"
      ]
     },
     "execution_count": 140,
     "metadata": {},
     "output_type": "execute_result"
    }
   ],
   "source": [
    "lmjoined.head()"
   ]
  },
  {
   "cell_type": "code",
   "execution_count": 141,
   "metadata": {
    "collapsed": true
   },
   "outputs": [],
   "source": [
    "lmjoined.distance.ffill(inplace=True)\n",
    "lmjoined.distance.bfill(inplace=True)"
   ]
  },
  {
   "cell_type": "code",
   "execution_count": 142,
   "metadata": {
    "collapsed": false
   },
   "outputs": [
    {
     "data": {
      "text/html": [
       "<div>\n",
       "<table border=\"1\" class=\"dataframe\">\n",
       "  <thead>\n",
       "    <tr style=\"text-align: right;\">\n",
       "      <th></th>\n",
       "      <th>segment</th>\n",
       "      <th>timestamp</th>\n",
       "      <th>detch</th>\n",
       "      <th>energy</th>\n",
       "      <th>distance</th>\n",
       "    </tr>\n",
       "  </thead>\n",
       "  <tbody>\n",
       "    <tr>\n",
       "      <th>0</th>\n",
       "      <td>1</td>\n",
       "      <td>1.331670e+09</td>\n",
       "      <td>26</td>\n",
       "      <td>399.345154</td>\n",
       "      <td>2.901917</td>\n",
       "    </tr>\n",
       "    <tr>\n",
       "      <th>1</th>\n",
       "      <td>1</td>\n",
       "      <td>1.331670e+09</td>\n",
       "      <td>29</td>\n",
       "      <td>101.067833</td>\n",
       "      <td>2.901917</td>\n",
       "    </tr>\n",
       "    <tr>\n",
       "      <th>2</th>\n",
       "      <td>1</td>\n",
       "      <td>1.331670e+09</td>\n",
       "      <td>2</td>\n",
       "      <td>123.998184</td>\n",
       "      <td>2.901917</td>\n",
       "    </tr>\n",
       "    <tr>\n",
       "      <th>3</th>\n",
       "      <td>1</td>\n",
       "      <td>1.331670e+09</td>\n",
       "      <td>3</td>\n",
       "      <td>223.163559</td>\n",
       "      <td>2.901917</td>\n",
       "    </tr>\n",
       "    <tr>\n",
       "      <th>4</th>\n",
       "      <td>1</td>\n",
       "      <td>1.331670e+09</td>\n",
       "      <td>25</td>\n",
       "      <td>1221.298584</td>\n",
       "      <td>2.901917</td>\n",
       "    </tr>\n",
       "  </tbody>\n",
       "</table>\n",
       "</div>"
      ],
      "text/plain": [
       "   segment     timestamp  detch       energy  distance\n",
       "0        1  1.331670e+09     26   399.345154  2.901917\n",
       "1        1  1.331670e+09     29   101.067833  2.901917\n",
       "2        1  1.331670e+09      2   123.998184  2.901917\n",
       "3        1  1.331670e+09      3   223.163559  2.901917\n",
       "4        1  1.331670e+09     25  1221.298584  2.901917"
      ]
     },
     "execution_count": 142,
     "metadata": {},
     "output_type": "execute_result"
    }
   ],
   "source": [
    "lmjoined.head()"
   ]
  },
  {
   "cell_type": "code",
   "execution_count": 143,
   "metadata": {
    "collapsed": false
   },
   "outputs": [
    {
     "data": {
      "text/plain": [
       "count    996032.000000\n",
       "mean        494.867389\n",
       "std         224.718608\n",
       "min           1.331276\n",
       "25%         319.847762\n",
       "50%         541.365331\n",
       "75%         636.560700\n",
       "max         811.278969\n",
       "Name: distance, dtype: float64"
      ]
     },
     "execution_count": 143,
     "metadata": {},
     "output_type": "execute_result"
    }
   ],
   "source": [
    "lmjoined.distance.describe()"
   ]
  },
  {
   "cell_type": "code",
   "execution_count": 144,
   "metadata": {
    "collapsed": true
   },
   "outputs": [],
   "source": [
    "lmjoined['distchunk'] = (lmjoined.distance // 10).astype(int)"
   ]
  },
  {
   "cell_type": "code",
   "execution_count": 145,
   "metadata": {
    "collapsed": true
   },
   "outputs": [],
   "source": [
    "lmjoined.set_index(['segment','distchunk'], inplace=True, drop=True)"
   ]
  },
  {
   "cell_type": "code",
   "execution_count": 146,
   "metadata": {
    "collapsed": false
   },
   "outputs": [
    {
     "data": {
      "text/html": [
       "<div>\n",
       "<table border=\"1\" class=\"dataframe\">\n",
       "  <thead>\n",
       "    <tr style=\"text-align: right;\">\n",
       "      <th></th>\n",
       "      <th></th>\n",
       "      <th>timestamp</th>\n",
       "      <th>detch</th>\n",
       "      <th>energy</th>\n",
       "      <th>distance</th>\n",
       "    </tr>\n",
       "    <tr>\n",
       "      <th>segment</th>\n",
       "      <th>distchunk</th>\n",
       "      <th></th>\n",
       "      <th></th>\n",
       "      <th></th>\n",
       "      <th></th>\n",
       "    </tr>\n",
       "  </thead>\n",
       "  <tbody>\n",
       "    <tr>\n",
       "      <th rowspan=\"5\" valign=\"top\">1</th>\n",
       "      <th>0</th>\n",
       "      <td>1.331670e+09</td>\n",
       "      <td>26</td>\n",
       "      <td>399.345154</td>\n",
       "      <td>2.901917</td>\n",
       "    </tr>\n",
       "    <tr>\n",
       "      <th>0</th>\n",
       "      <td>1.331670e+09</td>\n",
       "      <td>29</td>\n",
       "      <td>101.067833</td>\n",
       "      <td>2.901917</td>\n",
       "    </tr>\n",
       "    <tr>\n",
       "      <th>0</th>\n",
       "      <td>1.331670e+09</td>\n",
       "      <td>2</td>\n",
       "      <td>123.998184</td>\n",
       "      <td>2.901917</td>\n",
       "    </tr>\n",
       "    <tr>\n",
       "      <th>0</th>\n",
       "      <td>1.331670e+09</td>\n",
       "      <td>3</td>\n",
       "      <td>223.163559</td>\n",
       "      <td>2.901917</td>\n",
       "    </tr>\n",
       "    <tr>\n",
       "      <th>0</th>\n",
       "      <td>1.331670e+09</td>\n",
       "      <td>25</td>\n",
       "      <td>1221.298584</td>\n",
       "      <td>2.901917</td>\n",
       "    </tr>\n",
       "  </tbody>\n",
       "</table>\n",
       "</div>"
      ],
      "text/plain": [
       "                      timestamp  detch       energy  distance\n",
       "segment distchunk                                            \n",
       "1       0          1.331670e+09     26   399.345154  2.901917\n",
       "        0          1.331670e+09     29   101.067833  2.901917\n",
       "        0          1.331670e+09      2   123.998184  2.901917\n",
       "        0          1.331670e+09      3   223.163559  2.901917\n",
       "        0          1.331670e+09     25  1221.298584  2.901917"
      ]
     },
     "execution_count": 146,
     "metadata": {},
     "output_type": "execute_result"
    }
   ],
   "source": [
    "lmjoined.head()"
   ]
  },
  {
   "cell_type": "code",
   "execution_count": 148,
   "metadata": {
    "collapsed": false
   },
   "outputs": [
    {
     "data": {
      "text/plain": [
       "segment  distchunk  detch\n",
       "1        0          6         68\n",
       "                    7         50\n",
       "                    2         47\n",
       "                    4         45\n",
       "                    22        43\n",
       "                    29        40\n",
       "                    24        39\n",
       "                    1         38\n",
       "                    28        38\n",
       "                    3         37\n",
       "                    23        37\n",
       "                    19        35\n",
       "                    30        35\n",
       "                    27        34\n",
       "                    25        31\n",
       "                    16        27\n",
       "                    26        27\n",
       "         1          6         64\n",
       "                    4         51\n",
       "                    22        50\n",
       "                    28        49\n",
       "                    7         48\n",
       "                    23        47\n",
       "                    27        47\n",
       "                    3         44\n",
       "                    2         43\n",
       "                    16        40\n",
       "                    30        36\n",
       "                    29        35\n",
       "                    26        31\n",
       "                            ... \n",
       "19       59         5        176\n",
       "                    6         95\n",
       "                    7         85\n",
       "                    27        73\n",
       "                    2         72\n",
       "                    23        71\n",
       "                    28        70\n",
       "                    4         67\n",
       "                    19        64\n",
       "                    16        62\n",
       "                    1         59\n",
       "                    29        57\n",
       "                    3         53\n",
       "                    26        51\n",
       "                    24        45\n",
       "         60         6         89\n",
       "                    7         67\n",
       "                    2         64\n",
       "                    27        63\n",
       "                    23        62\n",
       "                    1         61\n",
       "                    19        60\n",
       "                    29        59\n",
       "                    3         58\n",
       "                    4         58\n",
       "                    5         56\n",
       "                    16        54\n",
       "                    28        47\n",
       "                    24        44\n",
       "                    26        38\n",
       "dtype: int64"
      ]
     },
     "execution_count": 148,
     "metadata": {},
     "output_type": "execute_result"
    }
   ],
   "source": [
    "lmjoined.groupby(level=[0,1]).detch.value_counts()"
   ]
  },
  {
   "cell_type": "code",
   "execution_count": null,
   "metadata": {
    "collapsed": true
   },
   "outputs": [],
   "source": []
  },
  {
   "cell_type": "code",
   "execution_count": null,
   "metadata": {
    "collapsed": true
   },
   "outputs": [],
   "source": []
  },
  {
   "cell_type": "code",
   "execution_count": null,
   "metadata": {
    "collapsed": true
   },
   "outputs": [],
   "source": []
  },
  {
   "cell_type": "code",
   "execution_count": null,
   "metadata": {
    "collapsed": true
   },
   "outputs": [],
   "source": []
  },
  {
   "cell_type": "code",
   "execution_count": null,
   "metadata": {
    "collapsed": true
   },
   "outputs": [],
   "source": []
  },
  {
   "cell_type": "code",
   "execution_count": null,
   "metadata": {
    "collapsed": true
   },
   "outputs": [],
   "source": []
  },
  {
   "cell_type": "code",
   "execution_count": null,
   "metadata": {
    "collapsed": true
   },
   "outputs": [],
   "source": []
  },
  {
   "cell_type": "code",
   "execution_count": null,
   "metadata": {
    "collapsed": true
   },
   "outputs": [],
   "source": []
  },
  {
   "cell_type": "code",
   "execution_count": null,
   "metadata": {
    "collapsed": true
   },
   "outputs": [],
   "source": []
  },
  {
   "cell_type": "code",
   "execution_count": null,
   "metadata": {
    "collapsed": true
   },
   "outputs": [],
   "source": []
  },
  {
   "cell_type": "code",
   "execution_count": null,
   "metadata": {
    "collapsed": true
   },
   "outputs": [],
   "source": []
  },
  {
   "cell_type": "code",
   "execution_count": null,
   "metadata": {
    "collapsed": true
   },
   "outputs": [],
   "source": []
  },
  {
   "cell_type": "code",
   "execution_count": null,
   "metadata": {
    "collapsed": true
   },
   "outputs": [],
   "source": []
  },
  {
   "cell_type": "code",
   "execution_count": null,
   "metadata": {
    "collapsed": true
   },
   "outputs": [],
   "source": []
  },
  {
   "cell_type": "code",
   "execution_count": null,
   "metadata": {
    "collapsed": true
   },
   "outputs": [],
   "source": []
  },
  {
   "cell_type": "code",
   "execution_count": null,
   "metadata": {
    "collapsed": true
   },
   "outputs": [],
   "source": []
  },
  {
   "cell_type": "code",
   "execution_count": null,
   "metadata": {
    "collapsed": true
   },
   "outputs": [],
   "source": []
  },
  {
   "cell_type": "code",
   "execution_count": null,
   "metadata": {
    "collapsed": true
   },
   "outputs": [],
   "source": []
  },
  {
   "cell_type": "code",
   "execution_count": null,
   "metadata": {
    "collapsed": true
   },
   "outputs": [],
   "source": []
  },
  {
   "cell_type": "code",
   "execution_count": null,
   "metadata": {
    "collapsed": true
   },
   "outputs": [],
   "source": []
  },
  {
   "cell_type": "code",
   "execution_count": null,
   "metadata": {
    "collapsed": true
   },
   "outputs": [],
   "source": []
  },
  {
   "cell_type": "code",
   "execution_count": null,
   "metadata": {
    "collapsed": true
   },
   "outputs": [],
   "source": []
  },
  {
   "cell_type": "code",
   "execution_count": null,
   "metadata": {
    "collapsed": true
   },
   "outputs": [],
   "source": []
  },
  {
   "cell_type": "code",
   "execution_count": null,
   "metadata": {
    "collapsed": true
   },
   "outputs": [],
   "source": []
  },
  {
   "cell_type": "code",
   "execution_count": null,
   "metadata": {
    "collapsed": true
   },
   "outputs": [],
   "source": []
  },
  {
   "cell_type": "code",
   "execution_count": null,
   "metadata": {
    "collapsed": true
   },
   "outputs": [],
   "source": []
  },
  {
   "cell_type": "code",
   "execution_count": null,
   "metadata": {
    "collapsed": true
   },
   "outputs": [],
   "source": []
  },
  {
   "cell_type": "code",
   "execution_count": null,
   "metadata": {
    "collapsed": true
   },
   "outputs": [],
   "source": []
  },
  {
   "cell_type": "code",
   "execution_count": null,
   "metadata": {
    "collapsed": true
   },
   "outputs": [],
   "source": []
  },
  {
   "cell_type": "code",
   "execution_count": null,
   "metadata": {
    "collapsed": true
   },
   "outputs": [],
   "source": []
  },
  {
   "cell_type": "code",
   "execution_count": null,
   "metadata": {
    "collapsed": true
   },
   "outputs": [],
   "source": []
  },
  {
   "cell_type": "code",
   "execution_count": null,
   "metadata": {
    "collapsed": true
   },
   "outputs": [],
   "source": []
  },
  {
   "cell_type": "code",
   "execution_count": null,
   "metadata": {
    "collapsed": true
   },
   "outputs": [],
   "source": []
  },
  {
   "cell_type": "code",
   "execution_count": null,
   "metadata": {
    "collapsed": true
   },
   "outputs": [],
   "source": []
  },
  {
   "cell_type": "code",
   "execution_count": null,
   "metadata": {
    "collapsed": true
   },
   "outputs": [],
   "source": []
  },
  {
   "cell_type": "code",
   "execution_count": null,
   "metadata": {
    "collapsed": true
   },
   "outputs": [],
   "source": []
  },
  {
   "cell_type": "code",
   "execution_count": null,
   "metadata": {
    "collapsed": true
   },
   "outputs": [],
   "source": [
    "lmsample = pd.DataFrame( infile.root.seg0000.data.read() )"
   ]
  },
  {
   "cell_type": "code",
   "execution_count": null,
   "metadata": {
    "collapsed": false
   },
   "outputs": [],
   "source": [
    "lmsample.head()"
   ]
  },
  {
   "cell_type": "code",
   "execution_count": null,
   "metadata": {
    "collapsed": false
   },
   "outputs": [],
   "source": [
    "lmsample.timestamp.iloc[-1] - lmsample.timestamp.iloc[0]"
   ]
  },
  {
   "cell_type": "code",
   "execution_count": null,
   "metadata": {
    "collapsed": false
   },
   "outputs": [],
   "source": [
    "lmsample.detch.value_counts()"
   ]
  },
  {
   "cell_type": "code",
   "execution_count": null,
   "metadata": {
    "collapsed": false
   },
   "outputs": [],
   "source": [
    "lmsample.energy.describe()"
   ]
  },
  {
   "cell_type": "code",
   "execution_count": null,
   "metadata": {
    "collapsed": false
   },
   "outputs": [],
   "source": [
    "lmsample.energy.hist(bins=range(100,1000,5))"
   ]
  },
  {
   "cell_type": "code",
   "execution_count": null,
   "metadata": {
    "collapsed": false
   },
   "outputs": [],
   "source": [
    "lmsample.sort('timestamp',inplace=True)"
   ]
  },
  {
   "cell_type": "code",
   "execution_count": null,
   "metadata": {
    "collapsed": false
   },
   "outputs": [],
   "source": [
    "lmsample.timestamp.diff().describe()"
   ]
  },
  {
   "cell_type": "code",
   "execution_count": null,
   "metadata": {
    "collapsed": false
   },
   "outputs": [],
   "source": [
    "calibration = pd.Series( np.random.randn(len(lmsample.detch.unique())) * 0.1, index=lmsample.detch.unique() )\n",
    "calibration"
   ]
  },
  {
   "cell_type": "code",
   "execution_count": null,
   "metadata": {
    "collapsed": false
   },
   "outputs": [],
   "source": [
    "calfunc = lambda x: calibration.ix[x.detch.astype(int)] * x.energy"
   ]
  },
  {
   "cell_type": "code",
   "execution_count": null,
   "metadata": {
    "collapsed": false
   },
   "outputs": [],
   "source": [
    "lmsample['calibrated'] = lmsample.apply(calfunc, axis=1)"
   ]
  },
  {
   "cell_type": "code",
   "execution_count": null,
   "metadata": {
    "collapsed": false
   },
   "outputs": [],
   "source": [
    "lmsample.head()"
   ]
  },
  {
   "cell_type": "code",
   "execution_count": null,
   "metadata": {
    "collapsed": false
   },
   "outputs": [],
   "source": [
    "steplength = 0.5\n",
    "lmsample['step'] = ((lmsample.timestamp - lmsample.timestamp.ix[0])/steplength).astype(int)"
   ]
  },
  {
   "cell_type": "code",
   "execution_count": null,
   "metadata": {
    "collapsed": false
   },
   "outputs": [],
   "source": [
    "lmsample = lmsample[lmsample.step<lmsample.step.max()]"
   ]
  },
  {
   "cell_type": "code",
   "execution_count": null,
   "metadata": {
    "collapsed": false
   },
   "outputs": [],
   "source": [
    "lmsample.groupby('step').apply(len).plot()"
   ]
  },
  {
   "cell_type": "code",
   "execution_count": null,
   "metadata": {
    "collapsed": false
   },
   "outputs": [],
   "source": [
    "chrate = lmsample.groupby(['step','detch']).apply(len)\n",
    "chrate"
   ]
  },
  {
   "cell_type": "code",
   "execution_count": null,
   "metadata": {
    "collapsed": false
   },
   "outputs": [],
   "source": [
    "chrate2 = chrate.unstack('detch')\n",
    "chrate2"
   ]
  },
  {
   "cell_type": "code",
   "execution_count": null,
   "metadata": {
    "collapsed": false
   },
   "outputs": [],
   "source": [
    "chrate2.plot()"
   ]
  },
  {
   "cell_type": "code",
   "execution_count": null,
   "metadata": {
    "collapsed": false
   },
   "outputs": [],
   "source": [
    "plt.pcolormesh( chrate2.ix[:,range(31)].fillna(0.0).values.T )"
   ]
  },
  {
   "cell_type": "code",
   "execution_count": null,
   "metadata": {
    "collapsed": false
   },
   "outputs": [],
   "source": [
    "ch7waterfall = lmsample[lmsample.detch==7].groupby(lmsample.step//2).energy.apply(lambda x: np.histogram(x,bins=range(0,1000,10))[0] )\n",
    "ch7waterfall"
   ]
  },
  {
   "cell_type": "code",
   "execution_count": null,
   "metadata": {
    "collapsed": false
   },
   "outputs": [],
   "source": [
    "ch7waterfall = ch7waterfall.apply(pd.Series)\n",
    "plt.pcolormesh(ch7waterfall.values.T)"
   ]
  },
  {
   "cell_type": "code",
   "execution_count": null,
   "metadata": {
    "collapsed": false
   },
   "outputs": [],
   "source": [
    "lmsample[(lmsample.detch==7)&(lmsample.step==11)].energy.hist(bins=range(0,1000,5))"
   ]
  },
  {
   "cell_type": "code",
   "execution_count": null,
   "metadata": {
    "collapsed": false
   },
   "outputs": [],
   "source": [
    "lmsample2 = lmsample.set_index('timestamp')"
   ]
  },
  {
   "cell_type": "code",
   "execution_count": null,
   "metadata": {
    "collapsed": false
   },
   "outputs": [],
   "source": [
    "lmsample2"
   ]
  },
  {
   "cell_type": "markdown",
   "metadata": {},
   "source": [
    "##### You can groupby functions too.  These act on the index.  You can also groupby using dicts that relate to indicies..."
   ]
  },
  {
   "cell_type": "code",
   "execution_count": null,
   "metadata": {
    "collapsed": false
   },
   "outputs": [],
   "source": [
    "lmsample2.groupby(lambda x: x//0.1 / 10.).apply(len).plot()"
   ]
  },
  {
   "cell_type": "markdown",
   "metadata": {},
   "source": [
    "##### Kinda neat.  What if we want to look at the count-rate in different energies as a function of GPS location?"
   ]
  },
  {
   "cell_type": "code",
   "execution_count": null,
   "metadata": {
    "collapsed": false
   },
   "outputs": [],
   "source": [
    "binedges = [50, 340, 370, 600, 620, 650, 670, 1450, 1470]\n",
    "binlabels = ['bkg1','Pb214','bkg2','Bi214','bkg3','Cs137','bkg4','K40']"
   ]
  },
  {
   "cell_type": "code",
   "execution_count": null,
   "metadata": {
    "collapsed": false
   },
   "outputs": [],
   "source": [
    "lmsample['ebin'] = pd.cut(lmsample.energy, binedges, labels=binlabels)"
   ]
  },
  {
   "cell_type": "code",
   "execution_count": null,
   "metadata": {
    "collapsed": false
   },
   "outputs": [],
   "source": [
    "lmsample.reset_index(inplace=True)"
   ]
  },
  {
   "cell_type": "code",
   "execution_count": null,
   "metadata": {
    "collapsed": false
   },
   "outputs": [],
   "source": [
    "lmsample['step'] = lmsample.timestamp.apply(lambda x: x//0.5 / 2.)\n",
    "gb = lmsample.groupby(['step','ebin'])"
   ]
  },
  {
   "cell_type": "code",
   "execution_count": null,
   "metadata": {
    "collapsed": false
   },
   "outputs": [],
   "source": [
    "countframe = gb.apply(len).unstack('ebin').fillna(0)\n",
    "countframe.head()"
   ]
  },
  {
   "cell_type": "markdown",
   "metadata": {},
   "source": [
    "##### So we'll need some GPS data too..."
   ]
  },
  {
   "cell_type": "code",
   "execution_count": null,
   "metadata": {
    "collapsed": false
   },
   "outputs": [],
   "source": [
    "gpssample = pd.DataFrame( infile.root.seg0000.gps.read() )\n",
    "gpssample.head()"
   ]
  },
  {
   "cell_type": "code",
   "execution_count": null,
   "metadata": {
    "collapsed": false
   },
   "outputs": [],
   "source": [
    "test = pd.merge(countframe, gpssample, how='outer', left_index=True, right_on='timestamp')"
   ]
  },
  {
   "cell_type": "code",
   "execution_count": null,
   "metadata": {
    "collapsed": false
   },
   "outputs": [],
   "source": [
    "test.set_index('timestamp', inplace=True)\n",
    "test.head()"
   ]
  },
  {
   "cell_type": "code",
   "execution_count": null,
   "metadata": {
    "collapsed": false
   },
   "outputs": [],
   "source": [
    "test = test[ test.bkg1.isnull()==False ].copy()"
   ]
  },
  {
   "cell_type": "code",
   "execution_count": null,
   "metadata": {
    "collapsed": false
   },
   "outputs": [],
   "source": [
    "test.index = pd.to_datetime(test.index, unit='s')"
   ]
  },
  {
   "cell_type": "code",
   "execution_count": null,
   "metadata": {
    "collapsed": false
   },
   "outputs": [],
   "source": [
    "test.head()"
   ]
  },
  {
   "cell_type": "code",
   "execution_count": null,
   "metadata": {
    "collapsed": false
   },
   "outputs": [],
   "source": [
    "test.interpolate(method='time', inplace=True)\n",
    "test.dropna(inplace=True)"
   ]
  },
  {
   "cell_type": "code",
   "execution_count": null,
   "metadata": {
    "collapsed": false
   },
   "outputs": [],
   "source": [
    "test"
   ]
  },
  {
   "cell_type": "markdown",
   "metadata": {},
   "source": [
    "##### Ok, so we know how to make a timestamped, gps stamped array of binned data.  Lets make a function to do it and then read in some more data..."
   ]
  },
  {
   "cell_type": "code",
   "execution_count": null,
   "metadata": {
    "collapsed": false
   },
   "outputs": [],
   "source": [
    "binedges = [50, 340, 370, 600, 620, 650, 670, 1450, 1470]\n",
    "binlabels = ['bkg1','Pb214','bkg2','Bi214','bkg3','Cs137','bkg4','K40']\n",
    "\n",
    "def GetStampedFrame(node):\n",
    "        lm = pd.DataFrame( node.data.read() )\n",
    "        lm['ebin'] = pd.cut(lm.energy, binedges, labels=binlabels)\n",
    "        lm['timestamp'] = lm.timestamp.apply(lambda x: x//0.5 / 2.)\n",
    "        gb = lm.groupby(['timestamp','ebin'])\n",
    "        countframe = gb.apply(len).unstack('ebin').fillna(0)\n",
    "        \n",
    "        gps = pd.DataFrame( node.gps.read() )\n",
    "        stamped = pd.merge(countframe, gps, how='outer', left_index=True, right_on='timestamp')\n",
    "        stamped.set_index('timestamp', inplace=True)\n",
    "        stamped = stamped[ stamped.bkg1.isnull()==False ].copy()\n",
    "        stamped.index = pd.to_datetime(stamped.index, unit='s')\n",
    "        stamped.interpolate(method='time', inplace=True)\n",
    "        stamped.dropna(inplace=True)\n",
    "        \n",
    "        return stamped"
   ]
  },
  {
   "cell_type": "code",
   "execution_count": null,
   "metadata": {
    "collapsed": false
   },
   "outputs": [],
   "source": [
    "outframes = []\n",
    "for idx, node in enumerate(infile.iter_nodes('/')):\n",
    "    print idx\n",
    "    outframes.append( GetStampedFrame(node) )\n",
    "\n",
    "outframe = pd.concat(outframes)"
   ]
  },
  {
   "cell_type": "code",
   "execution_count": null,
   "metadata": {
    "collapsed": false
   },
   "outputs": [],
   "source": [
    "outframe.head()"
   ]
  },
  {
   "cell_type": "code",
   "execution_count": null,
   "metadata": {
    "collapsed": false
   },
   "outputs": [],
   "source": [
    "outframe[['Bi214','Cs137','K40','Pb214','bkg1']].describe()"
   ]
  },
  {
   "cell_type": "code",
   "execution_count": null,
   "metadata": {
    "collapsed": false
   },
   "outputs": [],
   "source": [
    "plt.scatter(outframe.lon, outframe.lat, c=outframe.Pb214/outframe.Pb214.mean())"
   ]
  }
 ],
 "metadata": {
  "kernelspec": {
   "display_name": "Python 2",
   "language": "python",
   "name": "python2"
  },
  "language_info": {
   "codemirror_mode": {
    "name": "ipython",
    "version": 2
   },
   "file_extension": ".py",
   "mimetype": "text/x-python",
   "name": "python",
   "nbconvert_exporter": "python",
   "pygments_lexer": "ipython2",
   "version": "2.7.11"
  }
 },
 "nbformat": 4,
 "nbformat_minor": 0
}
