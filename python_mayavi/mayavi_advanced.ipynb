{
 "cells": [
  {
   "cell_type": "code",
   "execution_count": 1,
   "metadata": {
    "collapsed": false,
    "scrolled": true
   },
   "outputs": [
    {
     "name": "stderr",
     "output_type": "stream",
     "text": [
      "WARNING:traits.has_traits:DEPRECATED: traits.has_traits.wrapped_class, 'the 'implements' class advisor has been deprecated. Use the 'provides' class decorator.\n"
     ]
    }
   ],
   "source": [
    "%matplotlib qt\n",
    "import numpy as np\n",
    "import matplotlib.image as mpimg\n",
    "\n",
    "from mayavi import mlab\n",
    "from tvtk.api import tvtk\n"
   ]
  },
  {
   "cell_type": "markdown",
   "metadata": {},
   "source": [
    "### Colorizing a Point Cloud\n",
    "This is an example to show lower level interaction with tvtk to colorize a point cloud. Lets have some fun with the UCB seal."
   ]
  },
  {
   "cell_type": "code",
   "execution_count": null,
   "metadata": {
    "collapsed": false
   },
   "outputs": [],
   "source": [
    "mlab.clf()\n",
    "im = mpimg.imread( 'ucbseal_139_540.png')\n",
    "\n",
    "sigma = 50\n",
    "xg, yg = np.mgrid[:im.shape[0], :im.shape[1]]\n",
    "z = 100*np.exp( -(xg-im.shape[0]*.5)**2/sigma**2)*\\\n",
    "        np.exp( -(yg-im.shape[1]*.5)**2/sigma**2)\n",
    "\n",
    "pts = mlab.points3d(xg, yg, z, mode='2dvertex')\n",
    "\n",
    "im = (im*255).astype(np.int8)\n",
    "\n",
    "sc=tvtk.UnsignedCharArray()\n",
    "#the number of components can be 1 (scalar), 2 (scalar, alpha), 3 (RGB), or\n",
    "#4 (RGBA)\n",
    "sc.from_array(im.reshape(-1,4))\n",
    "pts.mlab_source.dataset.point_data.scalars=sc\n",
    "pts.mlab_source.dataset.modified()"
   ]
  },
  {
   "cell_type": "code",
   "execution_count": null,
   "metadata": {
    "collapsed": true
   },
   "outputs": [],
   "source": []
  }
 ],
 "metadata": {
  "kernelspec": {
   "display_name": "Python 2",
   "language": "python",
   "name": "python2"
  },
  "language_info": {
   "codemirror_mode": {
    "name": "ipython",
    "version": 2
   },
   "file_extension": ".py",
   "mimetype": "text/x-python",
   "name": "python",
   "nbconvert_exporter": "python",
   "pygments_lexer": "ipython2",
   "version": "2.7.10"
  }
 },
 "nbformat": 4,
 "nbformat_minor": 0
}
